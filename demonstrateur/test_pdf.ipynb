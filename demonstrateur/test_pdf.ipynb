{
 "metadata": {
  "language_info": {
   "codemirror_mode": {
    "name": "ipython",
    "version": 3
   },
   "file_extension": ".py",
   "mimetype": "text/x-python",
   "name": "python",
   "nbconvert_exporter": "python",
   "pygments_lexer": "ipython3",
   "version": "3.6.7-final"
  },
  "orig_nbformat": 2,
  "kernelspec": {
   "name": "python36764bitbasecondaa52a50b33930456ea0069587c96fc387",
   "display_name": "Python 3.6.7 64-bit ('base': conda)"
  }
 },
 "nbformat": 4,
 "nbformat_minor": 2,
 "cells": [
  {
   "cell_type": "code",
   "execution_count": 2,
   "metadata": {},
   "outputs": [],
   "source": [
    "import pandas as pd\n",
    "import numpy as np\n",
    "import lib_extraction\n",
    "import pdfplumber"
   ]
  },
  {
   "cell_type": "code",
   "execution_count": 9,
   "metadata": {},
   "outputs": [],
   "source": [
    "my_file= '/home/robin/Documents/app/data_test/citoyen_MATERIOVIGILANCE_20200414143453744.pdf'\n",
    "pdf_object = pdfplumber.from_path(my_file)"
   ]
  },
  {
   "cell_type": "code",
   "execution_count": 12,
   "metadata": {},
   "outputs": [],
   "source": [
    "if 'nom' in '\\n'.split(pdf_object.pages[0].extract_text().lower()) :\n",
    "    print ('lol')"
   ]
  },
  {
   "cell_type": "code",
   "execution_count": 19,
   "metadata": {},
   "outputs": [],
   "source": [
    "df = lib_extraction.plumber_df(my_file,from_path=True)"
   ]
  },
  {
   "cell_type": "code",
   "execution_count": 10,
   "metadata": {},
   "outputs": [],
   "source": [
    "df = lib_extraction.plumber_df(my_file,from_path=True)\n",
    "df = df.mask(df.eq('None')).dropna()  # on supprime les None et les nan\n",
    "df_2 = df.drop_duplicates(subset='Column0', keep='last')\n",
    "df_3 = df_2.set_index('Column0', verify_integrity=True)\n",
    "df_4 = df_3.T.reset_index()\n",
    "Cols = df_4.columns\n",
    "# On créer un Table avec toute les collones déja rencontré et on utilise les données du pdf pour la remplir\n"
   ]
  },
  {
   "cell_type": "code",
   "execution_count": 11,
   "metadata": {},
   "outputs": [
    {
     "output_type": "execute_result",
     "data": {
      "text/plain": [
       "Index(['index', 'Nom', 'Prénom', 'Adresse électronique', 'Adresse postale',\n",
       "       'Êtes vous la personne ayant présenté les\\nsymptômes  ?', 'Sexe',\n",
       "       'Date de naissance', 'ou âge (réel ou estimé)', 'Poids', 'Type de DM',\n",
       "       'Libellé commercial ou modèle', 'Référence commerciale',\n",
       "       'Version logicielle', 'Fabricant : Nom', 'Fabricant : Adresse',\n",
       "       'Fournisseur : Nom', 'Fournisseur : Adresse', 'N°de lot', 'N° de série',\n",
       "       'Date de mise en service', 'Date d'expiration',\n",
       "       'Localisation actuelle du DM', 'Date d'implantation',\n",
       "       'Date d'explantation', 'Date de survenue', 'Période de survenue',\n",
       "       'Type de lieu de survenue', 'Nom de l'etablissement', 'Adresse',\n",
       "       'Code postal / Commune', 'Service', 'Personne à contacter', 'Téléphone',\n",
       "       'Description de l'incident', 'Nombre de dispositifs concernés',\n",
       "       'Conséquences cliniques et état actuel du patient\\nou personne impliquée',\n",
       "       'Commentaires',\n",
       "       'Joindre un document (exemples : photos,\\ncomptes-rendus, résultats d'analyses, …)',\n",
       "       'TYPE_VIGILANCE', 'NUMERO_DECLARATION'],\n",
       "      dtype='object', name='Column0')"
      ]
     },
     "metadata": {},
     "execution_count": 11
    }
   ],
   "source": [
    "Cols"
   ]
  },
  {
   "cell_type": "code",
   "execution_count": 12,
   "metadata": {},
   "outputs": [
    {
     "output_type": "stream",
     "name": "stdout",
     "text": [
      "LOL\n"
     ]
    }
   ],
   "source": [
    "if 'Nom' in Cols:\n",
    "    print('LOL')\n",
    "if 'Profession' in Cols :\n",
    "    print('A')"
   ]
  },
  {
   "cell_type": "code",
   "execution_count": 33,
   "metadata": {},
   "outputs": [
    {
     "output_type": "execute_result",
     "data": {
      "text/plain": [
       "['index',\n",
       " 'Nom',\n",
       " 'Prénom',\n",
       " 'Téléphone',\n",
       " 'Adresse électronique',\n",
       " 'Adresse postale',\n",
       " 'Code postal / Commune',\n",
       " 'Êtes vous la personne ayant présenté les\\nsymptômes  ?',\n",
       " 'Veuillez préciser votre lien avec la personne',\n",
       " 'Nom (3 premières lettres)',\n",
       " 'Sexe',\n",
       " 'Date de naissance',\n",
       " 'ou âge (réel ou estimé)',\n",
       " 'Poids',\n",
       " 'Type de DM',\n",
       " 'Libellé commercial ou modèle',\n",
       " 'Référence commerciale',\n",
       " 'Version logicielle',\n",
       " 'Fabricant : Nom',\n",
       " 'Fabricant : Adresse',\n",
       " 'Fournisseur : Nom',\n",
       " 'Fournisseur : Adresse',\n",
       " 'N°de lot',\n",
       " 'N° de série',\n",
       " 'Date de mise en service',\n",
       " \"Date d'expiration\",\n",
       " 'Localisation actuelle du DM',\n",
       " \"Date d'implantation\",\n",
       " \"Date d'explantation\",\n",
       " 'Date de survenue',\n",
       " 'Période de survenue',\n",
       " 'Type de lieu de survenue',\n",
       " \"Description de l'incident\",\n",
       " 'Nombre de dispositifs concernés',\n",
       " 'Conséquences cliniques et état actuel du patient\\nou personne impliquée',\n",
       " 'Commentaires',\n",
       " \"Joindre un document (exemples : photos,\\ncomptes-rendus, résultats d'analyses, …)\",\n",
       " 'TYPE_VIGILANCE',\n",
       " 'NUMERO_DECLARATION']"
      ]
     },
     "metadata": {},
     "execution_count": 33
    }
   ],
   "source": [
    "df_4.columns.values.tolist()\n"
   ]
  },
  {
   "cell_type": "code",
   "execution_count": null,
   "metadata": {},
   "outputs": [],
   "source": []
  }
 ]
}