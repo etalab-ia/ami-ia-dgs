{
 "metadata": {
  "language_info": {
   "codemirror_mode": {
    "name": "ipython",
    "version": 3
   },
   "file_extension": ".py",
   "mimetype": "text/x-python",
   "name": "python",
   "nbconvert_exporter": "python",
   "pygments_lexer": "ipython3",
   "version": "3.6.7-final"
  },
  "orig_nbformat": 2,
  "kernelspec": {
   "name": "python36764bitbasecondaa52a50b33930456ea0069587c96fc387",
   "display_name": "Python 3.6.7 64-bit ('base': conda)"
  }
 },
 "nbformat": 4,
 "nbformat_minor": 2,
 "cells": [
  {
   "cell_type": "code",
   "execution_count": 3,
   "metadata": {},
   "outputs": [],
   "source": [
    "import pdfplumber\n",
    "import re\n",
    "from pathlib import Path\n",
    "from tqdm import tqdm\n",
    "import pandas as pd\n",
    "import fnmatch\n",
    "import logging\n",
    "import time\n",
    "import json\n",
    "import numpy as np\n",
    "import os\n",
    "import joblib\n",
    "import tensorflow as tf\n",
    "\n",
    "import lib_plot\n",
    "import xmltodict\n",
    "import base64\n",
    "\n",
    "from timeit import default_timer as timer\n",
    "import magic\n",
    "import yaml\n",
    "import logging\n",
    "import logging.config\n",
    "\n",
    "\n",
    "from lib_extraction import create_fus, from_xml_to_mrv_format, from_pdf_to_mrv_format, plumber_df\n",
    "\n",
    "\n",
    "import xmltodict"
   ]
  },
  {
   "cell_type": "code",
   "execution_count": 4,
   "metadata": {},
   "outputs": [],
   "source": [
    "PATH = \"/home/robin/Downloads/CDA_20200511155057576_MATERIOVIGILANCE.xml\"\n",
    "with open(PATH) as xml_file:\n",
    "    data_dict = xmltodict.parse(xml_file.read())"
   ]
  },
  {
   "cell_type": "code",
   "execution_count": 15,
   "metadata": {
    "tags": []
   },
   "outputs": [],
   "source": [
    "res = pd.DataFrame()\n",
    "E = []\n",
    "for elt in data_dict['ClinicalDocument']['component']['structuredBody']['component']:\n",
    "    for el in elt['section']['text']['table']['tbody']['tr']:\n",
    "        if type(el)!=str :\n",
    "            for i in range(len(el['td'])):\n",
    "                try:\n",
    "                    res[el['td'][2*i]['#text']] = [el['td'][2*i+1]['#text']]\n",
    "                except:\n",
    "                    try:\n",
    "                        E.append(el['td'][i]['#text'])\n",
    "                    except:\n",
    "                        E.append('erreur !')"
   ]
  },
  {
   "cell_type": "code",
   "execution_count": 16,
   "metadata": {},
   "outputs": [
    {
     "output_type": "execute_result",
     "data": {
      "text/plain": "  Nom (3 premières lettres) Sexe    Type de DM      Libellé du produit  \\\n0                      test    F  Masques FFP2  Masque FFP2 Op Air Pro   \n\n  Référence commerciale Fabricant : Nom Type d'utilisateur du DM  \\\n0             M52210-WH           KOLMI  Professionnels de santé   \n\n  Date de survenue Type de lieu de survenue  \\\n0       30/04/2020   Etablissement de santé   \n\n                Nom de l'etablissement  ... Service  \\\n0  Centre Hospitalier d'Alençon-Mamers  ...    UHCD   \n\n  Personne à contacter dans l'établissement Téléphone du contact  \\\n0                               XXXXX XXXXX           0233323020   \n\n                           Description de l'incident  \\\n0  les élastiques du masque FFP2 cassent lors de ...   \n\n  Nombre de patients ou personnes concernées Nombre de dispositifs concernés  \\\n0                                          1                               1   \n\n  Ce type d’incident est-il prévu dans la notice d’utilisation du fabricant ?  \\\n0                                                NSP                            \n\n               Classification de l'incident  \\\n0  Menace importante pour la santé publique   \n\n  Conséquences cliniques et état actuel du patient ou personne impliquée  \\\n0  Implique l'exposition directe du soignant à un...                       \n\n  Actions entreprises pour le patient vis-à-vis du DM  \n0              Consommation d'un nouveau masque FFP2   \n\n[1 rows x 23 columns]",
      "text/html": "<div>\n<style scoped>\n    .dataframe tbody tr th:only-of-type {\n        vertical-align: middle;\n    }\n\n    .dataframe tbody tr th {\n        vertical-align: top;\n    }\n\n    .dataframe thead th {\n        text-align: right;\n    }\n</style>\n<table border=\"1\" class=\"dataframe\">\n  <thead>\n    <tr style=\"text-align: right;\">\n      <th></th>\n      <th>Nom (3 premières lettres)</th>\n      <th>Sexe</th>\n      <th>Type de DM</th>\n      <th>Libellé du produit</th>\n      <th>Référence commerciale</th>\n      <th>Fabricant : Nom</th>\n      <th>Type d'utilisateur du DM</th>\n      <th>Date de survenue</th>\n      <th>Type de lieu de survenue</th>\n      <th>Nom de l'etablissement</th>\n      <th>...</th>\n      <th>Service</th>\n      <th>Personne à contacter dans l'établissement</th>\n      <th>Téléphone du contact</th>\n      <th>Description de l'incident</th>\n      <th>Nombre de patients ou personnes concernées</th>\n      <th>Nombre de dispositifs concernés</th>\n      <th>Ce type d’incident est-il prévu dans la notice d’utilisation du fabricant ?</th>\n      <th>Classification de l'incident</th>\n      <th>Conséquences cliniques et état actuel du patient ou personne impliquée</th>\n      <th>Actions entreprises pour le patient vis-à-vis du DM</th>\n    </tr>\n  </thead>\n  <tbody>\n    <tr>\n      <th>0</th>\n      <td>test</td>\n      <td>F</td>\n      <td>Masques FFP2</td>\n      <td>Masque FFP2 Op Air Pro</td>\n      <td>M52210-WH</td>\n      <td>KOLMI</td>\n      <td>Professionnels de santé</td>\n      <td>30/04/2020</td>\n      <td>Etablissement de santé</td>\n      <td>Centre Hospitalier d'Alençon-Mamers</td>\n      <td>...</td>\n      <td>UHCD</td>\n      <td>XXXXX XXXXX</td>\n      <td>0233323020</td>\n      <td>les élastiques du masque FFP2 cassent lors de ...</td>\n      <td>1</td>\n      <td>1</td>\n      <td>NSP</td>\n      <td>Menace importante pour la santé publique</td>\n      <td>Implique l'exposition directe du soignant à un...</td>\n      <td>Consommation d'un nouveau masque FFP2</td>\n    </tr>\n  </tbody>\n</table>\n<p>1 rows × 23 columns</p>\n</div>"
     },
     "metadata": {},
     "execution_count": 16
    }
   ],
   "source": [
    "res"
   ]
  },
  {
   "cell_type": "code",
   "execution_count": 18,
   "metadata": {},
   "outputs": [],
   "source": [
    "import re\n",
    "\n",
    "filename = PATH.split('/')[-1].lower()\n",
    "if ('matériovigilance' in filename) or ('materiovigilance' in filename):\n",
    "    TYPE = 'Matériovigilance'\n",
    "elif ('réactovigilance' in filename) or ('réactovigilance' in filename):\n",
    "    TYPE = 'Réactovigilance'\n",
    "else :           \n",
    "    TYPE = ''\n",
    "\n",
    "number = re.findall(r'\\d+', filename)\n",
    "if len(number)>0:\n",
    "    NUMERO = number[0]\n",
    "else : \n",
    "    NUMERO = ''"
   ]
  },
  {
   "cell_type": "code",
   "execution_count": 20,
   "metadata": {},
   "outputs": [
    {
     "output_type": "execute_result",
     "data": {
      "text/plain": "'20200511155057576'"
     },
     "metadata": {},
     "execution_count": 20
    }
   ],
   "source": [
    "NUMERO"
   ]
  },
  {
   "cell_type": "code",
   "execution_count": null,
   "metadata": {},
   "outputs": [],
   "source": []
  }
 ]
}