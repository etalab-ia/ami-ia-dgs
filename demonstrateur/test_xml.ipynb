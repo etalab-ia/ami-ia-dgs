{
 "metadata": {
  "language_info": {
   "codemirror_mode": {
    "name": "ipython",
    "version": 3
   },
   "file_extension": ".py",
   "mimetype": "text/x-python",
   "name": "python",
   "nbconvert_exporter": "python",
   "pygments_lexer": "ipython3",
   "version": "3.8.5-final"
  },
  "orig_nbformat": 2,
  "kernelspec": {
   "name": "python38564bite3f1c6cc659f48b99c290ac64d9f76dc",
   "display_name": "Python 3.8.5 64-bit"
  }
 },
 "nbformat": 4,
 "nbformat_minor": 2,
 "cells": [
  {
   "cell_type": "code",
   "execution_count": 1,
   "metadata": {},
   "outputs": [],
   "source": [
    "import pdfplumber\n",
    "import re\n",
    "from pathlib import Path\n",
    "from tqdm import tqdm\n",
    "import pandas as pd\n",
    "import fnmatch\n",
    "import logging\n",
    "import time\n",
    "import json\n",
    "import numpy as np\n",
    "import os\n",
    "import joblib\n",
    "import tensorflow as tf\n",
    "\n",
    "import lib_plot\n",
    "import xmltodict\n",
    "import base64\n",
    "\n",
    "from timeit import default_timer as timer\n",
    "import magic\n",
    "import yaml\n",
    "import logging\n",
    "import logging.config\n",
    "\n",
    "\n",
    "from lib_extraction import create_fus, from_xml_to_mrv_format, from_pdf_to_mrv_format, plumber_df\n",
    "\n",
    "\n",
    "import xmltodict"
   ]
  },
  {
   "cell_type": "code",
   "execution_count": 69,
   "metadata": {},
   "outputs": [],
   "source": [
    "data = pd.read_excel('/home/robin/Documents/DGS/data/serge_csv/mrv_format.xlsx')\n",
    "result_topic = pd.read_json('/home/robin/Documents/DGS/data/serge_csv/topic_inference.json')\n",
    "result_cluster = pd.read_json('/home/robin/Documents/DGS/data/serge_csv/cluster_inference.json')"
   ]
  },
  {
   "cell_type": "code",
   "execution_count": null,
   "metadata": {},
   "outputs": [],
   "source": []
  },
  {
   "cell_type": "code",
   "execution_count": 70,
   "metadata": {},
   "outputs": [],
   "source": [
    "result_cluster['label'] = result_cluster.apply(np.argmax,axis=0)\n",
    "result_cluster['weight'] = result_cluster.apply(np.max,axis=0)"
   ]
  },
  {
   "cell_type": "code",
   "execution_count": 72,
   "metadata": {},
   "outputs": [
    {
     "output_type": "execute_result",
     "data": {
      "text/plain": [
       "count    25.000000\n",
       "mean      0.003214\n",
       "std       0.008382\n",
       "min       0.000024\n",
       "25%       0.000136\n",
       "50%       0.000367\n",
       "75%       0.001461\n",
       "max       0.038072\n",
       "Name: weight, dtype: float64"
      ]
     },
     "metadata": {},
     "execution_count": 72
    }
   ],
   "source": [
    "result_cluster['weight'].describe()"
   ]
  },
  {
   "cell_type": "code",
   "execution_count": 22,
   "metadata": {},
   "outputs": [
    {
     "output_type": "execute_result",
     "data": {
      "text/plain": [
       "5"
      ]
     },
     "metadata": {},
     "execution_count": 22
    }
   ],
   "source": [
    "len(result_cluster[result_cluster['weight']>0.002])"
   ]
  },
  {
   "cell_type": "code",
   "execution_count": 35,
   "metadata": {},
   "outputs": [],
   "source": [
    "data = pd.read_pickle('/home/robin/Documents/DGS/Annexe/L3/cleaned_data_5.pkl')\n",
    "mrv = pd.read_csv('/home/robin/Documents/DGS/data/declaration_mrv_complet.csv')"
   ]
  },
  {
   "cell_type": "code",
   "execution_count": 67,
   "metadata": {},
   "outputs": [
    {
     "output_type": "stream",
     "name": "stdout",
     "text": [
      "76954\n"
     ]
    }
   ],
   "source": [
    "cluster = pd.read_csv('/home/robin/Documents/DGS/Annexe/L3/25_11_2020_test/cluster/mrveille_with_cluster.csv')\n",
    "print(len(cluster))"
   ]
  },
  {
   "cell_type": "code",
   "execution_count": 68,
   "metadata": {},
   "outputs": [
    {
     "output_type": "execute_result",
     "data": {
      "text/plain": [
       "count    76954.000000\n",
       "mean         0.780647\n",
       "std          0.231314\n",
       "min          0.001552\n",
       "25%          0.602178\n",
       "50%          0.866353\n",
       "75%          0.994039\n",
       "max          0.999949\n",
       "Name: cluster_weight, dtype: float64"
      ]
     },
     "metadata": {},
     "execution_count": 68
    }
   ],
   "source": [
    "cluster['cluster_weight'].describe()"
   ]
  },
  {
   "cell_type": "code",
   "execution_count": 54,
   "metadata": {},
   "outputs": [
    {
     "output_type": "stream",
     "name": "stdout",
     "text": [
      "déces: 1.5372820126309223\ncritique: 3.090157756581854\n"
     ]
    }
   ],
   "source": [
    "def find_deces(L):\n",
    "    deces_list = ['mort','morts','meurt','mourir','mortel','deces','deceder','decede','decedee','decedes','decedait']\n",
    "    deces = 0\n",
    "    for elt in L :\n",
    "        if elt in deces_list :\n",
    "            deces = 1\n",
    "    \n",
    "    return deces\n",
    "\n",
    "data['deces'] = data['text_lem'].map(find_deces)\n",
    "print('déces:',len(data[data['deces']==1])/len(data)*100)\n",
    "print('critique:',len(mrv[mrv['GRAVITE']=='CRITI'])/len(mrv)*100)"
   ]
  },
  {
   "cell_type": "code",
   "execution_count": 58,
   "metadata": {},
   "outputs": [
    {
     "output_type": "stream",
     "name": "stdout",
     "text": [
      "déces: 1.1461392520206877\ncritique: 3.090157756581854\n"
     ]
    }
   ],
   "source": [
    "from gensim.utils import deaccent\n",
    "mrv['text'] = mrv['ETAT_PATIENT']+ ' '+ mrv['DESCRIPTION_INCIDENT']\n",
    "mrv['deces'] = mrv['text'].fillna('').map(lambda x : deaccent(x.lower()).split(' ')).map(find_deces)\n",
    "\n",
    "print('déces:',len(mrv[mrv['deces']==1])/len(mrv)*100)\n",
    "print('critique:',len(mrv[mrv['GRAVITE']=='CRITI'])/len(mrv)*100)"
   ]
  },
  {
   "cell_type": "code",
   "execution_count": 39,
   "metadata": {
    "tags": []
   },
   "outputs": [
    {
     "output_type": "stream",
     "name": "stdout",
     "text": [
      "['patient', 'intube', 'ventiler', 'convulsion', 'sevrage', 'etat', 'mal', 'intuber', 'patient', 'box', 'check', 'salle', 'faire', 'infirmier', 'reanimation', 'renfort', 'respirateur', 'operationnel', 'bout', 'ventilation', 'respirateur', 'ventiler', 'patient', 'mettre', 'defaut', 'spontanement', 'emission', 'alarme', 'sonore', 'medecin', 'ventiler', 'patient', 'manuellement', 'temps', 'prendre', 'appareil', 'salle', 'consequence', 'pouvoir', 'mettre', 'danger', 'immediat', 'deces', 'patient', 'curarise', 'pouvoir', 'mettre', 'danger', 'immediat', 'deces', 'patient', 'curarise']\n['monsieur', 'monsieur', 'deceder', 'novembre', 'monsieur', 'suite', 'dysfonctionnement', 'concentrateur', 'entrainer', 'manque', 'oxygene', 'technicien', 'constater', 'probleme', 'reprise', 'appareil', 'ecarter', 'doute', 'appareil', 'envoyer', 'expertise', 'fabricant', 'deces', 'patient', 'deces', 'patient']\n['monsieur', 'monsieur', 'deceder', 'novembre', 'monsieur', 'suite', 'dysfonctionnement', 'concentrateur', 'entrainer', 'manque', 'oxygene', 'technicien', 'constater', 'probleme', 'reprise', 'appareil', 'ecarter', 'doute', 'appareil', 'envoyer', 'expertise', 'fabricant', 'deces', 'patient', 'deces', 'patient']\n['toilette', 'mme', 'capblon', 'abord', 'realiser', 'lit', 'mme', 'tonetti', 'mme', 'gros', 'dependance', 'etat', 'sante', 'mme', 'capblon', 'necessiter', 'presence', 'soignant', 'manutention', 'transfert', 'lit', 'fauteuil', 'aide', 'collegue', 'mme', 'gros', 'mme', 'tonetti', 'positionner', 'mme', 'capblon', 'harnais', 'leve', 'moment', 'mme', 'gros', 'partie', 'cuisine', 'preparer', 'petit', 'dejeuner', 'temps', 'mme', 'tonetti', 'accrocher', 'sangle', 'leve', 'crochet', 'prevoir', 'mme', 'gros', 'revenir', 'preparer', 'fauteuil', 'mme', 'capblon', 'journee', 'est', 'installer', 'commande', 'electrique', 'leve', 'aide', 'commande', 'electrique', 'mme', 'capblon', 'soulever', 'lit', 'temps', 'lit', 'abaisser', 'mme', 'gros', 'recule', 'leve', 'approcher', 'fauteuil', 'mme', 'tonetti', 'jambe', 'mme', 'capblon', 'pivoter', 'mme', 'mettre', 'axe', 'fauteuil', 'est', 'moment', 'mme', 'capblon', 'tomber', 'epaule', 'droite', 'pied', 'leve', 'lit', 'fauteuil', 'aide', 'soignant', 'immediatement', 'occuper', 'mme', 'hospitaliser', 'constater', 'sangle', 'crochet', 'expliquer', 'sangle', 'avait', 'positionner', 'correctement', 'depart', 'mme', 'capblon', 'aurait', 'soulever', 'lit', 'suite', 'chute', 'mme', 'capblon', 'hospitaliser', 'mme', 'hospitaliser', 'fracture', 'bras', 'plaie', 'cuir', 'chevelu', 'deceder', 'hopital', 'semaine', 'hospitalisation', 'mme', 'hospitaliser', 'fracture', 'bras', 'plaie', 'cuir', 'chevelu', 'deceder', 'hopital', 'semaine', 'hospitalisation']\n['deces', 'arret', 'cardiaque', 'embolie', 'gazeux', 'pose', 'catheter', 'central', 'hemodialyse', 'survenir', 'patient', 'mme', 'date', 'naissance', 'moment', 'retrait', 'guide', 'introduction', 'catheter', 'patient', 'mouvement', 'respiratoire', 'soupir', 'induire', 'modification', 'pression', 'intra', 'thoracique', 'entraine', 'entree', 'air', 'veine', 'immediatement', 'reperer', 'bruit', 'caracteristique', 'succion', 'produire', 'rapidement', 'installation', 'hypoxie', 'desaturation', 'hypotension', 'defaillance', 'cardiaque', 'mesure', 'reanimation', 'cardiorespiratoire', 'debutee', 'immediatement', 'permis', 'sauver', 'patient', 'deces', 'embolie', 'gazeux', 'deces', 'embolie', 'gazeux']\n['deces', 'arret', 'cardiaque', 'embolie', 'gazeux', 'pose', 'catheter', 'central', 'hemodialyse', 'survenir', 'patient', 'mme', 'date', 'naissance', 'moment', 'retrait', 'guide', 'introduction', 'catheter', 'patient', 'mouvement', 'respiratoire', 'soupir', 'induire', 'modification', 'pression', 'intra', 'thoracique', 'entraine', 'entree', 'air', 'veine', 'immediatement', 'reperer', 'bruit', 'caracteristique', 'succion', 'produire', 'rapidement', 'installation', 'hypoxie', 'desaturation', 'hypotension', 'defaillance', 'cardiaque', 'mesure', 'reanimation', 'cardiorespiratoire', 'debutee', 'immediatement', 'permis', 'sauver', 'patient', 'deces', 'embolie', 'gazeux', 'deces', 'embolie', 'gazeux']\n['resident', 'tee', 'shirt', 'enroule', 'autour', 'poignee', 'metallique', 'lit', 'photo', 'servir', 'releve', 'matelas', 'maintien', 'provoquer', 'strangulation', 'deces', 'resident', 'obstacle', 'medico', 'legal', 'declaration', 'effectuer', 'objectif', 'faire', 'ameliorer', 'securite', 'type', 'materiel', 'niveau', 'fournisseur', 'monsieur', 'uzel', 'commercial', 'atelier', 'haut', 'forez', 'prevenir', 'redaction', 'declaration', 'deces', 'resident', 'obstacle', 'medico', 'legal']\n['alerte', 'antibes', 'sin', 'bacteriemie', 'klebsiella', 'pneumoniae', 'oxer', 'patient', 'subir', 'chu', 'nice', 'cholangiopancreatographie', 'retrograde', 'endoscopique', 'ercp', 'cas', 'venir', 'ajouter', 'cas', 'cas', 'chu', 'nice', 'cas', 'clinique', 'jean', 'ercp', 'duodenoscope', 'decembre', 'patient', 'excepter', 'dame', 'deceder', 'pathologie', 'medecin', 'eoh', 'action', 'chu', 'sequestration', 'endoscope', 'prelevement', 'appareil', 'resultat', 'prevoir', 'semaine', 'prochain', 'cellule', 'crise', 'rappel', 'patient', 'examen', 'duodenoscope', 'decembre', 'total', 'conference', 'telephonique', 'cclin', 'arlin', 'semaine', 'prochain']\n['administration', 'noradrenaline', 'degradation', 'brutal', 'patient', 'prise', 'charge', 'medicamenteux', 'inefficace', 'detection', 'fuite', 'niveau', 'raccord', 'prolongateur', 'drap', 'mouiller', 'retard', 'prise', 'charge', 'patient', 'risque', 'deces', 'fuite', 'niveau', 'prolongateur', 'prise', 'charge', 'medicamenteux', 'inefficace', 'retard', 'prise', 'charge', 'patient', 'risque', 'deces', 'fuite', 'niveau', 'prolongateur', 'prise', 'charge', 'medicamenteux', 'inefficace']\n['pec', 'patient', 'cadre', 'urgence', 'appareil', 'cartre', 'pulsion', 'emettre', 'alarme', 'message', 'indiquer', 'pression', 'ballon', 'haut', 'changement', 'balllon', 'appareil', 'reconner', 'fibre', 'optique', 'changement', 'ballon', 'probleme', 'identique', 'deces', 'patient', 'perte', 'chance', 'patient', 'incident', 'intervalle', 'objet', 'declaration', 'materiovigilance', 'deces', 'patient', 'perte', 'chance', 'patient', 'incident', 'intervalle', 'objet', 'declaration', 'materiovigilance']\n['pec', 'patient', 'cadre', 'urgence', 'appareil', 'cartre', 'pulsion', 'emettre', 'alarme', 'message', 'indiquer', 'pression', 'ballon', 'haut', 'changement', 'balllon', 'appareil', 'reconner', 'fibre', 'optique', 'changement', 'ballon', 'probleme', 'identique', 'deces', 'patient', 'perte', 'chance', 'patient', 'incident', 'intervalle', 'objet', 'declaration', 'materiovigilance', 'deces', 'patient', 'perte', 'chance', 'patient', 'incident', 'intervalle', 'objet', 'declaration', 'materiovigilance']\n['client', 'harmonie', 'medical', 'vendre', 'une', 'maison', 'retraite', 'appareil', 'thermoflashs', 'evolution', 'blanc', 'appareil', 'utiliser', 'mesurer', 'temperature', 'corporel', 'maison', 'retraite', 'patient', 'presenter', 'symptome', 'fievre', 'prise', 'mesure', 'appareil', 'temperature', 'anormal', 'detecter', 'personnel', 'medical', 'numero', 'serie', 'dispositif', 'incriminer', 'patient', 'hospitaliser', 'soir', 'incident', 'deceder', 'lendemain', 'hospitalisation', 'visiomed', 'group', 'demander', 'produit', 'incriminer', 'investigation', 'fabricant', 'declarer', 'cas', 'materiovigilance', 'fabricant', 'patient', 'hospitaliser', 'soir', 'incident', 'deceder', 'lendemain', 'hospitalisation']\n['degenerescence', 'bio', 'prothes', 'calcifie', 'steno', 'sant', 'gmoy', 'mmhg', 'vmax', 'severement', 'fuyant', 'implanter', 'janvier', 'insuffisance', 'cardiaque', 'indication', 'intervention', 'patient', 'recuser', 'intervention', 'multiple', 'fragilite', 'deces', 'absence', 'intervention']\n['degenerescence', 'bio', 'prothes', 'calcifie', 'steno', 'sant', 'gmoy', 'mmhg', 'vmax', 'severement', 'fuyant', 'implanter', 'janvier', 'insuffisance', 'cardiaque', 'indication', 'intervention', 'patient', 'recuser', 'intervention', 'multiple', 'fragilite', 'deces', 'absence', 'intervention']\n['patient', 'vni', 'dispositif', 'branche', 'electriquement', 'passage', 'ide', 'chambre', 'tard', 'ventilateur', 'eteint', 'ide', 'signal', 'sonore', 'patient', 'deceder', 'ventilateur', 'autant', 'debrancher', 'dispositif', 'semblait', 'fonctionner', 'correctement', 'tot', 'controle', 'vni', 'effectuer', 'medecin', 'constater', 'bruit', 'familier', 'consequence', 'deces', 'patient', 'deces', 'patient']\n['patient', 'arriver', 'ambulance', 'priver', 'accompagner', 'patient', 'prise', 'charge', 'iao', 'hypoglycemie', 'domicile', 'patient', 'did', 'dejeuner', 'matin', 'resucree', 'ambulancier', 'remonter', 'rechute', 'arrivee', 'sau', 'resucrage', 'per', 'transfert', 'box', 'patient', 'pris', 'charge', 'medecin', 'malaise', 'secondaire', 'hypoglycemie', 'resultat', 'biologique', 'syndrome', 'infectieux', 'inflammatoire', 'desequilibre', 'diabet', 'type', 'secondaire', 'erysipele', 'membre', 'inferieur', 'droit', 'interrogatoir', 'patient', 'praticien', 'antecedent', 'allergie', 'reponse', 'complet', 'apporter', 'patient', 'prescription', 'amoxicillin', 'choc', 'anaphylactique', 'penicilline', 'arret', 'cardiologie', 'respiratoire', 'reanimation', 'reprise', 'conscience', 'allergie', 'identifier', 'dossier', 'dxcare', 'detecter', 'alerte', 'logiciel', 'dxcare', 'cas', 'prescription', 'administration', 'medicament', 'patient', 'allergique', 'information', 'fils', 'patient', 'telephone', 'praticien', 'prendre', 'charge', 'patient', 'urgence', 'sentiment', 'incomprehension', 'notion', 'gravite', 'etat', 'mere', 'identifier', 'praticien', 'transfert', 'reanimation', 'deces', 'etat', 'mort', 'encephalique', 'reanimation', 'fil', 'patient', 'recevoir', 'chef', 'service', 'reanimation', 'president', 'cme', 'information', 'explication', 'dommage', 'associer', 'soin', 'contexte', 'sau', 'praticien', 'arret', 'prevoir', 'contexte', 'clinique', 'sepsi', 'erysipele', 'contexte', 'lourd', 'antecedent', 'associer', 'obesite', 'insuffisance', 'respiratoire', 'chronique', 'insuffisance', 'renal', 'nephropathie', 'diabetique', 'diabete', 'type', 'hypertension', 'arteriel']\n['fevrier', 'passer', 'chambre', 'resident', 'mme', 'apporter', 'gouter', 'trouver', 'resident', 'deceder', 'residente', 'heberger', 'glycines', 'unite', 'ferme', 'desorienter', 'habitude', 'frequent', 'dormir', 'simple', 'mateler', 'cote', 'lit', 'fois', 'placer', 'oreiller', 'lit', 'cote', 'tete', 'lit', 'moment', 'utiliser', 'telecommande', 'probablement', 'maniere', 'fortuit', 'lit', 'abaisser', 'provoquer', 'deces', 'mme', 'etouffement', 'deces', 'residente', 'etouffement', 'declaration', 'evenement', 'indesirable', 'ars', 'pays', 'loire', 'information', 'police', 'realiser', 'enquete', 'conduire', 'deces', 'accidentel', 'noter', 'realisation', 'autopsie', 'fevrier', 'determiner', 'circonstance', 'precis', 'deces', 'deces', 'residente', 'etouffement']\n['monsieur', 'age', 'hospitaliser', 'repose', 'picc', 'line', 'installer', 'table', 'examen', 'salle', 'radiologie', 'vasculaire', 'pose', 'picc', 'line', 'patient', 'chute', 'table', 'examen', 'table', 'radiologie', 'dispose', 'dispositif', 'securite', 'maintenir', 'patient', 'incident', 'considerer', 'temps', 'evenement', 'associer', 'acte', 'chirugical', 'interventionnel', 'reclasser', 'type', 'evenement', 'chuter', 'patient', 'materiovigilance', 'suite', 'analyse', 'cause', 'realiser', 'osiris', 'lien', 'materiovigilance', 'recevoir', 'fevrier', 'lier', 'chute', 'traumatisme', 'cranien', 'plaie', 'cuir', 'chevelu', 'plaie', 'arcade', 'sourciliere', 'contusion', 'intracerebral', 'cote', 'fracturer', 'minime', 'hemothorax', 'crise', 'epilepsie', 'tonicoclonique', 'vomissement', 'lier', 'infection', 'sarm', 'oedeme', 'bras', 'droit', 'thrombose', 'veineux', 'secondaire', 'picc', 'line', 'suspecter', 'confirmer', 'examen', 'doppler', 'site', 'insertion', 'picc', 'line', 'patient', 'present', 'fievre', 'frisson', 'encombrement', 'bronchique', 'dyspnee', 'hemoculture', 'positif', 'sarm', 'antibiotherapie', 'efficace', 'prescrire', 'vancomycine', 'gentamicine', 'partir', 'degradation', 'etat', 'respiratoire', 'neurologique', 'patient', 'decision', 'soin', 'palliatif', 'prendre', 'patient', 'deceder', 'matinee']\n['monsieur', 'age', 'hospitaliser', 'repose', 'picc', 'line', 'installer', 'table', 'examen', 'salle', 'radiologie', 'vasculaire', 'pose', 'picc', 'line', 'patient', 'chute', 'table', 'examen', 'table', 'radiologie', 'dispose', 'dispositif', 'securite', 'maintenir', 'patient', 'incident', 'considerer', 'temps', 'evenement', 'associer', 'acte', 'chirugical', 'interventionnel', 'reclasser', 'type', 'evenement', 'chuter', 'patient', 'materiovigilance', 'suite', 'analyse', 'cause', 'realiser', 'osiris', 'lien', 'materiovigilance', 'recevoir', 'fevrier', 'lier', 'chute', 'traumatisme', 'cranien', 'plaie', 'cuir', 'chevelu', 'plaie', 'arcade', 'sourciliere', 'contusion', 'intracerebral', 'cote', 'fracturer', 'minime', 'hemothorax', 'crise', 'epilepsie', 'tonicoclonique', 'vomissement', 'lier', 'infection', 'sarm', 'oedeme', 'bras', 'droit', 'thrombose', 'veineux', 'secondaire', 'picc', 'line', 'suspecter', 'confirmer', 'examen', 'doppler', 'site', 'insertion', 'picc', 'line', 'patient', 'present', 'fievre', 'frisson', 'encombrement', 'bronchique', 'dyspnee', 'hemoculture', 'positif', 'sarm', 'antibiotherapie', 'efficace', 'prescrire', 'vancomycine', 'gentamicine', 'partir', 'degradation', 'etat', 'respiratoire', 'neurologique', 'patient', 'decision', 'soin', 'palliatif', 'prendre', 'patient', 'deceder', 'matinee']\n['cours', 'procedure', 'prelevement', 'rein', 'donneur', 'deceder', 'arret', 'cardiaque', 'procedure', 'maastricht', 'donneur', 'declarer', 'decede', 'procedure', 'prelevement', 'rein', 'lancer', 'cours', 'procedure', 'circulation', 'regional', 'normothermique', 'crn', 'maintenir', 'droite', 'preserver', 'rein', 'donneur', 'fogarty', 'poser', 'controlateral', 'bloquer', 'circulation', 'thoracique', 'cerebral', 'bout', 'crn', 'patient', 'donneur', 'commencer', 'gasper', 'procedure', 'don', 'organe', 'stopper', 'rein', 'recuperer', 'radiographie', 'controle', 'faire', 'verifier', 'pose', 'fogarty', 'ballon', 'degonfler', 'regonfler', 'greffon', 'perdre', 'constitue', 'perte', 'chance', 'receveur', 'greffon', 'perdre', 'constitue', 'perte', 'chance', 'receveur']\n"
     ]
    }
   ],
   "source": [
    "for elt in data[data['deces']==1]['text_lem'].iloc[:20] :\n",
    "    print(elt)"
   ]
  },
  {
   "cell_type": "code",
   "execution_count": 40,
   "metadata": {},
   "outputs": [
    {
     "output_type": "stream",
     "name": "stdout",
     "text": [
      "\n\n\nDécès de la patiente.\n\n\n\nDécès de la patiente.\n\n\n\n\n\n\n\nPatient revu le 20-12-2016\n\n\n\n\n\n\n\n\n\nPatient revu le 15-12-16.\n\n\n\n\n\n\n\n\n\nretesté avec le lot INSTI1512BA033 = négatif\n\n\n\n\n\n\n\nProblème déjà rencontré 2 fois avec ce type de masque: nouveau-né 2000g masque taille XL, nouveau né 1000g masque taille L.\n\n\n\n\n\n\n\n\n\n\n\nEst décédée à l'hôpital après trois semaines d'hospitalisation.\n\n\n\nDécès par embolie gazeuse\n\n\n\nDécès par embolie gazeuse\n\n\n\n\n\n\n\n\nde la rédaction de cette déclaration.\n\n\n\n\n\n\nConférence téléphonique avec le CCLIN et l'ARLIN la semaine prochaine\n\n\n\n\n\n\n\n\n\nLes prothèses mammaires ont été explantées avec capsulectomie totale.\n\n\n\n\n\n\n\n\n\nLes prothèses mammaires ont été explantées avec capsulectomie totale.\n\n\n\n\n\n\n\n\n\nLes prothèses mammaires ont été explantées avec capsulectomie totale.\n\n\n\n\n\n\n\n\n\nLes prothèses mammaires ont été explantées avec capsulectomie totale.\n\n\n\n\n\n\n\n\n\nLes prothèses mammaires ont été explantées avec capsulectomie totale.\n\n\n\n\n\n\n\n\n\nLes prothèses mammaires ont été explantées avec capsulectomie totale.\n\n\n\n\n\n\n\n\n\nLes prothèses mammaires ont été explantées avec capsulectomie totale.\n\n\n\n\n\n\n\n\n\nLes prothèses mammaires ont été explantées avec capsulectomie totale.\n\n\n\n\n\n\n\n\n\nLes prothèses mammaires ont été explantées avec capsulectomie totale.\n"
     ]
    }
   ],
   "source": [
    "for elt in mrv[mrv['GRAVITE']=='CRITI']['DESCRIPTION_INCIDENT'].iloc[:20] :\n",
    "    print(elt)"
   ]
  },
  {
   "cell_type": "code",
   "execution_count": 4,
   "metadata": {},
   "outputs": [],
   "source": [
    "PATH = \"/home/robin/Downloads/CDA_20200511155057576_MATERIOVIGILANCE.xml\"\n",
    "with open(PATH) as xml_file:\n",
    "    data_dict = xmltodict.parse(xml_file.read())"
   ]
  },
  {
   "cell_type": "code",
   "execution_count": 15,
   "metadata": {
    "tags": []
   },
   "outputs": [],
   "source": [
    "res = pd.DataFrame()\n",
    "E = []\n",
    "for elt in data_dict['ClinicalDocument']['component']['structuredBody']['component']:\n",
    "    for el in elt['section']['text']['table']['tbody']['tr']:\n",
    "        if type(el)!=str :\n",
    "            for i in range(len(el['td'])):\n",
    "                try:\n",
    "                    res[el['td'][2*i]['#text']] = [el['td'][2*i+1]['#text']]\n",
    "                except:\n",
    "                    try:\n",
    "                        E.append(el['td'][i]['#text'])\n",
    "                    except:\n",
    "                        E.append('erreur !')"
   ]
  },
  {
   "cell_type": "code",
   "execution_count": 16,
   "metadata": {},
   "outputs": [
    {
     "output_type": "execute_result",
     "data": {
      "text/plain": "  Nom (3 premières lettres) Sexe    Type de DM      Libellé du produit  \\\n0                      test    F  Masques FFP2  Masque FFP2 Op Air Pro   \n\n  Référence commerciale Fabricant : Nom Type d'utilisateur du DM  \\\n0             M52210-WH           KOLMI  Professionnels de santé   \n\n  Date de survenue Type de lieu de survenue  \\\n0       30/04/2020   Etablissement de santé   \n\n                Nom de l'etablissement  ... Service  \\\n0  Centre Hospitalier d'Alençon-Mamers  ...    UHCD   \n\n  Personne à contacter dans l'établissement Téléphone du contact  \\\n0                               XXXXX XXXXX           0233323020   \n\n                           Description de l'incident  \\\n0  les élastiques du masque FFP2 cassent lors de ...   \n\n  Nombre de patients ou personnes concernées Nombre de dispositifs concernés  \\\n0                                          1                               1   \n\n  Ce type d’incident est-il prévu dans la notice d’utilisation du fabricant ?  \\\n0                                                NSP                            \n\n               Classification de l'incident  \\\n0  Menace importante pour la santé publique   \n\n  Conséquences cliniques et état actuel du patient ou personne impliquée  \\\n0  Implique l'exposition directe du soignant à un...                       \n\n  Actions entreprises pour le patient vis-à-vis du DM  \n0              Consommation d'un nouveau masque FFP2   \n\n[1 rows x 23 columns]",
      "text/html": "<div>\n<style scoped>\n    .dataframe tbody tr th:only-of-type {\n        vertical-align: middle;\n    }\n\n    .dataframe tbody tr th {\n        vertical-align: top;\n    }\n\n    .dataframe thead th {\n        text-align: right;\n    }\n</style>\n<table border=\"1\" class=\"dataframe\">\n  <thead>\n    <tr style=\"text-align: right;\">\n      <th></th>\n      <th>Nom (3 premières lettres)</th>\n      <th>Sexe</th>\n      <th>Type de DM</th>\n      <th>Libellé du produit</th>\n      <th>Référence commerciale</th>\n      <th>Fabricant : Nom</th>\n      <th>Type d'utilisateur du DM</th>\n      <th>Date de survenue</th>\n      <th>Type de lieu de survenue</th>\n      <th>Nom de l'etablissement</th>\n      <th>...</th>\n      <th>Service</th>\n      <th>Personne à contacter dans l'établissement</th>\n      <th>Téléphone du contact</th>\n      <th>Description de l'incident</th>\n      <th>Nombre de patients ou personnes concernées</th>\n      <th>Nombre de dispositifs concernés</th>\n      <th>Ce type d’incident est-il prévu dans la notice d’utilisation du fabricant ?</th>\n      <th>Classification de l'incident</th>\n      <th>Conséquences cliniques et état actuel du patient ou personne impliquée</th>\n      <th>Actions entreprises pour le patient vis-à-vis du DM</th>\n    </tr>\n  </thead>\n  <tbody>\n    <tr>\n      <th>0</th>\n      <td>test</td>\n      <td>F</td>\n      <td>Masques FFP2</td>\n      <td>Masque FFP2 Op Air Pro</td>\n      <td>M52210-WH</td>\n      <td>KOLMI</td>\n      <td>Professionnels de santé</td>\n      <td>30/04/2020</td>\n      <td>Etablissement de santé</td>\n      <td>Centre Hospitalier d'Alençon-Mamers</td>\n      <td>...</td>\n      <td>UHCD</td>\n      <td>XXXXX XXXXX</td>\n      <td>0233323020</td>\n      <td>les élastiques du masque FFP2 cassent lors de ...</td>\n      <td>1</td>\n      <td>1</td>\n      <td>NSP</td>\n      <td>Menace importante pour la santé publique</td>\n      <td>Implique l'exposition directe du soignant à un...</td>\n      <td>Consommation d'un nouveau masque FFP2</td>\n    </tr>\n  </tbody>\n</table>\n<p>1 rows × 23 columns</p>\n</div>"
     },
     "metadata": {},
     "execution_count": 16
    }
   ],
   "source": [
    "res"
   ]
  },
  {
   "cell_type": "code",
   "execution_count": 18,
   "metadata": {},
   "outputs": [],
   "source": [
    "import re\n",
    "\n",
    "filename = PATH.split('/')[-1].lower()\n",
    "if ('matériovigilance' in filename) or ('materiovigilance' in filename):\n",
    "    TYPE = 'Matériovigilance'\n",
    "elif ('réactovigilance' in filename) or ('réactovigilance' in filename):\n",
    "    TYPE = 'Réactovigilance'\n",
    "else :           \n",
    "    TYPE = ''\n",
    "\n",
    "number = re.findall(r'\\d+', filename)\n",
    "if len(number)>0:\n",
    "    NUMERO = number[0]\n",
    "else : \n",
    "    NUMERO = ''"
   ]
  },
  {
   "cell_type": "code",
   "execution_count": 20,
   "metadata": {},
   "outputs": [
    {
     "output_type": "execute_result",
     "data": {
      "text/plain": "'20200511155057576'"
     },
     "metadata": {},
     "execution_count": 20
    }
   ],
   "source": [
    "NUMERO"
   ]
  },
  {
   "cell_type": "code",
   "execution_count": null,
   "metadata": {},
   "outputs": [],
   "source": []
  }
 ]
}