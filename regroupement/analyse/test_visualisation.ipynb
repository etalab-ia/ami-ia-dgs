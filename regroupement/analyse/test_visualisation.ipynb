{
 "metadata": {
  "language_info": {
   "codemirror_mode": {
    "name": "ipython",
    "version": 3
   },
   "file_extension": ".py",
   "mimetype": "text/x-python",
   "name": "python",
   "nbconvert_exporter": "python",
   "pygments_lexer": "ipython3",
   "version": "3.6.7-final"
  },
  "orig_nbformat": 2,
  "kernelspec": {
   "name": "python36764bitbasecondaa52a50b33930456ea0069587c96fc387",
   "display_name": "Python 3.6.7 64-bit ('base': conda)"
  }
 },
 "nbformat": 4,
 "nbformat_minor": 2,
 "cells": [
  {
   "cell_type": "code",
   "execution_count": 1,
   "metadata": {},
   "outputs": [],
   "source": [
    "import pandas as pd\n",
    "import gensim\n",
    "import pyLDAvis\n",
    "import pyLDAvis.gensim\n",
    "import os\n",
    "import sklearn as sk \n",
    "import json\n",
    "import numpy as np\n",
    "import yaml \n",
    "\n",
    "import sys\n",
    "import analysis, cluster_model_analysis, topic_model_analysis\n",
    "\n",
    "with open('analyse_config.yaml', 'r') as stream:\n",
    "    config_data = yaml.load(stream, Loader=yaml.FullLoader)\n",
    "    \n",
    "with open(os.path.join(os.path.dirname(os.getcwd()), 'config.yaml'), 'r') as stream:\n",
    "    globale_config = yaml.load(stream, Loader=yaml.FullLoader)\n",
    "\n",
    "path_mrv = globale_config['data']['mrv']['path']\n",
    "data_mrv = pd.read_csv(path_mrv)\n",
    "\n",
    "\n",
    "SAVE_PATH = config_data['analyse']['path']\n",
    "\n",
    "path_to_regroupement = os.path.dirname(os.getcwd()) #os.path.dirname(os.path.dirname('.'))\n",
    "sys.path.insert(1,os.path.join(path_to_regroupement, 'training/' ))\n",
    "\n",
    "config_path = os.path.join(os.path.join(path_to_regroupement, 'training'),'training_config.yaml')\n",
    "\n",
    "\n",
    "with open(config_path, 'r') as stream:\n",
    "    config = yaml.load(stream, Loader=yaml.FullLoader)\n",
    "\n",
    "import train_topic, train_cluster"
   ]
  },
  {
   "cell_type": "code",
   "execution_count": 8,
   "metadata": {},
   "outputs": [
    {
     "output_type": "stream",
     "name": "stdout",
     "text": [
      "2020-10-09 10:56:14,097 - TopicModel - INFO - train_topic - load -  Loading from /home/robin/Nextcloud/strar_clay/GitLab/Annexe/L3/try_23_09_2020/LDA/try_23_09_2020\n",
      "2020-10-09 10:56:14,101 - TopicModel - INFO - utils - loading_function -  path /home/robin/Nextcloud/strar_clay/GitLab/Annexe/L3/try_23_09_2020/LDA/try_23_09_2020.dict already exists\n",
      "2020-10-09 10:56:14,177 - TopicModel - INFO - utils - loading_function -  loaded object from /home/robin/Nextcloud/strar_clay/GitLab/Annexe/L3/try_23_09_2020/LDA/try_23_09_2020.dict\n",
      "2020-10-09 10:56:14,179 - TopicModel - INFO - utils - loading_function -  path /home/robin/Nextcloud/strar_clay/GitLab/Annexe/L3/try_23_09_2020/LDA/try_23_09_2020.mm already exists\n",
      "2020-10-09 10:56:14,199 - TopicModel - INFO - utils - loading_function -  loaded object from /home/robin/Nextcloud/strar_clay/GitLab/Annexe/L3/try_23_09_2020/LDA/try_23_09_2020.mm\n",
      "2020-10-09 10:56:14,200 - TopicModel - INFO - utils - loading_function -  path /home/robin/Nextcloud/strar_clay/GitLab/Annexe/L3/try_23_09_2020/LDA/try_23_09_2020.model already exists\n",
      "2020-10-09 10:56:14,608 - TopicModel - INFO - utils - loading_function -  loaded object from /home/robin/Nextcloud/strar_clay/GitLab/Annexe/L3/try_23_09_2020/LDA/try_23_09_2020.model\n",
      "2020-10-09 10:56:14,621 - TopicModel - INFO - utils - loading_function -  loaded object from <_io.TextIOWrapper name='/home/robin/Nextcloud/strar_clay/GitLab/Annexe/L3/try_23_09_2020/LDA/try_23_09_2020.json' mode='r' encoding='UTF-8'>\n",
      "2020-10-09 10:56:14,622 - TopicModel - INFO - utils - loading_function -  path /home/robin/Nextcloud/strar_clay/GitLab/Annexe/L3/try_23_09_2020/LDA/try_23_09_2020.pkl already exists\n",
      "2020-10-09 10:56:16,001 - TopicModel - INFO - utils - loading_function -  loaded object from /home/robin/Nextcloud/strar_clay/GitLab/Annexe/L3/try_23_09_2020/LDA/try_23_09_2020.pkl\n",
      "CPU times: user 1.3 s, sys: 310 ms, total: 1.61 s\n",
      "Wall time: 2.01 s\n"
     ]
    }
   ],
   "source": [
    "%%time\n",
    "name = 'try_23_09_2020' #config_data['analyse']['name']\n",
    "# Loading\n",
    "topicmodel = train_topic.TopicModel(name, config['topic'], \n",
    "                                        save_dir=os.path.join(SAVE_PATH, name))\n",
    "topicmodel.load(name)\n",
    "\n",
    "\n",
    "topicAnalysis = topic_model_analysis.topicModelAnalysis(topicmodel)\n",
    "\n",
    "\n",
    "\n"
   ]
  },
  {
   "cell_type": "code",
   "execution_count": 9,
   "metadata": {},
   "outputs": [
    {
     "output_type": "stream",
     "name": "stdout",
     "text": [
      "/home/robin/Nextcloud/strar_clay/GitLab/Annexe/L3/try_23_09_2020/LDA/try_23_09_2020.html\n"
     ]
    }
   ],
   "source": [
    "path = os.path.join(SAVE_PATH,name,'LDA',name+'.html')\n",
    "print(path)\n",
    "topicAnalysis.from_json_to_html(path)"
   ]
  },
  {
   "cell_type": "code",
   "execution_count": 4,
   "metadata": {},
   "outputs": [
    {
     "output_type": "error",
     "ename": "FileNotFoundError",
     "evalue": "[Errno 2] No such file or directory: '/home/robin/Nextcloud/strar_clay/GitLab/Annexe/L3/09_10_2020_hdp/LDA/09_10_2020_hdp.json'",
     "traceback": [
      "\u001b[0;31m---------------------------------------------------------------------------\u001b[0m",
      "\u001b[0;31mFileNotFoundError\u001b[0m                         Traceback (most recent call last)",
      "\u001b[0;32m<ipython-input-4-aebd496e5f34>\u001b[0m in \u001b[0;36m<module>\u001b[0;34m\u001b[0m\n\u001b[1;32m      2\u001b[0m \u001b[0mname\u001b[0m \u001b[0;34m=\u001b[0m \u001b[0;34m'09_10_2020_hdp'\u001b[0m\u001b[0;34m\u001b[0m\u001b[0;34m\u001b[0m\u001b[0m\n\u001b[1;32m      3\u001b[0m \u001b[0msave_dir\u001b[0m\u001b[0;34m=\u001b[0m\u001b[0mos\u001b[0m\u001b[0;34m.\u001b[0m\u001b[0mpath\u001b[0m\u001b[0;34m.\u001b[0m\u001b[0mjoin\u001b[0m\u001b[0;34m(\u001b[0m\u001b[0mSAVE_PATH\u001b[0m\u001b[0;34m,\u001b[0m \u001b[0mname\u001b[0m\u001b[0;34m)\u001b[0m\u001b[0;34m\u001b[0m\u001b[0;34m\u001b[0m\u001b[0m\n\u001b[0;32m----> 4\u001b[0;31m \u001b[0;32mwith\u001b[0m \u001b[0mopen\u001b[0m\u001b[0;34m(\u001b[0m\u001b[0mos\u001b[0m\u001b[0;34m.\u001b[0m\u001b[0mpath\u001b[0m\u001b[0;34m.\u001b[0m\u001b[0mjoin\u001b[0m\u001b[0;34m(\u001b[0m\u001b[0msave_dir\u001b[0m\u001b[0;34m,\u001b[0m\u001b[0;34m'LDA'\u001b[0m\u001b[0;34m,\u001b[0m \u001b[0mname\u001b[0m\u001b[0;34m+\u001b[0m\u001b[0;34m'.json'\u001b[0m\u001b[0;34m)\u001b[0m\u001b[0;34m,\u001b[0m \u001b[0;34m'r'\u001b[0m\u001b[0;34m)\u001b[0m \u001b[0;32mas\u001b[0m \u001b[0mjson_file\u001b[0m\u001b[0;34m:\u001b[0m\u001b[0;34m\u001b[0m\u001b[0;34m\u001b[0m\u001b[0m\n\u001b[0m\u001b[1;32m      5\u001b[0m     \u001b[0mviz\u001b[0m \u001b[0;34m=\u001b[0m  \u001b[0mjson\u001b[0m\u001b[0;34m.\u001b[0m\u001b[0mload\u001b[0m\u001b[0;34m(\u001b[0m\u001b[0mjson_file\u001b[0m\u001b[0;34m)\u001b[0m\u001b[0;34m\u001b[0m\u001b[0;34m\u001b[0m\u001b[0m\n",
      "\u001b[0;31mFileNotFoundError\u001b[0m: [Errno 2] No such file or directory: '/home/robin/Nextcloud/strar_clay/GitLab/Annexe/L3/09_10_2020_hdp/LDA/09_10_2020_hdp.json'"
     ]
    }
   ],
   "source": [
    "import json\n",
    "name = '09_10_2020_hdp'\n",
    "save_dir=os.path.join(SAVE_PATH, name)\n",
    "with open(os.path.join(save_dir,'LDA', name+'.json'), 'r') as json_file:\n",
    "    viz =  json.load(json_file)\n"
   ]
  },
  {
   "cell_type": "code",
   "execution_count": null,
   "metadata": {},
   "outputs": [],
   "source": []
  }
 ]
}