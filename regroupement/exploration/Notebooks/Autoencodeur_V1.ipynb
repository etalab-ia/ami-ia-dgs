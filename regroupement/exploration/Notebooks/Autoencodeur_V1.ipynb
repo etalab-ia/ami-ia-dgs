{
 "cells": [
  {
   "cell_type": "markdown",
   "metadata": {},
   "source": [
    "# Détection d'anomalie :  Approche encodeur\n",
    "Ce Notebook à pour but de présenter la construction d'un autoencodeur permettant de détecter les signalements d'un nouveau type. Pour ce faire nous utilisons l'exemple des prothèses PIP comme jeu de données de validation. La méthode est la suivante : \n",
    "- Nous excluons les declarations concernants les PIP et créant ainsi deux dataset : PIP et NO_PIP\n",
    "- Avec le dataset PIP nous créons un jeu de test (0.2) et de train qui nous permet d'entrainer notre autoencodeur\n",
    "- Nous construisons et entrainons un autoencodeur avec la Loss MSE (Mean Squared Error) et le TFIDF du texte en entrée\n",
    "- Nous définition un seuil d'anomalie en calculant la MSE sur le jeu de test PIP\n",
    "- Nous calculons le mse pour les données des prothèse PIP et assignons la valeure 1 à celle qui sont au dessus du seuil\n",
    "- Nous calculons le taux de détetion d'anomalie : Nombre d'anomalie détecté par l'auto-encoder/nombre de signalements PIP"
   ]
  },
  {
   "cell_type": "code",
   "execution_count": 298,
   "metadata": {},
   "outputs": [],
   "source": [
    "import warnings\n",
    "warnings.filterwarnings('ignore')\n",
    "\n",
    "import numpy as np\n",
    "import pandas as pd\n",
    "import sklearn\n",
    "\n",
    "\n",
    "from keras.models import Model, load_model\n",
    "from keras.layers import Input, Dense, Dropout\n",
    "from keras.callbacks import ModelCheckpoint, TensorBoard\n",
    "from keras import regularizers\n",
    "\n",
    "from sklearn.model_selection import GroupShuffleSplit\n",
    "from sklearn.compose import ColumnTransformer\n",
    "from sklearn.feature_extraction.text import TfidfVectorizer\n",
    "\n",
    "from keras.models import Model, load_model\n",
    "from keras.layers import Input, Dense, Dropout, RepeatVector, LSTM\n",
    "from keras.callbacks import ModelCheckpoint, TensorBoard\n",
    "from keras import regularizers\n",
    "\n",
    "from sklearn.metrics import roc_auc_score, average_precision_score\n"
   ]
  },
  {
   "cell_type": "markdown",
   "metadata": {},
   "source": [
    "## Chargement des données et gestion rapide des NaN"
   ]
  },
  {
   "cell_type": "code",
   "execution_count": 68,
   "metadata": {},
   "outputs": [],
   "source": [
    "mrv = pd.read_csv(\"../data/data_mrv/declaration_mrv_complet.csv\")"
   ]
  },
  {
   "cell_type": "code",
   "execution_count": 72,
   "metadata": {},
   "outputs": [],
   "source": [
    "df = mrv[['DESCRIPTION_INCIDENT','TYPE_VIGILANCE','LIBELLE_COMMERCIAL','DCO',\n",
    "                         'REFERENCE_COMMERCIALE','ETAT_PATIENT','FABRICANT','DCO_ID','CLASSIFICATION']]\n",
    "# On complète les NaN avec du vide\n",
    "df['ETAT_PATIENT'] = df['ETAT_PATIENT'].fillna(\"\")\n",
    "df['DESCRIPTION_INCIDENT'] = df['DESCRIPTION_INCIDENT'].fillna(\"\")\n",
    "df['LIBELLE_COMMERCIAL'] = df['LIBELLE_COMMERCIAL'].fillna(\"\")\n",
    "df['FABRICANT'] = df['FABRICANT'].fillna(\"\")\n",
    "df[\"REFERENCE_COMMERCIALE\"] = df['REFERENCE_COMMERCIALE'].fillna(\"\")\n",
    "df['TYPE_VIGILANCE'] = df['TYPE_VIGILANCE'].fillna(\"\")\n",
    "df['CLASSIFICATION'] = df['CLASSIFICATION'].fillna('')"
   ]
  },
  {
   "cell_type": "markdown",
   "metadata": {},
   "source": [
    "## Construction des jeux PIP et NO_PIP"
   ]
  },
  {
   "cell_type": "code",
   "execution_count": 73,
   "metadata": {},
   "outputs": [],
   "source": [
    "pip = df[df['DCO_ID']==2969]#2669 est le code des prothèse PIP\n",
    "no_pip = df[df['DCO_ID']!=2969]"
   ]
  },
  {
   "cell_type": "code",
   "execution_count": 77,
   "metadata": {},
   "outputs": [
    {
     "name": "stdout",
     "output_type": "stream",
     "text": [
      "Exemple de déclaration PIP :  664\n",
      "Jeu de donnée Normales :  76290\n"
     ]
    }
   ],
   "source": [
    "print('Exemple de déclaration PIP : ',len(pip))\n",
    "print('Jeu de donnée Normales : ',len(no_pip))"
   ]
  },
  {
   "cell_type": "code",
   "execution_count": 78,
   "metadata": {},
   "outputs": [
    {
     "name": "stdout",
     "output_type": "stream",
     "text": [
      "PMI : SILICONE\n"
     ]
    }
   ],
   "source": [
    "print(pip['DCO'].iloc[0])"
   ]
  },
  {
   "cell_type": "markdown",
   "metadata": {},
   "source": [
    "## Construction du jeu d'entrainement et de test"
   ]
  },
  {
   "cell_type": "code",
   "execution_count": 17,
   "metadata": {},
   "outputs": [],
   "source": [
    "train_index,test_index = next(GroupShuffleSplit(random_state=1029).split(df, groups=df['DESCRIPTION_INCIDENT']))\n",
    "df_train, df_test = df.iloc[train_index], df.iloc[test_index]"
   ]
  },
  {
   "cell_type": "code",
   "execution_count": 18,
   "metadata": {},
   "outputs": [],
   "source": [
    "X_train = df_train[['DESCRIPTION_INCIDENT','ETAT_PATIENT','FABRICANT']]\n",
    "X_test = df_test[['DESCRIPTION_INCIDENT','ETAT_PATIENT','FABRICANT']]"
   ]
  },
  {
   "cell_type": "markdown",
   "metadata": {},
   "source": [
    "## Application du TF_IDF"
   ]
  },
  {
   "cell_type": "code",
   "execution_count": 224,
   "metadata": {},
   "outputs": [],
   "source": [
    "preprocess = ColumnTransformer(\n",
    "    [('description_tfidf',TfidfVectorizer(sublinear_tf=True, min_df=3,\n",
    "                            ngram_range=(1, 1),\n",
    "                            stop_words=STOP_WORDS,\n",
    "                            max_features = 10000,norm = 'l2'), 'DESCRIPTION_INCIDENT'),\n",
    "     \n",
    "     ('etat_pat_tfidf', TfidfVectorizer(sublinear_tf=True, min_df=3,ngram_range=(1, 1),\n",
    "                                       stop_words=STOP_WORDS,\n",
    "                                       max_features = 10000,norm = 'l2'), 'ETAT_PATIENT'),\n",
    "     \n",
    "     ('fabricant_tfidf',TfidfVectorizer(sublinear_tf=True, min_df=3,\n",
    "                            ngram_range=(1, 1),\n",
    "                            stop_words=STOP_WORDS,\n",
    "                            max_features = 5000,norm = 'l2'), 'FABRICANT')\n",
    "     ],\n",
    "    \n",
    "    remainder='passthrough')\n",
    "\n",
    "X_train_, x_test_ =preprocess.fit_transform(X_train), preprocess.transform(X_test)\n",
    "X_valid = preprocess.transform(pip[['DESCRIPTION_INCIDENT','ETAT_PATIENT','FABRICANT']])\n",
    "\n",
    "\n",
    "from sklearn.decomposition import TruncatedSVD\n",
    "svd = TruncatedSVD(n_components=1000)\n",
    "X_train_ = svd.fit_transform(X_train_)\n",
    "X_test_ = svd.transform(x_test_)\n",
    "X_valid = svd.transform(X_valid)\n"
   ]
  },
  {
   "cell_type": "markdown",
   "metadata": {},
   "source": [
    "## Construction d'un premier encodeur"
   ]
  },
  {
   "cell_type": "code",
   "execution_count": 234,
   "metadata": {},
   "outputs": [
    {
     "name": "stdout",
     "output_type": "stream",
     "text": [
      "Model: \"model_47\"\n",
      "_________________________________________________________________\n",
      "Layer (type)                 Output Shape              Param #   \n",
      "=================================================================\n",
      "input_68 (InputLayer)        (None, 1000)              0         \n",
      "_________________________________________________________________\n",
      "dense_129 (Dense)            (None, 50)                50050     \n",
      "_________________________________________________________________\n",
      "dense_130 (Dense)            (None, 25)                1275      \n",
      "_________________________________________________________________\n",
      "dense_131 (Dense)            (None, 50)                1300      \n",
      "_________________________________________________________________\n",
      "dense_132 (Dense)            (None, 1000)              51000     \n",
      "=================================================================\n",
      "Total params: 103,625\n",
      "Trainable params: 103,625\n",
      "Non-trainable params: 0\n",
      "_________________________________________________________________\n",
      "Train on 61693 samples, validate on 15261 samples\n",
      "Epoch 1/15\n",
      "61693/61693 [==============================] - 11s 176us/step - loss: 0.0013 - accuracy: 0.4986 - val_loss: 8.7341e-04 - val_accuracy: 0.6485\n",
      "Epoch 2/15\n",
      "61693/61693 [==============================] - 11s 184us/step - loss: 0.0011 - accuracy: 0.6558 - val_loss: 8.2217e-04 - val_accuracy: 0.6708\n",
      "Epoch 3/15\n",
      "61693/61693 [==============================] - 11s 184us/step - loss: 0.0010 - accuracy: 0.6825 - val_loss: 8.0603e-04 - val_accuracy: 0.6975\n",
      "Epoch 4/15\n",
      "61693/61693 [==============================] - 11s 179us/step - loss: 0.0010 - accuracy: 0.6937 - val_loss: 7.9977e-04 - val_accuracy: 0.6944\n",
      "Epoch 5/15\n",
      "61693/61693 [==============================] - 12s 191us/step - loss: 0.0010 - accuracy: 0.6997 - val_loss: 7.9671e-04 - val_accuracy: 0.7101\n",
      "Epoch 6/15\n",
      "61693/61693 [==============================] - 10s 170us/step - loss: 0.0010 - accuracy: 0.7040 - val_loss: 7.9418e-04 - val_accuracy: 0.7142\n",
      "Epoch 7/15\n",
      "61693/61693 [==============================] - 11s 184us/step - loss: 0.0010 - accuracy: 0.7089 - val_loss: 7.9293e-04 - val_accuracy: 0.7120\n",
      "Epoch 8/15\n",
      "61693/61693 [==============================] - 11s 173us/step - loss: 0.0010 - accuracy: 0.7108 - val_loss: 7.9106e-04 - val_accuracy: 0.7171\n",
      "Epoch 9/15\n",
      "61693/61693 [==============================] - 11s 175us/step - loss: 0.0010 - accuracy: 0.7120 - val_loss: 7.9080e-04 - val_accuracy: 0.7188\n",
      "Epoch 10/15\n",
      "61693/61693 [==============================] - 12s 187us/step - loss: 0.0010 - accuracy: 0.7149 - val_loss: 7.8943e-04 - val_accuracy: 0.7205\n",
      "Epoch 11/15\n",
      "61693/61693 [==============================] - 11s 176us/step - loss: 0.0010 - accuracy: 0.7160 - val_loss: 7.8888e-04 - val_accuracy: 0.7228\n",
      "Epoch 12/15\n",
      "61693/61693 [==============================] - 10s 166us/step - loss: 0.0010 - accuracy: 0.7183 - val_loss: 7.8863e-04 - val_accuracy: 0.7214\n",
      "Epoch 13/15\n",
      "61693/61693 [==============================] - 10s 161us/step - loss: 0.0010 - accuracy: 0.7181 - val_loss: 7.8784e-04 - val_accuracy: 0.7216\n",
      "Epoch 14/15\n",
      "61693/61693 [==============================] - 11s 177us/step - loss: 0.0010 - accuracy: 0.7187 - val_loss: 7.8752e-04 - val_accuracy: 0.7193\n",
      "Epoch 15/15\n",
      "61693/61693 [==============================] - 12s 187us/step - loss: 0.0010 - accuracy: 0.7189 - val_loss: 7.8601e-04 - val_accuracy: 0.7289\n"
     ]
    }
   ],
   "source": [
    "input_dim = X_train_.shape[1] # the # features\n",
    "n =  X_train_.shape[0]\n",
    "encoding_dim = 50 # first layer\n",
    "hidden_dim = int(encoding_dim / 2) #hideen layer\n",
    "\n",
    "nb_epoch = 15\n",
    "batch_size = 32\n",
    "\n",
    "\n",
    "input_layer = Input(shape=(input_dim,))\n",
    "encoder = Dense(encoding_dim, activation=\"tanh\")(input_layer) #activity_regularizer=regularizers.l1(10e-5)\n",
    "encoder = Dense(hidden_dim, activation=\"relu\")(encoder)\n",
    "\n",
    "decoder = Dense(encoding_dim, activation='relu')(encoder)\n",
    "decoder = Dense(input_dim, activation='tanh')(decoder)\n",
    "autoencoder_dense = Model(inputs=input_layer, outputs=decoder)\n",
    "\n",
    "autoencoder_dense.summary()\n",
    "\n",
    "autoencoder_dense.compile(optimizer='adam', \n",
    "                    loss='mean_squared_error', \n",
    "                    metrics=['accuracy'])\n",
    "\n",
    "history = autoencoder_dense.fit(X_train_, X_train_,\n",
    "                    epochs=nb_epoch,\n",
    "                    batch_size=batch_size,\n",
    "                    shuffle=True,\n",
    "                    validation_data=(X_test_, X_test_),\n",
    "                    verbose=1).history"
   ]
  },
  {
   "cell_type": "code",
   "execution_count": 235,
   "metadata": {},
   "outputs": [
    {
     "data": {
      "image/png": "[encoded data removed]",
      "text/plain": [
       "<Figure size 432x288 with 1 Axes>"
      ]
     },
     "metadata": {
      "needs_background": "light"
     },
     "output_type": "display_data"
    }
   ],
   "source": [
    "plt.plot(history['loss'])\n",
    "plt.plot(history['val_loss'])\n",
    "plt.title('model loss')\n",
    "plt.ylabel('loss')\n",
    "plt.xlabel('epoch')\n",
    "plt.legend(['train', 'test'], loc='upper right');"
   ]
  },
  {
   "cell_type": "markdown",
   "metadata": {},
   "source": [
    "## Calcul du seuil d'anomalie avec le quantile à 0.999"
   ]
  },
  {
   "cell_type": "code",
   "execution_count": 236,
   "metadata": {},
   "outputs": [
    {
     "name": "stdout",
     "output_type": "stream",
     "text": [
      "MSE: 0.0028515838374615133\n"
     ]
    }
   ],
   "source": [
    "predictions = autoencoder_dense.predict(X_train_)\n",
    "mse_train = np.mean(np.power(X_train_ - predictions, 2), axis=1)\n",
    "print('MSE:', np.quantile(mse_train, 0.999))"
   ]
  },
  {
   "cell_type": "code",
   "execution_count": 239,
   "metadata": {},
   "outputs": [
    {
     "name": "stdout",
     "output_type": "stream",
     "text": [
      "MSE: 0.002563760706253856\n"
     ]
    }
   ],
   "source": [
    "predictions = autoencoder_dense.predict(X_test_)\n",
    "mse_test = np.mean(np.power(X_test_ - predictions, 2), axis=1)\n",
    "print('MSE:', np.quantile(mse_test, 0.999))"
   ]
  },
  {
   "cell_type": "code",
   "execution_count": 240,
   "metadata": {},
   "outputs": [
    {
     "name": "stdout",
     "output_type": "stream",
     "text": [
      "MSE: 0.002474413804830157\n"
     ]
    }
   ],
   "source": [
    "predictions = autoencoder_dense.predict(X_valid)\n",
    "mse_valid = np.mean(np.power(X_valid - predictions, 2), axis=1)\n",
    "print('MSE:', np.quantile(mse_valid, 0.999))"
   ]
  },
  {
   "cell_type": "code",
   "execution_count": 243,
   "metadata": {},
   "outputs": [
    {
     "data": {
      "image/png": "[encoded data removed]",
      "text/plain": [
       "<Figure size 1080x720 with 1 Axes>"
      ]
     },
     "metadata": {
      "needs_background": "light"
     },
     "output_type": "display_data"
    }
   ],
   "source": [
    "plt.figure(figsize=(15,10))\n",
    "X = plt.hist(np.array(mse_train),bins=50, density=True,alpha= 0.4,label='train')\n",
    "Y = plt.hist(np.array(mse_test),bins=50,density=True,alpha=0.4,label='test')\n",
    "Z = plt.hist(np.array(mse_valid),bins=50,density=True,alpha=0.2,label='valid')\n",
    "plt.title('Distribution de la MSE pour les différent jeux de données (bins=50)')\n",
    "plt.legend()\n",
    "plt.show()"
   ]
  },
  {
   "cell_type": "code",
   "execution_count": 251,
   "metadata": {},
   "outputs": [
    {
     "name": "stdout",
     "output_type": "stream",
     "text": [
      "0.0\n"
     ]
    }
   ],
   "source": [
    "An_score = len(mse_valid[mse_valid>float(np.quantile(mse_train, 0.99))])/len(pip)\n",
    "print(An_score)"
   ]
  },
  {
   "cell_type": "markdown",
   "metadata": {},
   "source": [
    "## commentaire : \n",
    "Notre premier encodeur ne fonctionne pas très bien, nous allons en construire un autre avec des réseaux récurents qui sont plus adapté pour les"
   ]
  },
  {
   "cell_type": "markdown",
   "metadata": {},
   "source": [
    "## Construction d'un auto encodeur deuxième version basée sur les LSTM"
   ]
  },
  {
   "cell_type": "code",
   "execution_count": 253,
   "metadata": {},
   "outputs": [],
   "source": [
    "X_train_ = np.reshape(X_train_, (X_train_.shape[0], 1, X_train_.shape[1]))\n",
    "X_test_ = np.reshape(X_test_, (X_test_.shape[0], 1, X_test_.shape[1]))\n",
    "X_valid_ = np.reshape(X_valid, (X_valid.shape[0], 1, X_valid.shape[1]))"
   ]
  },
  {
   "cell_type": "code",
   "execution_count": 178,
   "metadata": {},
   "outputs": [],
   "source": [
    "X_train_ = np.reshape(X_train_, (X_train_.shape[0], X_train_.shape[2]))\n",
    "X_test_ = np.reshape(X_test_, (X_test_.shape[0], X_test_.shape[2]))"
   ]
  },
  {
   "cell_type": "code",
   "execution_count": 184,
   "metadata": {},
   "outputs": [
    {
     "data": {
      "text/plain": [
       "(61693, 1000)"
      ]
     },
     "execution_count": 184,
     "metadata": {},
     "output_type": "execute_result"
    }
   ],
   "source": [
    "X_train_.shape"
   ]
  },
  {
   "cell_type": "code",
   "execution_count": 194,
   "metadata": {},
   "outputs": [
    {
     "name": "stdout",
     "output_type": "stream",
     "text": [
      "Model: \"model_40\"\n",
      "_________________________________________________________________\n",
      "Layer (type)                 Output Shape              Param #   \n",
      "=================================================================\n",
      "input_61 (InputLayer)        (None, 1, 1000)           0         \n",
      "_________________________________________________________________\n",
      "lstm_91 (LSTM)               (None, 200)               960800    \n",
      "_________________________________________________________________\n",
      "repeat_vector_36 (RepeatVect (None, 1, 200)            0         \n",
      "_________________________________________________________________\n",
      "lstm_92 (LSTM)               (None, 1, 200)            320800    \n",
      "_________________________________________________________________\n",
      "dense_104 (Dense)            (None, 1, 1000)           201000    \n",
      "=================================================================\n",
      "Total params: 1,482,600\n",
      "Trainable params: 1,482,600\n",
      "Non-trainable params: 0\n",
      "_________________________________________________________________\n",
      "Train on 61693 samples, validate on 15261 samples\n",
      "Epoch 1/15\n",
      "61693/61693 [==============================] - 41s 657us/step - loss: 0.0013 - accuracy: 0.5223 - val_loss: 9.9790e-04 - val_accuracy: 0.6591\n",
      "Epoch 2/15\n",
      "61693/61693 [==============================] - 37s 602us/step - loss: 0.0012 - accuracy: 0.6853 - val_loss: 9.4719e-04 - val_accuracy: 0.7131\n",
      "Epoch 3/15\n",
      "61693/61693 [==============================] - 40s 642us/step - loss: 0.0012 - accuracy: 0.7213 - val_loss: 9.1996e-04 - val_accuracy: 0.7351\n",
      "Epoch 4/15\n",
      "61693/61693 [==============================] - 39s 624us/step - loss: 0.0011 - accuracy: 0.7468 - val_loss: 8.9809e-04 - val_accuracy: 0.7558\n",
      "Epoch 5/15\n",
      "61693/61693 [==============================] - 39s 625us/step - loss: 0.0011 - accuracy: 0.7627 - val_loss: 8.7865e-04 - val_accuracy: 0.7797\n",
      "Epoch 6/15\n",
      "61693/61693 [==============================] - 39s 628us/step - loss: 0.0011 - accuracy: 0.7810 - val_loss: 8.6381e-04 - val_accuracy: 0.7933\n",
      "Epoch 7/15\n",
      "61693/61693 [==============================] - 38s 612us/step - loss: 0.0011 - accuracy: 0.7992 - val_loss: 8.5033e-04 - val_accuracy: 0.8119\n",
      "Epoch 8/15\n",
      "61693/61693 [==============================] - 36s 576us/step - loss: 0.0010 - accuracy: 0.8140 - val_loss: 8.4051e-04 - val_accuracy: 0.8173\n",
      "Epoch 9/15\n",
      "61693/61693 [==============================] - 39s 630us/step - loss: 0.0010 - accuracy: 0.8190 - val_loss: 8.3357e-04 - val_accuracy: 0.8159\n",
      "Epoch 10/15\n",
      "61693/61693 [==============================] - 39s 632us/step - loss: 0.0010 - accuracy: 0.8231 - val_loss: 8.2725e-04 - val_accuracy: 0.8187\n",
      "Epoch 11/15\n",
      "61693/61693 [==============================] - 39s 636us/step - loss: 0.0010 - accuracy: 0.8253 - val_loss: 8.2200e-04 - val_accuracy: 0.8222\n",
      "Epoch 12/15\n",
      "61693/61693 [==============================] - 39s 628us/step - loss: 0.0010 - accuracy: 0.8279 - val_loss: 8.1669e-04 - val_accuracy: 0.8258\n",
      "Epoch 13/15\n",
      "61693/61693 [==============================] - 39s 630us/step - loss: 0.0010 - accuracy: 0.8310 - val_loss: 8.1145e-04 - val_accuracy: 0.8276\n",
      "Epoch 14/15\n",
      "61693/61693 [==============================] - 39s 636us/step - loss: 0.0010 - accuracy: 0.8340 - val_loss: 8.0725e-04 - val_accuracy: 0.8329\n",
      "Epoch 15/15\n",
      "61693/61693 [==============================] - 39s 637us/step - loss: 9.9551e-04 - accuracy: 0.8381 - val_loss: 8.0400e-04 - val_accuracy: 0.8385\n"
     ]
    }
   ],
   "source": [
    "input_dim = X_train_.shape[2] # the # features\n",
    "n = X_train_.shape[0]\n",
    "#X_train_.shape[0]\n",
    "\n",
    "nb_epoch = 15\n",
    "batch_size = 32\n",
    "\n",
    "\n",
    "input_layer = Input(shape=(1,input_dim))\n",
    "encoder =LSTM(200, return_sequences=False, input_shape=(n,1,input_dim))(input_layer) \n",
    "x = RepeatVector(1)(encoder)\n",
    "decoder  = LSTM(200, return_sequences=True)(x)\n",
    "decoder = Dense(input_dim, activation='relu')(decoder)\n",
    "\n",
    "autoencoder = Model(inputs=input_layer, outputs=decoder)\n",
    "\n",
    "autoencoder.summary()\n",
    "\n",
    "autoencoder.compile(optimizer='adam', \n",
    "                    loss='mean_squared_error', \n",
    "                    metrics=['accuracy'])\n",
    "\n",
    "history = autoencoder.fit(X_train_, X_train_,\n",
    "                    epochs=nb_epoch,\n",
    "                    batch_size=batch_size,\n",
    "                    shuffle=True,\n",
    "                    validation_data=(X_test_, X_test_),\n",
    "                    verbose=1).history"
   ]
  },
  {
   "cell_type": "code",
   "execution_count": 287,
   "metadata": {},
   "outputs": [
    {
     "name": "stdout",
     "output_type": "stream",
     "text": [
      "MSE: 0.0023858111400810807\n"
     ]
    }
   ],
   "source": [
    "#on met axis=2 car la dimentsion est (n,1,n_features=1000)\n",
    "predictions = autoencoder.predict(X_train_)\n",
    "mse_train = np.mean(np.power(X_train_ - predictions, 2), axis=2)\n",
    "print('MSE:', np.quantile(mse_train, 0.999))"
   ]
  },
  {
   "cell_type": "code",
   "execution_count": 289,
   "metadata": {},
   "outputs": [
    {
     "name": "stdout",
     "output_type": "stream",
     "text": [
      "MSE: 0.0020692500259516964\n"
     ]
    }
   ],
   "source": [
    "predictions = autoencoder.predict(X_test_)\n",
    "mse_test = np.mean(np.power(X_test_ - predictions, 2), axis=2)\n",
    "print('MSE:', np.quantile(mse_test, 0.999))"
   ]
  },
  {
   "cell_type": "code",
   "execution_count": 290,
   "metadata": {},
   "outputs": [
    {
     "name": "stdout",
     "output_type": "stream",
     "text": [
      "MSE: 0.0018918510804507111\n"
     ]
    }
   ],
   "source": [
    "predictions = autoencoder.predict(X_valid_)\n",
    "mse_valid = np.mean(np.power(X_valid_ - predictions, 2), axis=2)\n",
    "print('MSE:', np.quantile(mse_valid, 0.999))"
   ]
  },
  {
   "cell_type": "code",
   "execution_count": 292,
   "metadata": {},
   "outputs": [
    {
     "data": {
      "image/png": "[encoded data removed]",
      "text/plain": [
       "<Figure size 1080x720 with 1 Axes>"
      ]
     },
     "metadata": {
      "needs_background": "light"
     },
     "output_type": "display_data"
    }
   ],
   "source": [
    "plt.figure(figsize=(15,10))\n",
    "X = plt.hist(np.array(mse_train),bins=50, density=True,alpha= 0.4,label='train')\n",
    "Y = plt.hist(np.array(mse_test),bins=50,density=True,alpha=0.4,label='test')\n",
    "Z = plt.hist(np.array(mse_valid),bins=50,density=True,alpha=0.2,label='valid')\n",
    "plt.title('Distribution de la MSE pour les différent jeux de données (bins=50)')\n",
    "plt.legend()\n",
    "plt.show()"
   ]
  },
  {
   "cell_type": "code",
   "execution_count": 271,
   "metadata": {},
   "outputs": [
    {
     "data": {
      "text/plain": [
       "(664,)"
      ]
     },
     "execution_count": 271,
     "metadata": {},
     "output_type": "execute_result"
    }
   ],
   "source": [
    ".shape"
   ]
  },
  {
   "cell_type": "code",
   "execution_count": 293,
   "metadata": {},
   "outputs": [
    {
     "data": {
      "text/plain": [
       "0"
      ]
     },
     "execution_count": 293,
     "metadata": {},
     "output_type": "execute_result"
    }
   ],
   "source": [
    "seuil =float(np.quantile(mse_train,0.99))\n",
    "len(mse_valid[:,0][mse_valid[:,0]>=seuil])"
   ]
  },
  {
   "cell_type": "markdown",
   "metadata": {},
   "source": [
    "## Commentaire \n",
    "Nous pouvons observer botre encodeurà base  RNN ne fonctionne pas beaucoup mieux et nous n'arrivons pas à détecter les prothèse PIP comme des anomalies.\n",
    "\n",
    "Ou bien, les signalement ne sont pas assez diffférents ou bien, notre modèle ne capture pas les bonnes informations."
   ]
  },
  {
   "cell_type": "markdown",
   "metadata": {},
   "source": [
    "## Deuxième approche : \n",
    "- On entraine sur l'ensemble du dataset\n",
    "- On labelise les prothèse PIP 1,0\n",
    "- on entraine un autoencodeur\n",
    "- on évalue le modèle avec un AUC"
   ]
  },
  {
   "cell_type": "code",
   "execution_count": 319,
   "metadata": {},
   "outputs": [],
   "source": [
    "df['normal'] = df['DCO_ID'].apply(lambda x: 0 if x==2969 else 1)\n",
    "X = df[['DESCRIPTION_INCIDENT','ETAT_PATIENT','FABRICANT']]\n",
    "\n",
    "X_ = preprocess.fit_transform(X)\n",
    "\n",
    "svd = TruncatedSVD(n_components=1000)\n",
    "X_= svd.fit_transform(X_)"
   ]
  },
  {
   "cell_type": "code",
   "execution_count": 320,
   "metadata": {},
   "outputs": [
    {
     "name": "stdout",
     "output_type": "stream",
     "text": [
      "Model: \"model_60\"\n",
      "_________________________________________________________________\n",
      "Layer (type)                 Output Shape              Param #   \n",
      "=================================================================\n",
      "input_81 (InputLayer)        (None, 1000)              0         \n",
      "_________________________________________________________________\n",
      "dense_181 (Dense)            (None, 50)                50050     \n",
      "_________________________________________________________________\n",
      "dense_182 (Dense)            (None, 25)                1275      \n",
      "_________________________________________________________________\n",
      "dense_183 (Dense)            (None, 50)                1300      \n",
      "_________________________________________________________________\n",
      "dense_184 (Dense)            (None, 1000)              51000     \n",
      "=================================================================\n",
      "Total params: 103,625\n",
      "Trainable params: 103,625\n",
      "Non-trainable params: 0\n",
      "_________________________________________________________________\n",
      "Train on 76954 samples, validate on 76954 samples\n",
      "Epoch 1/2\n",
      "76954/76954 [==============================] - 18s 229us/step - loss: 0.0012 - accuracy: 0.5225 - val_loss: 0.0011 - val_accuracy: 0.6367\n",
      "Epoch 2/2\n",
      "76954/76954 [==============================] - 17s 225us/step - loss: 0.0010 - accuracy: 0.6679 - val_loss: 0.0010 - val_accuracy: 0.6891\n"
     ]
    }
   ],
   "source": [
    "input_dim = X_.shape[1] # the # features\n",
    "n =  X_.shape[0]\n",
    "\n",
    "encoding_dim = 50 # first layer\n",
    "hidden_dim = int(encoding_dim / 2) #hideen layer\n",
    "\n",
    "nb_epoch = 2\n",
    "batch_size = 32\n",
    "\n",
    "\n",
    "input_layer = Input(shape=(input_dim,))\n",
    "encoder = Dense(encoding_dim, activation=\"tanh\")(input_layer)\n",
    "encoder = Dense(hidden_dim, activation=\"relu\")(encoder)\n",
    "\n",
    "decoder = Dense(encoding_dim, activation='relu')(encoder)\n",
    "decoder = Dense(input_dim, activation='tanh')(decoder)\n",
    "autoencoder_dense = Model(inputs=input_layer, outputs=decoder)\n",
    "\n",
    "autoencoder_dense.summary()\n",
    "\n",
    "autoencoder_dense.compile(optimizer='adam', \n",
    "                    loss='mean_squared_error', \n",
    "                    metrics=['accuracy'])\n",
    "\n",
    "history = autoencoder_dense.fit(X_, X_,\n",
    "                    epochs=nb_epoch,\n",
    "                    batch_size=batch_size,\n",
    "                    shuffle=True,\n",
    "                    validation_data=(X_, X_),\n",
    "                    verbose=1).history"
   ]
  },
  {
   "cell_type": "code",
   "execution_count": 321,
   "metadata": {},
   "outputs": [
    {
     "name": "stdout",
     "output_type": "stream",
     "text": [
      "AUC :  0.3590385628238475\n",
      "Average Precision score:  0.006119098167439814\n"
     ]
    }
   ],
   "source": [
    "predictions = autoencoder_dense.predict(X_)\n",
    "flat_output = np.reshape(predictions, (np.shape(X_)[0], -1))\n",
    "flat_input = np.reshape(X_, (np.shape(X_)[0], -1))\n",
    "\n",
    "cosine_similarity = np.sum(flat_output * flat_input, -1) / (np.linalg.norm(flat_output, axis=-1) + 0.000001) / (np.linalg.norm(flat_input, axis=-1) + 0.000001)\n",
    "y = df['normal'].apply(lambda x: True if x == 0 else False)\n",
    "\n",
    "\n",
    "\n",
    "auc = roc_auc_score(y, -cosine_similarity)\n",
    "ap = average_precision_score(y, -cosine_similarity)\n",
    "\n",
    "print(\"AUC : \",auc)\n",
    "print('Average Precision score: ', ap)"
   ]
  },
  {
   "cell_type": "markdown",
   "metadata": {},
   "source": [
    "## Que se passes t-il si on change de classes ?"
   ]
  },
  {
   "cell_type": "code",
   "execution_count": 316,
   "metadata": {
    "scrolled": true
   },
   "outputs": [],
   "source": [
    "L  = df.groupby('DCO_ID').count().sort_values(by = 'DESCRIPTION_INCIDENT',ascending=False).iloc[5:15].index"
   ]
  },
  {
   "cell_type": "code",
   "execution_count": 318,
   "metadata": {},
   "outputs": [
    {
     "data": {
      "text/html": [
       "<div>\n",
       "<style scoped>\n",
       "    .dataframe tbody tr th:only-of-type {\n",
       "        vertical-align: middle;\n",
       "    }\n",
       "\n",
       "    .dataframe tbody tr th {\n",
       "        vertical-align: top;\n",
       "    }\n",
       "\n",
       "    .dataframe thead th {\n",
       "        text-align: right;\n",
       "    }\n",
       "</style>\n",
       "<table border=\"1\" class=\"dataframe\">\n",
       "  <thead>\n",
       "    <tr style=\"text-align: right;\">\n",
       "      <th></th>\n",
       "      <th>DESCRIPTION_INCIDENT</th>\n",
       "      <th>TYPE_VIGILANCE</th>\n",
       "      <th>LIBELLE_COMMERCIAL</th>\n",
       "      <th>DCO</th>\n",
       "      <th>REFERENCE_COMMERCIALE</th>\n",
       "      <th>ETAT_PATIENT</th>\n",
       "      <th>FABRICANT</th>\n",
       "      <th>CLASSIFICATION</th>\n",
       "      <th>normal</th>\n",
       "    </tr>\n",
       "    <tr>\n",
       "      <th>DCO_ID</th>\n",
       "      <th></th>\n",
       "      <th></th>\n",
       "      <th></th>\n",
       "      <th></th>\n",
       "      <th></th>\n",
       "      <th></th>\n",
       "      <th></th>\n",
       "      <th></th>\n",
       "      <th></th>\n",
       "    </tr>\n",
       "  </thead>\n",
       "  <tbody>\n",
       "    <tr>\n",
       "      <th>2577.0</th>\n",
       "      <td>18157</td>\n",
       "      <td>18157</td>\n",
       "      <td>18157</td>\n",
       "      <td>18157</td>\n",
       "      <td>18157</td>\n",
       "      <td>18157</td>\n",
       "      <td>18157</td>\n",
       "      <td>18157</td>\n",
       "      <td>18157</td>\n",
       "    </tr>\n",
       "    <tr>\n",
       "      <th>4001.0</th>\n",
       "      <td>2736</td>\n",
       "      <td>2736</td>\n",
       "      <td>2736</td>\n",
       "      <td>2736</td>\n",
       "      <td>2736</td>\n",
       "      <td>2736</td>\n",
       "      <td>2736</td>\n",
       "      <td>2736</td>\n",
       "      <td>2736</td>\n",
       "    </tr>\n",
       "    <tr>\n",
       "      <th>2975.0</th>\n",
       "      <td>2241</td>\n",
       "      <td>2241</td>\n",
       "      <td>2241</td>\n",
       "      <td>2241</td>\n",
       "      <td>2241</td>\n",
       "      <td>2241</td>\n",
       "      <td>2241</td>\n",
       "      <td>2241</td>\n",
       "      <td>2241</td>\n",
       "    </tr>\n",
       "    <tr>\n",
       "      <th>2542.0</th>\n",
       "      <td>2214</td>\n",
       "      <td>2214</td>\n",
       "      <td>2214</td>\n",
       "      <td>2214</td>\n",
       "      <td>2214</td>\n",
       "      <td>2214</td>\n",
       "      <td>2214</td>\n",
       "      <td>2214</td>\n",
       "      <td>2214</td>\n",
       "    </tr>\n",
       "    <tr>\n",
       "      <th>3011.0</th>\n",
       "      <td>1478</td>\n",
       "      <td>1478</td>\n",
       "      <td>1478</td>\n",
       "      <td>1478</td>\n",
       "      <td>1478</td>\n",
       "      <td>1478</td>\n",
       "      <td>1478</td>\n",
       "      <td>1478</td>\n",
       "      <td>1478</td>\n",
       "    </tr>\n",
       "    <tr>\n",
       "      <th>3016.0</th>\n",
       "      <td>1204</td>\n",
       "      <td>1204</td>\n",
       "      <td>1204</td>\n",
       "      <td>1204</td>\n",
       "      <td>1204</td>\n",
       "      <td>1204</td>\n",
       "      <td>1204</td>\n",
       "      <td>1204</td>\n",
       "      <td>1204</td>\n",
       "    </tr>\n",
       "    <tr>\n",
       "      <th>2965.0</th>\n",
       "      <td>1164</td>\n",
       "      <td>1164</td>\n",
       "      <td>1164</td>\n",
       "      <td>1164</td>\n",
       "      <td>1164</td>\n",
       "      <td>1164</td>\n",
       "      <td>1164</td>\n",
       "      <td>1164</td>\n",
       "      <td>1164</td>\n",
       "    </tr>\n",
       "    <tr>\n",
       "      <th>3262.0</th>\n",
       "      <td>1094</td>\n",
       "      <td>1094</td>\n",
       "      <td>1094</td>\n",
       "      <td>1094</td>\n",
       "      <td>1094</td>\n",
       "      <td>1094</td>\n",
       "      <td>1094</td>\n",
       "      <td>1094</td>\n",
       "      <td>1094</td>\n",
       "    </tr>\n",
       "    <tr>\n",
       "      <th>2696.0</th>\n",
       "      <td>1087</td>\n",
       "      <td>1087</td>\n",
       "      <td>1087</td>\n",
       "      <td>1087</td>\n",
       "      <td>1087</td>\n",
       "      <td>1087</td>\n",
       "      <td>1087</td>\n",
       "      <td>1087</td>\n",
       "      <td>1087</td>\n",
       "    </tr>\n",
       "    <tr>\n",
       "      <th>2984.0</th>\n",
       "      <td>1058</td>\n",
       "      <td>1058</td>\n",
       "      <td>1058</td>\n",
       "      <td>1058</td>\n",
       "      <td>1058</td>\n",
       "      <td>1058</td>\n",
       "      <td>1058</td>\n",
       "      <td>1058</td>\n",
       "      <td>1058</td>\n",
       "    </tr>\n",
       "  </tbody>\n",
       "</table>\n",
       "</div>"
      ],
      "text/plain": [
       "        DESCRIPTION_INCIDENT  TYPE_VIGILANCE  LIBELLE_COMMERCIAL    DCO  \\\n",
       "DCO_ID                                                                    \n",
       "2577.0                 18157           18157               18157  18157   \n",
       "4001.0                  2736            2736                2736   2736   \n",
       "2975.0                  2241            2241                2241   2241   \n",
       "2542.0                  2214            2214                2214   2214   \n",
       "3011.0                  1478            1478                1478   1478   \n",
       "3016.0                  1204            1204                1204   1204   \n",
       "2965.0                  1164            1164                1164   1164   \n",
       "3262.0                  1094            1094                1094   1094   \n",
       "2696.0                  1087            1087                1087   1087   \n",
       "2984.0                  1058            1058                1058   1058   \n",
       "\n",
       "        REFERENCE_COMMERCIALE  ETAT_PATIENT  FABRICANT  CLASSIFICATION  normal  \n",
       "DCO_ID                                                                          \n",
       "2577.0                  18157         18157      18157           18157   18157  \n",
       "4001.0                   2736          2736       2736            2736    2736  \n",
       "2975.0                   2241          2241       2241            2241    2241  \n",
       "2542.0                   2214          2214       2214            2214    2214  \n",
       "3011.0                   1478          1478       1478            1478    1478  \n",
       "3016.0                   1204          1204       1204            1204    1204  \n",
       "2965.0                   1164          1164       1164            1164    1164  \n",
       "3262.0                   1094          1094       1094            1094    1094  \n",
       "2696.0                   1087          1087       1087            1087    1087  \n",
       "2984.0                   1058          1058       1058            1058    1058  "
      ]
     },
     "execution_count": 318,
     "metadata": {},
     "output_type": "execute_result"
    }
   ],
   "source": [
    "df.groupby('DCO_ID').count().sort_values(by = 'DESCRIPTION_INCIDENT',ascending=False).iloc[:10]"
   ]
  },
  {
   "cell_type": "code",
   "execution_count": 317,
   "metadata": {},
   "outputs": [
    {
     "name": "stdout",
     "output_type": "stream",
     "text": [
      "Model: \"model_50\"\n",
      "_________________________________________________________________\n",
      "Layer (type)                 Output Shape              Param #   \n",
      "=================================================================\n",
      "input_71 (InputLayer)        (None, 1000)              0         \n",
      "_________________________________________________________________\n",
      "dense_141 (Dense)            (None, 50)                50050     \n",
      "_________________________________________________________________\n",
      "dense_142 (Dense)            (None, 25)                1275      \n",
      "_________________________________________________________________\n",
      "dense_143 (Dense)            (None, 50)                1300      \n",
      "_________________________________________________________________\n",
      "dense_144 (Dense)            (None, 1000)              51000     \n",
      "=================================================================\n",
      "Total params: 103,625\n",
      "Trainable params: 103,625\n",
      "Non-trainable params: 0\n",
      "_________________________________________________________________\n",
      "Train on 76954 samples, validate on 76954 samples\n",
      "Epoch 1/2\n",
      "76954/76954 [==============================] - 20s 257us/step - loss: 0.0013 - accuracy: 0.9731 - val_loss: 0.0011 - val_accuracy: 0.9792\n",
      "Epoch 2/2\n",
      "76954/76954 [==============================] - 19s 243us/step - loss: 0.0011 - accuracy: 0.9786 - val_loss: 0.0011 - val_accuracy: 0.9786\n",
      "AUC :  0.6887779787945572\n",
      "Average Precision score:  0.3102022066874842\n",
      "Model: \"model_51\"\n",
      "_________________________________________________________________\n",
      "Layer (type)                 Output Shape              Param #   \n",
      "=================================================================\n",
      "input_72 (InputLayer)        (None, 1000)              0         \n",
      "_________________________________________________________________\n",
      "dense_145 (Dense)            (None, 50)                50050     \n",
      "_________________________________________________________________\n",
      "dense_146 (Dense)            (None, 25)                1275      \n",
      "_________________________________________________________________\n",
      "dense_147 (Dense)            (None, 50)                1300      \n",
      "_________________________________________________________________\n",
      "dense_148 (Dense)            (None, 1000)              51000     \n",
      "=================================================================\n",
      "Total params: 103,625\n",
      "Trainable params: 103,625\n",
      "Non-trainable params: 0\n",
      "_________________________________________________________________\n",
      "Train on 76954 samples, validate on 76954 samples\n",
      "Epoch 1/2\n",
      "76954/76954 [==============================] - 20s 254us/step - loss: 0.0013 - accuracy: 0.9720 - val_loss: 0.0011 - val_accuracy: 0.9780\n",
      "Epoch 2/2\n",
      "76954/76954 [==============================] - 19s 242us/step - loss: 0.0011 - accuracy: 0.9787 - val_loss: 0.0011 - val_accuracy: 0.9795\n",
      "AUC :  0.6943474440362205\n",
      "Average Precision score:  0.2722678244275849\n",
      "Model: \"model_52\"\n",
      "_________________________________________________________________\n",
      "Layer (type)                 Output Shape              Param #   \n",
      "=================================================================\n",
      "input_73 (InputLayer)        (None, 1000)              0         \n",
      "_________________________________________________________________\n",
      "dense_149 (Dense)            (None, 50)                50050     \n",
      "_________________________________________________________________\n",
      "dense_150 (Dense)            (None, 25)                1275      \n",
      "_________________________________________________________________\n",
      "dense_151 (Dense)            (None, 50)                1300      \n",
      "_________________________________________________________________\n",
      "dense_152 (Dense)            (None, 1000)              51000     \n",
      "=================================================================\n",
      "Total params: 103,625\n",
      "Trainable params: 103,625\n",
      "Non-trainable params: 0\n",
      "_________________________________________________________________\n",
      "Train on 76954 samples, validate on 76954 samples\n",
      "Epoch 1/2\n",
      "76954/76954 [==============================] - 18s 240us/step - loss: 0.0014 - accuracy: 0.9748 - val_loss: 0.0012 - val_accuracy: 0.9799\n",
      "Epoch 2/2\n",
      "76954/76954 [==============================] - 25s 325us/step - loss: 0.0011 - accuracy: 0.9805 - val_loss: 0.0011 - val_accuracy: 0.9809\n",
      "AUC :  0.4765953447392507\n",
      "Average Precision score:  0.1629345254566523\n",
      "Model: \"model_53\"\n",
      "_________________________________________________________________\n",
      "Layer (type)                 Output Shape              Param #   \n",
      "=================================================================\n",
      "input_74 (InputLayer)        (None, 1000)              0         \n",
      "_________________________________________________________________\n",
      "dense_153 (Dense)            (None, 50)                50050     \n",
      "_________________________________________________________________\n",
      "dense_154 (Dense)            (None, 25)                1275      \n",
      "_________________________________________________________________\n",
      "dense_155 (Dense)            (None, 50)                1300      \n",
      "_________________________________________________________________\n",
      "dense_156 (Dense)            (None, 1000)              51000     \n",
      "=================================================================\n",
      "Total params: 103,625\n",
      "Trainable params: 103,625\n",
      "Non-trainable params: 0\n",
      "_________________________________________________________________\n",
      "Train on 76954 samples, validate on 76954 samples\n",
      "Epoch 1/2\n",
      "76954/76954 [==============================] - 45s 589us/step - loss: 0.0013 - accuracy: 0.9830 - val_loss: 0.0012 - val_accuracy: 0.9900\n",
      "Epoch 2/2\n",
      "76954/76954 [==============================] - 37s 481us/step - loss: 0.0011 - accuracy: 0.9907 - val_loss: 0.0011 - val_accuracy: 0.9909\n",
      "AUC :  0.5127207251726011\n",
      "Average Precision score:  0.151188305503838\n",
      "Model: \"model_54\"\n",
      "_________________________________________________________________\n",
      "Layer (type)                 Output Shape              Param #   \n",
      "=================================================================\n",
      "input_75 (InputLayer)        (None, 1000)              0         \n",
      "_________________________________________________________________\n",
      "dense_157 (Dense)            (None, 50)                50050     \n",
      "_________________________________________________________________\n",
      "dense_158 (Dense)            (None, 25)                1275      \n",
      "_________________________________________________________________\n",
      "dense_159 (Dense)            (None, 50)                1300      \n",
      "_________________________________________________________________\n",
      "dense_160 (Dense)            (None, 1000)              51000     \n",
      "=================================================================\n",
      "Total params: 103,625\n",
      "Trainable params: 103,625\n",
      "Non-trainable params: 0\n",
      "_________________________________________________________________\n",
      "Train on 76954 samples, validate on 76954 samples\n",
      "Epoch 1/2\n",
      "76954/76954 [==============================] - 47s 613us/step - loss: 0.0014 - accuracy: 0.9721 - val_loss: 0.0012 - val_accuracy: 0.9794\n",
      "Epoch 2/2\n",
      "76954/76954 [==============================] - 34s 446us/step - loss: 0.0011 - accuracy: 0.9794 - val_loss: 0.0011 - val_accuracy: 0.9796\n",
      "AUC :  0.7980454997316992\n",
      "Average Precision score:  0.4349661074915014\n",
      "Model: \"model_55\"\n",
      "_________________________________________________________________\n",
      "Layer (type)                 Output Shape              Param #   \n",
      "=================================================================\n",
      "input_76 (InputLayer)        (None, 1000)              0         \n",
      "_________________________________________________________________\n",
      "dense_161 (Dense)            (None, 50)                50050     \n",
      "_________________________________________________________________\n",
      "dense_162 (Dense)            (None, 25)                1275      \n",
      "_________________________________________________________________\n",
      "dense_163 (Dense)            (None, 50)                1300      \n",
      "_________________________________________________________________\n",
      "dense_164 (Dense)            (None, 1000)              51000     \n",
      "=================================================================\n",
      "Total params: 103,625\n",
      "Trainable params: 103,625\n",
      "Non-trainable params: 0\n",
      "_________________________________________________________________\n",
      "Train on 76954 samples, validate on 76954 samples\n",
      "Epoch 1/2\n",
      "76954/76954 [==============================] - 18s 228us/step - loss: 0.0013 - accuracy: 0.9854 - val_loss: 0.0012 - val_accuracy: 0.9895\n",
      "Epoch 2/2\n",
      "76954/76954 [==============================] - 17s 220us/step - loss: 0.0011 - accuracy: 0.9899 - val_loss: 0.0011 - val_accuracy: 0.9893\n",
      "AUC :  0.5548926338030996\n",
      "Average Precision score:  0.10392380285787656\n",
      "Model: \"model_56\"\n",
      "_________________________________________________________________\n",
      "Layer (type)                 Output Shape              Param #   \n",
      "=================================================================\n",
      "input_77 (InputLayer)        (None, 1000)              0         \n",
      "_________________________________________________________________\n",
      "dense_165 (Dense)            (None, 50)                50050     \n",
      "_________________________________________________________________\n",
      "dense_166 (Dense)            (None, 25)                1275      \n",
      "_________________________________________________________________\n",
      "dense_167 (Dense)            (None, 50)                1300      \n",
      "_________________________________________________________________\n",
      "dense_168 (Dense)            (None, 1000)              51000     \n",
      "=================================================================\n",
      "Total params: 103,625\n",
      "Trainable params: 103,625\n",
      "Non-trainable params: 0\n",
      "_________________________________________________________________\n",
      "Train on 76954 samples, validate on 76954 samples\n",
      "Epoch 1/2\n",
      "76954/76954 [==============================] - 17s 220us/step - loss: 0.0013 - accuracy: 0.9728 - val_loss: 0.0012 - val_accuracy: 0.9810\n",
      "Epoch 2/2\n",
      "76954/76954 [==============================] - 17s 217us/step - loss: 0.0011 - accuracy: 0.9811 - val_loss: 0.0011 - val_accuracy: 0.9812\n",
      "AUC :  0.7578367952691811\n",
      "Average Precision score:  0.2452943972532486\n",
      "Model: \"model_57\"\n",
      "_________________________________________________________________\n",
      "Layer (type)                 Output Shape              Param #   \n",
      "=================================================================\n",
      "input_78 (InputLayer)        (None, 1000)              0         \n",
      "_________________________________________________________________\n",
      "dense_169 (Dense)            (None, 50)                50050     \n",
      "_________________________________________________________________\n",
      "dense_170 (Dense)            (None, 25)                1275      \n",
      "_________________________________________________________________\n",
      "dense_171 (Dense)            (None, 50)                1300      \n",
      "_________________________________________________________________\n",
      "dense_172 (Dense)            (None, 1000)              51000     \n",
      "=================================================================\n",
      "Total params: 103,625\n",
      "Trainable params: 103,625\n",
      "Non-trainable params: 0\n",
      "_________________________________________________________________\n",
      "Train on 76954 samples, validate on 76954 samples\n",
      "Epoch 1/2\n",
      "76954/76954 [==============================] - 18s 231us/step - loss: 0.0013 - accuracy: 0.9749 - val_loss: 0.0011 - val_accuracy: 0.9815\n",
      "Epoch 2/2\n",
      "76954/76954 [==============================] - 18s 237us/step - loss: 0.0011 - accuracy: 0.9820 - val_loss: 0.0011 - val_accuracy: 0.9816\n",
      "AUC :  0.6119657999500006\n",
      "Average Precision score:  0.2034159171846039\n",
      "Model: \"model_58\"\n",
      "_________________________________________________________________\n",
      "Layer (type)                 Output Shape              Param #   \n",
      "=================================================================\n",
      "input_79 (InputLayer)        (None, 1000)              0         \n",
      "_________________________________________________________________\n",
      "dense_173 (Dense)            (None, 50)                50050     \n",
      "_________________________________________________________________\n",
      "dense_174 (Dense)            (None, 25)                1275      \n",
      "_________________________________________________________________\n",
      "dense_175 (Dense)            (None, 50)                1300      \n",
      "_________________________________________________________________\n",
      "dense_176 (Dense)            (None, 1000)              51000     \n",
      "=================================================================\n",
      "Total params: 103,625\n",
      "Trainable params: 103,625\n",
      "Non-trainable params: 0\n",
      "_________________________________________________________________\n",
      "Train on 76954 samples, validate on 76954 samples\n",
      "Epoch 1/2\n",
      "76954/76954 [==============================] - 18s 231us/step - loss: 0.0014 - accuracy: 0.9747 - val_loss: 0.0012 - val_accuracy: 0.9801\n",
      "Epoch 2/2\n",
      "76954/76954 [==============================] - 17s 222us/step - loss: 0.0011 - accuracy: 0.9800 - val_loss: 0.0011 - val_accuracy: 0.9804\n",
      "AUC :  0.7551364387788888\n",
      "Average Precision score:  0.2631861794468463\n",
      "Model: \"model_59\"\n",
      "_________________________________________________________________\n",
      "Layer (type)                 Output Shape              Param #   \n",
      "=================================================================\n",
      "input_80 (InputLayer)        (None, 1000)              0         \n",
      "_________________________________________________________________\n",
      "dense_177 (Dense)            (None, 50)                50050     \n",
      "_________________________________________________________________\n",
      "dense_178 (Dense)            (None, 25)                1275      \n",
      "_________________________________________________________________\n",
      "dense_179 (Dense)            (None, 50)                1300      \n",
      "_________________________________________________________________\n",
      "dense_180 (Dense)            (None, 1000)              51000     \n",
      "=================================================================\n",
      "Total params: 103,625\n",
      "Trainable params: 103,625\n",
      "Non-trainable params: 0\n",
      "_________________________________________________________________\n",
      "Train on 76954 samples, validate on 76954 samples\n",
      "Epoch 1/2\n",
      "76954/76954 [==============================] - 17s 222us/step - loss: 0.0013 - accuracy: 0.9744 - val_loss: 0.0012 - val_accuracy: 0.9791\n",
      "Epoch 2/2\n",
      "76954/76954 [==============================] - 17s 219us/step - loss: 0.0011 - accuracy: 0.9794 - val_loss: 0.0011 - val_accuracy: 0.9801\n",
      "AUC :  0.7006773218717626\n",
      "Average Precision score:  0.12647669751139884\n"
     ]
    }
   ],
   "source": [
    "AUC = []\n",
    "AP=[]\n",
    "for l in L : \n",
    "    df['normal'] = df['DCO_ID'].apply(lambda x: 0 if x==l else 1)\n",
    "    X = df[['DESCRIPTION_INCIDENT','ETAT_PATIENT','FABRICANT', 'normal']]\n",
    "    \n",
    "    X_ = preprocess.fit_transform(X)\n",
    "    \n",
    "    svd = TruncatedSVD(n_components=1000)\n",
    "    X_= svd.fit_transform(X_)\n",
    "    input_dim = X_.shape[1] # the # features\n",
    "    n =  X_.shape[0]\n",
    "    \n",
    "    encoding_dim = 50 # first layer\n",
    "    hidden_dim = int(encoding_dim / 2) #hideen layer\n",
    "    \n",
    "    nb_epoch = 2\n",
    "    batch_size = 32\n",
    "    \n",
    "    \n",
    "    input_layer = Input(shape=(input_dim,))\n",
    "    encoder = Dense(encoding_dim, activation=\"tanh\")(input_layer)\n",
    "    encoder = Dense(hidden_dim, activation=\"relu\")(encoder)\n",
    "    \n",
    "    decoder = Dense(encoding_dim, activation='relu')(encoder)\n",
    "    decoder = Dense(input_dim, activation='tanh')(decoder)\n",
    "    autoencoder_dense = Model(inputs=input_layer, outputs=decoder)\n",
    "    \n",
    "    autoencoder_dense.summary()\n",
    "    \n",
    "    autoencoder_dense.compile(optimizer='adam', \n",
    "                        loss='mean_squared_error', \n",
    "                        metrics=['accuracy'])\n",
    "    \n",
    "    history = autoencoder_dense.fit(X_, X_,\n",
    "                    epochs=nb_epoch,\n",
    "                    batch_size=batch_size,\n",
    "                    shuffle=True,\n",
    "                    validation_data=(X_, X_),\n",
    "                    verbose=1).history\n",
    "    predictions = autoencoder_dense.predict(X_)\n",
    "    flat_output = np.reshape(predictions, (np.shape(X_)[0], -1))\n",
    "    flat_input = np.reshape(X_, (np.shape(X_)[0], -1))\n",
    "    \n",
    "    cosine_similarity = np.sum(flat_output * flat_input, -1) / (np.linalg.norm(flat_output, axis=-1) + 0.000001) / (np.linalg.norm(flat_input, axis=-1) + 0.000001)\n",
    "    y = X['normal'].apply(lambda x: True if x == 0 else False)\n",
    "    \n",
    "    \n",
    "    \n",
    "    auc = roc_auc_score(y, -cosine_similarity)\n",
    "    ap = average_precision_score(y, -cosine_similarity)\n",
    "    AUC.append(auc)\n",
    "    AP.append(ap)\n",
    "    print(\"AUC : \",auc)\n",
    "    print('Average Precision score: ', ap)"
   ]
  },
  {
   "cell_type": "code",
   "execution_count": null,
   "metadata": {},
   "outputs": [],
   "source": [
    "## Commentaire"
   ]
  },
  {
   "cell_type": "code",
   "execution_count": 308,
   "metadata": {},
   "outputs": [
    {
     "name": "stdout",
     "output_type": "stream",
     "text": [
      "Model: \"model_49\"\n",
      "_________________________________________________________________\n",
      "Layer (type)                 Output Shape              Param #   \n",
      "=================================================================\n",
      "input_70 (InputLayer)        (None, 1000)              0         \n",
      "_________________________________________________________________\n",
      "dense_137 (Dense)            (None, 50)                50050     \n",
      "_________________________________________________________________\n",
      "dense_138 (Dense)            (None, 25)                1275      \n",
      "_________________________________________________________________\n",
      "dense_139 (Dense)            (None, 50)                1300      \n",
      "_________________________________________________________________\n",
      "dense_140 (Dense)            (None, 1000)              51000     \n",
      "=================================================================\n",
      "Total params: 103,625\n",
      "Trainable params: 103,625\n",
      "Non-trainable params: 0\n",
      "_________________________________________________________________\n",
      "Train on 76954 samples, validate on 76954 samples\n",
      "Epoch 1/2\n",
      "76954/76954 [==============================] - 18s 238us/step - loss: 0.0013 - accuracy: 0.9658 - val_loss: 0.0011 - val_accuracy: 0.9747\n",
      "Epoch 2/2\n",
      "76954/76954 [==============================] - 19s 247us/step - loss: 0.0011 - accuracy: 0.9752 - val_loss: 0.0011 - val_accuracy: 0.9770\n"
     ]
    }
   ],
   "source": [
    "input_dim = X_.shape[1] # the # features\n",
    "n =  X_.shape[0]\n",
    "\n",
    "encoding_dim = 50 # first layer\n",
    "hidden_dim = int(encoding_dim / 2) #hideen layer\n",
    "\n",
    "nb_epoch = 2\n",
    "batch_size = 32\n",
    "\n",
    "\n",
    "input_layer = Input(shape=(input_dim,))\n",
    "encoder = Dense(encoding_dim, activation=\"tanh\")(input_layer)\n",
    "encoder = Dense(hidden_dim, activation=\"relu\")(encoder)\n",
    "\n",
    "decoder = Dense(encoding_dim, activation='relu')(encoder)\n",
    "decoder = Dense(input_dim, activation='tanh')(decoder)\n",
    "autoencoder_dense = Model(inputs=input_layer, outputs=decoder)\n",
    "\n",
    "autoencoder_dense.summary()\n",
    "\n",
    "autoencoder_dense.compile(optimizer='adam', \n",
    "                    loss='mean_squared_error', \n",
    "                    metrics=['accuracy'])\n",
    "\n",
    "history = autoencoder_dense.fit(X_, X_,\n",
    "                    epochs=nb_epoch,\n",
    "                    batch_size=batch_size,\n",
    "                    shuffle=True,\n",
    "                    validation_data=(X_, X_),\n",
    "                    verbose=1).history"
   ]
  },
  {
   "cell_type": "code",
   "execution_count": 309,
   "metadata": {},
   "outputs": [
    {
     "name": "stdout",
     "output_type": "stream",
     "text": [
      "AUC :  0.678620366000437\n",
      "Average Precision score:  0.29165587249958036\n"
     ]
    }
   ],
   "source": [
    "predictions = autoencoder_dense.predict(X_)\n",
    "flat_output = np.reshape(predictions, (np.shape(X_)[0], -1))\n",
    "flat_input = np.reshape(X_, (np.shape(X_)[0], -1))\n",
    "\n",
    "cosine_similarity = np.sum(flat_output * flat_input, -1) / (np.linalg.norm(flat_output, axis=-1) + 0.000001) / (np.linalg.norm(flat_input, axis=-1) + 0.000001)\n",
    "y = X['normal'].apply(lambda x: True if x == 0 else False)\n",
    "\n",
    "\n",
    "\n",
    "auc = roc_auc_score(y, -cosine_similarity)\n",
    "ap = average_precision_score(y, -cosine_similarity)\n",
    "\n",
    "print(\"AUC : \",auc)\n",
    "print('Average Precision score: ', ap)"
   ]
  },
  {
   "cell_type": "code",
   "execution_count": null,
   "metadata": {},
   "outputs": [],
   "source": []
  }
 ],
 "metadata": {
  "kernelspec": {
   "display_name": "DGS-env",
   "language": "python",
   "name": "dgs-env"
  },
  "language_info": {
   "codemirror_mode": {
    "name": "ipython",
    "version": 3
   },
   "file_extension": ".py",
   "mimetype": "text/x-python",
   "name": "python",
   "nbconvert_exporter": "python",
   "pygments_lexer": "ipython3",
   "version": "3.7.4"
  }
 },
 "nbformat": 4,
 "nbformat_minor": 4
}
