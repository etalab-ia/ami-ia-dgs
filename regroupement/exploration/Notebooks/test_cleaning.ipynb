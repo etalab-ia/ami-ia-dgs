{
 "metadata": {
  "language_info": {
   "codemirror_mode": {
    "name": "ipython",
    "version": 3
   },
   "file_extension": ".py",
   "mimetype": "text/x-python",
   "name": "python",
   "nbconvert_exporter": "python",
   "pygments_lexer": "ipython3",
   "version": "3.8.5-final"
  },
  "orig_nbformat": 2,
  "kernelspec": {
   "name": "python38564bite3f1c6cc659f48b99c290ac64d9f76dc",
   "display_name": "Python 3.8.5 64-bit"
  }
 },
 "nbformat": 4,
 "nbformat_minor": 2,
 "cells": [
  {
   "cell_type": "code",
   "execution_count": 2,
   "metadata": {},
   "outputs": [],
   "source": [
    "import pandas as pd"
   ]
  },
  {
   "cell_type": "code",
   "execution_count": 3,
   "metadata": {},
   "outputs": [],
   "source": [
    "df  = pd.read_csv('/home/robin/Documents/DGS/data/referentiel_dispositif.csv',sep=';',encoding='latin1')\n",
    "df_eff = pd.read_csv('/home/robin/Documents/DGS/data/referentiel_dispositif_effets_connus.csv',sep=';',encoding='latin1')"
   ]
  },
  {
   "cell_type": "code",
   "execution_count": 9,
   "metadata": {},
   "outputs": [],
   "source": [
    "vocab_dco = df['LIBELLE'].map(lambda x : x.lower().split(':')).tolist()\n",
    "vocab_effet = df_eff['TYPE_EFFET'].map(lambda x : x.lower().split(':')).tolist()\n",
    "vocab = vocab_dco+vocab_effet"
   ]
  },
  {
   "cell_type": "code",
   "execution_count": 10,
   "metadata": {},
   "outputs": [],
   "source": [
    "from pandas.core.common import flatten\n",
    "import numpy as np\n",
    "vocab = list(set(list(flatten(vocab))))"
   ]
  },
  {
   "cell_type": "code",
   "execution_count": 19,
   "metadata": {},
   "outputs": [],
   "source": [
    "import re\n",
    "from spacy.lang.fr.stop_words import STOP_WORDS\n",
    "from gensim.utils import deaccent\n",
    "import sys\n",
    "sys.path.insert(0,'/home/robin/Documents/DGS/signalement-ia/regroupement/data_preparation')\n",
    "import clean_text\n",
    "COMPLETE_STOP_WORDS = set(STOP_WORDS).union(set(clean_text.STOP_WORDS))\n",
    "COMPLETE_STOP_WORDS = set([deaccent(k.lower()) for k in COMPLETE_STOP_WORDS])\n",
    "\n",
    "voc = [re.split('[^A-Za-z]+', str(lem)) for lem in vocab]\n",
    "# flatten the list\n",
    "voc= list(flatten(voc))\n",
    "# remove all specific caractere\n",
    "voc = [re.sub('[^A-Za-z]+', '', str(lem)) for lem in voc]\n",
    "#remove all token with less than 2 letters\n",
    "voc = [lem for lem in voc if len(lem)>2]\n",
    "\n",
    "voc= list(set([token for token in voc if deaccent(token) not in COMPLETE_STOP_WORDS]))"
   ]
  },
  {
   "cell_type": "code",
   "execution_count": 1,
   "metadata": {},
   "outputs": [
    {
     "output_type": "error",
     "ename": "NameError",
     "evalue": "name 'pd' is not defined",
     "traceback": [
      "\u001b[0;31m---------------------------------------------------------------------------\u001b[0m",
      "\u001b[0;31mNameError\u001b[0m                                 Traceback (most recent call last)",
      "\u001b[0;32m<ipython-input-1-6fc6a6955588>\u001b[0m in \u001b[0;36m<module>\u001b[0;34m\u001b[0m\n\u001b[0;32m----> 1\u001b[0;31m \u001b[0mcleaned_data\u001b[0m \u001b[0;34m=\u001b[0m \u001b[0mpd\u001b[0m\u001b[0;34m.\u001b[0m\u001b[0mread_pickle\u001b[0m\u001b[0;34m(\u001b[0m\u001b[0;34m'/home/robin/Documents/DGS/Annexe/L3/cleaned_data_5.pkl'\u001b[0m\u001b[0;34m)\u001b[0m\u001b[0;34m\u001b[0m\u001b[0;34m\u001b[0m\u001b[0m\n\u001b[0m",
      "\u001b[0;31mNameError\u001b[0m: name 'pd' is not defined"
     ]
    }
   ],
   "source": [
    "cleaned_data = pd.read_pickle('/home/robin/Documents/DGS/Annexe/L3/cleaned_data_5.pkl')\n"
   ]
  },
  {
   "cell_type": "code",
   "execution_count": 8,
   "metadata": {},
   "outputs": [
    {
     "output_type": "execute_result",
     "data": {
      "text/plain": [
       "0     [guide, coincer, interieur, sonde, bouger, cha...\n",
       "1                                  [apparition, bouton]\n",
       "2     [sphincterotome, sortie, emballage, presente, ...\n",
       "3     [mandrin, bloquer, sonde, impossibilite, bouge...\n",
       "4     [mandrin, bloquer, sonde, impossibilite, bouge...\n",
       "                            ...                        \n",
       "95    [pose, implant, rencontrer, probleme, sante, d...\n",
       "96    [defaut, tirette, ch, l18, utiliser, maintenir...\n",
       "97    [traitement, sang, fin, cec, lavage, dispositi...\n",
       "98    [agrafage, poignee, rester, coincer, ferme, fa...\n",
       "99    [agrafage, poignee, rester, coincer, ferme, fa...\n",
       "Name: text_lem, Length: 100, dtype: object"
      ]
     },
     "metadata": {},
     "execution_count": 8
    }
   ],
   "source": [
    "df['text_lem'][:100].replace('-tc','')"
   ]
  },
  {
   "cell_type": "code",
   "execution_count": null,
   "metadata": {},
   "outputs": [],
   "source": []
  },
  {
   "cell_type": "code",
   "execution_count": 22,
   "metadata": {},
   "outputs": [],
   "source": [
    "import re\n",
    "import string\n",
    "def post_process_spacy_doc(doc):\n",
    "    if len(doc) >= 1:\n",
    "        # remove words too short\n",
    "        tokens = [token for token in doc if len(token.lower()) > 1]\n",
    "        # remove punctuation\n",
    "        tokens = [token for token in tokens if not all(c in set(string.punctuation) for c in token.lower())]\n",
    "        \n",
    "        # split on special caractère\n",
    "        tokens = [re.split('[^A-Za-z]+', token) for token in tokens])\n",
    "        # get lemmas and deaccentuate\n",
    "        tokens = [ re.sub('[^A-Za-z]+', '', token) for token in tokens]\n",
    "        re.split(r\"[^a-zA-Z0-9\\s]\"\n",
    "        \n",
    "        return tokens\n",
    "    else:\n",
    "        return []\n",
    "\n"
   ]
  },
  {
   "cell_type": "code",
   "execution_count": 10,
   "metadata": {},
   "outputs": [
    {
     "output_type": "stream",
     "name": "stdout",
     "text": [
      "a\n"
     ]
    }
   ],
   "source": [
    "import re\n",
    "token = '-201a5'\n",
    "token = ''.join(re.split('[^A-Za-z]+',token))\n",
    "\n",
    "print(re.sub('[^A-Za-z]+', '', token))\n"
   ]
  },
  {
   "cell_type": "code",
   "execution_count": 23,
   "metadata": {},
   "outputs": [],
   "source": [
    "test = df['text_lem'][:100].map(lambda x : post_process_spacy_doc(x))"
   ]
  },
  {
   "cell_type": "code",
   "execution_count": 24,
   "metadata": {},
   "outputs": [
    {
     "output_type": "execute_result",
     "data": {
      "text/plain": [
       "entral', 'sectionner', 'nettement', 'boitier', 'mise', 'place', 'clamp', 'voie', 'refection', 'pansement', 'presence', 'medecin', 'service', 'vvc', 'retirer', 'bloc', 'temps', 'pose', 'broviac', 'risque', 'hypoglycemie', 'enfant', 'difficile', 'piquer', 'vvc', 'poser', 'tentative', 'infirmier', 'anesthesist', 'antibioprophylaxie', 'vancomycine', 'risque', 'hypoglycemie', 'enfant', 'difficile', 'piquer', 'vvc', 'poser', 'tentative', 'infirmier', 'anesthesist', 'antibioprophylaxie', 'vancomycine']),\n",
       "       list(['fuite', 'niveau', 'prise', 'air', 'complementaire', 'poche', 'urine']),\n",
       "       list(['fuite', 'niveau', 'prise', 'air', 'complementaire', 'poche', 'urine']),\n",
       "       list(['mme', 'opere', 'decompression', 'osseux', 'oeil', 'gauche', 'intervention', 'chirurgien', 'utiliser', 'pince', 'bipolaire', 'intervention', 'constater', 'paupier', 'bruler', 'regarder', 'pince', 'constater', 'degainer', 'brule', 'paupier', 'conjonctivite']),\n",
       "       list(['pince', 'fonctionn', 'essai', 'branchement', 'repeter', 'succes', 'retard', 'lintervention', 'retard', 'lintervention']),\n",
       "       list(['ventilation', 'patient', 'constat', 'reinhalation', 'chiffrer', 'normal', 'constat', 'eleve', 'impossible', 'corriger', 'valeur', 'agir', 'parametre', 'ventilation', 'alarme', 'sonore', 'visuel', 'pre', 'reglage', 'alarme', 'active', 'prise', 'charge', 'patient', 'consequence', 'iade', 'constater', 'reinhalation', 'immediatement', 'changer', 'reservoir', 'chaux', 'sode', 'action', 'immediatement', 'efficace', 'iade', 'constater', 'reinhalation', 'immediatement', 'changer', 'reservoir', 'chaux', 'sode', 'action', 'immediatement', 'efficace']),\n",
       "       list(['fuite', 'niveau', 'robinet', 'relier', 'voie', 'central', 'premature', 'risque', 'embolie', 'gazeux', 'sanguin', 'risque', 'occlusion', 'catheter', 'central', 'sanguin', 'risque', 'occlusion', 'catheter', 'central']),\n",
       "       list(['fuite', 'niveau', 'robinet', 'relier', 'voie', 'central', 'premature', 'risque', 'embolie', 'gazeux', 'sanguin', 'risque', 'occlusion', 'catheter', 'central', 'sanguin', 'risque', 'occlusion', 'catheter', 'central']),\n",
       "       list(['fuite', 'niveau', 'robinet', 'relier', 'voie', 'central', 'premature', 'risque', 'embolie', 'gazeux', 'sanguin', 'risque', 'occlusion', 'catheter', 'central', 'sanguin', 'risque', 'occlusion', 'catheter', 'central']),\n",
       "       list(['fuite', 'niveau', 'robinet', 'relier', 'voie', 'central', 'noradrenaline', 'risque', 'embolie', 'gazeux', 'veineux', 'second', 'lot', 'reprise', 'sanguin', 'risque', 'occlusion', 'catheter', 'central', 'sanguin', 'risque', 'occlusion', 'catheter', 'central']),\n",
       "       list(['fuite', 'niveau', 'robinet', 'relier', 'voie', 'central', 'noradrenaline', 'risque', 'embolie', 'gazeux', 'veineux', 'second', 'lot', 'reprise', 'sanguin', 'risque', 'occlusion', 'catheter', 'central', 'sanguin', 'risque', 'occlusion', 'catheter', 'central']),\n",
       "       list(['fuite', 'niveau', 'robinet', 'relier', 'voie', 'central', 'noradrenaline', 'risque', 'embolie', 'gazeux', 'veineux', 'second', 'lot', 'reprise', 'sanguin', 'risque', 'occlusion', 'catheter', 'central', 'sanguin', 'risque', 'occlusion', 'catheter', 'central']),\n",
       "       list(['patient', 'bea', 'sexe', 'feminin', 'agee', 'respirateur', 'mettre', 'place', 'prise', 'poste', 'infirmier', 'verifier', 'respirateur', 'entenu', 'bruit', 'fuite', 'tuyau', 'deconnecter', 'verifier', 'tuyau', 'aller', 'enfant', 'remarquer', 'trou', 'tuyau', 'enfant', 'stable', 'veille', 'pco', 'augmentation', 'nuit', 'debut', 'journee', 'besoin', 'important', 'absence', 'baisse', 'immediat', 'pco', 'changement', 'tuyau', 'changement', 'respirateur', 'constante', 'respiratoire', 'ameliorer', 'enfant', 'stable', 'veille', 'pco', 'augmentation', 'nuit', 'debut', 'journee', 'besoin', 'important', 'absence', 'baisse', 'immediat', 'pco', 'changement', 'tuyau', 'changement', 'respirateur', 'constante', 'respiratoire', 'ameliorer']),\n",
       "       list(['tube', 'remplir', 'traire', 'tubulure', 'aiguille', 'purger', 'laboratoire', 'refuser', 'analyser', 'prelevement', 'tube', 'suffisamment', 'remplir', 'constat', 'effectuer', 'reprise', 'ide', 'lot', 'prelevement', 'refuser', 'laboratoire', 'controle', 'inr', 'patient', 'assurer', 'prelevement', 'refuser', 'laboratoire', 'controle', 'inr', 'patient', 'assurer']),\n",
       "       list(['sonde', 'flocare', 'hopital', 'embout', 'fit', 'violet', 'sonde', 'sauvent', 'bout', 'probleme', 'connexion', 'patient', 'bouchon', 'fermer', 'sonde', 'passage', 'alimentation', 'problematique', 'obliger', 'fermer', 'sonde', 'embout', 'fuite', 'suc', 'gastrique', 'bout', 'sonde', 'mouille', 'patient', 'vetement', 'fuite', 'suc', 'gastrique', 'bout', 'sonde', 'mouille', 'patient', 'vetement']),\n",
       "       list(['sonde', 'flocare', 'hopital', 'embout', 'fit', 'violet', 'sonde', 'sauvent', 'bout', 'probleme', 'connexion', 'patient', 'bouchon', 'fermer', 'sonde', 'passage', 'alimentation', 'problematique', 'obliger', 'fermer', 'sonde', 'embout', 'fuite', 'suc', 'gastrique', 'bout', 'sonde', 'mouille', 'patient', 'vetement', 'fuite', 'suc', 'gastrique', 'bout', 'sonde', 'mouille', 'patient', 'vetement']),\n",
       "       list(['sonde', 'flocare', 'hopital', 'embout', 'fit', 'violet', 'sonde', 'sauvent', 'bout', 'probleme', 'connexion', 'patient', 'bouchon', 'fermer', 'sonde', 'passage', 'alimentation', 'problematique', 'obliger', 'fermer', 'sonde', 'embout', 'fuite', 'suc', 'gastrique', 'bout', 'sonde', 'mouille', 'patient', 'vetement', 'fuite', 'suc', 'gastrique', 'bout', 'sonde', 'mouille', 'patient', 'vetement']),\n",
       "       list(['sonde', 'flocare', 'hopital', 'embout', 'fit', 'violet', 'sonde', 'sauvent', 'bout', 'probleme', 'connexion', 'patient', 'bouchon', 'fermer', 'sonde', 'passage', 'alimentation', 'problematique', 'obliger', 'fermer', 'sonde', 'embout', 'fuite', 'suc', 'gastrique', 'bout', 'sonde', 'mouille', 'patient', 'vetement', 'fuite', 'suc', 'gastrique', 'bout', 'sonde', 'mouille', 'patient', 'vetement']),\n",
       "       list(['sonde', 'flocare', 'hopital', 'embout', 'fit', 'violet', 'sonde', 'sauvent', 'bout', 'probleme', 'connexion', 'patient', 'bouchon', 'fermer', 'sonde', 'passage', 'alimentation', 'problematique', 'obliger', 'fermer', 'sonde', 'embout', 'fuite', 'suc', 'gastrique', 'bout', 'sonde', 'mouille', 'patient', 'vetement', 'fuite', 'suc', 'gastrique', 'bout', 'sonde', 'mouille', 'patient', 'vetement']),\n",
       "       list(['patient', 'boi', 'sexe', 'masculin', 'kilogramme', 'pose', 'catheter', 'arteriel', 'introduction', 'guide', 'delite', 'impossibilite', 'monter', 'guide', 'impossibilite', 'monter', 'guide']),\n",
       "       list(['patient', 'boi', 'sexe', 'masculin', 'kilogramme', 'pose', 'catheter', 'arteriel', 'introduction', 'guide', 'delite', 'impossibilite', 'monter', 'guide', 'impossibilite', 'monter', 'guide']),\n",
       "       list(['pince', 'gripper', 'provoquer', 'hemorragie', 'biopsie', 'hemorragie', 'colique', 'hemorragie', 'colique']),\n",
       "       list(['implantation', 'lame', 'attache', 'tournevis', 'derouler', 'normalement', 'liberation', 'porte', 'distal', 'verrouillage', 'lame', 'normalement', 'desolidariser', 'tournevis', 'partie', 'distal', 'rester', 'libre', 'verrouiller', 'operation', 'realiser', 'medecin', 'habituer', 'technique', 'pose', 'lame', 'retirer', 'remplacer', 'augmentation', 'duree', 'intervention', 'lame', 'retirer', 'remplacer', 'augmentation', 'duree', 'intervention']),\n",
       "       list(['embolisation', 'fistule', 'dural', 'deployer', 'largue', 'tentative', 'echec', 'procedure', 'dose', 'elevee', 'rayon', 'dou', 'surveillanc', 'etat', 'cutane', 'regard', 'zone', 'irradie', 'traitement', 'realise', 'echec', 'procedure', 'dose', 'elever', 'rayon', 'dou', 'surveillanc', 'letat', 'cutane', 'regard', 'zone', 'irradier', 'traitement', 'realiser']),\n",
       "       list(['melange', 'poche', 'millimetre', 'millimetre', 'boite', 'poche', 'millimetre']),\n",
       "       list(['tentativ', 'rachi', 'anesthesi', 'aiguille', 'ponction', 'briser', 'apophyse', 'epineux', 'patient', 'consequence', 'information', 'patient', 'confiance', 'envoi', 'patient', 'scanner', 'etablissement', 'contact', 'neurochirurgien', 'neurologue', 'clinique', 'parc', 'rendezvous', 'prendre', 'faire', 'extraire', 'morceau', 'aiguille', 'scanner', 'information', 'patient', 'confiance', 'envoi', 'patient', 'scanner', 'etablissement', 'contact', 'neurochirurgien', 'neurologue', 'clinique', 'parc', 'rendezvous', 'prendre', 'faire', 'extraire', 'morceau', 'aiguille', 'scanner']),\n",
       "       list(['suite', 'appel', 'decembre', 'service', 'unite', 'soin', 'intensif', 'cardiaque', 'service', 'biomedical', 'intervient', 'centrale', 'surveillance', 'probleme', 'affectation', 'lieu', 'bon', 'patient', 'manipulation', 'constater', 'affectation', 'chambre', 'modifier', 'facilement', 'personnel', 'utilisateur', 'autant', 'patient', 'boug', 'chambre', 'modification', 'induire', 'risque', 'prise', 'charge', 'majeur', 'cas', 'urgence', 'patient', 'mesure', 'reaction', 'utilisateur', 'cibler', 'lieu', 'incident', 'constater', 'incident', 'constater']),\n",
       "       list(['ere', 'utilisation', 'agrafe', 'sortie', 'temps', 'accrocher', 'plaque']),\n",
       "       list(['ere', 'utilisation', 'agrafe', 'sortie', 'temps', 'accrocher', 'plaque']),\n",
       "       list(['patient', 'intuber', 'ventiler', 'convulsion', 'sevrage', 'etat', 'mal', 'intuber', 'patient', 'box', 'check', 'salle', 'faire', 'infirmier', 'reanimation', 'renfort', 'respirateur', 'operationnel', 'bout', 'ventilation', 'respirateur', 'ventiler', 'patient', 'mettre', 'defaut', 'spontanemer', 'emission', 'alarme', 'sonore', 'medecin', 'ventiler', 'patient', 'manuellement', 'temps', 'prendre', 'appareil', 'salle', 'consequence', 'pouvoir', 'mettre', 'danger', 'immediat', 'deces', 'patient', 'curariser', 'pouvoir', 'mettre', 'danger', 'immediat', 'deces', 'patient', 'curariser']),\n",
       "       list(['manoeuvre', 'reduction', 'pose', 'prothese', 'epaule', 'bris', 'petit', 'fragment', 'polyethylene', 'reducteur', 'fragment', 'glisser', 'face', 'interne', 'humerus', 'accessible', 'voie', 'supero', 'externe', 'place', 'fragment', 'glisser', 'face', 'interne', 'humerus', 'accessible', 'voie', 'supero', 'externe', 'place']),\n",
       "       list(['ptg', 'octobre', 'novembre', 'descendre', 'escalier', 'sensation', 'blocage', 'suite', 'radio', 'mettre', 'evidence', 'vis', 'fixation', 'polyethylene', 'interieur', 'articulation', 'priori', 'devisser', 'blocage', 'genou', 'intermittence', 'blocage', 'genou', 'intermittence']),\n",
       "       list(['presence', 'flacon', 'vancomycine', 'mylan', 'lot', 'expos', 'bout', 'elastomere', 'suite', 'penetration', 'aiguille', 'elastomere', 'carottage', 'elastomer', 'detecter', 'double', 'controle', 'flacon', 'incider', 'neonat', 'elastomer', 'detecter', 'double', 'controle', 'flacon', 'incider', 'neonat']),\n",
       "       list(['presence', 'flacon', 'vancomycine', 'mylan', 'lot', 'expos', 'bout', 'elastomere', 'suite', 'penetration', 'aiguille', 'elastomere', 'carottage', 'elastomer', 'detecter', 'double', 'controle', 'flacon', 'incider', 'neonat', 'elastomer', 'detecter', 'double', 'controle', 'flacon', 'incider', 'neonat']),\n",
       "       list(['pratique', 'douche', 'patient', 'adulte', 'polyhandicape', 'poids', 'corps', 'creer', 'depression', 'milieu', 'chariot', 'empecher', 'evacuation', 'eau', 'savonneux', 'patient', 'agite', 'poids', 'kilogramme', 'glisser', 'milieu', 'chariot', 'proteger', 'barriere', 'souple', 'barriere', 'dure', 'present', 'milieu', 'chute', 'eviter', 'intervention', 'soignant', 'present', 'parage']),\n",
       "       list(['fuite', 'important', 'sang', 'realisation', 'prise', 'sang', 'unite', 'prelevement', 'presence', 'trou', 'niveau', 'tubulure', 'risque', 'important', 'aes']),\n",
       "       list(['fuite', 'important', 'sang', 'realisation', 'prise', 'sang', 'unite', 'prelevement', 'presence', 'trou', 'niveau', 'tubulure', 'risque', 'important', 'aes']),\n",
       "       list(['pose', 'implant', 'rencontrer', 'probleme', 'sante', 'douleur', 'intercostale', 'rein', 'droit', 'jambe', 'droite', 'aisne', 'douleur', 'oreille', 'cote', 'droit', 'visage', 'vertige', 'palpitation', 'cardiaque', 'douleur', 'articulaire', 'ventre', 'jambe', 'lombaire', 'irradier', 'laisne', 'cote', 'droit', 'douleur', 'renal', 'demangeaison', 'douleur', 'oreill', 'droite', 'fatigue', 'soucis', 'sante', 'debut', 'janv', 'examen', 'effectuer', 'detecter', 'vertige', 'douleur', 'oreill', 'droite', 'face', 'irm', 'cerebral', 'orl', 'mal', 'flanc', 'droit', 'rein', 'echo', 'renal', 'analyse', 'urine', 'echo', 'thyroide', 'radio', 'poumon', 'echo', 'scanner', 'abomino', 'pelvien', 'coloscopie', 'bilan', 'sanguin', 'varier', 'echo', 'pelvien', 'frottis', 'examen', 'ras', 'douleur', 'articulaire', 'ventre', 'jambe', 'lombaire', 'irradier', 'aisne', 'cote', 'droit', 'douleur', 'renal', 'demangeaison', 'douleur', 'oreill', 'droite', 'fatigue']),\n",
       "       list(['pose', 'implant', 'rencontrer', 'probleme', 'sante', 'douleur', 'intercostale', 'rein', 'droit', 'jambe', 'droite', 'aisne', 'douleur', 'oreille', 'cote', 'droit', 'visage', 'vertige', 'palpitation', 'cardiaque', 'douleur', 'articulaire', 'ventre', 'jambe', 'lombaire', 'irradier', 'laisne', 'cote', 'droit', 'douleur', 'renal', 'demangeaison', 'douleur', 'oreill', 'droite', 'fatigue', 'soucis', 'sante', 'debut', 'janv', 'examen', 'effectuer', 'detecter', 'vertige', 'douleur', 'oreill', 'droite', 'face', 'irm', 'cerebral', 'orl', 'mal', 'flanc', 'droit', 'rein', 'echo', 'renal', 'analyse', 'urine', 'echo', 'thyroide', 'radio', 'poumon', 'echo', 'scanner', 'abomino', 'pelvien', 'coloscopie', 'bilan', 'sanguin', 'varier', 'echo', 'pelvien', 'frottis', 'examen', 'ras', 'douleur', 'articulaire', 'ventre', 'jambe', 'lombaire', 'irradier', 'aisne', 'cote', 'droit', 'douleur', 'renal', 'demangeaison', 'douleur', 'oreill', 'droite', 'fatigue']),\n",
       "       list(['pose', 'implant', 'rencontrer', 'probleme', 'sante', 'douleur', 'intercostale', 'rein', 'droit', 'jambe', 'droite', 'aisne', 'douleur', 'oreille', 'cote', 'droit', 'visage', 'vertige', 'palpitation', 'cardiaque', 'douleur', 'articulaire', 'ventre', 'jambe', 'lombaire', 'irradier', 'laisne', 'cote', 'droit', 'douleur', 'renal', 'demangeaison', 'douleur', 'oreill', 'droite', 'fatigue', 'soucis', 'sante', 'debut', 'janv', 'examen', 'effectuer', 'detecter', 'vertige', 'douleur', 'oreill', 'droite', 'face', 'irm', 'cerebral', 'orl', 'mal', 'flanc', 'droit', 'rein', 'echo', 'renal', 'analyse', 'urine', 'echo', 'thyroide', 'radio', 'poumon', 'echo', 'scanner', 'abomino', 'pelvien', 'coloscopie', 'bilan', 'sanguin', 'varier', 'echo', 'pelvien', 'frottis', 'examen', 'ras', 'douleur', 'articulaire', 'ventre', 'jambe', 'lombaire', 'irradier', 'aisne', 'cote', 'droit', 'douleur', 'renal', 'demangeaison', 'douleur', 'oreill', 'droite', 'fatigue']),\n",
       "       list(['pose', 'implant', 'rencontrer', 'probleme', 'sante', 'douleur', 'intercostale', 'rein', 'droit', 'jambe', 'droite', 'aisne', 'douleur', 'oreille', 'cote', 'droit', 'visage', 'vertige', 'palpitation', 'cardiaque', 'douleur', 'articulaire', 'ventre', 'jambe', 'lombaire', 'irradier', 'laisne', 'cote', 'droit', 'douleur', 'renal', 'demangeaison', 'douleur', 'oreill', 'droite', 'fatigue', 'soucis', 'sante', 'debut', 'janv', 'examen', 'effectuer', 'detecter', 'vertige', 'douleur', 'oreill', 'droite', 'face', 'irm', 'cerebral', 'orl', 'mal', 'flanc', 'droit', 'rein', 'echo', 'renal', 'analyse', 'urine', 'echo', 'thyroide', 'radio', 'poumon', 'echo', 'scanner', 'abomino', 'pelvien', 'coloscopie', 'bilan', 'sanguin', 'varier', 'echo', 'pelvien', 'frottis', 'examen', 'ras', 'douleur', 'articulaire', 'ventre', 'jambe', 'lombaire', 'irradier', 'aisne', 'cote', 'droit', 'douleur', 'renal', 'demangeaison', 'douleur', 'oreill', 'droite', 'fatigue']),\n",
       "       list(['pose', 'implant', 'rencontrer', 'probleme', 'sante', 'douleur', 'intercostale', 'rein', 'droit', 'jambe', 'droite', 'aisne', 'douleur', 'oreille', 'cote', 'droit', 'visage', 'vertige', 'palpitation', 'cardiaque', 'douleur', 'articulaire', 'ventre', 'jambe', 'lombaire', 'irradier', 'laisne', 'cote', 'droit', 'douleur', 'renal', 'demangeaison', 'douleur', 'oreill', 'droite', 'fatigue', 'soucis', 'sante', 'debut', 'janv', 'examen', 'effectuer', 'detecter', 'vertige', 'douleur', 'oreill', 'droite', 'face', 'irm', 'cerebral', 'orl', 'mal', 'flanc', 'droit', 'rein', 'echo', 'renal', 'analyse', 'urine', 'echo', 'thyroide', 'radio', 'poumon', 'echo', 'scanner', 'abomino', 'pelvien', 'coloscopie', 'bilan', 'sanguin', 'varier', 'echo', 'pelvien', 'frottis', 'examen', 'ras', 'douleur', 'articulaire', 'ventre', 'jambe', 'lombaire', 'irradier', 'aisne', 'cote', 'droit', 'douleur', 'renal', 'demangeaison', 'douleur', 'oreill', 'droite', 'fatigue']),\n",
       "       list(['pose', 'implant', 'rencontrer', 'probleme', 'sante', 'douleur', 'intercostale', 'rein', 'droit', 'jambe', 'droite', 'aisne', 'douleur', 'oreille', 'cote', 'droit', 'visage', 'vertige', 'palpitation', 'cardiaque', 'douleur', 'articulaire', 'ventre', 'jambe', 'lombaire', 'irradier', 'laisne', 'cote', 'droit', 'douleur', 'renal', 'demangeaison', 'douleur', 'oreill', 'droite', 'fatigue', 'soucis', 'sante', 'debut', 'janv', 'examen', 'effectuer', 'detecter', 'vertige', 'douleur', 'oreill', 'droite', 'face', 'irm', 'cerebral', 'orl', 'mal', 'flanc', 'droit', 'rein', 'echo', 'renal', 'analyse', 'urine', 'echo', 'thyroide', 'radio', 'poumon', 'echo', 'scanner', 'abomino', 'pelvien', 'coloscopie', 'bilan', 'sanguin', 'varier', 'echo', 'pelvien', 'frottis', 'examen', 'ras', 'douleur', 'articulaire', 'ventre', 'jambe', 'lombaire', 'irradier', 'aisne', 'cote', 'droit', 'douleur', 'renal', 'demangeaison', 'douleur', 'oreill', 'droite', 'fatigue']),\n",
       "       list(['pose', 'implant', 'rencontrer', 'probleme', 'sante', 'douleur', 'intercostale', 'rein', 'droit', 'jambe', 'droite', 'aisne', 'douleur', 'oreille', 'cote', 'droit', 'visage', 'vertige', 'palpitation', 'cardiaque', 'douleur', 'articulaire', 'ventre', 'jambe', 'lombaire', 'irradier', 'laisne', 'cote', 'droit', 'douleur', 'renal', 'demangeaison', 'douleur', 'oreill', 'droite', 'fatigue', 'soucis', 'sante', 'debut', 'janv', 'examen', 'effectuer', 'detecter', 'vertige', 'douleur', 'oreill', 'droite', 'face', 'irm', 'cerebral', 'orl', 'mal', 'flanc', 'droit', 'rein', 'echo', 'renal', 'analyse', 'urine', 'echo', 'thyroide', 'radio', 'poumon', 'echo', 'scanner', 'abomino', 'pelvien', 'coloscopie', 'bilan', 'sanguin', 'varier', 'echo', 'pelvien', 'frottis', 'examen', 'ras', 'douleur', 'articulaire', 'ventre', 'jambe', 'lombaire', 'irradier', 'aisne', 'cote', 'droit', 'douleur', 'renal', 'demangeaison', 'douleur', 'oreill', 'droite', 'fatigue']),\n",
       "       list(['defaut', 'tirette', 'utiliser', 'maintenir', 'serrer', 'fils', 'bourse', 'aortique', 'mise', 'place', 'canule', 'aortique', 'chirurgie', 'cardiaque', 'circulation', 'extracorporell', 'utilisation', 'tirette', 'fendre', 'longitudinal', 'chirurgien', 'aussitot', 'changer', 'tirette', 'observation', 'loeil', 'defaut', 'tirette', 'zone', 'amincir', 'longitudinal', 'justifier', 'rupture', 'tirette', 'problem', 'survenir', 'fois', 'semaine', 'augmentation', 'temps', 'mise', 'place', 'circulation', 'extracorporell', 'augmentation', 'temps', 'mise', 'place', 'circulation', 'extracorporell']),\n",
       "       list(['traitement', 'sang', 'fin', 'cec', 'lavage', 'dispositif', 'lavage', 'bol', 'centrifugeuse', 'cell', 'saver', 'exploser', 'phase', 'lavage', 'sang', 'destiner', 'patient', 'perdre', 'incident', 'problematique', 'generer', 'stress', 'utilisateur', 'risque', 'exposition', 'sang', 'engendrer', 'photo', 'machine', 'post', 'incident', 'patient', 'recevoir', 'poche', 'sang', 'prevoir', 'poch', 'millilitre', 'transfusion', 'culot', 'globulaire', 'patient', 'recevoir', 'poche', 'sang', 'prevoir', 'poch', 'millilitre', 'transfusion', 'culot', 'globulaire']),\n",
       "       list(['agrafage', 'poignee', 'rester', 'coincer', 'ferme', 'falloir', 'faire', 'sortir', 'gaz', 'coelioscopie', 'debloquer', 'ras']),\n",
       "       list(['agrafage', 'poignee', 'rester', 'coincer', 'ferme', 'falloir', 'faire', 'sortir', 'gaz', 'coelioscopie', 'debloquer', 'ras'])],\n",
       "      dtype=object)"
      ]
     },
     "metadata": {},
     "execution_count": 24
    }
   ],
   "source": [
    "test.values"
   ]
  },
  {
   "cell_type": "code",
   "execution_count": null,
   "metadata": {},
   "outputs": [],
   "source": []
  }
 ]
}