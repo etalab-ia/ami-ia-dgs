{
 "cells": [
  {
   "cell_type": "markdown",
   "metadata": {},
   "source": [
    "# Inférence de la GRAVITE à partir des données de MRV \n",
    "## Optuna et SMV Ordinal\n",
    "La variable GRAVITE représente la gravité de l'évenement avec 5 echelons\n",
    "\n",
    "\n",
    "\n",
    "\n",
    "**Stratégie ML 1.1**\n",
    "\n",
    "\n",
    "\n",
    "## 0) Chargement des librairies"
   ]
  },
  {
   "cell_type": "code",
   "execution_count": 2,
   "metadata": {},
   "outputs": [],
   "source": [
    "import warnings\n",
    "warnings.filterwarnings('ignore')\n",
    "\n",
    "import numpy as np\n",
    "import pandas as pd\n",
    "\n",
    "\n",
    "\n",
    "import clean_text\n",
    "\n",
    "from sklearn.preprocessing import LabelEncoder\n",
    "from sklearn.model_selection import train_test_split\n",
    "from sklearn.model_selection import GroupShuffleSplit\n",
    "from sklearn.pipeline import Pipeline\n",
    "\n",
    "from sklearn.metrics import confusion_matrix, accuracy_score, balanced_accuracy_score,f1_score\n",
    "from sklearn.linear_model import SGDClassifier\n",
    "from sklearn.feature_extraction.text import TfidfVectorizer,HashingVectorizer\n",
    "from sklearn.compose import ColumnTransformer\n",
    "from sklearn.calibration import CalibratedClassifierCV\n",
    "import spacy\n",
    "nlp =spacy.load('fr')\n",
    "from spacy.lang.fr.stop_words import STOP_WORDS\n",
    "\n",
    "\n",
    "import joblib\n",
    "\n",
    "import optuna\n",
    "from optuna import Trial\n",
    "\n",
    "from sklearn.svm import LinearSVC, SVC\n",
    "from sklearn.model_selection import cross_val_score, cross_validate\n",
    "from sklearn.metrics import confusion_matrix, accuracy_score, balanced_accuracy_score,f1_score"
   ]
  },
  {
   "cell_type": "code",
   "execution_count": 3,
   "metadata": {},
   "outputs": [
    {
     "name": "stdout",
     "output_type": "stream",
     "text": [
      "CPU times: user 0 ns, sys: 0 ns, total: 0 ns\n",
      "Wall time: 6.91 µs\n"
     ]
    }
   ],
   "source": [
    "%time\n",
    "df_declaration_mrv = pd.read_csv(\"data/data_mrv/declaration_mrv_complet.csv\")#delimiter=';',encoding='ISO-8859-1')\n",
    "id_to_dco = pd.read_csv(\"data/ref_MRV/referentiel_dispositif.csv\",delimiter=';',encoding='ISO-8859-1')"
   ]
  },
  {
   "cell_type": "markdown",
   "metadata": {},
   "source": [
    "## 1) Constructions du jeux d'évaluation\n",
    "On met de coté environ 20% du dataset pour l'évaluation et on ne garde pour l'entrainement seulement les classes avec plus de 10 observations"
   ]
  },
  {
   "cell_type": "code",
   "execution_count": 4,
   "metadata": {
    "scrolled": true
   },
   "outputs": [
    {
     "name": "stdout",
     "output_type": "stream",
     "text": [
      "CPU times: user 36.8 s, sys: 400 ms, total: 37.2 s\n",
      "Wall time: 37.2 s\n"
     ]
    }
   ],
   "source": [
    "%%time\n",
    "df_declaration_mrv = pd.read_csv(\"data/data_mrv/declaration_mrv_complet.csv\")#delimiter=';',encoding='ISO-8859-1')\n",
    "id_to_dco = pd.read_csv(\"data/ref_MRV/referentiel_dispositif.csv\",delimiter=';',encoding='ISO-8859-1')\n",
    "\n",
    "#Supression des NaN\n",
    "\n",
    "#Charegement des colonnes utiles et suppression des NaN\n",
    "\n",
    "df = df_declaration_mrv[['DESCRIPTION_INCIDENT','TYPE_VIGILANCE','LIBELLE_COMMERCIAL','DCO_ID',\n",
    "                         'REFERENCE_COMMERCIALE','ETAT_PATIENT','ACTION_PATIENT','FABRICANT',\n",
    "                          'GRAVITE','CLASSIFICATION']][df_declaration_mrv['GRAVITE'].notna()]\n",
    "\n",
    "# On complète les NaN avec du vide\n",
    "df['ETAT_PATIENT'] = df['ETAT_PATIENT'].fillna(\"\")\n",
    "df['DESCRIPTION_INCIDENT'] = df['DESCRIPTION_INCIDENT'].fillna(\"\")\n",
    "df['LIBELLE_COMMERCIAL'] = df['LIBELLE_COMMERCIAL'].fillna(\"\")\n",
    "df['FABRICANT'] = df['FABRICANT'].fillna(\"\")\n",
    "df[\"REFERENCE_COMMERCIALE\"] = df['REFERENCE_COMMERCIALE'].fillna(\"\")\n",
    "df['TYPE_VIGILANCE'] = df['TYPE_VIGILANCE'].fillna(\"\")\n",
    "df['CLASSIFICATION'] = df['CLASSIFICATION'].fillna('')\n",
    "df['ACTION_PATIENT'] = df['ACTION_PATIENT'].fillna('')\n",
    "df['DCO_ID'] = df['DCO_ID'].fillna(-1)\n",
    "\n",
    "# On ajoute des collones pertinentes\n",
    "df['des_lib'] = df['LIBELLE_COMMERCIAL']+ ' ' + df['DESCRIPTION_INCIDENT']\n",
    "df['fab_lib'] = df['LIBELLE_COMMERCIAL']+ ' ' + df['FABRICANT']\n",
    "df['com'] = df['LIBELLE_COMMERCIAL']+ ' ' + df['REFERENCE_COMMERCIALE']\n",
    "df['Text'] = df['LIBELLE_COMMERCIAL']+ ' ' + df['FABRICANT'] + \"\" + df['DESCRIPTION_INCIDENT']\n",
    "\n",
    "# On nettoie les données :\n",
    "for col in  ['DESCRIPTION_INCIDENT','LIBELLE_COMMERCIAL','ETAT_PATIENT','Text',\"des_lib\",\"fab_lib\"] :\n",
    "        df[col] = df[col].map(lambda x: clean_text.preprocess_text(x))\n",
    "\n",
    "n = 15\n",
    "# On filtre pour a voir plus de n observations par classse\n",
    "df_n = df.groupby(\"GRAVITE\").filter(lambda x: len(x) > n)\n",
    "\n",
    "# On encode les labels\n",
    "def GRAVITE_ENC(x):\n",
    "    if x =='NULLE':\n",
    "        return 0\n",
    "    elif x == 'MINEU':\n",
    "        return 1\n",
    "    elif x == 'MOYEN':\n",
    "        return 2\n",
    "    elif x== 'SEVER':\n",
    "        return 3\n",
    "    elif x== 'CRITI':\n",
    "        return 4\n",
    "df_n.GRAVITE = df_n.GRAVITE.map(lambda x:GRAVITE_ENC(x))\n",
    "\n",
    "#OnEncode les autres varibles\n",
    "le = LabelEncoder()\n",
    "#On encode le type de vigilance\n",
    "#df_n.TYPE_VIGILANCE = le.fit_transform(df_n.TYPE_VIGILANCE.values)\n",
    "#On encode la classifcation \n",
    "#df_n.CLASSIFICATION = le.fit_transform(df_n.CLASSIFICATION.values)\n",
    "#on encode le DCO\n",
    "#df_n.DCO_ID = le.fit_transform(df_n.DCO_ID.values)\n",
    "\n",
    "# On selection les variables de test en faisant attention aux doublons\n",
    "train_index,test_index = next(GroupShuffleSplit(random_state=1029,test_size=0.2).split(df_n, groups=df_n['DESCRIPTION_INCIDENT']))\n",
    "df_train, df_test = df_n.iloc[train_index], df_n.iloc[test_index]\n"
   ]
  },
  {
   "cell_type": "code",
   "execution_count": 7,
   "metadata": {},
   "outputs": [],
   "source": [
    "from sklearn.base import clone\n",
    "\n",
    "\n",
    "class OrdinalClassifier():\n",
    "    \n",
    "    def __init__(self, clf):\n",
    "        self.clf = clf\n",
    "        self.clfs = {}\n",
    "    \n",
    "    def fit(self, X, y):\n",
    "        self.unique_class = np.sort(np.unique(y))\n",
    "        if self.unique_class.shape[0] > 2:\n",
    "            for i in range(self.unique_class.shape[0]-1):\n",
    "                # for each k - 1 ordinal value we fit a binary classification problem\n",
    "                binary_y = (y > self.unique_class[i]).astype(np.uint8)\n",
    "                clf = clone(self.clf)\n",
    "                clf.fit(X, binary_y)\n",
    "                self.clfs[i] = clf\n",
    "    \n",
    "    def predict_proba(self, X):\n",
    "        clfs_predict = {k:self.clfs[k].predict_proba(X) for k in self.clfs}\n",
    "        predicted = []\n",
    "        for i,y in enumerate(self.unique_class):\n",
    "            if i == 0:\n",
    "                # V1 = 1 - Pr(y > V1)\n",
    "                predicted.append(1 - clfs_predict[y][:,1])\n",
    "            elif y in clfs_predict:\n",
    "                # Vi = Pr(y > Vi-1) - Pr(y > Vi)\n",
    "                 predicted.append(clfs_predict[y-1][:,1] - clfs_predict[y][:,1])\n",
    "            else:\n",
    "                # Vk = Pr(y > Vk-1)\n",
    "                predicted.append(clfs_predict[y-1][:,1])\n",
    "        return np.vstack(predicted).T\n",
    "    \n",
    "    def predict(self, X):\n",
    "        return np.argmax(self.predict_proba(X), axis=1)"
   ]
  },
  {
   "cell_type": "markdown",
   "metadata": {},
   "source": [
    "## 2) Construction du pipeline  pour la gravité ordonnée"
   ]
  },
  {
   "cell_type": "code",
   "execution_count": 8,
   "metadata": {
    "scrolled": true
   },
   "outputs": [
    {
     "name": "stdout",
     "output_type": "stream",
     "text": [
      "CPU times: user 8 ms, sys: 0 ns, total: 8 ms\n",
      "Wall time: 7.45 ms\n"
     ]
    }
   ],
   "source": [
    "%%time\n",
    "preprocess = ColumnTransformer(\n",
    "    [('etat_pat_tfidf', TfidfVectorizer(sublinear_tf=True,\n",
    "                                       stop_words=STOP_WORDS), 'ETAT_PATIENT'),\n",
    "     \n",
    "     ('description_tfidf',TfidfVectorizer(sublinear_tf=True,\n",
    "                                       stop_words=STOP_WORDS), 'DESCRIPTION_INCIDENT'),\n",
    "     \n",
    "     ('action_pat_tfidf',TfidfVectorizer(sublinear_tf=True,\n",
    "                                       stop_words=STOP_WORDS), 'ACTION_PATIENT'),\n",
    "     \n",
    "     ('fabricant_tfidf',TfidfVectorizer(sublinear_tf=True,\n",
    "                                       stop_words=STOP_WORDS), 'FABRICANT'),\n",
    "     \n",
    "     ('classification_enc', TfidfVectorizer(sublinear_tf=True,\n",
    "                                       stop_words=STOP_WORDS),'CLASSIFICATION')\n",
    "          \n",
    "    ],\n",
    "    #\n",
    "    remainder='passthrough')\n",
    "\n",
    "\n",
    "pipeline = Pipeline([\n",
    "    ('vect', preprocess),\n",
    "    ('clf', OrdinalClassifier(CalibratedClassifierCV(LinearSVC(class_weight='balanced'),cv=5, method='isotonic'))),\n",
    "])\n",
    "\n",
    "X = df_train[['DESCRIPTION_INCIDENT','ETAT_PATIENT','ACTION_PATIENT','FABRICANT','CLASSIFICATION']] # \n",
    "y = df_train.GRAVITE\n",
    "CV = 5\n",
    "\n",
    "\n",
    "#result= cross_validate(pipeline, X, y, scoring=['accuracy','balanced_accuracy','f1_weighted' ], cv=CV)"
   ]
  },
  {
   "cell_type": "code",
   "execution_count": 18,
   "metadata": {},
   "outputs": [
    {
     "data": {
      "text/plain": [
       "test_accuracy             0.714910\n",
       "test_balanced_accuracy    0.475036\n",
       "test_f1_weighted          0.706529\n",
       "dtype: float64"
      ]
     },
     "execution_count": 18,
     "metadata": {},
     "output_type": "execute_result"
    }
   ],
   "source": [
    "pd.DataFrame(result)[['test_accuracy','test_balanced_accuracy','test_f1_weighted']].mean()"
   ]
  },
  {
   "cell_type": "markdown",
   "metadata": {},
   "source": [
    "## 2.2 Optimisation avec Optuna"
   ]
  },
  {
   "cell_type": "code",
   "execution_count": 22,
   "metadata": {},
   "outputs": [],
   "source": [
    "def objective(trial):    \n",
    "    \n",
    "    joblib.dump(study, 'GRAVITE_study.pkl')\n",
    "    train_index,test_index = next(GroupShuffleSplit(random_state=1029).split(X, groups=X['DESCRIPTION_INCIDENT']))\n",
    "    X_train, X_test = X.iloc[train_index], X.iloc[test_index]\n",
    "    y_train, y_test = y.iloc[train_index], y.iloc[test_index]\n",
    "    \n",
    "    #Etat Patient\n",
    "    #vect__etat_pat_tfidf__analyzer = trial.suggest_categorical('vect__etat_pat_tfidf__analyzer', ['word', 'char', 'char_wb']) \n",
    "    vect__etat_pat_tfidf__max_features = trial.suggest_int('vect__etat_pat_tfidf__max_features', 500, 20_000)\n",
    "    vect__etat_pat_tfidf__min_df =  trial.suggest_int('vect__etat_pat_tfidf__min_df', 1,5)\n",
    "    vect__etat_pat_tfidf__norm = trial.suggest_categorical('vect__etat_pat_tfidf__norm', ('l1', 'l2'))\n",
    "    #Description\n",
    "    #vect__description_tfidf__analyzer = trial.suggest_categorical('vect__description_tfidf__analyzer', ['word', 'char', 'char_wb']) \n",
    "    vect__description_tfidf__max_features = trial.suggest_int('vect__description_tfidf__max_features', 1500, 60_000)\n",
    "    vect__description_tfidf__min_df =  trial.suggest_int('vect__description_tfidf__min_df', 1,5)\n",
    "    vect__description_tfidf__norm = trial.suggest_categorical('vect__description_tfidf__norm', ('l1', 'l2'))\n",
    "    #Fabricant\n",
    "    vect__fabricant_tfidf__analyzer = trial.suggest_categorical('vect__fabricant_tfidf__analyzer', ['word', 'char', 'char_wb']) \n",
    "    vect__fabricant_tfidf__max_features = trial.suggest_int('vect__fabricant_tfidf__max_features', 500, 10_000)\n",
    "    vect__fabricant_tfidf__min_df =  trial.suggest_int('vect__fabricant_tfidf__min_df', 1,5)\n",
    "    vect__fabricant_tfidf__norm = trial.suggest_categorical('vect__fabricant_tfidf__norm', ('l1', 'l2'))\n",
    "    #action patient\n",
    "    #vect__action_pat_tfidf__analyzer = trial.suggest_categorical('vect__action_pat_tfidf__analyzer', ['word', 'char', 'char_wb']) \n",
    "    vect__action_pat_tfidf__max_features = trial.suggest_int('vect__action_pat_tfidf__max_features', 500, 20_000)\n",
    "    vect__action_pat_tfidf__min_df =  trial.suggest_int('vect__action_pat_tfidf__min_df', 1,5)\n",
    "    vect__action_pat_tfidf__norm = trial.suggest_categorical('vect__action_pat_tfidf__norm', ('l1', 'l2'))\n",
    "    #Classification\n",
    "    #vect__action_pat_tfidf__analyzer = trial.suggest_categorical('vect__action_pat_tfidf__analyzer', ['word', 'char', 'char_wb']) \n",
    "    vect__classification_enc__max_features = trial.suggest_int('vect__classification_enc__max_features', 500, 5000)\n",
    "    vect__classification_enc__min_df =  trial.suggest_int('vect__classification_enc__min_df', 1,5)\n",
    "    vect__classification_enc__norm = trial.suggest_categorical('vect__classification_enc__norm', ('l1', 'l2'))\n",
    "    \n",
    "    #clf__C =trial.suggest_loguniform('svr_c', 1e-5, 1e5)\n",
    "    \n",
    "\n",
    "    \n",
    "    params = {\n",
    "        #'vect__etat_pat_tfidf__analyzer':vect__etat_pat_tfidf__analyzer,\n",
    "        'vect__etat_pat_tfidf__max_features': vect__etat_pat_tfidf__max_features,\n",
    "        'vect__etat_pat_tfidf__min_df':vect__etat_pat_tfidf__min_df,\n",
    "        'vect__etat_pat_tfidf__norm':vect__etat_pat_tfidf__norm,\n",
    "        \n",
    "        #'vect__description_tfidf__analyzer':vect__description_tfidf__analyzer,\n",
    "        'vect__description_tfidf__max_features': vect__description_tfidf__max_features,\n",
    "        'vect__description_tfidf__min_df':vect__description_tfidf__min_df,\n",
    "        'vect__description_tfidf__norm':vect__description_tfidf__norm,\n",
    "        \n",
    "        'vect__fabricant_tfidf__analyzer':vect__fabricant_tfidf__analyzer,\n",
    "        'vect__fabricant_tfidf__max_features': vect__fabricant_tfidf__max_features,\n",
    "        'vect__fabricant_tfidf__min_df':vect__fabricant_tfidf__min_df,\n",
    "        'vect__fabricant_tfidf__norm':vect__fabricant_tfidf__norm,\n",
    "        \n",
    "        #'vect__action_pat_tfidf__analyzer':vect__action_pat_tfidf__analyzer,\n",
    "        'vect__action_pat_tfidf__max_features': vect__action_pat_tfidf__max_features,\n",
    "        'vect__action_pat_tfidf__min_df':vect__action_pat_tfidf__min_df,\n",
    "        'vect__action_pat_tfidf__norm':vect__action_pat_tfidf__norm,\n",
    "        \n",
    "        #'vect__action_pat_tfidf__analyzer':vect__action_pat_tfidf__analyzer,\n",
    "        'vect__classification_enc__max_features': vect__classification_enc__max_features,\n",
    "        'vect__classification_enc__min_df':vect__classification_enc__min_df,\n",
    "        'vect__classification_enc__norm':vect__classification_enc__norm,\n",
    "        \n",
    "        #'clf__C':clf__C\n",
    "    }\n",
    "    \n",
    "    pipeline.set_params(**params)\n",
    "    pipeline.fit(X_train,y_train)\n",
    "    y_pred = pipeline.predict(X_test)\n",
    "    \n",
    "    return balanced_accuracy_score(y_pred,y_test)"
   ]
  },
  {
   "cell_type": "code",
   "execution_count": null,
   "metadata": {
    "scrolled": true
   },
   "outputs": [
    {
     "name": "stderr",
     "output_type": "stream",
     "text": [
      "\u001b[32m[I 2020-06-04 14:53:30,572]\u001b[0m Finished trial#0 with value: 0.6086453304921464 with parameters: {'vect__etat_pat_tfidf__max_features': 2083, 'vect__etat_pat_tfidf__min_df': 1, 'vect__etat_pat_tfidf__norm': 'l1', 'vect__description_tfidf__max_features': 23675, 'vect__description_tfidf__min_df': 5, 'vect__description_tfidf__norm': 'l1', 'vect__fabricant_tfidf__analyzer': 'char', 'vect__fabricant_tfidf__max_features': 9132, 'vect__fabricant_tfidf__min_df': 1, 'vect__fabricant_tfidf__norm': 'l2', 'vect__action_pat_tfidf__max_features': 14576, 'vect__action_pat_tfidf__min_df': 5, 'vect__action_pat_tfidf__norm': 'l2', 'vect__classification_enc__max_features': 2552, 'vect__classification_enc__min_df': 1, 'vect__classification_enc__norm': 'l2'}. Best is trial#0 with value: 0.6086453304921464.\u001b[0m\n",
      "\u001b[32m[I 2020-06-04 14:54:03,767]\u001b[0m Finished trial#1 with value: 0.7344201512943285 with parameters: {'vect__etat_pat_tfidf__max_features': 12303, 'vect__etat_pat_tfidf__min_df': 3, 'vect__etat_pat_tfidf__norm': 'l2', 'vect__description_tfidf__max_features': 33409, 'vect__description_tfidf__min_df': 4, 'vect__description_tfidf__norm': 'l2', 'vect__fabricant_tfidf__analyzer': 'char_wb', 'vect__fabricant_tfidf__max_features': 8565, 'vect__fabricant_tfidf__min_df': 5, 'vect__fabricant_tfidf__norm': 'l1', 'vect__action_pat_tfidf__max_features': 4874, 'vect__action_pat_tfidf__min_df': 2, 'vect__action_pat_tfidf__norm': 'l2', 'vect__classification_enc__max_features': 1109, 'vect__classification_enc__min_df': 3, 'vect__classification_enc__norm': 'l1'}. Best is trial#1 with value: 0.7344201512943285.\u001b[0m\n",
      "\u001b[32m[I 2020-06-04 14:55:10,658]\u001b[0m Finished trial#2 with value: 0.5628330948751479 with parameters: {'vect__etat_pat_tfidf__max_features': 17792, 'vect__etat_pat_tfidf__min_df': 1, 'vect__etat_pat_tfidf__norm': 'l1', 'vect__description_tfidf__max_features': 5612, 'vect__description_tfidf__min_df': 2, 'vect__description_tfidf__norm': 'l1', 'vect__fabricant_tfidf__analyzer': 'char', 'vect__fabricant_tfidf__max_features': 4183, 'vect__fabricant_tfidf__min_df': 3, 'vect__fabricant_tfidf__norm': 'l2', 'vect__action_pat_tfidf__max_features': 7975, 'vect__action_pat_tfidf__min_df': 5, 'vect__action_pat_tfidf__norm': 'l1', 'vect__classification_enc__max_features': 2777, 'vect__classification_enc__min_df': 2, 'vect__classification_enc__norm': 'l2'}. Best is trial#1 with value: 0.7344201512943285.\u001b[0m\n",
      "\u001b[32m[I 2020-06-04 14:56:04,262]\u001b[0m Finished trial#3 with value: 0.6078261174406443 with parameters: {'vect__etat_pat_tfidf__max_features': 18035, 'vect__etat_pat_tfidf__min_df': 1, 'vect__etat_pat_tfidf__norm': 'l1', 'vect__description_tfidf__max_features': 34947, 'vect__description_tfidf__min_df': 5, 'vect__description_tfidf__norm': 'l1', 'vect__fabricant_tfidf__analyzer': 'char', 'vect__fabricant_tfidf__max_features': 4192, 'vect__fabricant_tfidf__min_df': 5, 'vect__fabricant_tfidf__norm': 'l1', 'vect__action_pat_tfidf__max_features': 5135, 'vect__action_pat_tfidf__min_df': 2, 'vect__action_pat_tfidf__norm': 'l1', 'vect__classification_enc__max_features': 4831, 'vect__classification_enc__min_df': 1, 'vect__classification_enc__norm': 'l1'}. Best is trial#1 with value: 0.7344201512943285.\u001b[0m\n",
      "\u001b[32m[I 2020-06-04 14:56:37,199]\u001b[0m Finished trial#4 with value: 0.6840616024010192 with parameters: {'vect__etat_pat_tfidf__max_features': 7864, 'vect__etat_pat_tfidf__min_df': 5, 'vect__etat_pat_tfidf__norm': 'l2', 'vect__description_tfidf__max_features': 20773, 'vect__description_tfidf__min_df': 5, 'vect__description_tfidf__norm': 'l1', 'vect__fabricant_tfidf__analyzer': 'word', 'vect__fabricant_tfidf__max_features': 7310, 'vect__fabricant_tfidf__min_df': 2, 'vect__fabricant_tfidf__norm': 'l2', 'vect__action_pat_tfidf__max_features': 12588, 'vect__action_pat_tfidf__min_df': 3, 'vect__action_pat_tfidf__norm': 'l2', 'vect__classification_enc__max_features': 3197, 'vect__classification_enc__min_df': 4, 'vect__classification_enc__norm': 'l2'}. Best is trial#1 with value: 0.7344201512943285.\u001b[0m\n",
      "\u001b[32m[I 2020-06-04 14:57:15,422]\u001b[0m Finished trial#5 with value: 0.766152665747281 with parameters: {'vect__etat_pat_tfidf__max_features': 18151, 'vect__etat_pat_tfidf__min_df': 1, 'vect__etat_pat_tfidf__norm': 'l1', 'vect__description_tfidf__max_features': 39906, 'vect__description_tfidf__min_df': 4, 'vect__description_tfidf__norm': 'l1', 'vect__fabricant_tfidf__analyzer': 'word', 'vect__fabricant_tfidf__max_features': 6739, 'vect__fabricant_tfidf__min_df': 5, 'vect__fabricant_tfidf__norm': 'l1', 'vect__action_pat_tfidf__max_features': 7079, 'vect__action_pat_tfidf__min_df': 5, 'vect__action_pat_tfidf__norm': 'l1', 'vect__classification_enc__max_features': 2351, 'vect__classification_enc__min_df': 1, 'vect__classification_enc__norm': 'l2'}. Best is trial#5 with value: 0.766152665747281.\u001b[0m\n",
      "\u001b[32m[I 2020-06-04 14:57:57,212]\u001b[0m Finished trial#6 with value: 0.7640922788109681 with parameters: {'vect__etat_pat_tfidf__max_features': 8088, 'vect__etat_pat_tfidf__min_df': 2, 'vect__etat_pat_tfidf__norm': 'l1', 'vect__description_tfidf__max_features': 47910, 'vect__description_tfidf__min_df': 3, 'vect__description_tfidf__norm': 'l1', 'vect__fabricant_tfidf__analyzer': 'word', 'vect__fabricant_tfidf__max_features': 7435, 'vect__fabricant_tfidf__min_df': 2, 'vect__fabricant_tfidf__norm': 'l2', 'vect__action_pat_tfidf__max_features': 19515, 'vect__action_pat_tfidf__min_df': 4, 'vect__action_pat_tfidf__norm': 'l1', 'vect__classification_enc__max_features': 2620, 'vect__classification_enc__min_df': 3, 'vect__classification_enc__norm': 'l1'}. Best is trial#5 with value: 0.766152665747281.\u001b[0m\n",
      "\u001b[32m[I 2020-06-04 14:58:33,063]\u001b[0m Finished trial#7 with value: 0.7309336092591288 with parameters: {'vect__etat_pat_tfidf__max_features': 17366, 'vect__etat_pat_tfidf__min_df': 4, 'vect__etat_pat_tfidf__norm': 'l2', 'vect__description_tfidf__max_features': 53067, 'vect__description_tfidf__min_df': 1, 'vect__description_tfidf__norm': 'l2', 'vect__fabricant_tfidf__analyzer': 'char_wb', 'vect__fabricant_tfidf__max_features': 5225, 'vect__fabricant_tfidf__min_df': 1, 'vect__fabricant_tfidf__norm': 'l2', 'vect__action_pat_tfidf__max_features': 6907, 'vect__action_pat_tfidf__min_df': 4, 'vect__action_pat_tfidf__norm': 'l1', 'vect__classification_enc__max_features': 828, 'vect__classification_enc__min_df': 2, 'vect__classification_enc__norm': 'l1'}. Best is trial#5 with value: 0.766152665747281.\u001b[0m\n",
      "\u001b[32m[I 2020-06-04 14:59:29,432]\u001b[0m Finished trial#8 with value: 0.7667423482985404 with parameters: {'vect__etat_pat_tfidf__max_features': 11083, 'vect__etat_pat_tfidf__min_df': 4, 'vect__etat_pat_tfidf__norm': 'l1', 'vect__description_tfidf__max_features': 53893, 'vect__description_tfidf__min_df': 1, 'vect__description_tfidf__norm': 'l1', 'vect__fabricant_tfidf__analyzer': 'word', 'vect__fabricant_tfidf__max_features': 7269, 'vect__fabricant_tfidf__min_df': 3, 'vect__fabricant_tfidf__norm': 'l2', 'vect__action_pat_tfidf__max_features': 14219, 'vect__action_pat_tfidf__min_df': 2, 'vect__action_pat_tfidf__norm': 'l1', 'vect__classification_enc__max_features': 1606, 'vect__classification_enc__min_df': 1, 'vect__classification_enc__norm': 'l2'}. Best is trial#8 with value: 0.7667423482985404.\u001b[0m\n",
      "\u001b[32m[I 2020-06-04 15:00:10,410]\u001b[0m Finished trial#9 with value: 0.7104105786777577 with parameters: {'vect__etat_pat_tfidf__max_features': 16025, 'vect__etat_pat_tfidf__min_df': 5, 'vect__etat_pat_tfidf__norm': 'l2', 'vect__description_tfidf__max_features': 54234, 'vect__description_tfidf__min_df': 2, 'vect__description_tfidf__norm': 'l1', 'vect__fabricant_tfidf__analyzer': 'word', 'vect__fabricant_tfidf__max_features': 6682, 'vect__fabricant_tfidf__min_df': 4, 'vect__fabricant_tfidf__norm': 'l2', 'vect__action_pat_tfidf__max_features': 1218, 'vect__action_pat_tfidf__min_df': 4, 'vect__action_pat_tfidf__norm': 'l1', 'vect__classification_enc__max_features': 4075, 'vect__classification_enc__min_df': 2, 'vect__classification_enc__norm': 'l2'}. Best is trial#8 with value: 0.7667423482985404.\u001b[0m\n",
      "\u001b[32m[I 2020-06-04 15:00:43,794]\u001b[0m Finished trial#10 with value: 0.7646054264807062 with parameters: {'vect__etat_pat_tfidf__max_features': 1866, 'vect__etat_pat_tfidf__min_df': 4, 'vect__etat_pat_tfidf__norm': 'l1', 'vect__description_tfidf__max_features': 59694, 'vect__description_tfidf__min_df': 1, 'vect__description_tfidf__norm': 'l2', 'vect__fabricant_tfidf__analyzer': 'word', 'vect__fabricant_tfidf__max_features': 823, 'vect__fabricant_tfidf__min_df': 3, 'vect__fabricant_tfidf__norm': 'l2', 'vect__action_pat_tfidf__max_features': 19272, 'vect__action_pat_tfidf__min_df': 1, 'vect__action_pat_tfidf__norm': 'l1', 'vect__classification_enc__max_features': 1586, 'vect__classification_enc__min_df': 5, 'vect__classification_enc__norm': 'l2'}. Best is trial#8 with value: 0.7667423482985404.\u001b[0m\n",
      "\u001b[32m[I 2020-06-04 15:01:35,709]\u001b[0m Finished trial#11 with value: 0.7634268492641813 with parameters: {'vect__etat_pat_tfidf__max_features': 13130, 'vect__etat_pat_tfidf__min_df': 3, 'vect__etat_pat_tfidf__norm': 'l1', 'vect__description_tfidf__max_features': 41761, 'vect__description_tfidf__min_df': 4, 'vect__description_tfidf__norm': 'l1', 'vect__fabricant_tfidf__analyzer': 'word', 'vect__fabricant_tfidf__max_features': 9960, 'vect__fabricant_tfidf__min_df': 4, 'vect__fabricant_tfidf__norm': 'l1', 'vect__action_pat_tfidf__max_features': 15343, 'vect__action_pat_tfidf__min_df': 1, 'vect__action_pat_tfidf__norm': 'l1', 'vect__classification_enc__max_features': 1918, 'vect__classification_enc__min_df': 1, 'vect__classification_enc__norm': 'l2'}. Best is trial#8 with value: 0.7667423482985404.\u001b[0m\n",
      "\u001b[32m[I 2020-06-04 15:02:31,732]\u001b[0m Finished trial#12 with value: 0.7043294681486889 with parameters: {'vect__etat_pat_tfidf__max_features': 5408, 'vect__etat_pat_tfidf__min_df': 4, 'vect__etat_pat_tfidf__norm': 'l1', 'vect__description_tfidf__max_features': 43414, 'vect__description_tfidf__min_df': 3, 'vect__description_tfidf__norm': 'l1', 'vect__fabricant_tfidf__analyzer': 'word', 'vect__fabricant_tfidf__max_features': 5940, 'vect__fabricant_tfidf__min_df': 4, 'vect__fabricant_tfidf__norm': 'l1', 'vect__action_pat_tfidf__max_features': 11082, 'vect__action_pat_tfidf__min_df': 2, 'vect__action_pat_tfidf__norm': 'l1', 'vect__classification_enc__max_features': 1844, 'vect__classification_enc__min_df': 1, 'vect__classification_enc__norm': 'l2'}. Best is trial#8 with value: 0.7667423482985404.\u001b[0m\n",
      "\u001b[32m[I 2020-06-04 15:03:37,703]\u001b[0m Finished trial#13 with value: 0.7643770083762413 with parameters: {'vect__etat_pat_tfidf__max_features': 13562, 'vect__etat_pat_tfidf__min_df': 2, 'vect__etat_pat_tfidf__norm': 'l1', 'vect__description_tfidf__max_features': 57907, 'vect__description_tfidf__min_df': 4, 'vect__description_tfidf__norm': 'l1', 'vect__fabricant_tfidf__analyzer': 'word', 'vect__fabricant_tfidf__max_features': 2026, 'vect__fabricant_tfidf__min_df': 5, 'vect__fabricant_tfidf__norm': 'l1', 'vect__action_pat_tfidf__max_features': 16738, 'vect__action_pat_tfidf__min_df': 3, 'vect__action_pat_tfidf__norm': 'l1', 'vect__classification_enc__max_features': 3499, 'vect__classification_enc__min_df': 2, 'vect__classification_enc__norm': 'l2'}. Best is trial#8 with value: 0.7667423482985404.\u001b[0m\n",
      "\u001b[32m[I 2020-06-04 15:04:46,686]\u001b[0m Finished trial#14 with value: 0.7657790953138998 with parameters: {'vect__etat_pat_tfidf__max_features': 19592, 'vect__etat_pat_tfidf__min_df': 2, 'vect__etat_pat_tfidf__norm': 'l1', 'vect__description_tfidf__max_features': 39551, 'vect__description_tfidf__min_df': 2, 'vect__description_tfidf__norm': 'l1', 'vect__fabricant_tfidf__analyzer': 'word', 'vect__fabricant_tfidf__max_features': 8075, 'vect__fabricant_tfidf__min_df': 2, 'vect__fabricant_tfidf__norm': 'l1', 'vect__action_pat_tfidf__max_features': 8854, 'vect__action_pat_tfidf__min_df': 2, 'vect__action_pat_tfidf__norm': 'l1', 'vect__classification_enc__max_features': 2090, 'vect__classification_enc__min_df': 1, 'vect__classification_enc__norm': 'l2'}. Best is trial#8 with value: 0.7667423482985404.\u001b[0m\n",
      "\u001b[32m[I 2020-06-04 15:06:03,027]\u001b[0m Finished trial#15 with value: 0.64088717175197 with parameters: {'vect__etat_pat_tfidf__max_features': 10349, 'vect__etat_pat_tfidf__min_df': 4, 'vect__etat_pat_tfidf__norm': 'l1', 'vect__description_tfidf__max_features': 24727, 'vect__description_tfidf__min_df': 4, 'vect__description_tfidf__norm': 'l1', 'vect__fabricant_tfidf__analyzer': 'char_wb', 'vect__fabricant_tfidf__max_features': 5133, 'vect__fabricant_tfidf__min_df': 4, 'vect__fabricant_tfidf__norm': 'l1', 'vect__action_pat_tfidf__max_features': 11992, 'vect__action_pat_tfidf__min_df': 1, 'vect__action_pat_tfidf__norm': 'l1', 'vect__classification_enc__max_features': 1250, 'vect__classification_enc__min_df': 4, 'vect__classification_enc__norm': 'l2'}. Best is trial#8 with value: 0.7667423482985404.\u001b[0m\n",
      "\u001b[32m[I 2020-06-04 15:06:45,136]\u001b[0m Finished trial#16 with value: 0.6675089909736183 with parameters: {'vect__etat_pat_tfidf__max_features': 14963, 'vect__etat_pat_tfidf__min_df': 3, 'vect__etat_pat_tfidf__norm': 'l1', 'vect__description_tfidf__max_features': 48361, 'vect__description_tfidf__min_df': 3, 'vect__description_tfidf__norm': 'l1', 'vect__fabricant_tfidf__analyzer': 'word', 'vect__fabricant_tfidf__max_features': 9530, 'vect__fabricant_tfidf__min_df': 3, 'vect__fabricant_tfidf__norm': 'l1', 'vect__action_pat_tfidf__max_features': 1492, 'vect__action_pat_tfidf__min_df': 3, 'vect__action_pat_tfidf__norm': 'l1', 'vect__classification_enc__max_features': 621, 'vect__classification_enc__min_df': 2, 'vect__classification_enc__norm': 'l2'}. Best is trial#8 with value: 0.7667423482985404.\u001b[0m\n",
      "\u001b[32m[I 2020-06-04 15:07:18,691]\u001b[0m Finished trial#17 with value: 0.7584381617766924 with parameters: {'vect__etat_pat_tfidf__max_features': 5497, 'vect__etat_pat_tfidf__min_df': 5, 'vect__etat_pat_tfidf__norm': 'l1', 'vect__description_tfidf__max_features': 13848, 'vect__description_tfidf__min_df': 1, 'vect__description_tfidf__norm': 'l2', 'vect__fabricant_tfidf__analyzer': 'word', 'vect__fabricant_tfidf__max_features': 3101, 'vect__fabricant_tfidf__min_df': 5, 'vect__fabricant_tfidf__norm': 'l2', 'vect__action_pat_tfidf__max_features': 4444, 'vect__action_pat_tfidf__min_df': 5, 'vect__action_pat_tfidf__norm': 'l2', 'vect__classification_enc__max_features': 2241, 'vect__classification_enc__min_df': 1, 'vect__classification_enc__norm': 'l2'}. Best is trial#8 with value: 0.7667423482985404.\u001b[0m\n",
      "\u001b[32m[I 2020-06-04 15:08:04,590]\u001b[0m Finished trial#18 with value: 0.7652436492615682 with parameters: {'vect__etat_pat_tfidf__max_features': 19855, 'vect__etat_pat_tfidf__min_df': 2, 'vect__etat_pat_tfidf__norm': 'l1', 'vect__description_tfidf__max_features': 47960, 'vect__description_tfidf__min_df': 2, 'vect__description_tfidf__norm': 'l1', 'vect__fabricant_tfidf__analyzer': 'word', 'vect__fabricant_tfidf__max_features': 6342, 'vect__fabricant_tfidf__min_df': 2, 'vect__fabricant_tfidf__norm': 'l1', 'vect__action_pat_tfidf__max_features': 9603, 'vect__action_pat_tfidf__min_df': 4, 'vect__action_pat_tfidf__norm': 'l1', 'vect__classification_enc__max_features': 1437, 'vect__classification_enc__min_df': 3, 'vect__classification_enc__norm': 'l2'}. Best is trial#8 with value: 0.7667423482985404.\u001b[0m\n",
      "\u001b[32m[I 2020-06-04 15:08:47,978]\u001b[0m Finished trial#19 with value: 0.7649558834481451 with parameters: {'vect__etat_pat_tfidf__max_features': 9447, 'vect__etat_pat_tfidf__min_df': 4, 'vect__etat_pat_tfidf__norm': 'l1', 'vect__description_tfidf__max_features': 29637, 'vect__description_tfidf__min_df': 4, 'vect__description_tfidf__norm': 'l1', 'vect__fabricant_tfidf__analyzer': 'word', 'vect__fabricant_tfidf__max_features': 8075, 'vect__fabricant_tfidf__min_df': 4, 'vect__fabricant_tfidf__norm': 'l2', 'vect__action_pat_tfidf__max_features': 13249, 'vect__action_pat_tfidf__min_df': 2, 'vect__action_pat_tfidf__norm': 'l1', 'vect__classification_enc__max_features': 3725, 'vect__classification_enc__min_df': 2, 'vect__classification_enc__norm': 'l2'}. Best is trial#8 with value: 0.7667423482985404.\u001b[0m\n",
      "\u001b[32m[I 2020-06-04 15:09:52,073]\u001b[0m Finished trial#20 with value: 0.677670091334633 with parameters: {'vect__etat_pat_tfidf__max_features': 11363, 'vect__etat_pat_tfidf__min_df': 3, 'vect__etat_pat_tfidf__norm': 'l1', 'vect__description_tfidf__max_features': 39027, 'vect__description_tfidf__min_df': 5, 'vect__description_tfidf__norm': 'l1', 'vect__fabricant_tfidf__analyzer': 'char_wb', 'vect__fabricant_tfidf__max_features': 7259, 'vect__fabricant_tfidf__min_df': 3, 'vect__fabricant_tfidf__norm': 'l1', 'vect__action_pat_tfidf__max_features': 17403, 'vect__action_pat_tfidf__min_df': 3, 'vect__action_pat_tfidf__norm': 'l1', 'vect__classification_enc__max_features': 4422, 'vect__classification_enc__min_df': 4, 'vect__classification_enc__norm': 'l2'}. Best is trial#8 with value: 0.7667423482985404.\u001b[0m\n",
      "\u001b[32m[I 2020-06-04 15:10:36,558]\u001b[0m Finished trial#21 with value: 0.7660067190639414 with parameters: {'vect__etat_pat_tfidf__max_features': 19427, 'vect__etat_pat_tfidf__min_df': 2, 'vect__etat_pat_tfidf__norm': 'l1', 'vect__description_tfidf__max_features': 39244, 'vect__description_tfidf__min_df': 2, 'vect__description_tfidf__norm': 'l1', 'vect__fabricant_tfidf__analyzer': 'word', 'vect__fabricant_tfidf__max_features': 8225, 'vect__fabricant_tfidf__min_df': 2, 'vect__fabricant_tfidf__norm': 'l1', 'vect__action_pat_tfidf__max_features': 9221, 'vect__action_pat_tfidf__min_df': 2, 'vect__action_pat_tfidf__norm': 'l1', 'vect__classification_enc__max_features': 2154, 'vect__classification_enc__min_df': 1, 'vect__classification_enc__norm': 'l2'}. Best is trial#8 with value: 0.7667423482985404.\u001b[0m\n",
      "\u001b[32m[I 2020-06-04 15:11:17,908]\u001b[0m Finished trial#22 with value: 0.7678403889422285 with parameters: {'vect__etat_pat_tfidf__max_features': 15581, 'vect__etat_pat_tfidf__min_df': 1, 'vect__etat_pat_tfidf__norm': 'l1', 'vect__description_tfidf__max_features': 29681, 'vect__description_tfidf__min_df': 1, 'vect__description_tfidf__norm': 'l1', 'vect__fabricant_tfidf__analyzer': 'word', 'vect__fabricant_tfidf__max_features': 8660, 'vect__fabricant_tfidf__min_df': 1, 'vect__fabricant_tfidf__norm': 'l1', 'vect__action_pat_tfidf__max_features': 6683, 'vect__action_pat_tfidf__min_df': 2, 'vect__action_pat_tfidf__norm': 'l1', 'vect__classification_enc__max_features': 2864, 'vect__classification_enc__min_df': 1, 'vect__classification_enc__norm': 'l2'}. Best is trial#22 with value: 0.7678403889422285.\u001b[0m\n",
      "\u001b[32m[I 2020-06-04 15:11:59,196]\u001b[0m Finished trial#23 with value: 0.7605526015536 with parameters: {'vect__etat_pat_tfidf__max_features': 14598, 'vect__etat_pat_tfidf__min_df': 1, 'vect__etat_pat_tfidf__norm': 'l1', 'vect__description_tfidf__max_features': 16042, 'vect__description_tfidf__min_df': 1, 'vect__description_tfidf__norm': 'l1', 'vect__fabricant_tfidf__analyzer': 'word', 'vect__fabricant_tfidf__max_features': 9203, 'vect__fabricant_tfidf__min_df': 1, 'vect__fabricant_tfidf__norm': 'l1', 'vect__action_pat_tfidf__max_features': 6372, 'vect__action_pat_tfidf__min_df': 1, 'vect__action_pat_tfidf__norm': 'l1', 'vect__classification_enc__max_features': 2801, 'vect__classification_enc__min_df': 1, 'vect__classification_enc__norm': 'l2'}. Best is trial#22 with value: 0.7678403889422285.\u001b[0m\n",
      "\u001b[32m[I 2020-06-04 15:12:45,826]\u001b[0m Finished trial#24 with value: 0.7619909388925701 with parameters: {'vect__etat_pat_tfidf__max_features': 16128, 'vect__etat_pat_tfidf__min_df': 1, 'vect__etat_pat_tfidf__norm': 'l1', 'vect__description_tfidf__max_features': 28551, 'vect__description_tfidf__min_df': 1, 'vect__description_tfidf__norm': 'l1', 'vect__fabricant_tfidf__analyzer': 'word', 'vect__fabricant_tfidf__max_features': 6093, 'vect__fabricant_tfidf__min_df': 1, 'vect__fabricant_tfidf__norm': 'l1', 'vect__action_pat_tfidf__max_features': 2849, 'vect__action_pat_tfidf__min_df': 2, 'vect__action_pat_tfidf__norm': 'l1', 'vect__classification_enc__max_features': 3191, 'vect__classification_enc__min_df': 2, 'vect__classification_enc__norm': 'l2'}. Best is trial#22 with value: 0.7678403889422285.\u001b[0m\n",
      "\u001b[32m[I 2020-06-04 15:13:54,609]\u001b[0m Finished trial#25 with value: 0.5904677832535643 with parameters: {'vect__etat_pat_tfidf__max_features': 15367, 'vect__etat_pat_tfidf__min_df': 1, 'vect__etat_pat_tfidf__norm': 'l1', 'vect__description_tfidf__max_features': 33436, 'vect__description_tfidf__min_df': 3, 'vect__description_tfidf__norm': 'l1', 'vect__fabricant_tfidf__analyzer': 'char', 'vect__fabricant_tfidf__max_features': 7240, 'vect__fabricant_tfidf__min_df': 3, 'vect__fabricant_tfidf__norm': 'l1', 'vect__action_pat_tfidf__max_features': 7264, 'vect__action_pat_tfidf__min_df': 3, 'vect__action_pat_tfidf__norm': 'l1', 'vect__classification_enc__max_features': 2429, 'vect__classification_enc__min_df': 1, 'vect__classification_enc__norm': 'l2'}. Best is trial#22 with value: 0.7678403889422285.\u001b[0m\n",
      "\u001b[32m[I 2020-06-04 15:14:48,259]\u001b[0m Finished trial#26 with value: 0.7670646886958853 with parameters: {'vect__etat_pat_tfidf__max_features': 11932, 'vect__etat_pat_tfidf__min_df': 2, 'vect__etat_pat_tfidf__norm': 'l1', 'vect__description_tfidf__max_features': 45526, 'vect__description_tfidf__min_df': 1, 'vect__description_tfidf__norm': 'l1', 'vect__fabricant_tfidf__analyzer': 'word', 'vect__fabricant_tfidf__max_features': 8671, 'vect__fabricant_tfidf__min_df': 4, 'vect__fabricant_tfidf__norm': 'l1', 'vect__action_pat_tfidf__max_features': 10746, 'vect__action_pat_tfidf__min_df': 1, 'vect__action_pat_tfidf__norm': 'l1', 'vect__classification_enc__max_features': 3037, 'vect__classification_enc__min_df': 1, 'vect__classification_enc__norm': 'l2'}. Best is trial#22 with value: 0.7678403889422285.\u001b[0m\n",
      "\u001b[32m[I 2020-06-04 15:15:21,639]\u001b[0m Finished trial#27 with value: 0.7570548810810719 with parameters: {'vect__etat_pat_tfidf__max_features': 11431, 'vect__etat_pat_tfidf__min_df': 2, 'vect__etat_pat_tfidf__norm': 'l2', 'vect__description_tfidf__max_features': 53274, 'vect__description_tfidf__min_df': 1, 'vect__description_tfidf__norm': 'l2', 'vect__fabricant_tfidf__analyzer': 'word', 'vect__fabricant_tfidf__max_features': 8765, 'vect__fabricant_tfidf__min_df': 4, 'vect__fabricant_tfidf__norm': 'l2', 'vect__action_pat_tfidf__max_features': 10360, 'vect__action_pat_tfidf__min_df': 1, 'vect__action_pat_tfidf__norm': 'l2', 'vect__classification_enc__max_features': 3093, 'vect__classification_enc__min_df': 2, 'vect__classification_enc__norm': 'l1'}. Best is trial#22 with value: 0.7678403889422285.\u001b[0m\n",
      "\u001b[32m[I 2020-06-04 15:16:11,600]\u001b[0m Finished trial#28 with value: 0.7633069672848022 with parameters: {'vect__etat_pat_tfidf__max_features': 9170, 'vect__etat_pat_tfidf__min_df': 2, 'vect__etat_pat_tfidf__norm': 'l1', 'vect__description_tfidf__max_features': 57478, 'vect__description_tfidf__min_df': 1, 'vect__description_tfidf__norm': 'l1', 'vect__fabricant_tfidf__analyzer': 'word', 'vect__fabricant_tfidf__max_features': 9830, 'vect__fabricant_tfidf__min_df': 3, 'vect__fabricant_tfidf__norm': 'l1', 'vect__action_pat_tfidf__max_features': 11280, 'vect__action_pat_tfidf__min_df': 1, 'vect__action_pat_tfidf__norm': 'l1', 'vect__classification_enc__max_features': 3611, 'vect__classification_enc__min_df': 1, 'vect__classification_enc__norm': 'l2'}. Best is trial#22 with value: 0.7678403889422285.\u001b[0m\n",
      "\u001b[32m[I 2020-06-04 15:17:34,535]\u001b[0m Finished trial#29 with value: 0.6217476299681972 with parameters: {'vect__etat_pat_tfidf__max_features': 6248, 'vect__etat_pat_tfidf__min_df': 3, 'vect__etat_pat_tfidf__norm': 'l1', 'vect__description_tfidf__max_features': 45389, 'vect__description_tfidf__min_df': 2, 'vect__description_tfidf__norm': 'l1', 'vect__fabricant_tfidf__analyzer': 'char', 'vect__fabricant_tfidf__max_features': 9063, 'vect__fabricant_tfidf__min_df': 4, 'vect__fabricant_tfidf__norm': 'l2', 'vect__action_pat_tfidf__max_features': 14327, 'vect__action_pat_tfidf__min_df': 2, 'vect__action_pat_tfidf__norm': 'l2', 'vect__classification_enc__max_features': 4007, 'vect__classification_enc__min_df': 1, 'vect__classification_enc__norm': 'l2'}. Best is trial#22 with value: 0.7678403889422285.\u001b[0m\n",
      "\u001b[32m[I 2020-06-04 15:18:17,835]\u001b[0m Finished trial#30 with value: 0.7702900216373278 with parameters: {'vect__etat_pat_tfidf__max_features': 13463, 'vect__etat_pat_tfidf__min_df': 4, 'vect__etat_pat_tfidf__norm': 'l1', 'vect__description_tfidf__max_features': 22359, 'vect__description_tfidf__min_df': 1, 'vect__description_tfidf__norm': 'l1', 'vect__fabricant_tfidf__analyzer': 'word', 'vect__fabricant_tfidf__max_features': 7836, 'vect__fabricant_tfidf__min_df': 3, 'vect__fabricant_tfidf__norm': 'l2', 'vect__action_pat_tfidf__max_features': 13735, 'vect__action_pat_tfidf__min_df': 1, 'vect__action_pat_tfidf__norm': 'l1', 'vect__classification_enc__max_features': 2977, 'vect__classification_enc__min_df': 5, 'vect__classification_enc__norm': 'l2'}. Best is trial#30 with value: 0.7702900216373278.\u001b[0m\n",
      "\u001b[32m[I 2020-06-04 15:19:02,226]\u001b[0m Finished trial#31 with value: 0.7682687335499813 with parameters: {'vect__etat_pat_tfidf__max_features': 13905, 'vect__etat_pat_tfidf__min_df': 4, 'vect__etat_pat_tfidf__norm': 'l1', 'vect__description_tfidf__max_features': 24413, 'vect__description_tfidf__min_df': 1, 'vect__description_tfidf__norm': 'l1', 'vect__fabricant_tfidf__analyzer': 'word', 'vect__fabricant_tfidf__max_features': 7880, 'vect__fabricant_tfidf__min_df': 3, 'vect__fabricant_tfidf__norm': 'l2', 'vect__action_pat_tfidf__max_features': 13875, 'vect__action_pat_tfidf__min_df': 1, 'vect__action_pat_tfidf__norm': 'l1', 'vect__classification_enc__max_features': 2933, 'vect__classification_enc__min_df': 5, 'vect__classification_enc__norm': 'l2'}. Best is trial#30 with value: 0.7702900216373278.\u001b[0m\n",
      "\u001b[32m[I 2020-06-04 15:19:47,240]\u001b[0m Finished trial#32 with value: 0.7607901932885919 with parameters: {'vect__etat_pat_tfidf__max_features': 13446, 'vect__etat_pat_tfidf__min_df': 5, 'vect__etat_pat_tfidf__norm': 'l1', 'vect__description_tfidf__max_features': 23742, 'vect__description_tfidf__min_df': 1, 'vect__description_tfidf__norm': 'l1', 'vect__fabricant_tfidf__analyzer': 'word', 'vect__fabricant_tfidf__max_features': 8550, 'vect__fabricant_tfidf__min_df': 2, 'vect__fabricant_tfidf__norm': 'l2', 'vect__action_pat_tfidf__max_features': 15799, 'vect__action_pat_tfidf__min_df': 1, 'vect__action_pat_tfidf__norm': 'l1', 'vect__classification_enc__max_features': 3024, 'vect__classification_enc__min_df': 5, 'vect__classification_enc__norm': 'l2'}. Best is trial#30 with value: 0.7702900216373278.\u001b[0m\n",
      "\u001b[32m[I 2020-06-04 15:20:32,437]\u001b[0m Finished trial#33 with value: 0.7677778029976488 with parameters: {'vect__etat_pat_tfidf__max_features': 12464, 'vect__etat_pat_tfidf__min_df': 4, 'vect__etat_pat_tfidf__norm': 'l1', 'vect__description_tfidf__max_features': 17966, 'vect__description_tfidf__min_df': 2, 'vect__description_tfidf__norm': 'l1', 'vect__fabricant_tfidf__analyzer': 'word', 'vect__fabricant_tfidf__max_features': 7765, 'vect__fabricant_tfidf__min_df': 3, 'vect__fabricant_tfidf__norm': 'l2', 'vect__action_pat_tfidf__max_features': 13217, 'vect__action_pat_tfidf__min_df': 1, 'vect__action_pat_tfidf__norm': 'l1', 'vect__classification_enc__max_features': 2840, 'vect__classification_enc__min_df': 5, 'vect__classification_enc__norm': 'l2'}. Best is trial#30 with value: 0.7702900216373278.\u001b[0m\n",
      "\u001b[32m[I 2020-06-04 15:22:05,246]\u001b[0m Finished trial#34 with value: 0.6264582244618173 with parameters: {'vect__etat_pat_tfidf__max_features': 14250, 'vect__etat_pat_tfidf__min_df': 4, 'vect__etat_pat_tfidf__norm': 'l1', 'vect__description_tfidf__max_features': 11374, 'vect__description_tfidf__min_df': 2, 'vect__description_tfidf__norm': 'l1', 'vect__fabricant_tfidf__analyzer': 'char_wb', 'vect__fabricant_tfidf__max_features': 7896, 'vect__fabricant_tfidf__min_df': 3, 'vect__fabricant_tfidf__norm': 'l2', 'vect__action_pat_tfidf__max_features': 13611, 'vect__action_pat_tfidf__min_df': 1, 'vect__action_pat_tfidf__norm': 'l1', 'vect__classification_enc__max_features': 2694, 'vect__classification_enc__min_df': 5, 'vect__classification_enc__norm': 'l2'}. Best is trial#30 with value: 0.7702900216373278.\u001b[0m\n",
      "\u001b[32m[I 2020-06-04 15:23:23,518]\u001b[0m Finished trial#35 with value: 0.6329337687698318 with parameters: {'vect__etat_pat_tfidf__max_features': 12640, 'vect__etat_pat_tfidf__min_df': 4, 'vect__etat_pat_tfidf__norm': 'l1', 'vect__description_tfidf__max_features': 17459, 'vect__description_tfidf__min_df': 2, 'vect__description_tfidf__norm': 'l1', 'vect__fabricant_tfidf__analyzer': 'char', 'vect__fabricant_tfidf__max_features': 9382, 'vect__fabricant_tfidf__min_df': 3, 'vect__fabricant_tfidf__norm': 'l2', 'vect__action_pat_tfidf__max_features': 12564, 'vect__action_pat_tfidf__min_df': 1, 'vect__action_pat_tfidf__norm': 'l1', 'vect__classification_enc__max_features': 3373, 'vect__classification_enc__min_df': 5, 'vect__classification_enc__norm': 'l1'}. Best is trial#30 with value: 0.7702900216373278.\u001b[0m\n",
      "\u001b[32m[I 2020-06-04 15:23:59,082]\u001b[0m Finished trial#36 with value: 0.7124103025566204 with parameters: {'vect__etat_pat_tfidf__max_features': 16413, 'vect__etat_pat_tfidf__min_df': 5, 'vect__etat_pat_tfidf__norm': 'l2', 'vect__description_tfidf__max_features': 20038, 'vect__description_tfidf__min_df': 2, 'vect__description_tfidf__norm': 'l1', 'vect__fabricant_tfidf__analyzer': 'word', 'vect__fabricant_tfidf__max_features': 7719, 'vect__fabricant_tfidf__min_df': 2, 'vect__fabricant_tfidf__norm': 'l2', 'vect__action_pat_tfidf__max_features': 17924, 'vect__action_pat_tfidf__min_df': 2, 'vect__action_pat_tfidf__norm': 'l2', 'vect__classification_enc__max_features': 2823, 'vect__classification_enc__min_df': 4, 'vect__classification_enc__norm': 'l2'}. Best is trial#30 with value: 0.7702900216373278.\u001b[0m\n",
      "\u001b[32m[I 2020-06-04 15:24:28,205]\u001b[0m Finished trial#37 with value: 0.7680483620693304 with parameters: {'vect__etat_pat_tfidf__max_features': 17311, 'vect__etat_pat_tfidf__min_df': 4, 'vect__etat_pat_tfidf__norm': 'l1', 'vect__description_tfidf__max_features': 7781, 'vect__description_tfidf__min_df': 1, 'vect__description_tfidf__norm': 'l2', 'vect__fabricant_tfidf__analyzer': 'word', 'vect__fabricant_tfidf__max_features': 6601, 'vect__fabricant_tfidf__min_df': 3, 'vect__fabricant_tfidf__norm': 'l2', 'vect__action_pat_tfidf__max_features': 14634, 'vect__action_pat_tfidf__min_df': 1, 'vect__action_pat_tfidf__norm': 'l1', 'vect__classification_enc__max_features': 2519, 'vect__classification_enc__min_df': 5, 'vect__classification_enc__norm': 'l2'}. Best is trial#30 with value: 0.7702900216373278.\u001b[0m\n",
      "\u001b[32m[I 2020-06-04 15:24:54,935]\u001b[0m Finished trial#38 with value: 0.7081065354121427 with parameters: {'vect__etat_pat_tfidf__max_features': 16958, 'vect__etat_pat_tfidf__min_df': 5, 'vect__etat_pat_tfidf__norm': 'l1', 'vect__description_tfidf__max_features': 2654, 'vect__description_tfidf__min_df': 1, 'vect__description_tfidf__norm': 'l2', 'vect__fabricant_tfidf__analyzer': 'word', 'vect__fabricant_tfidf__max_features': 5510, 'vect__fabricant_tfidf__min_df': 2, 'vect__fabricant_tfidf__norm': 'l2', 'vect__action_pat_tfidf__max_features': 15077, 'vect__action_pat_tfidf__min_df': 2, 'vect__action_pat_tfidf__norm': 'l1', 'vect__classification_enc__max_features': 2470, 'vect__classification_enc__min_df': 4, 'vect__classification_enc__norm': 'l1'}. Best is trial#30 with value: 0.7702900216373278.\u001b[0m\n",
      "\u001b[32m[I 2020-06-04 15:25:39,683]\u001b[0m Finished trial#39 with value: 0.7423603658857344 with parameters: {'vect__etat_pat_tfidf__max_features': 18327, 'vect__etat_pat_tfidf__min_df': 3, 'vect__etat_pat_tfidf__norm': 'l1', 'vect__description_tfidf__max_features': 26674, 'vect__description_tfidf__min_df': 1, 'vect__description_tfidf__norm': 'l2', 'vect__fabricant_tfidf__analyzer': 'char', 'vect__fabricant_tfidf__max_features': 6694, 'vect__fabricant_tfidf__min_df': 3, 'vect__fabricant_tfidf__norm': 'l2', 'vect__action_pat_tfidf__max_features': 18244, 'vect__action_pat_tfidf__min_df': 1, 'vect__action_pat_tfidf__norm': 'l1', 'vect__classification_enc__max_features': 3395, 'vect__classification_enc__min_df': 5, 'vect__classification_enc__norm': 'l2'}. Best is trial#30 with value: 0.7702900216373278.\u001b[0m\n",
      "\u001b[32m[I 2020-06-04 15:26:10,252]\u001b[0m Finished trial#40 with value: 0.7661317167122574 with parameters: {'vect__etat_pat_tfidf__max_features': 18631, 'vect__etat_pat_tfidf__min_df': 4, 'vect__etat_pat_tfidf__norm': 'l2', 'vect__description_tfidf__max_features': 7260, 'vect__description_tfidf__min_df': 1, 'vect__description_tfidf__norm': 'l2', 'vect__fabricant_tfidf__analyzer': 'word', 'vect__fabricant_tfidf__max_features': 4700, 'vect__fabricant_tfidf__min_df': 2, 'vect__fabricant_tfidf__norm': 'l2', 'vect__action_pat_tfidf__max_features': 15911, 'vect__action_pat_tfidf__min_df': 1, 'vect__action_pat_tfidf__norm': 'l1', 'vect__classification_enc__max_features': 3792, 'vect__classification_enc__min_df': 4, 'vect__classification_enc__norm': 'l2'}. Best is trial#30 with value: 0.7702900216373278.\u001b[0m\n",
      "\u001b[32m[I 2020-06-04 15:26:44,660]\u001b[0m Finished trial#41 with value: 0.7638586504184576 with parameters: {'vect__etat_pat_tfidf__max_features': 13802, 'vect__etat_pat_tfidf__min_df': 4, 'vect__etat_pat_tfidf__norm': 'l1', 'vect__description_tfidf__max_features': 19818, 'vect__description_tfidf__min_df': 2, 'vect__description_tfidf__norm': 'l2', 'vect__fabricant_tfidf__analyzer': 'word', 'vect__fabricant_tfidf__max_features': 6768, 'vect__fabricant_tfidf__min_df': 3, 'vect__fabricant_tfidf__norm': 'l2', 'vect__action_pat_tfidf__max_features': 12096, 'vect__action_pat_tfidf__min_df': 1, 'vect__action_pat_tfidf__norm': 'l1', 'vect__classification_enc__max_features': 2860, 'vect__classification_enc__min_df': 5, 'vect__classification_enc__norm': 'l2'}. Best is trial#30 with value: 0.7702900216373278.\u001b[0m\n",
      "\u001b[32m[I 2020-06-04 15:27:17,826]\u001b[0m Finished trial#42 with value: 0.7608115460461445 with parameters: {'vect__etat_pat_tfidf__max_features': 15451, 'vect__etat_pat_tfidf__min_df': 4, 'vect__etat_pat_tfidf__norm': 'l1', 'vect__description_tfidf__max_features': 11436, 'vect__description_tfidf__min_df': 1, 'vect__description_tfidf__norm': 'l2', 'vect__fabricant_tfidf__analyzer': 'word', 'vect__fabricant_tfidf__max_features': 7615, 'vect__fabricant_tfidf__min_df': 3, 'vect__fabricant_tfidf__norm': 'l2', 'vect__action_pat_tfidf__max_features': 13825, 'vect__action_pat_tfidf__min_df': 1, 'vect__action_pat_tfidf__norm': 'l1', 'vect__classification_enc__max_features': 2523, 'vect__classification_enc__min_df': 5, 'vect__classification_enc__norm': 'l2'}. Best is trial#30 with value: 0.7702900216373278.\u001b[0m\n",
      "\u001b[32m[I 2020-06-04 15:27:56,975]\u001b[0m Finished trial#43 with value: 0.7512516086015545 with parameters: {'vect__etat_pat_tfidf__max_features': 12608, 'vect__etat_pat_tfidf__min_df': 4, 'vect__etat_pat_tfidf__norm': 'l1', 'vect__description_tfidf__max_features': 31500, 'vect__description_tfidf__min_df': 1, 'vect__description_tfidf__norm': 'l2', 'vect__fabricant_tfidf__analyzer': 'word', 'vect__fabricant_tfidf__max_features': 8405, 'vect__fabricant_tfidf__min_df': 3, 'vect__fabricant_tfidf__norm': 'l2', 'vect__action_pat_tfidf__max_features': 16332, 'vect__action_pat_tfidf__min_df': 1, 'vect__action_pat_tfidf__norm': 'l1', 'vect__classification_enc__max_features': 3225, 'vect__classification_enc__min_df': 5, 'vect__classification_enc__norm': 'l2'}. Best is trial#30 with value: 0.7702900216373278.\u001b[0m\n",
      "\u001b[32m[I 2020-06-04 15:28:53,812]\u001b[0m Finished trial#44 with value: 0.7245694262662813 with parameters: {'vect__etat_pat_tfidf__max_features': 600, 'vect__etat_pat_tfidf__min_df': 3, 'vect__etat_pat_tfidf__norm': 'l1', 'vect__description_tfidf__max_features': 36018, 'vect__description_tfidf__min_df': 2, 'vect__description_tfidf__norm': 'l1', 'vect__fabricant_tfidf__analyzer': 'word', 'vect__fabricant_tfidf__max_features': 6928, 'vect__fabricant_tfidf__min_df': 3, 'vect__fabricant_tfidf__norm': 'l2', 'vect__action_pat_tfidf__max_features': 15019, 'vect__action_pat_tfidf__min_df': 2, 'vect__action_pat_tfidf__norm': 'l1', 'vect__classification_enc__max_features': 2633, 'vect__classification_enc__min_df': 5, 'vect__classification_enc__norm': 'l2'}. Best is trial#30 with value: 0.7702900216373278.\u001b[0m\n",
      "\u001b[32m[I 2020-06-04 15:29:55,632]\u001b[0m Finished trial#45 with value: 0.767919418803453 with parameters: {'vect__etat_pat_tfidf__max_features': 17500, 'vect__etat_pat_tfidf__min_df': 4, 'vect__etat_pat_tfidf__norm': 'l1', 'vect__description_tfidf__max_features': 21562, 'vect__description_tfidf__min_df': 1, 'vect__description_tfidf__norm': 'l1', 'vect__fabricant_tfidf__analyzer': 'word', 'vect__fabricant_tfidf__max_features': 8904, 'vect__fabricant_tfidf__min_df': 3, 'vect__fabricant_tfidf__norm': 'l2', 'vect__action_pat_tfidf__max_features': 13256, 'vect__action_pat_tfidf__min_df': 1, 'vect__action_pat_tfidf__norm': 'l1', 'vect__classification_enc__max_features': 2966, 'vect__classification_enc__min_df': 5, 'vect__classification_enc__norm': 'l2'}. Best is trial#30 with value: 0.7702900216373278.\u001b[0m\n",
      "\u001b[32m[I 2020-06-04 15:31:00,044]\u001b[0m Finished trial#46 with value: 0.7656697427220128 with parameters: {'vect__etat_pat_tfidf__max_features': 17290, 'vect__etat_pat_tfidf__min_df': 5, 'vect__etat_pat_tfidf__norm': 'l1', 'vect__description_tfidf__max_features': 21990, 'vect__description_tfidf__min_df': 1, 'vect__description_tfidf__norm': 'l1', 'vect__fabricant_tfidf__analyzer': 'word', 'vect__fabricant_tfidf__max_features': 8847, 'vect__fabricant_tfidf__min_df': 2, 'vect__fabricant_tfidf__norm': 'l2', 'vect__action_pat_tfidf__max_features': 11677, 'vect__action_pat_tfidf__min_df': 2, 'vect__action_pat_tfidf__norm': 'l1', 'vect__classification_enc__max_features': 1916, 'vect__classification_enc__min_df': 4, 'vect__classification_enc__norm': 'l2'}. Best is trial#30 with value: 0.7702900216373278.\u001b[0m\n",
      "\u001b[32m[I 2020-06-04 15:32:06,521]\u001b[0m Finished trial#47 with value: 0.7401357931804539 with parameters: {'vect__etat_pat_tfidf__max_features': 16932, 'vect__etat_pat_tfidf__min_df': 4, 'vect__etat_pat_tfidf__norm': 'l1', 'vect__description_tfidf__max_features': 24014, 'vect__description_tfidf__min_df': 1, 'vect__description_tfidf__norm': 'l2', 'vect__fabricant_tfidf__analyzer': 'char_wb', 'vect__fabricant_tfidf__max_features': 9941, 'vect__fabricant_tfidf__min_df': 3, 'vect__fabricant_tfidf__norm': 'l2', 'vect__action_pat_tfidf__max_features': 14601, 'vect__action_pat_tfidf__min_df': 1, 'vect__action_pat_tfidf__norm': 'l1', 'vect__classification_enc__max_features': 2321, 'vect__classification_enc__min_df': 5, 'vect__classification_enc__norm': 'l2'}. Best is trial#30 with value: 0.7702900216373278.\u001b[0m\n"
     ]
    }
   ],
   "source": [
    "time_out = 75*100\n",
    "studyName = 'GRAVITE_optimisation_svm'\n",
    "study = optuna.create_study(direction=\"maximize\")\n",
    "study.optimize(objective, timeout=time_out)\n",
    "\n",
    "#Suvegarde du resultat\n",
    "df = study.trials_dataframe()\n",
    "df.to_json(studyName+'.json')\n",
    "print(study.best_trial)"
   ]
  },
  {
   "cell_type": "markdown",
   "metadata": {},
   "source": [
    "## 2.3 Prédiction avec le SVM"
   ]
  },
  {
   "cell_type": "code",
   "execution_count": 17,
   "metadata": {},
   "outputs": [],
   "source": [
    "preprocess = ColumnTransformer(\n",
    "    [('etat_pat_tfidf_tfidf', TfidfVectorizer(sublinear_tf=True,\n",
    "                                         analyzer='word',\n",
    "                                         min_df=4,\n",
    "                                         ngram_range=(1, 1),\n",
    "                                         stop_words=STOP_WORDS,\n",
    "                                         max_features = 13463,\n",
    "                                         norm = 'l1'), 'ETAT_PATIENT'),\n",
    "     \n",
    "     ('action_pat_tfidf', TfidfVectorizer(sublinear_tf=True,\n",
    "                                         analyzer='word',\n",
    "                                         min_df=1,\n",
    "                                         ngram_range=(1, 1),\n",
    "                                         stop_words=STOP_WORDS,\n",
    "                                         max_features = 13735,\n",
    "                                         norm = 'l1'), 'ACTION_PATIENT'),\n",
    "     \n",
    "     ('description_tfidf',TfidfVectorizer(sublinear_tf=True,\n",
    "                                         min_df=1,\n",
    "                                         ngram_range=(1, 1),\n",
    "                                         stop_words=STOP_WORDS,\n",
    "                                         max_features = 22359,\n",
    "                                         norm = 'l1'), 'DESCRIPTION_INCIDENT'),\n",
    "     \n",
    "    ('fabricant_tfidf',TfidfVectorizer(sublinear_tf=True,\n",
    "                                         analyzer='word',\n",
    "                                         min_df=3,\n",
    "                                         ngram_range=(1, 1),\n",
    "                                         stop_words=STOP_WORDS,\n",
    "                                         max_features = 7836,\n",
    "                                         norm = 'l2'), 'FABRICANT'),\n",
    "    ('classification_enc',TfidfVectorizer(sublinear_tf=True,\n",
    "                                         analyzer='word',\n",
    "                                         min_df=5,\n",
    "                                         ngram_range=(1, 1),\n",
    "                                         stop_words=STOP_WORDS,\n",
    "                                         max_features = 2977,\n",
    "                                         norm = 'l2'), 'CLASSIFICATION')\n",
    "        ],\n",
    "    \n",
    "    remainder='passthrough')\n",
    "\n",
    "    "
   ]
  },
  {
   "cell_type": "code",
   "execution_count": 19,
   "metadata": {},
   "outputs": [
    {
     "name": "stdout",
     "output_type": "stream",
     "text": [
      "précision: 0.7354525503757399\n",
      "présision pondéré:  0.7567361506788588\n",
      "f1_weighted :  0.7461994757033263\n"
     ]
    }
   ],
   "source": [
    "pipeline = Pipeline([\n",
    "    ('vect', preprocess),\n",
    "    ('clf', OrdinalClassifier(CalibratedClassifierCV(LinearSVC(class_weight='balanced'),cv=3, method='isotonic')))\n",
    "])\n",
    "\n",
    "X = df_train[['DESCRIPTION_INCIDENT','ETAT_PATIENT','ACTION_PATIENT','FABRICANT','CLASSIFICATION']] # \n",
    "y = df_train.GRAVITE\n",
    "\n",
    "\n",
    "pipeline.fit(X,y)\n",
    "\n",
    "y_pred = pipeline.predict(df_test[['CLASSIFICATION','DESCRIPTION_INCIDENT','ETAT_PATIENT','ACTION_PATIENT','FABRICANT']])\n",
    "y_true = df_test.GRAVITE\n",
    "\n",
    "print('Justesse:',accuracy_score(y_pred,y_true))\n",
    "print('Justesse pondéré: ', balanced_accuracy_score(y_pred,y_true))\n",
    "print('f1_weighted : ',f1_score(y_pred,y_true,average='weighted'))"
   ]
  },
  {
   "cell_type": "code",
   "execution_count": null,
   "metadata": {},
   "outputs": [],
   "source": []
  }
 ],
 "metadata": {
  "kernelspec": {
   "display_name": "DGS-env",
   "language": "python",
   "name": "dgs-env"
  },
  "language_info": {
   "codemirror_mode": {
    "name": "ipython",
    "version": 3
   },
   "file_extension": ".py",
   "mimetype": "text/x-python",
   "name": "python",
   "nbconvert_exporter": "python",
   "pygments_lexer": "ipython3",
   "version": "3.7.4"
  }
 },
 "nbformat": 4,
 "nbformat_minor": 4
}
