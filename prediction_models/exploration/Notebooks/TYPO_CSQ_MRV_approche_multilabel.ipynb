{
 "cells": [
  {
   "cell_type": "markdown",
   "metadata": {},
   "source": [
    "#  Inférence des CONSEQUENCES dysfonctionnement  - Stratégie Multilabels\n",
    "Dans ce Notebook, nous cosntruisons un modèle qui permet d'inférer DYSFONCTIONNEMENT à partir de la classification de l'incident et des données textuelles\n",
    "\n",
    "Nous considérons ce problème comme un problème de classification multiclasses et multilabels. En effet, il y a plusieurs effets possibles et un incidents peut entrainer plusieurs effets.\n",
    "\n",
    "Ainsi, notre métrique d'évaluation sera le f1_samples\n",
    "\n",
    "Dans le Notebook précedent, nous n'avions pas pris en compte l'aspect multilabel et notre score était de  f1_weighted = 0,28.\n",
    "\n",
    "Volontairement dans un premier temps, nous ne modifions pas les paramères de notre modèle afin d'avaluer l'apport de la stratégie multilabelles."
   ]
  },
  {
   "cell_type": "code",
   "execution_count": 38,
   "metadata": {},
   "outputs": [],
   "source": [
    "import warnings\n",
    "warnings.filterwarnings('ignore')\n",
    "\n",
    "from pprint import pprint\n",
    "from time import time\n",
    "import logging\n",
    "\n",
    "import pandas as pd\n",
    "\n",
    "import numpy as np\n",
    "import sklearn as sk\n",
    "import seaborn as sns\n",
    "\n",
    "import nltk\n",
    "from nltk import word_tokenize\n",
    "lang ='french'\n",
    "\n",
    "import clean_text\n",
    "import skmultilearn\n",
    "\n",
    "\n",
    "\n",
    "\n",
    "import matplotlib.pyplot as plt\n",
    "\n",
    "from sklearn.ensemble import BaggingClassifier\n",
    "from sklearn.feature_extraction.text import TfidfVectorizer,HashingVectorizer\n",
    "from sklearn.preprocessing import LabelEncoder, MultiLabelBinarizer\n",
    "from sklearn.model_selection import train_test_split\n",
    "from sklearn.model_selection import GroupShuffleSplit, KFold, ShuffleSplit\n",
    "from sklearn.feature_extraction.text import TfidfTransformer,CountVectorizer\n",
    "from sklearn.naive_bayes import MultinomialNB\n",
    "from sklearn.linear_model import LogisticRegression\n",
    "from sklearn.ensemble import RandomForestClassifier\n",
    "from sklearn.svm import LinearSVC, SVC\n",
    "from sklearn.model_selection import cross_val_score, cross_validate\n",
    "\n",
    "from sklearn.metrics import confusion_matrix, accuracy_score, balanced_accuracy_score,f1_score,classification_report\n",
    "from sklearn import metrics\n",
    "from sklearn.linear_model import SGDClassifier\n",
    "from sklearn.decomposition import TruncatedSVD,IncrementalPCA,SparsePCA\n",
    "from sklearn.pipeline import Pipeline\n",
    "from sklearn.model_selection import GridSearchCV\n",
    "from sklearn.compose import ColumnTransformer\n",
    "from sklearn.calibration import CalibratedClassifierCV\n",
    "from sklearn.multiclass import OneVsRestClassifier\n",
    "\n",
    "import spacy\n",
    "nlp =spacy.load('fr')\n",
    "from spacy.lang.fr.stop_words import STOP_WORDS"
   ]
  },
  {
   "cell_type": "markdown",
   "metadata": {},
   "source": [
    "## 0.1 Chargement des données"
   ]
  },
  {
   "cell_type": "code",
   "execution_count": 30,
   "metadata": {},
   "outputs": [
    {
     "name": "stdout",
     "output_type": "stream",
     "text": [
      "CPU times: user 0 ns, sys: 0 ns, total: 0 ns\n",
      "Wall time: 86.8 µs\n"
     ]
    }
   ],
   "source": [
    "%time\n",
    "df_declaration_mrv = pd.read_csv(\"data/data_mrv/declaration_mrv_complet.csv\")#delimiter=';',encoding='ISO-8859-1')\n",
    "id_to_dco = pd.read_csv(\"data/ref_MRV/referentiel_dispositif.csv\",delimiter=';',encoding='ISO-8859-1')\n",
    "df_effets = pd.read_csv(\"data/ref_MRV/referentiel_dispositif_effets_connus.csv\",delimiter=';',encoding='ISO-8859-1')\n",
    "df_dys = pd.read_csv(\"data/ref_MRV/referentiel_dispositif_dysfonctionnement.csv\",delimiter=';',encoding='ISO-8859-1')"
   ]
  },
  {
   "cell_type": "markdown",
   "metadata": {},
   "source": [
    "## 0.2 Netoyage des données :\n",
    "- Elimination de l'effet : PAS D'EFFET NEFASTE DECLARE\n",
    "- Suppression des classes sous représentées (<15 occurences)\n",
    "- Netoyyage des donénes textuelles\n",
    "- Encodage de la classification et des effets"
   ]
  },
  {
   "cell_type": "code",
   "execution_count": 31,
   "metadata": {},
   "outputs": [
    {
     "data": {
      "text/plain": [
       "Index(['Unnamed: 0', 'NUMERO_DECLARATION', 'TYPE_DECLARATION',\n",
       "       'TYPE_DECLARANT', 'NB_PATIENT_CONCERNE', 'NB_DISPOSITIF_CONCERNE',\n",
       "       'DESCRIPTION_INCIDENT', 'ETAT_PATIENT', 'ACTION_PATIENT', 'DCO_ID',\n",
       "       'DCO', 'LIBELLE_COMMERCIAL', 'REFERENCE_COMMERCIALE', 'NUMERO_SERIE',\n",
       "       'NUMERO_LOT', 'FABRICANT', 'MANDATAIRE', 'DISTRIBUTEUR', 'TDY_ID',\n",
       "       'TYPE_DYSFONCTIONNEMENT', 'CDY_ID', 'CONSEQUENCE_DYSFONCTIONNEMENT',\n",
       "       'TEF_ID', 'TYPE_EFFET', 'GRAVITE', 'NUMERO', 'TYPE_VIGILANCE',\n",
       "       'CLASSIFICATION'],\n",
       "      dtype='object')"
      ]
     },
     "execution_count": 31,
     "metadata": {},
     "output_type": "execute_result"
    }
   ],
   "source": [
    "df_declaration_mrv.columns"
   ]
  },
  {
   "cell_type": "code",
   "execution_count": 68,
   "metadata": {},
   "outputs": [
    {
     "data": {
      "text/html": [
       "<div>\n",
       "<style scoped>\n",
       "    .dataframe tbody tr th:only-of-type {\n",
       "        vertical-align: middle;\n",
       "    }\n",
       "\n",
       "    .dataframe tbody tr th {\n",
       "        vertical-align: top;\n",
       "    }\n",
       "\n",
       "    .dataframe thead th {\n",
       "        text-align: right;\n",
       "    }\n",
       "</style>\n",
       "<table border=\"1\" class=\"dataframe\">\n",
       "  <thead>\n",
       "    <tr style=\"text-align: right;\">\n",
       "      <th></th>\n",
       "      <th>CDY_ID</th>\n",
       "      <th>CONSEQUENCE_DYSFONCTIONNEMENT</th>\n",
       "    </tr>\n",
       "  </thead>\n",
       "  <tbody>\n",
       "    <tr>\n",
       "      <th>0</th>\n",
       "      <td>C0</td>\n",
       "      <td>PAS DE CONSEQUENCE</td>\n",
       "    </tr>\n",
       "    <tr>\n",
       "      <th>12</th>\n",
       "      <td>C1032</td>\n",
       "      <td>FUITE</td>\n",
       "    </tr>\n",
       "    <tr>\n",
       "      <th>89</th>\n",
       "      <td>C1097</td>\n",
       "      <td>RETRAIT DU DM</td>\n",
       "    </tr>\n",
       "    <tr>\n",
       "      <th>113</th>\n",
       "      <td>C1098</td>\n",
       "      <td>HYSTERECTOMIE - SALPINGECTOMIE</td>\n",
       "    </tr>\n",
       "    <tr>\n",
       "      <th>195</th>\n",
       "      <td>C1037</td>\n",
       "      <td>MISE EN ALARME</td>\n",
       "    </tr>\n",
       "    <tr>\n",
       "      <th>...</th>\n",
       "      <td>...</td>\n",
       "      <td>...</td>\n",
       "    </tr>\n",
       "    <tr>\n",
       "      <th>70906</th>\n",
       "      <td>C1409</td>\n",
       "      <td>REMPLACEMENT PAR LE PRATICIEN</td>\n",
       "    </tr>\n",
       "    <tr>\n",
       "      <th>70921</th>\n",
       "      <td>C1398</td>\n",
       "      <td>AMENAGEMENT DU TRAITEMENT</td>\n",
       "    </tr>\n",
       "    <tr>\n",
       "      <th>72164</th>\n",
       "      <td>C1417</td>\n",
       "      <td>SECTION DE L'IMPLANT</td>\n",
       "    </tr>\n",
       "    <tr>\n",
       "      <th>72463</th>\n",
       "      <td>C1403</td>\n",
       "      <td>EXPLANTATION</td>\n",
       "    </tr>\n",
       "    <tr>\n",
       "      <th>76721</th>\n",
       "      <td>C1317</td>\n",
       "      <td>DM PERIME IMPLANTE</td>\n",
       "    </tr>\n",
       "  </tbody>\n",
       "</table>\n",
       "<p>63 rows × 2 columns</p>\n",
       "</div>"
      ],
      "text/plain": [
       "      CDY_ID   CONSEQUENCE_DYSFONCTIONNEMENT\n",
       "0         C0              PAS DE CONSEQUENCE\n",
       "12     C1032                           FUITE\n",
       "89     C1097                   RETRAIT DU DM\n",
       "113    C1098  HYSTERECTOMIE - SALPINGECTOMIE\n",
       "195    C1037                  MISE EN ALARME\n",
       "...      ...                             ...\n",
       "70906  C1409   REMPLACEMENT PAR LE PRATICIEN\n",
       "70921  C1398       AMENAGEMENT DU TRAITEMENT\n",
       "72164  C1417            SECTION DE L'IMPLANT\n",
       "72463  C1403                    EXPLANTATION\n",
       "76721  C1317              DM PERIME IMPLANTE\n",
       "\n",
       "[63 rows x 2 columns]"
      ]
     },
     "execution_count": 68,
     "metadata": {},
     "output_type": "execute_result"
    }
   ],
   "source": [
    "df_dys = pd.read_csv(\"data/ref_MRV/referentiel_dispositif_dysfonctionnement.csv\",delimiter=';',encoding='ISO-8859-1')\n",
    "df_csq = df_declaration_mrv[['CDY_ID', 'CONSEQUENCE_DYSFONCTIONNEMENT']].drop_duplicates()"
   ]
  },
  {
   "cell_type": "code",
   "execution_count": 32,
   "metadata": {},
   "outputs": [
    {
     "name": "stdout",
     "output_type": "stream",
     "text": [
      "23452\n",
      "23354\n",
      "CPU times: user 9.04 s, sys: 20 ms, total: 9.06 s\n",
      "Wall time: 9.06 s\n"
     ]
    }
   ],
   "source": [
    "%%time\n",
    "#On complète les effets vide comme étant sans effets\n",
    "df_declaration_mrv['TYPE_EFFET']  = df_declaration_mrv['TYPE_EFFET'].fillna(\"PAS D'EFFET NEFASTE DECLARE\")\n",
    "df_declaration_mrv['TEF_ID']= df_declaration_mrv['TEF_ID'].fillna('E1213')\n",
    "\n",
    "#\n",
    "df_declaration_mrv['TYPE_DYSFONCTIONNEMENT']  = df_declaration_mrv['TYPE_DYSFONCTIONNEMENT'].fillna(\"PAS DE DYSFONCTIONNEMENT\")\n",
    "df_declaration_mrv['TDY_ID']  = df_declaration_mrv['TDY_ID'].fillna(\"D0\")\n",
    "\n",
    "#\n",
    "df_declaration_mrv['CONSEQUENCE_DYSFONCTIONNEMENT']  = df_declaration_mrv['CONSEQUENCE_DYSFONCTIONNEMENT'].fillna(\"PAS DE CONSEQUENCE\")\n",
    "df_declaration_mrv['CDY_ID']  = df_declaration_mrv['CDY_ID'].fillna(\"C0\")\n",
    "\n",
    "#on selectionne les colonnes avec des effets\n",
    "df = df_declaration_mrv[['DESCRIPTION_INCIDENT','TYPE_VIGILANCE','LIBELLE_COMMERCIAL',\n",
    "                         'REFERENCE_COMMERCIALE','ETAT_PATIENT','FABRICANT','DCO_ID',\n",
    "                         'ACTION_PATIENT','CLASSIFICATION','CDY_ID']][df_declaration_mrv['CDY_ID']!='C0']\n",
    "\n",
    "# On complète les NaN avec du vide\n",
    "df['ETAT_PATIENT'] = df['ETAT_PATIENT'].fillna(\"\")\n",
    "df['DESCRIPTION_INCIDENT'] = df['DESCRIPTION_INCIDENT'].fillna(\"\")\n",
    "df['LIBELLE_COMMERCIAL'] = df['LIBELLE_COMMERCIAL'].fillna(\"\")\n",
    "df['FABRICANT'] = df['FABRICANT'].fillna(\"\")\n",
    "df[\"REFERENCE_COMMERCIALE\"] = df['REFERENCE_COMMERCIALE'].fillna(\"\")\n",
    "df['TYPE_VIGILANCE'] = df['TYPE_VIGILANCE'].fillna(\"\")\n",
    "df['CLASSIFICATION'] = df['CLASSIFICATION'].fillna('')\n",
    "df['DCO_ID'] = df['DCO_ID'].fillna(-1)\n",
    "#On nettoieles variables textueelles : \n",
    "\n",
    "for col in  ['DESCRIPTION_INCIDENT','LIBELLE_COMMERCIAL','ETAT_PATIENT','FABRICANT','ACTION_PATIENT'] :\n",
    "    df[col] = df[col].map(lambda x: clean_text.preprocess_text(x))\n",
    "\n",
    "\n",
    "print(len(df))\n",
    "n = 15\n",
    "# On filtre pour a voir plus de n observations par classse\n",
    "df = df.groupby(\"CDY_ID\").filter(lambda x: len(x) > n)\n",
    "print(len(df))\n",
    "le_v = LabelEncoder()\n",
    "df.TYPE_VIGILANCE = le_v.fit_transform(df.TYPE_VIGILANCE.values)\n",
    "le = LabelEncoder()\n",
    "df.CDY_ID = le.fit_transform(df.CDY_ID.values)\n",
    "\n",
    "df_m = df.groupby('DESCRIPTION_INCIDENT')['CDY_ID'].apply(list).reset_index(name='multilabels')\n",
    "\n",
    "\n",
    "df_ = pd.merge(df,df_m, on = 'DESCRIPTION_INCIDENT')\n",
    "df_['multilabels'] = df_['multilabels'].apply(np.array)\n",
    "df_['multilabels'] = df_['multilabels'].map(np.unique)\n",
    "\n",
    "#df_.to_csv('Multilabel_dataset.csv')\n",
    "\n",
    "#df_ = df_.drop_duplicates('DESCRIPTION_INCIDENT')"
   ]
  },
  {
   "cell_type": "code",
   "execution_count": 69,
   "metadata": {},
   "outputs": [
    {
     "data": {
      "text/plain": [
       "array(['C1021', 'C1023', 'C1024', 'C1025', 'C1027', 'C1028', 'C1030',\n",
       "       'C1031', 'C1032', 'C1033', 'C1035', 'C1036', 'C1037', 'C1038',\n",
       "       'C1039', 'C1040', 'C1041', 'C1042', 'C1043', 'C1044', 'C1045',\n",
       "       'C1046', 'C1047', 'C1048', 'C1052', 'C1078', 'C1097', 'C1098',\n",
       "       'C1117', 'C1137', 'C1257', 'C1277', 'C1297', 'C1298', 'C1320',\n",
       "       'C1357', 'C1402', 'C1404', 'C1405', 'C1411'], dtype=object)"
      ]
     },
     "execution_count": 69,
     "metadata": {},
     "output_type": "execute_result"
    }
   ],
   "source": [
    "le.inverse_transform(0)"
   ]
  },
  {
   "cell_type": "markdown",
   "metadata": {},
   "source": [
    "## 0.3 Construction du jeu de données d'entrainement et de test"
   ]
  },
  {
   "cell_type": "code",
   "execution_count": 33,
   "metadata": {},
   "outputs": [],
   "source": [
    "# selection des train et test set\n",
    "train_index,test_index = next(GroupShuffleSplit(random_state=1029).split(df_, groups=df_['DESCRIPTION_INCIDENT']))\n",
    "df_train, df_test = df_.iloc[train_index], df_.iloc[test_index]\n",
    "y = df_train.multilabels\n",
    "y_test =df_test.multilabels"
   ]
  },
  {
   "cell_type": "markdown",
   "metadata": {},
   "source": [
    "## 0.4 Encodage multilabel"
   ]
  },
  {
   "cell_type": "code",
   "execution_count": 60,
   "metadata": {},
   "outputs": [],
   "source": [
    "lb = MultiLabelBinarizer()\n",
    "y_lb =lb.fit_transform(y) \n",
    "y_test_lb = lb.transform(y_test)\n",
    "X = df_train[['FABRICANT','CLASSIFICATION','DESCRIPTION_INCIDENT','ETAT_PATIENT']]\n",
    "X_test = df_test[['FABRICANT','CLASSIFICATION','DESCRIPTION_INCIDENT','ETAT_PATIENT']]"
   ]
  },
  {
   "cell_type": "markdown",
   "metadata": {},
   "source": [
    "## 1.1 Construction du pipeline avec une stratégie ONE-VS-REST\n",
    "\n",
    "This strategy, also known as one-vs-all, is implemented in OneVsRestClassifier. The strategy consists in fitting one classifier per class. For each classifier, the class is fitted against all the other classes. In addition to its computational efficiency (only n_classes classifiers are needed), one advantage of this approach is its interpretability. Since each class is represented by one and only one classifier, it is possible to gain knowledge about the class by inspecting its corresponding classifier. This is the most commonly used strategy and is a fair default choice."
   ]
  },
  {
   "cell_type": "code",
   "execution_count": 61,
   "metadata": {},
   "outputs": [
    {
     "name": "stdout",
     "output_type": "stream",
     "text": [
      "CPU times: user 4 ms, sys: 4 ms, total: 8 ms\n",
      "Wall time: 5.84 ms\n"
     ]
    }
   ],
   "source": [
    "%%time\n",
    "preprocess = ColumnTransformer(\n",
    "    [('description_tfidf',TfidfVectorizer(sublinear_tf=True, min_df=3,\n",
    "                            ngram_range=(1, 1),\n",
    "                            stop_words=STOP_WORDS,\n",
    "                            max_features = 10000,norm = 'l2'), 'DESCRIPTION_INCIDENT'),\n",
    "     \n",
    "     ('etat_pat_tfidf', TfidfVectorizer(sublinear_tf=True, min_df=3,ngram_range=(1, 1),\n",
    "                                       stop_words=STOP_WORDS,\n",
    "                                       max_features = 10000,norm = 'l2'), 'ETAT_PATIENT'),\n",
    "     \n",
    "     ('fabricant_tfidf',TfidfVectorizer(sublinear_tf=True, min_df=3,\n",
    "                            ngram_range=(1, 1),\n",
    "                            stop_words=STOP_WORDS,\n",
    "                            max_features = 5000,norm = 'l2'), 'FABRICANT'),\n",
    "    \n",
    "    ('classification_enc', TfidfVectorizer(sublinear_tf=True, min_df=5,\n",
    "                            ngram_range=(1, 1),\n",
    "                            stop_words=STOP_WORDS,\n",
    "                            max_features = 100,norm = 'l2'),'CLASSIFICATION')\n",
    "     ],\n",
    "    \n",
    "    remainder='passthrough')\n",
    "\n",
    "\n",
    "pipeline = Pipeline([\n",
    "    ('vect', preprocess),\n",
    "    ('clf', OneVsRestClassifier(CalibratedClassifierCV(LinearSVC(class_weight='balanced'),cv=3, method='isotonic'))),\n",
    "])"
   ]
  },
  {
   "cell_type": "markdown",
   "metadata": {},
   "source": [
    "## 1.2 Evaluation du pipeline en cross validation : l'importance de la séparation train/test"
   ]
  },
  {
   "cell_type": "code",
   "execution_count": 39,
   "metadata": {},
   "outputs": [
    {
     "name": "stdout",
     "output_type": "stream",
     "text": [
      "CPU times: user 296 ms, sys: 472 ms, total: 768 ms\n",
      "Wall time: 30 s\n"
     ]
    },
    {
     "data": {
      "text/plain": [
       "nan"
      ]
     },
     "execution_count": 39,
     "metadata": {},
     "output_type": "execute_result"
    }
   ],
   "source": [
    "%%time\n",
    "cv = KFold(n_splits=5, random_state=0)\n",
    "result= cross_validate(pipeline, X, y_lb, scoring='f1_samples', cv=cv,n_jobs=-1)\n",
    "result['test_score'].mean()"
   ]
  },
  {
   "cell_type": "code",
   "execution_count": 40,
   "metadata": {},
   "outputs": [
    {
     "name": "stdout",
     "output_type": "stream",
     "text": [
      "CPU times: user 212 ms, sys: 148 ms, total: 360 ms\n",
      "Wall time: 37 s\n"
     ]
    },
    {
     "data": {
      "text/plain": [
       "0.9019684899982296"
      ]
     },
     "execution_count": 40,
     "metadata": {},
     "output_type": "execute_result"
    }
   ],
   "source": [
    "%%time\n",
    "cv = ShuffleSplit(n_splits=5, random_state=0)\n",
    "result= cross_validate(pipeline, X, y_lb, scoring='f1_samples', cv=cv,n_jobs=-1)\n",
    "result['test_score'].mean()"
   ]
  },
  {
   "cell_type": "markdown",
   "metadata": {},
   "source": [
    "## 1.3 Si on supprimer les doublons ?"
   ]
  },
  {
   "cell_type": "code",
   "execution_count": 42,
   "metadata": {},
   "outputs": [
    {
     "name": "stdout",
     "output_type": "stream",
     "text": [
      "f1_score samples :  0.6107124010554089\n"
     ]
    }
   ],
   "source": [
    "## Supression des doublons\n",
    "from iterstrat.ml_stratifiers import MultilabelStratifiedKFold\n",
    "\n",
    "\n",
    "df_s = df_.drop_duplicates('DESCRIPTION_INCIDENT')\n",
    "\n",
    "lb_s = MultiLabelBinarizer()\n",
    "y_s = df_s.multilabels\n",
    "y_s  = lb_s.fit_transform(y_s)\n",
    "\n",
    "df_s = df_s[['FABRICANT','CLASSIFICATION','TYPE_VIGILANCE','DESCRIPTION_INCIDENT','ETAT_PATIENT']]\n",
    "\n",
    "mskf = MultilabelStratifiedKFold(n_splits=2, random_state=0)\n",
    "\n",
    "train_index_s,test_index_s = next(mskf.split(df_s,y_s))\n",
    "df_train_s, df_test_s = df_s.iloc[train_index_s], df_s.iloc[test_index_s]\n",
    "y_train_s = y_s[train_index_s]\n",
    "y_test_s =y_s[test_index_s]\n",
    "\n",
    "#lb_s = MultiLabelBinarizer()\n",
    "#y_train_lb_s =lb_s.fit_transform(y_train_s) \n",
    "#y_test_lb_s = lb.transform(y_test_s)\n",
    "X_train_s = df_train_s[['FABRICANT','CLASSIFICATION','TYPE_VIGILANCE','DESCRIPTION_INCIDENT','ETAT_PATIENT']]\n",
    "X_test_s = df_test_s[['FABRICANT','CLASSIFICATION','TYPE_VIGILANCE','DESCRIPTION_INCIDENT','ETAT_PATIENT']]\n",
    "\n",
    "pipeline = Pipeline([\n",
    "    ('vect', preprocess),\n",
    "    ('clf', OneVsRestClassifier(LinearSVC(class_weight='balanced'))),\n",
    "])\n",
    "\n",
    "pipeline.fit(X_train_s,y_train_s)\n",
    "#y_test_lb = lb.transform(y_test)\n",
    "Y_pred_ovr_s = pipeline.predict(X_test_s)\n",
    "f1 = f1_score(y_test_s , Y_pred_ovr_s,average='samples')\n",
    "print('f1_score samples : ',f1)"
   ]
  },
  {
   "cell_type": "code",
   "execution_count": 43,
   "metadata": {
    "scrolled": true
   },
   "outputs": [
    {
     "name": "stdout",
     "output_type": "stream",
     "text": [
      "              precision    recall  f1-score   support\n",
      "\n",
      "           0       0.57      0.58      0.57        64\n",
      "           1       1.00      0.09      0.17        11\n",
      "           2       1.00      0.42      0.59        36\n",
      "           3       0.33      0.12      0.18         8\n",
      "           4       1.00      0.08      0.15        12\n",
      "           5       0.32      0.62      0.42        39\n",
      "           6       0.67      0.69      0.68        93\n",
      "           7       0.63      0.79      0.70       121\n",
      "           8       0.61      0.56      0.58       348\n",
      "           9       0.47      0.50      0.49       151\n",
      "          10       0.00      0.00      0.00         5\n",
      "          11       0.84      0.52      0.64        31\n",
      "          12       0.74      0.66      0.70       235\n",
      "          13       0.00      0.00      0.00         6\n",
      "          14       1.00      0.50      0.67         2\n",
      "          15       0.88      0.58      0.70        24\n",
      "          16       0.44      0.27      0.33        45\n",
      "          17       0.65      0.38      0.48        45\n",
      "          18       1.00      0.09      0.17        11\n",
      "          19       0.39      0.19      0.25        48\n",
      "          20       0.00      0.00      0.00         8\n",
      "          21       1.00      0.10      0.18        10\n",
      "          22       0.43      0.18      0.26        33\n",
      "          23       0.63      0.35      0.45        48\n",
      "          24       0.61      0.46      0.53        99\n",
      "          25       1.00      0.36      0.53        11\n",
      "          26       0.79      0.79      0.79      1512\n",
      "          27       0.70      0.86      0.77       415\n",
      "          28       0.30      0.05      0.09        60\n",
      "          29       0.73      0.75      0.74       510\n",
      "          30       0.00      0.00      0.00         6\n",
      "          31       0.68      0.66      0.67       201\n",
      "          32       0.67      0.29      0.40        14\n",
      "          33       0.00      0.00      0.00         8\n",
      "          34       1.00      0.33      0.50         3\n",
      "          35       0.50      0.11      0.18         9\n",
      "          36       0.00      0.00      0.00        13\n",
      "          37       0.33      0.07      0.12        14\n",
      "          38       0.23      0.14      0.17        22\n",
      "          39       1.00      0.06      0.11        18\n",
      "\n",
      "   micro avg       0.70      0.67      0.68      4349\n",
      "   macro avg       0.58      0.33      0.37      4349\n",
      "weighted avg       0.69      0.67      0.67      4349\n",
      " samples avg       0.60      0.65      0.61      4349\n",
      "\n"
     ]
    }
   ],
   "source": [
    "print(classification_report(y_test_s , Y_pred_ovr_s))"
   ]
  },
  {
   "cell_type": "markdown",
   "metadata": {},
   "source": [
    "## 1.3 Evaluation du pipeline sur les données de test\n",
    "### Avec le SVM probabilisé"
   ]
  },
  {
   "cell_type": "code",
   "execution_count": 62,
   "metadata": {},
   "outputs": [
    {
     "name": "stdout",
     "output_type": "stream",
     "text": [
      "f1_score samples :  0.7317596882123686\n",
      "CPU times: user 28 s, sys: 76 ms, total: 28.1 s\n",
      "Wall time: 28.1 s\n"
     ]
    }
   ],
   "source": [
    "%%time\n",
    "pipeline.fit(X,y_lb)\n",
    "#y_test_lb = lb.transform(y_test)\n",
    "Y_pred_ovr = pipeline.predict(X_test)\n",
    "f1 = f1_score(y_test_lb , Y_pred_ovr,average='samples')\n",
    "print('f1_score samples : ',f1)"
   ]
  },
  {
   "cell_type": "code",
   "execution_count": 45,
   "metadata": {
    "scrolled": true
   },
   "outputs": [
    {
     "name": "stdout",
     "output_type": "stream",
     "text": [
      "              precision    recall  f1-score   support\n",
      "\n",
      "           0       0.33      0.50      0.40        22\n",
      "           1       0.00      0.00      0.00         1\n",
      "           2       0.77      0.67      0.71        30\n",
      "           3       0.00      0.00      0.00        13\n",
      "           4       1.00      0.50      0.67         4\n",
      "           5       0.27      0.30      0.28        27\n",
      "           6       0.76      0.76      0.76        59\n",
      "           7       0.62      0.77      0.69        70\n",
      "           8       0.69      0.68      0.69       218\n",
      "           9       0.47      0.50      0.48       125\n",
      "          10       0.00      0.00      0.00         0\n",
      "          11       0.89      0.77      0.83        22\n",
      "          12       0.73      0.73      0.73       138\n",
      "          13       0.00      0.00      0.00         1\n",
      "          14       0.00      0.00      0.00         6\n",
      "          15       0.86      0.46      0.60        13\n",
      "          16       0.85      0.52      0.64        33\n",
      "          17       0.75      0.52      0.61        29\n",
      "          18       0.00      0.00      0.00        10\n",
      "          19       0.44      0.22      0.29        32\n",
      "          20       0.00      0.00      0.00         6\n",
      "          21       0.00      0.00      0.00         3\n",
      "          22       0.76      0.66      0.70        29\n",
      "          23       0.73      0.30      0.42        37\n",
      "          24       0.74      0.70      0.72        69\n",
      "          25       1.00      0.51      0.68        41\n",
      "          26       0.94      0.89      0.91      3051\n",
      "          27       0.85      0.75      0.80      1927\n",
      "          28       0.33      0.07      0.12       215\n",
      "          29       0.74      0.74      0.74       350\n",
      "          30       0.00      0.00      0.00         4\n",
      "          31       0.80      0.68      0.74       111\n",
      "          32       0.72      0.86      0.78        21\n",
      "          33       0.00      0.00      0.00         8\n",
      "          34       0.00      0.00      0.00         1\n",
      "          35       0.00      0.00      0.00        32\n",
      "          36       0.00      0.00      0.00         6\n",
      "          37       0.50      0.22      0.31         9\n",
      "          38       0.71      0.63      0.67        19\n",
      "          39       0.00      0.00      0.00        10\n",
      "\n",
      "   micro avg       0.85      0.76      0.80      6802\n",
      "   macro avg       0.46      0.37      0.40      6802\n",
      "weighted avg       0.83      0.76      0.79      6802\n",
      " samples avg       0.78      0.75      0.74      6802\n",
      "\n"
     ]
    }
   ],
   "source": [
    "print(classification_report(y_test_lb , Y_pred_ovr))"
   ]
  },
  {
   "cell_type": "code",
   "execution_count": 63,
   "metadata": {},
   "outputs": [
    {
     "data": {
      "text/plain": [
       "['CONSEQUENCE_model_0_73.sav']"
      ]
     },
     "execution_count": 63,
     "metadata": {},
     "output_type": "execute_result"
    }
   ],
   "source": [
    "import joblib\n",
    "filename = 'Encoder_consequence.sav'\n",
    "joblib.dump(le, filename)\n",
    "filename = 'CONSEQUENCE_model_0_73.sav'\n",
    "joblib.dump(pipeline, filename)"
   ]
  },
  {
   "cell_type": "markdown",
   "metadata": {},
   "source": [
    "### Sans le SVM probabilisé"
   ]
  },
  {
   "cell_type": "code",
   "execution_count": 46,
   "metadata": {},
   "outputs": [],
   "source": [
    "pipeline = Pipeline([\n",
    "    ('vect', preprocess),\n",
    "    ('clf', OneVsRestClassifier(LinearSVC(class_weight='balanced'))),\n",
    "])"
   ]
  },
  {
   "cell_type": "code",
   "execution_count": 47,
   "metadata": {},
   "outputs": [
    {
     "name": "stdout",
     "output_type": "stream",
     "text": [
      "f1_score samples :  0.7387013751011102\n",
      "CPU times: user 15.4 s, sys: 32 ms, total: 15.5 s\n",
      "Wall time: 15.5 s\n"
     ]
    }
   ],
   "source": [
    "%%time\n",
    "pipeline.fit(X,y_lb)\n",
    "Y_pred_ovr = pipeline.predict(X_test)\n",
    "f1 = f1_score(y_test_lb , Y_pred_ovr,average='samples')\n",
    "print('f1_score samples : ',f1)"
   ]
  },
  {
   "cell_type": "code",
   "execution_count": 48,
   "metadata": {
    "scrolled": true
   },
   "outputs": [
    {
     "name": "stdout",
     "output_type": "stream",
     "text": [
      "              precision    recall  f1-score   support\n",
      "\n",
      "           0       0.33      0.50      0.40        22\n",
      "           1       0.00      0.00      0.00         1\n",
      "           2       0.77      0.67      0.71        30\n",
      "           3       0.00      0.00      0.00        13\n",
      "           4       1.00      0.50      0.67         4\n",
      "           5       0.27      0.30      0.28        27\n",
      "           6       0.76      0.76      0.76        59\n",
      "           7       0.62      0.77      0.69        70\n",
      "           8       0.69      0.68      0.69       218\n",
      "           9       0.47      0.50      0.48       125\n",
      "          10       0.00      0.00      0.00         0\n",
      "          11       0.89      0.77      0.83        22\n",
      "          12       0.73      0.73      0.73       138\n",
      "          13       0.00      0.00      0.00         1\n",
      "          14       0.00      0.00      0.00         6\n",
      "          15       0.86      0.46      0.60        13\n",
      "          16       0.85      0.52      0.64        33\n",
      "          17       0.75      0.52      0.61        29\n",
      "          18       0.00      0.00      0.00        10\n",
      "          19       0.44      0.22      0.29        32\n",
      "          20       0.00      0.00      0.00         6\n",
      "          21       0.00      0.00      0.00         3\n",
      "          22       0.76      0.66      0.70        29\n",
      "          23       0.73      0.30      0.42        37\n",
      "          24       0.74      0.70      0.72        69\n",
      "          25       1.00      0.51      0.68        41\n",
      "          26       0.94      0.89      0.91      3051\n",
      "          27       0.85      0.75      0.80      1927\n",
      "          28       0.33      0.07      0.12       215\n",
      "          29       0.74      0.74      0.74       350\n",
      "          30       0.00      0.00      0.00         4\n",
      "          31       0.80      0.68      0.74       111\n",
      "          32       0.72      0.86      0.78        21\n",
      "          33       0.00      0.00      0.00         8\n",
      "          34       0.00      0.00      0.00         1\n",
      "          35       0.00      0.00      0.00        32\n",
      "          36       0.00      0.00      0.00         6\n",
      "          37       0.50      0.22      0.31         9\n",
      "          38       0.71      0.63      0.67        19\n",
      "          39       0.00      0.00      0.00        10\n",
      "\n",
      "   micro avg       0.85      0.76      0.80      6802\n",
      "   macro avg       0.46      0.37      0.40      6802\n",
      "weighted avg       0.83      0.76      0.79      6802\n",
      " samples avg       0.78      0.75      0.74      6802\n",
      "\n"
     ]
    }
   ],
   "source": [
    "print(classification_report(y_test_lb , Y_pred_ovr))"
   ]
  },
  {
   "cell_type": "code",
   "execution_count": 49,
   "metadata": {},
   "outputs": [
    {
     "name": "stdout",
     "output_type": "stream",
     "text": [
      "f1_score samples :  0.7387013751011102\n"
     ]
    }
   ],
   "source": [
    "print('f1_score samples : ',f1)"
   ]
  },
  {
   "cell_type": "code",
   "execution_count": 50,
   "metadata": {
    "scrolled": true
   },
   "outputs": [
    {
     "name": "stdout",
     "output_type": "stream",
     "text": [
      "              precision    recall  f1-score   support\n",
      "\n",
      "           0       0.33      0.50      0.40        22\n",
      "           1       0.00      0.00      0.00         1\n",
      "           2       0.77      0.67      0.71        30\n",
      "           3       0.00      0.00      0.00        13\n",
      "           4       1.00      0.50      0.67         4\n",
      "           5       0.27      0.30      0.28        27\n",
      "           6       0.76      0.76      0.76        59\n",
      "           7       0.62      0.77      0.69        70\n",
      "           8       0.69      0.68      0.69       218\n",
      "           9       0.47      0.50      0.48       125\n",
      "          10       0.00      0.00      0.00         0\n",
      "          11       0.89      0.77      0.83        22\n",
      "          12       0.73      0.73      0.73       138\n",
      "          13       0.00      0.00      0.00         1\n",
      "          14       0.00      0.00      0.00         6\n",
      "          15       0.86      0.46      0.60        13\n",
      "          16       0.85      0.52      0.64        33\n",
      "          17       0.75      0.52      0.61        29\n",
      "          18       0.00      0.00      0.00        10\n",
      "          19       0.44      0.22      0.29        32\n",
      "          20       0.00      0.00      0.00         6\n",
      "          21       0.00      0.00      0.00         3\n",
      "          22       0.76      0.66      0.70        29\n",
      "          23       0.73      0.30      0.42        37\n",
      "          24       0.74      0.70      0.72        69\n",
      "          25       1.00      0.51      0.68        41\n",
      "          26       0.94      0.89      0.91      3051\n",
      "          27       0.85      0.75      0.80      1927\n",
      "          28       0.33      0.07      0.12       215\n",
      "          29       0.74      0.74      0.74       350\n",
      "          30       0.00      0.00      0.00         4\n",
      "          31       0.80      0.68      0.74       111\n",
      "          32       0.72      0.86      0.78        21\n",
      "          33       0.00      0.00      0.00         8\n",
      "          34       0.00      0.00      0.00         1\n",
      "          35       0.00      0.00      0.00        32\n",
      "          36       0.00      0.00      0.00         6\n",
      "          37       0.50      0.22      0.31         9\n",
      "          38       0.71      0.63      0.67        19\n",
      "          39       0.00      0.00      0.00        10\n",
      "\n",
      "   micro avg       0.85      0.76      0.80      6802\n",
      "   macro avg       0.46      0.37      0.40      6802\n",
      "weighted avg       0.83      0.76      0.79      6802\n",
      " samples avg       0.78      0.75      0.74      6802\n",
      "\n"
     ]
    }
   ],
   "source": [
    "print(classification_report(y_test_lb , Y_pred_ovr))"
   ]
  },
  {
   "cell_type": "markdown",
   "metadata": {},
   "source": [
    "## Commentaire : \n",
    "#### **Les principaux enseignements sont les suivants :**\n",
    "1)  L'approche multilabels est pertinente : Nous obtenons enfin un score \"correct\" 0.55 qui se rapproche de la précision à 4 du model simple Label. Ce qui est assez cohérent car il y a en moyenne 4 classes par evénement. Cela signifie que nous avons simplement tirer partie de la métrique mais que notre modèle n'apprend pas mieux... Dommage ! C'est en fait assez logique car le SVM en multiclasse applique déja une stratégie One vs REST\n",
    "\n",
    "2)  Elle est pertinente.. Mais moins qu'on pourrait le penser avec la shuffle validation : comme le montre la différence entre le Kfold et le ShuffleSplit, les doublons joue un rôle important. Cette différence s'explique apr le fait que les doublons joue un rôle important dans notre base de données car ils ne sont pas exactement des \"doublons\". De plus ils nous permettent, de tenir compte de la proportion des classes dans notre evaluation.\n",
    "\n",
    "3) Cette approche multilabels combinée avec la probalisation du SVM est couteuse en temps de construction de modèle et nous devrons le prendre en compte dans notre approche de finetuning.\n",
    "\n",
    "#### **Les pistes d'améliorations sont :**\n",
    "\n",
    "1) Finetuner le modèle pour vérifier que notre jeu de paramètre n'est pas un cas particulier de performances \n",
    "\n",
    "\n",
    "2) Essayer une approche\n",
    "- MultiOutputClassifier\n",
    "- ClassifierChain https://scikit-learn.org/stable/auto_examples/multioutput/plot_classifier_chain_yeast.html\n",
    "\n",
    "3) Essayer le one-sht learning"
   ]
  },
  {
   "cell_type": "markdown",
   "metadata": {},
   "source": [
    "## 2.1 Optune et la marge de progression du modèle\n",
    "Pour le finetunning, nous enlevons la probabilisation du modèle"
   ]
  },
  {
   "cell_type": "code",
   "execution_count": 180,
   "metadata": {},
   "outputs": [],
   "source": [
    "pipeline = Pipeline([\n",
    "    ('vect', preprocess),\n",
    "    ('clf', OneVsRestClassifier(LinearSVC(class_weight='balanced'))),\n",
    "])"
   ]
  },
  {
   "cell_type": "code",
   "execution_count": 184,
   "metadata": {},
   "outputs": [],
   "source": [
    "import optuna\n",
    "from optuna import Trial\n",
    "\n",
    "def objective(trial):    \n",
    "    \n",
    "    train_index,test_index = next(GroupShuffleSplit(random_state=1029).split(X, groups=X['DESCRIPTION_INCIDENT']))\n",
    "    X_train, X_test = X.iloc[train_index], X.iloc[test_index]\n",
    "    y_train, y_test = y.iloc[train_index], y.iloc[test_index]\n",
    "    \n",
    "    y_train_lb = lb.transform(y_train)\n",
    "    y_test_lb = lb.transform(y_test)\n",
    "    \n",
    "    #Etat Patient\n",
    "    #vect__etat_pat_tfidf__analyzer = trial.suggest_categorical('vect__etat_pat_tfidf__analyzer', ['word', 'char', 'char_wb']) \n",
    "    vect__etat_pat_tfidf__max_features = trial.suggest_int('vect__etat_pat_tfidf__max_features', 500, 20_000)\n",
    "    vect__etat_pat_tfidf__min_df =  trial.suggest_int('vect__etat_pat_tfidf__min_df', 1,5)\n",
    "    vect__etat_pat_tfidf__norm = trial.suggest_categorical('vect__etat_pat_tfidf__norm', ('l1', 'l2'))\n",
    "    #Description\n",
    "    #vect__description_tfidf__analyzer = trial.suggest_categorical('vect__description_tfidf__analyzer', ['word', 'char', 'char_wb']) \n",
    "    vect__description_tfidf__max_features = trial.suggest_int('vect__description_tfidf__max_features', 1500, 60_000)\n",
    "    vect__description_tfidf__min_df =  trial.suggest_int('vect__description_tfidf__min_df', 1,5)\n",
    "    vect__description_tfidf__norm = trial.suggest_categorical('vect__description_tfidf__norm', ('l1', 'l2'))\n",
    "    #Fabricant\n",
    "    vect__fabricant_tfidf__analyzer = trial.suggest_categorical('vect__fabricant_tfidf__analyzer', ['word', 'char', 'char_wb']) \n",
    "    vect__fabricant_tfidf__max_features = trial.suggest_int('vect__fabricant_tfidf__max_features', 500, 10_000)\n",
    "    vect__fabricant_tfidf__min_df =  trial.suggest_int('vect__fabricant_tfidf__min_df', 1,5)\n",
    "    vect__fabricant_tfidf__norm = trial.suggest_categorical('vect__fabricant_tfidf__norm', ('l1', 'l2'))\n",
    "    #action patient\n",
    "    \n",
    "    #Classification\n",
    "    vect__classification_enc__analyzer = trial.suggest_categorical('vect__classification_enc__analyzer', ['word', 'char', 'char_wb']) \n",
    "    vect__classification_enc__max_features = trial.suggest_int('vect__classification_enc__max_features', 500, 5000)\n",
    "    vect__classification_enc__min_df =  trial.suggest_int('vect__classification_enc__min_df', 1,5)\n",
    "    vect__classification_enc__norm = trial.suggest_categorical('vect__classification_enc__norm', ('l1', 'l2'))\n",
    "    \n",
    "    #clf__C =trial.suggest_loguniform('svr_c', 1e-5, 1e5)\n",
    "    \n",
    "\n",
    "    \n",
    "    params = {\n",
    "        #'vect__etat_pat_tfidf__analyzer':vect__etat_pat_tfidf__analyzer,\n",
    "        'vect__etat_pat_tfidf__max_features': vect__etat_pat_tfidf__max_features,\n",
    "        'vect__etat_pat_tfidf__min_df':vect__etat_pat_tfidf__min_df,\n",
    "        'vect__etat_pat_tfidf__norm':vect__etat_pat_tfidf__norm,\n",
    "        \n",
    "        #'vect__description_tfidf__analyzer':vect__description_tfidf__analyzer,\n",
    "        'vect__description_tfidf__max_features': vect__description_tfidf__max_features,\n",
    "        'vect__description_tfidf__min_df':vect__description_tfidf__min_df,\n",
    "        'vect__description_tfidf__norm':vect__description_tfidf__norm,\n",
    "        \n",
    "        'vect__fabricant_tfidf__analyzer':vect__fabricant_tfidf__analyzer,\n",
    "        'vect__fabricant_tfidf__max_features': vect__fabricant_tfidf__max_features,\n",
    "        'vect__fabricant_tfidf__min_df':vect__fabricant_tfidf__min_df,\n",
    "        'vect__fabricant_tfidf__norm':vect__fabricant_tfidf__norm,\n",
    "        \n",
    "        \n",
    "        'vect__classification_enc__analyzer':vect__classification_enc__analyzer,\n",
    "        'vect__classification_enc__max_features': vect__classification_enc__max_features,\n",
    "        'vect__classification_enc__min_df':vect__classification_enc__min_df,\n",
    "        'vect__classification_enc__norm':vect__classification_enc__norm,\n",
    "        \n",
    "        #'clf__C':clf__C\n",
    "    }\n",
    "    \n",
    "    pipeline.set_params(**params)\n",
    "    pipeline.fit(X_train,y_train_lb)\n",
    "    Y_pred_ovr = pipeline.predict(X_test)\n",
    "    score = f1_score(y_test_lb , Y_pred_ovr,average='samples')\n",
    "    \n",
    "    return score"
   ]
  },
  {
   "cell_type": "code",
   "execution_count": 185,
   "metadata": {
    "scrolled": true
   },
   "outputs": [
    {
     "name": "stderr",
     "output_type": "stream",
     "text": [
      "\u001b[32m[I 2020-06-10 18:43:30,547]\u001b[0m Finished trial#0 with value: 0.5268400357946823 with parameters: {'vect__etat_pat_tfidf__max_features': 9211, 'vect__etat_pat_tfidf__min_df': 4, 'vect__etat_pat_tfidf__norm': 'l2', 'vect__description_tfidf__max_features': 34910, 'vect__description_tfidf__min_df': 4, 'vect__description_tfidf__norm': 'l1', 'vect__fabricant_tfidf__analyzer': 'char_wb', 'vect__fabricant_tfidf__max_features': 7623, 'vect__fabricant_tfidf__min_df': 3, 'vect__fabricant_tfidf__norm': 'l1', 'vect__action_pat_tfidf__analyzer': 'char', 'vect__classification_enc__max_features': 3078, 'vect__classification_enc__min_df': 5, 'vect__classification_enc__norm': 'l1'}. Best is trial#0 with value: 0.5268400357946823.\u001b[0m\n",
      "\u001b[32m[I 2020-06-10 18:45:45,297]\u001b[0m Finished trial#1 with value: 0.5314562900155817 with parameters: {'vect__etat_pat_tfidf__max_features': 2892, 'vect__etat_pat_tfidf__min_df': 1, 'vect__etat_pat_tfidf__norm': 'l2', 'vect__description_tfidf__max_features': 36279, 'vect__description_tfidf__min_df': 3, 'vect__description_tfidf__norm': 'l1', 'vect__fabricant_tfidf__analyzer': 'word', 'vect__fabricant_tfidf__max_features': 4229, 'vect__fabricant_tfidf__min_df': 4, 'vect__fabricant_tfidf__norm': 'l2', 'vect__action_pat_tfidf__analyzer': 'char_wb', 'vect__classification_enc__max_features': 665, 'vect__classification_enc__min_df': 5, 'vect__classification_enc__norm': 'l2'}. Best is trial#1 with value: 0.5314562900155817.\u001b[0m\n",
      "\u001b[32m[I 2020-06-10 18:47:22,640]\u001b[0m Finished trial#2 with value: 0.5603574460513823 with parameters: {'vect__etat_pat_tfidf__max_features': 16840, 'vect__etat_pat_tfidf__min_df': 2, 'vect__etat_pat_tfidf__norm': 'l2', 'vect__description_tfidf__max_features': 9083, 'vect__description_tfidf__min_df': 5, 'vect__description_tfidf__norm': 'l2', 'vect__fabricant_tfidf__analyzer': 'word', 'vect__fabricant_tfidf__max_features': 7423, 'vect__fabricant_tfidf__min_df': 2, 'vect__fabricant_tfidf__norm': 'l1', 'vect__action_pat_tfidf__analyzer': 'char_wb', 'vect__classification_enc__max_features': 4127, 'vect__classification_enc__min_df': 2, 'vect__classification_enc__norm': 'l1'}. Best is trial#2 with value: 0.5603574460513823.\u001b[0m\n",
      "\u001b[32m[I 2020-06-10 18:50:27,843]\u001b[0m Finished trial#3 with value: 0.5267247097317531 with parameters: {'vect__etat_pat_tfidf__max_features': 11601, 'vect__etat_pat_tfidf__min_df': 3, 'vect__etat_pat_tfidf__norm': 'l2', 'vect__description_tfidf__max_features': 32520, 'vect__description_tfidf__min_df': 4, 'vect__description_tfidf__norm': 'l1', 'vect__fabricant_tfidf__analyzer': 'char_wb', 'vect__fabricant_tfidf__max_features': 8702, 'vect__fabricant_tfidf__min_df': 4, 'vect__fabricant_tfidf__norm': 'l2', 'vect__action_pat_tfidf__analyzer': 'char', 'vect__classification_enc__max_features': 845, 'vect__classification_enc__min_df': 1, 'vect__classification_enc__norm': 'l2'}. Best is trial#2 with value: 0.5603574460513823.\u001b[0m\n",
      "\u001b[32m[I 2020-06-10 18:53:24,559]\u001b[0m Finished trial#4 with value: 0.5299157604790384 with parameters: {'vect__etat_pat_tfidf__max_features': 6628, 'vect__etat_pat_tfidf__min_df': 1, 'vect__etat_pat_tfidf__norm': 'l2', 'vect__description_tfidf__max_features': 8463, 'vect__description_tfidf__min_df': 1, 'vect__description_tfidf__norm': 'l1', 'vect__fabricant_tfidf__analyzer': 'char', 'vect__fabricant_tfidf__max_features': 6522, 'vect__fabricant_tfidf__min_df': 5, 'vect__fabricant_tfidf__norm': 'l2', 'vect__action_pat_tfidf__analyzer': 'char', 'vect__classification_enc__max_features': 3901, 'vect__classification_enc__min_df': 3, 'vect__classification_enc__norm': 'l2'}. Best is trial#2 with value: 0.5603574460513823.\u001b[0m\n",
      "\u001b[32m[I 2020-06-10 18:55:31,384]\u001b[0m Finished trial#5 with value: 0.5569012836602969 with parameters: {'vect__etat_pat_tfidf__max_features': 13070, 'vect__etat_pat_tfidf__min_df': 2, 'vect__etat_pat_tfidf__norm': 'l2', 'vect__description_tfidf__max_features': 52351, 'vect__description_tfidf__min_df': 5, 'vect__description_tfidf__norm': 'l2', 'vect__fabricant_tfidf__analyzer': 'char_wb', 'vect__fabricant_tfidf__max_features': 8426, 'vect__fabricant_tfidf__min_df': 1, 'vect__fabricant_tfidf__norm': 'l2', 'vect__action_pat_tfidf__analyzer': 'char_wb', 'vect__classification_enc__max_features': 4600, 'vect__classification_enc__min_df': 3, 'vect__classification_enc__norm': 'l2'}. Best is trial#2 with value: 0.5603574460513823.\u001b[0m\n",
      "\u001b[32m[I 2020-06-10 18:57:37,051]\u001b[0m Finished trial#6 with value: 0.5564728834793602 with parameters: {'vect__etat_pat_tfidf__max_features': 10984, 'vect__etat_pat_tfidf__min_df': 5, 'vect__etat_pat_tfidf__norm': 'l1', 'vect__description_tfidf__max_features': 41634, 'vect__description_tfidf__min_df': 4, 'vect__description_tfidf__norm': 'l2', 'vect__fabricant_tfidf__analyzer': 'char_wb', 'vect__fabricant_tfidf__max_features': 4727, 'vect__fabricant_tfidf__min_df': 4, 'vect__fabricant_tfidf__norm': 'l2', 'vect__action_pat_tfidf__analyzer': 'char_wb', 'vect__classification_enc__max_features': 4443, 'vect__classification_enc__min_df': 2, 'vect__classification_enc__norm': 'l2'}. Best is trial#2 with value: 0.5603574460513823.\u001b[0m\n",
      "\u001b[32m[I 2020-06-10 18:59:19,849]\u001b[0m Finished trial#7 with value: 0.5585375018330276 with parameters: {'vect__etat_pat_tfidf__max_features': 3333, 'vect__etat_pat_tfidf__min_df': 5, 'vect__etat_pat_tfidf__norm': 'l1', 'vect__description_tfidf__max_features': 40931, 'vect__description_tfidf__min_df': 5, 'vect__description_tfidf__norm': 'l2', 'vect__fabricant_tfidf__analyzer': 'word', 'vect__fabricant_tfidf__max_features': 5326, 'vect__fabricant_tfidf__min_df': 2, 'vect__fabricant_tfidf__norm': 'l2', 'vect__action_pat_tfidf__analyzer': 'char_wb', 'vect__classification_enc__max_features': 4529, 'vect__classification_enc__min_df': 1, 'vect__classification_enc__norm': 'l2'}. Best is trial#2 with value: 0.5603574460513823.\u001b[0m\n",
      "\u001b[32m[I 2020-06-10 19:02:25,653]\u001b[0m Finished trial#8 with value: 0.5539287245771842 with parameters: {'vect__etat_pat_tfidf__max_features': 6169, 'vect__etat_pat_tfidf__min_df': 5, 'vect__etat_pat_tfidf__norm': 'l1', 'vect__description_tfidf__max_features': 38722, 'vect__description_tfidf__min_df': 5, 'vect__description_tfidf__norm': 'l1', 'vect__fabricant_tfidf__analyzer': 'word', 'vect__fabricant_tfidf__max_features': 1261, 'vect__fabricant_tfidf__min_df': 1, 'vect__fabricant_tfidf__norm': 'l2', 'vect__action_pat_tfidf__analyzer': 'char_wb', 'vect__classification_enc__max_features': 1984, 'vect__classification_enc__min_df': 1, 'vect__classification_enc__norm': 'l2'}. Best is trial#2 with value: 0.5603574460513823.\u001b[0m\n",
      "\u001b[32m[I 2020-06-10 19:04:39,162]\u001b[0m Finished trial#9 with value: 0.5284500436934877 with parameters: {'vect__etat_pat_tfidf__max_features': 1694, 'vect__etat_pat_tfidf__min_df': 2, 'vect__etat_pat_tfidf__norm': 'l2', 'vect__description_tfidf__max_features': 35899, 'vect__description_tfidf__min_df': 4, 'vect__description_tfidf__norm': 'l1', 'vect__fabricant_tfidf__analyzer': 'char', 'vect__fabricant_tfidf__max_features': 7398, 'vect__fabricant_tfidf__min_df': 1, 'vect__fabricant_tfidf__norm': 'l1', 'vect__action_pat_tfidf__analyzer': 'word', 'vect__classification_enc__max_features': 977, 'vect__classification_enc__min_df': 5, 'vect__classification_enc__norm': 'l1'}. Best is trial#2 with value: 0.5603574460513823.\u001b[0m\n",
      "\u001b[32m[I 2020-06-10 19:05:42,375]\u001b[0m Finished trial#10 with value: 0.5616248167403621 with parameters: {'vect__etat_pat_tfidf__max_features': 19534, 'vect__etat_pat_tfidf__min_df': 3, 'vect__etat_pat_tfidf__norm': 'l2', 'vect__description_tfidf__max_features': 3707, 'vect__description_tfidf__min_df': 1, 'vect__description_tfidf__norm': 'l2', 'vect__fabricant_tfidf__analyzer': 'word', 'vect__fabricant_tfidf__max_features': 9998, 'vect__fabricant_tfidf__min_df': 2, 'vect__fabricant_tfidf__norm': 'l1', 'vect__action_pat_tfidf__analyzer': 'word', 'vect__classification_enc__max_features': 3319, 'vect__classification_enc__min_df': 2, 'vect__classification_enc__norm': 'l1'}. Best is trial#10 with value: 0.5616248167403621.\u001b[0m\n",
      "\u001b[32m[I 2020-06-10 19:06:36,461]\u001b[0m Finished trial#11 with value: 0.5547480035633864 with parameters: {'vect__etat_pat_tfidf__max_features': 19934, 'vect__etat_pat_tfidf__min_df': 3, 'vect__etat_pat_tfidf__norm': 'l2', 'vect__description_tfidf__max_features': 1661, 'vect__description_tfidf__min_df': 1, 'vect__description_tfidf__norm': 'l2', 'vect__fabricant_tfidf__analyzer': 'word', 'vect__fabricant_tfidf__max_features': 9382, 'vect__fabricant_tfidf__min_df': 2, 'vect__fabricant_tfidf__norm': 'l1', 'vect__action_pat_tfidf__analyzer': 'word', 'vect__classification_enc__max_features': 3281, 'vect__classification_enc__min_df': 2, 'vect__classification_enc__norm': 'l1'}. Best is trial#10 with value: 0.5616248167403621.\u001b[0m\n",
      "\u001b[32m[I 2020-06-10 19:07:53,902]\u001b[0m Finished trial#12 with value: 0.5625030459023882 with parameters: {'vect__etat_pat_tfidf__max_features': 18538, 'vect__etat_pat_tfidf__min_df': 2, 'vect__etat_pat_tfidf__norm': 'l2', 'vect__description_tfidf__max_features': 17103, 'vect__description_tfidf__min_df': 2, 'vect__description_tfidf__norm': 'l2', 'vect__fabricant_tfidf__analyzer': 'word', 'vect__fabricant_tfidf__max_features': 9738, 'vect__fabricant_tfidf__min_df': 2, 'vect__fabricant_tfidf__norm': 'l1', 'vect__action_pat_tfidf__analyzer': 'word', 'vect__classification_enc__max_features': 2228, 'vect__classification_enc__min_df': 2, 'vect__classification_enc__norm': 'l1'}. Best is trial#12 with value: 0.5625030459023882.\u001b[0m\n",
      "\u001b[32m[I 2020-06-10 19:09:11,039]\u001b[0m Finished trial#13 with value: 0.5638014529635027 with parameters: {'vect__etat_pat_tfidf__max_features': 19700, 'vect__etat_pat_tfidf__min_df': 4, 'vect__etat_pat_tfidf__norm': 'l2', 'vect__description_tfidf__max_features': 20401, 'vect__description_tfidf__min_df': 2, 'vect__description_tfidf__norm': 'l2', 'vect__fabricant_tfidf__analyzer': 'word', 'vect__fabricant_tfidf__max_features': 9992, 'vect__fabricant_tfidf__min_df': 3, 'vect__fabricant_tfidf__norm': 'l1', 'vect__action_pat_tfidf__analyzer': 'word', 'vect__classification_enc__max_features': 2062, 'vect__classification_enc__min_df': 4, 'vect__classification_enc__norm': 'l1'}. Best is trial#13 with value: 0.5638014529635027.\u001b[0m\n",
      "\u001b[32m[I 2020-06-10 19:10:29,956]\u001b[0m Finished trial#14 with value: 0.5638014529635027 with parameters: {'vect__etat_pat_tfidf__max_features': 15961, 'vect__etat_pat_tfidf__min_df': 4, 'vect__etat_pat_tfidf__norm': 'l2', 'vect__description_tfidf__max_features': 19810, 'vect__description_tfidf__min_df': 2, 'vect__description_tfidf__norm': 'l2', 'vect__fabricant_tfidf__analyzer': 'word', 'vect__fabricant_tfidf__max_features': 9981, 'vect__fabricant_tfidf__min_df': 3, 'vect__fabricant_tfidf__norm': 'l1', 'vect__action_pat_tfidf__analyzer': 'word', 'vect__classification_enc__max_features': 1805, 'vect__classification_enc__min_df': 4, 'vect__classification_enc__norm': 'l1'}. Best is trial#13 with value: 0.5638014529635027.\u001b[0m\n",
      "\u001b[32m[I 2020-06-10 19:11:48,780]\u001b[0m Finished trial#15 with value: 0.5638014529635027 with parameters: {'vect__etat_pat_tfidf__max_features': 15443, 'vect__etat_pat_tfidf__min_df': 4, 'vect__etat_pat_tfidf__norm': 'l2', 'vect__description_tfidf__max_features': 22363, 'vect__description_tfidf__min_df': 2, 'vect__description_tfidf__norm': 'l2', 'vect__fabricant_tfidf__analyzer': 'word', 'vect__fabricant_tfidf__max_features': 2674, 'vect__fabricant_tfidf__min_df': 3, 'vect__fabricant_tfidf__norm': 'l1', 'vect__action_pat_tfidf__analyzer': 'word', 'vect__classification_enc__max_features': 1599, 'vect__classification_enc__min_df': 4, 'vect__classification_enc__norm': 'l1'}. Best is trial#13 with value: 0.5638014529635027.\u001b[0m\n",
      "\u001b[32m[I 2020-06-10 19:13:32,877]\u001b[0m Finished trial#16 with value: 0.5507648051161407 with parameters: {'vect__etat_pat_tfidf__max_features': 14546, 'vect__etat_pat_tfidf__min_df': 4, 'vect__etat_pat_tfidf__norm': 'l1', 'vect__description_tfidf__max_features': 22697, 'vect__description_tfidf__min_df': 2, 'vect__description_tfidf__norm': 'l2', 'vect__fabricant_tfidf__analyzer': 'char', 'vect__fabricant_tfidf__max_features': 9855, 'vect__fabricant_tfidf__min_df': 3, 'vect__fabricant_tfidf__norm': 'l1', 'vect__action_pat_tfidf__analyzer': 'word', 'vect__classification_enc__max_features': 1412, 'vect__classification_enc__min_df': 4, 'vect__classification_enc__norm': 'l1'}. Best is trial#13 with value: 0.5638014529635027.\u001b[0m\n",
      "\u001b[32m[I 2020-06-10 19:14:48,957]\u001b[0m Finished trial#17 with value: 0.5621574514895398 with parameters: {'vect__etat_pat_tfidf__max_features': 17367, 'vect__etat_pat_tfidf__min_df': 4, 'vect__etat_pat_tfidf__norm': 'l2', 'vect__description_tfidf__max_features': 17853, 'vect__description_tfidf__min_df': 3, 'vect__description_tfidf__norm': 'l2', 'vect__fabricant_tfidf__analyzer': 'word', 'vect__fabricant_tfidf__max_features': 6362, 'vect__fabricant_tfidf__min_df': 5, 'vect__fabricant_tfidf__norm': 'l1', 'vect__action_pat_tfidf__analyzer': 'word', 'vect__classification_enc__max_features': 2277, 'vect__classification_enc__min_df': 4, 'vect__classification_enc__norm': 'l1'}. Best is trial#13 with value: 0.5638014529635027.\u001b[0m\n",
      "\u001b[32m[I 2020-06-10 19:16:02,969]\u001b[0m Finished trial#18 with value: 0.5600194593911404 with parameters: {'vect__etat_pat_tfidf__max_features': 15240, 'vect__etat_pat_tfidf__min_df': 4, 'vect__etat_pat_tfidf__norm': 'l2', 'vect__description_tfidf__max_features': 12668, 'vect__description_tfidf__min_df': 2, 'vect__description_tfidf__norm': 'l2', 'vect__fabricant_tfidf__analyzer': 'word', 'vect__fabricant_tfidf__max_features': 2071, 'vect__fabricant_tfidf__min_df': 4, 'vect__fabricant_tfidf__norm': 'l1', 'vect__action_pat_tfidf__analyzer': 'word', 'vect__classification_enc__max_features': 1473, 'vect__classification_enc__min_df': 4, 'vect__classification_enc__norm': 'l1'}. Best is trial#13 with value: 0.5638014529635027.\u001b[0m\n",
      "\u001b[32m[I 2020-06-10 19:17:18,077]\u001b[0m Finished trial#19 with value: 0.5631711814525451 with parameters: {'vect__etat_pat_tfidf__max_features': 17264, 'vect__etat_pat_tfidf__min_df': 5, 'vect__etat_pat_tfidf__norm': 'l2', 'vect__description_tfidf__max_features': 24413, 'vect__description_tfidf__min_df': 3, 'vect__description_tfidf__norm': 'l2', 'vect__fabricant_tfidf__analyzer': 'word', 'vect__fabricant_tfidf__max_features': 8661, 'vect__fabricant_tfidf__min_df': 3, 'vect__fabricant_tfidf__norm': 'l1', 'vect__action_pat_tfidf__analyzer': 'word', 'vect__classification_enc__max_features': 2771, 'vect__classification_enc__min_df': 3, 'vect__classification_enc__norm': 'l1'}. Best is trial#13 with value: 0.5638014529635027.\u001b[0m\n",
      "\u001b[32m[I 2020-06-10 19:19:02,654]\u001b[0m Finished trial#20 with value: 0.5507648051161407 with parameters: {'vect__etat_pat_tfidf__max_features': 13231, 'vect__etat_pat_tfidf__min_df': 4, 'vect__etat_pat_tfidf__norm': 'l1', 'vect__description_tfidf__max_features': 26600, 'vect__description_tfidf__min_df': 2, 'vect__description_tfidf__norm': 'l2', 'vect__fabricant_tfidf__analyzer': 'char', 'vect__fabricant_tfidf__max_features': 9156, 'vect__fabricant_tfidf__min_df': 4, 'vect__fabricant_tfidf__norm': 'l1', 'vect__action_pat_tfidf__analyzer': 'word', 'vect__classification_enc__max_features': 2531, 'vect__classification_enc__min_df': 4, 'vect__classification_enc__norm': 'l1'}. Best is trial#13 with value: 0.5638014529635027.\u001b[0m\n",
      "\u001b[32m[I 2020-06-10 19:20:25,457]\u001b[0m Finished trial#21 with value: 0.5637037728658226 with parameters: {'vect__etat_pat_tfidf__max_features': 15662, 'vect__etat_pat_tfidf__min_df': 4, 'vect__etat_pat_tfidf__norm': 'l2', 'vect__description_tfidf__max_features': 18953, 'vect__description_tfidf__min_df': 2, 'vect__description_tfidf__norm': 'l2', 'vect__fabricant_tfidf__analyzer': 'word', 'vect__fabricant_tfidf__max_features': 3302, 'vect__fabricant_tfidf__min_df': 3, 'vect__fabricant_tfidf__norm': 'l1', 'vect__action_pat_tfidf__analyzer': 'word', 'vect__classification_enc__max_features': 1601, 'vect__classification_enc__min_df': 4, 'vect__classification_enc__norm': 'l1'}. Best is trial#13 with value: 0.5638014529635027.\u001b[0m\n",
      "\u001b[32m[I 2020-06-10 19:21:45,874]\u001b[0m Finished trial#22 with value: 0.5638014529635027 with parameters: {'vect__etat_pat_tfidf__max_features': 18689, 'vect__etat_pat_tfidf__min_df': 4, 'vect__etat_pat_tfidf__norm': 'l2', 'vect__description_tfidf__max_features': 26995, 'vect__description_tfidf__min_df': 2, 'vect__description_tfidf__norm': 'l2', 'vect__fabricant_tfidf__analyzer': 'word', 'vect__fabricant_tfidf__max_features': 2800, 'vect__fabricant_tfidf__min_df': 3, 'vect__fabricant_tfidf__norm': 'l1', 'vect__action_pat_tfidf__analyzer': 'word', 'vect__classification_enc__max_features': 1731, 'vect__classification_enc__min_df': 4, 'vect__classification_enc__norm': 'l1'}. Best is trial#13 with value: 0.5638014529635027.\u001b[0m\n",
      "\u001b[32m[I 2020-06-10 19:23:06,074]\u001b[0m Finished trial#23 with value: 0.560468554687617 with parameters: {'vect__etat_pat_tfidf__max_features': 13627, 'vect__etat_pat_tfidf__min_df': 3, 'vect__etat_pat_tfidf__norm': 'l2', 'vect__description_tfidf__max_features': 29893, 'vect__description_tfidf__min_df': 1, 'vect__description_tfidf__norm': 'l2', 'vect__fabricant_tfidf__analyzer': 'word', 'vect__fabricant_tfidf__max_features': 2671, 'vect__fabricant_tfidf__min_df': 3, 'vect__fabricant_tfidf__norm': 'l1', 'vect__action_pat_tfidf__analyzer': 'word', 'vect__classification_enc__max_features': 1221, 'vect__classification_enc__min_df': 5, 'vect__classification_enc__norm': 'l1'}. Best is trial#13 with value: 0.5638014529635027.\u001b[0m\n",
      "\u001b[32m[I 2020-06-10 19:24:24,495]\u001b[0m Finished trial#24 with value: 0.5625815278742254 with parameters: {'vect__etat_pat_tfidf__max_features': 19965, 'vect__etat_pat_tfidf__min_df': 5, 'vect__etat_pat_tfidf__norm': 'l2', 'vect__description_tfidf__max_features': 29197, 'vect__description_tfidf__min_df': 2, 'vect__description_tfidf__norm': 'l2', 'vect__fabricant_tfidf__analyzer': 'word', 'vect__fabricant_tfidf__max_features': 954, 'vect__fabricant_tfidf__min_df': 3, 'vect__fabricant_tfidf__norm': 'l1', 'vect__action_pat_tfidf__analyzer': 'word', 'vect__classification_enc__max_features': 1914, 'vect__classification_enc__min_df': 4, 'vect__classification_enc__norm': 'l1'}. Best is trial#13 with value: 0.5638014529635027.\u001b[0m\n",
      "\u001b[32m[I 2020-06-10 19:25:44,314]\u001b[0m Finished trial#25 with value: 0.5614203425051959 with parameters: {'vect__etat_pat_tfidf__max_features': 16134, 'vect__etat_pat_tfidf__min_df': 4, 'vect__etat_pat_tfidf__norm': 'l2', 'vect__description_tfidf__max_features': 13384, 'vect__description_tfidf__min_df': 3, 'vect__description_tfidf__norm': 'l2', 'vect__fabricant_tfidf__analyzer': 'word', 'vect__fabricant_tfidf__max_features': 3600, 'vect__fabricant_tfidf__min_df': 4, 'vect__fabricant_tfidf__norm': 'l1', 'vect__action_pat_tfidf__analyzer': 'word', 'vect__classification_enc__max_features': 1725, 'vect__classification_enc__min_df': 3, 'vect__classification_enc__norm': 'l1'}. Best is trial#13 with value: 0.5638014529635027.\u001b[0m\n",
      "\u001b[32m[I 2020-06-10 19:27:05,526]\u001b[0m Finished trial#26 with value: 0.5602848049244039 with parameters: {'vect__etat_pat_tfidf__max_features': 18467, 'vect__etat_pat_tfidf__min_df': 3, 'vect__etat_pat_tfidf__norm': 'l2', 'vect__description_tfidf__max_features': 47806, 'vect__description_tfidf__min_df': 1, 'vect__description_tfidf__norm': 'l2', 'vect__fabricant_tfidf__analyzer': 'word', 'vect__fabricant_tfidf__max_features': 1844, 'vect__fabricant_tfidf__min_df': 2, 'vect__fabricant_tfidf__norm': 'l1', 'vect__action_pat_tfidf__analyzer': 'word', 'vect__classification_enc__max_features': 540, 'vect__classification_enc__min_df': 5, 'vect__classification_enc__norm': 'l1'}. Best is trial#13 with value: 0.5638014529635027.\u001b[0m\n",
      "\u001b[32m[I 2020-06-10 19:28:44,792]\u001b[0m Finished trial#27 with value: 0.5629820218499538 with parameters: {'vect__etat_pat_tfidf__max_features': 18280, 'vect__etat_pat_tfidf__min_df': 4, 'vect__etat_pat_tfidf__norm': 'l2', 'vect__description_tfidf__max_features': 23995, 'vect__description_tfidf__min_df': 2, 'vect__description_tfidf__norm': 'l2', 'vect__fabricant_tfidf__analyzer': 'word', 'vect__fabricant_tfidf__max_features': 2821, 'vect__fabricant_tfidf__min_df': 3, 'vect__fabricant_tfidf__norm': 'l1', 'vect__action_pat_tfidf__analyzer': 'char', 'vect__classification_enc__max_features': 1165, 'vect__classification_enc__min_df': 4, 'vect__classification_enc__norm': 'l1'}. Best is trial#13 with value: 0.5638014529635027.\u001b[0m\n",
      "\u001b[32m[I 2020-06-10 19:30:02,846]\u001b[0m Finished trial#28 with value: 0.5618030107457465 with parameters: {'vect__etat_pat_tfidf__max_features': 19735, 'vect__etat_pat_tfidf__min_df': 5, 'vect__etat_pat_tfidf__norm': 'l2', 'vect__description_tfidf__max_features': 13785, 'vect__description_tfidf__min_df': 3, 'vect__description_tfidf__norm': 'l2', 'vect__fabricant_tfidf__analyzer': 'word', 'vect__fabricant_tfidf__max_features': 5515, 'vect__fabricant_tfidf__min_df': 4, 'vect__fabricant_tfidf__norm': 'l1', 'vect__action_pat_tfidf__analyzer': 'word', 'vect__classification_enc__max_features': 2276, 'vect__classification_enc__min_df': 3, 'vect__classification_enc__norm': 'l1'}. Best is trial#13 with value: 0.5638014529635027.\u001b[0m\n",
      "\u001b[32m[I 2020-06-10 19:31:59,975]\u001b[0m Finished trial#29 with value: 0.5527151973877178 with parameters: {'vect__etat_pat_tfidf__max_features': 8598, 'vect__etat_pat_tfidf__min_df': 4, 'vect__etat_pat_tfidf__norm': 'l2', 'vect__description_tfidf__max_features': 27557, 'vect__description_tfidf__min_df': 2, 'vect__description_tfidf__norm': 'l2', 'vect__fabricant_tfidf__analyzer': 'char_wb', 'vect__fabricant_tfidf__max_features': 3999, 'vect__fabricant_tfidf__min_df': 3, 'vect__fabricant_tfidf__norm': 'l1', 'vect__action_pat_tfidf__analyzer': 'char', 'vect__classification_enc__max_features': 2777, 'vect__classification_enc__min_df': 5, 'vect__classification_enc__norm': 'l1'}. Best is trial#13 with value: 0.5638014529635027.\u001b[0m\n",
      "\u001b[32m[I 2020-06-10 19:33:20,611]\u001b[0m Finished trial#30 with value: 0.5630829423908487 with parameters: {'vect__etat_pat_tfidf__max_features': 9568, 'vect__etat_pat_tfidf__min_df': 3, 'vect__etat_pat_tfidf__norm': 'l2', 'vect__description_tfidf__max_features': 21254, 'vect__description_tfidf__min_df': 1, 'vect__description_tfidf__norm': 'l2', 'vect__fabricant_tfidf__analyzer': 'word', 'vect__fabricant_tfidf__max_features': 6152, 'vect__fabricant_tfidf__min_df': 2, 'vect__fabricant_tfidf__norm': 'l1', 'vect__action_pat_tfidf__analyzer': 'word', 'vect__classification_enc__max_features': 1983, 'vect__classification_enc__min_df': 4, 'vect__classification_enc__norm': 'l1'}. Best is trial#13 with value: 0.5638014529635027.\u001b[0m\n",
      "\u001b[32m[I 2020-06-10 19:34:39,456]\u001b[0m Finished trial#31 with value: 0.5638014529635027 with parameters: {'vect__etat_pat_tfidf__max_features': 14525, 'vect__etat_pat_tfidf__min_df': 4, 'vect__etat_pat_tfidf__norm': 'l2', 'vect__description_tfidf__max_features': 20589, 'vect__description_tfidf__min_df': 2, 'vect__description_tfidf__norm': 'l2', 'vect__fabricant_tfidf__analyzer': 'word', 'vect__fabricant_tfidf__max_features': 1759, 'vect__fabricant_tfidf__min_df': 3, 'vect__fabricant_tfidf__norm': 'l1', 'vect__action_pat_tfidf__analyzer': 'word', 'vect__classification_enc__max_features': 1697, 'vect__classification_enc__min_df': 4, 'vect__classification_enc__norm': 'l1'}. Best is trial#13 with value: 0.5638014529635027.\u001b[0m\n",
      "\u001b[32m[I 2020-06-10 19:35:57,352]\u001b[0m Finished trial#32 with value: 0.5638014529635027 with parameters: {'vect__etat_pat_tfidf__max_features': 16687, 'vect__etat_pat_tfidf__min_df': 4, 'vect__etat_pat_tfidf__norm': 'l2', 'vect__description_tfidf__max_features': 33658, 'vect__description_tfidf__min_df': 2, 'vect__description_tfidf__norm': 'l2', 'vect__fabricant_tfidf__analyzer': 'word', 'vect__fabricant_tfidf__max_features': 2596, 'vect__fabricant_tfidf__min_df': 3, 'vect__fabricant_tfidf__norm': 'l1', 'vect__action_pat_tfidf__analyzer': 'word', 'vect__classification_enc__max_features': 2550, 'vect__classification_enc__min_df': 5, 'vect__classification_enc__norm': 'l1'}. Best is trial#13 with value: 0.5638014529635027.\u001b[0m\n",
      "\u001b[32m[I 2020-06-10 19:37:13,015]\u001b[0m Finished trial#33 with value: 0.5622109268207929 with parameters: {'vect__etat_pat_tfidf__max_features': 14367, 'vect__etat_pat_tfidf__min_df': 4, 'vect__etat_pat_tfidf__norm': 'l2', 'vect__description_tfidf__max_features': 32696, 'vect__description_tfidf__min_df': 3, 'vect__description_tfidf__norm': 'l2', 'vect__fabricant_tfidf__analyzer': 'word', 'vect__fabricant_tfidf__max_features': 1706, 'vect__fabricant_tfidf__min_df': 3, 'vect__fabricant_tfidf__norm': 'l1', 'vect__action_pat_tfidf__analyzer': 'word', 'vect__classification_enc__max_features': 2524, 'vect__classification_enc__min_df': 5, 'vect__classification_enc__norm': 'l1'}. Best is trial#13 with value: 0.5638014529635027.\u001b[0m\n",
      "\u001b[32m[I 2020-06-10 19:38:31,073]\u001b[0m Finished trial#34 with value: 0.5627165840681763 with parameters: {'vect__etat_pat_tfidf__max_features': 17956, 'vect__etat_pat_tfidf__min_df': 4, 'vect__etat_pat_tfidf__norm': 'l2', 'vect__description_tfidf__max_features': 33125, 'vect__description_tfidf__min_df': 2, 'vect__description_tfidf__norm': 'l2', 'vect__fabricant_tfidf__analyzer': 'word', 'vect__fabricant_tfidf__max_features': 823, 'vect__fabricant_tfidf__min_df': 4, 'vect__fabricant_tfidf__norm': 'l1', 'vect__action_pat_tfidf__analyzer': 'word', 'vect__classification_enc__max_features': 2543, 'vect__classification_enc__min_df': 5, 'vect__classification_enc__norm': 'l1'}. Best is trial#13 with value: 0.5638014529635027.\u001b[0m\n",
      "\u001b[32m[I 2020-06-10 19:40:17,140]\u001b[0m Finished trial#35 with value: 0.5244441456731861 with parameters: {'vect__etat_pat_tfidf__max_features': 11933, 'vect__etat_pat_tfidf__min_df': 3, 'vect__etat_pat_tfidf__norm': 'l2', 'vect__description_tfidf__max_features': 44922, 'vect__description_tfidf__min_df': 1, 'vect__description_tfidf__norm': 'l1', 'vect__fabricant_tfidf__analyzer': 'word', 'vect__fabricant_tfidf__max_features': 2632, 'vect__fabricant_tfidf__min_df': 3, 'vect__fabricant_tfidf__norm': 'l1', 'vect__action_pat_tfidf__analyzer': 'word', 'vect__classification_enc__max_features': 3026, 'vect__classification_enc__min_df': 5, 'vect__classification_enc__norm': 'l1'}. Best is trial#13 with value: 0.5638014529635027.\u001b[0m\n",
      "\u001b[32m[I 2020-06-10 19:42:14,014]\u001b[0m Finished trial#36 with value: 0.5526418824224153 with parameters: {'vect__etat_pat_tfidf__max_features': 16759, 'vect__etat_pat_tfidf__min_df': 5, 'vect__etat_pat_tfidf__norm': 'l2', 'vect__description_tfidf__max_features': 27947, 'vect__description_tfidf__min_df': 3, 'vect__description_tfidf__norm': 'l2', 'vect__fabricant_tfidf__analyzer': 'char_wb', 'vect__fabricant_tfidf__max_features': 2255, 'vect__fabricant_tfidf__min_df': 4, 'vect__fabricant_tfidf__norm': 'l1', 'vect__action_pat_tfidf__analyzer': 'char', 'vect__classification_enc__max_features': 1265, 'vect__classification_enc__min_df': 3, 'vect__classification_enc__norm': 'l1'}. Best is trial#13 with value: 0.5638014529635027.\u001b[0m\n",
      "\u001b[32m[I 2020-06-10 19:43:38,815]\u001b[0m Finished trial#37 with value: 0.5625165858425152 with parameters: {'vect__etat_pat_tfidf__max_features': 18939, 'vect__etat_pat_tfidf__min_df': 4, 'vect__etat_pat_tfidf__norm': 'l2', 'vect__description_tfidf__max_features': 36708, 'vect__description_tfidf__min_df': 2, 'vect__description_tfidf__norm': 'l2', 'vect__fabricant_tfidf__analyzer': 'word', 'vect__fabricant_tfidf__max_features': 4441, 'vect__fabricant_tfidf__min_df': 2, 'vect__fabricant_tfidf__norm': 'l1', 'vect__action_pat_tfidf__analyzer': 'word', 'vect__classification_enc__max_features': 2107, 'vect__classification_enc__min_df': 5, 'vect__classification_enc__norm': 'l1'}. Best is trial#13 with value: 0.5638014529635027.\u001b[0m\n",
      "\u001b[32m[I 2020-06-10 19:46:27,882]\u001b[0m Finished trial#38 with value: 0.5295970164147575 with parameters: {'vect__etat_pat_tfidf__max_features': 12370, 'vect__etat_pat_tfidf__min_df': 5, 'vect__etat_pat_tfidf__norm': 'l2', 'vect__description_tfidf__max_features': 59802, 'vect__description_tfidf__min_df': 2, 'vect__description_tfidf__norm': 'l1', 'vect__fabricant_tfidf__analyzer': 'char', 'vect__fabricant_tfidf__max_features': 591, 'vect__fabricant_tfidf__min_df': 3, 'vect__fabricant_tfidf__norm': 'l1', 'vect__action_pat_tfidf__analyzer': 'word', 'vect__classification_enc__max_features': 851, 'vect__classification_enc__min_df': 4, 'vect__classification_enc__norm': 'l1'}. Best is trial#13 with value: 0.5638014529635027.\u001b[0m\n",
      "\u001b[32m[I 2020-06-10 19:48:24,432]\u001b[0m Finished trial#39 with value: 0.5557511208125576 with parameters: {'vect__etat_pat_tfidf__max_features': 14935, 'vect__etat_pat_tfidf__min_df': 3, 'vect__etat_pat_tfidf__norm': 'l1', 'vect__description_tfidf__max_features': 24849, 'vect__description_tfidf__min_df': 3, 'vect__description_tfidf__norm': 'l2', 'vect__fabricant_tfidf__analyzer': 'word', 'vect__fabricant_tfidf__max_features': 3193, 'vect__fabricant_tfidf__min_df': 4, 'vect__fabricant_tfidf__norm': 'l2', 'vect__action_pat_tfidf__analyzer': 'char_wb', 'vect__classification_enc__max_features': 3606, 'vect__classification_enc__min_df': 3, 'vect__classification_enc__norm': 'l2'}. Best is trial#13 with value: 0.5638014529635027.\u001b[0m\n",
      "\u001b[32m[I 2020-06-10 19:50:25,137]\u001b[0m Finished trial#40 with value: 0.5526290901845319 with parameters: {'vect__etat_pat_tfidf__max_features': 16429, 'vect__etat_pat_tfidf__min_df': 4, 'vect__etat_pat_tfidf__norm': 'l2', 'vect__description_tfidf__max_features': 16019, 'vect__description_tfidf__min_df': 1, 'vect__description_tfidf__norm': 'l2', 'vect__fabricant_tfidf__analyzer': 'char_wb', 'vect__fabricant_tfidf__max_features': 3622, 'vect__fabricant_tfidf__min_df': 2, 'vect__fabricant_tfidf__norm': 'l1', 'vect__action_pat_tfidf__analyzer': 'char', 'vect__classification_enc__max_features': 1651, 'vect__classification_enc__min_df': 4, 'vect__classification_enc__norm': 'l1'}. Best is trial#13 with value: 0.5638014529635027.\u001b[0m\n",
      "\u001b[32m[I 2020-06-10 19:51:47,426]\u001b[0m Finished trial#41 with value: 0.5638014529635027 with parameters: {'vect__etat_pat_tfidf__max_features': 17269, 'vect__etat_pat_tfidf__min_df': 4, 'vect__etat_pat_tfidf__norm': 'l2', 'vect__description_tfidf__max_features': 21425, 'vect__description_tfidf__min_df': 2, 'vect__description_tfidf__norm': 'l2', 'vect__fabricant_tfidf__analyzer': 'word', 'vect__fabricant_tfidf__max_features': 8127, 'vect__fabricant_tfidf__min_df': 3, 'vect__fabricant_tfidf__norm': 'l1', 'vect__action_pat_tfidf__analyzer': 'word', 'vect__classification_enc__max_features': 1847, 'vect__classification_enc__min_df': 4, 'vect__classification_enc__norm': 'l1'}. Best is trial#13 with value: 0.5638014529635027.\u001b[0m\n",
      "\u001b[32m[I 2020-06-10 19:53:11,867]\u001b[0m Finished trial#42 with value: 0.5626433174632419 with parameters: {'vect__etat_pat_tfidf__max_features': 15755, 'vect__etat_pat_tfidf__min_df': 4, 'vect__etat_pat_tfidf__norm': 'l2', 'vect__description_tfidf__max_features': 10601, 'vect__description_tfidf__min_df': 2, 'vect__description_tfidf__norm': 'l2', 'vect__fabricant_tfidf__analyzer': 'word', 'vect__fabricant_tfidf__max_features': 7849, 'vect__fabricant_tfidf__min_df': 3, 'vect__fabricant_tfidf__norm': 'l1', 'vect__action_pat_tfidf__analyzer': 'word', 'vect__classification_enc__max_features': 1774, 'vect__classification_enc__min_df': 4, 'vect__classification_enc__norm': 'l1'}. Best is trial#13 with value: 0.5638014529635027.\u001b[0m\n",
      "\u001b[32m[I 2020-06-10 19:54:31,973]\u001b[0m Finished trial#43 with value: 0.5625815278742254 with parameters: {'vect__etat_pat_tfidf__max_features': 13946, 'vect__etat_pat_tfidf__min_df': 5, 'vect__etat_pat_tfidf__norm': 'l2', 'vect__description_tfidf__max_features': 31557, 'vect__description_tfidf__min_df': 2, 'vect__description_tfidf__norm': 'l2', 'vect__fabricant_tfidf__analyzer': 'word', 'vect__fabricant_tfidf__max_features': 1490, 'vect__fabricant_tfidf__min_df': 3, 'vect__fabricant_tfidf__norm': 'l1', 'vect__action_pat_tfidf__analyzer': 'word', 'vect__classification_enc__max_features': 1485, 'vect__classification_enc__min_df': 5, 'vect__classification_enc__norm': 'l1'}. Best is trial#13 with value: 0.5638014529635027.\u001b[0m\n",
      "\u001b[32m[I 2020-06-10 19:55:47,489]\u001b[0m Finished trial#44 with value: 0.5633276548010223 with parameters: {'vect__etat_pat_tfidf__max_features': 12547, 'vect__etat_pat_tfidf__min_df': 4, 'vect__etat_pat_tfidf__norm': 'l2', 'vect__description_tfidf__max_features': 7038, 'vect__description_tfidf__min_df': 2, 'vect__description_tfidf__norm': 'l2', 'vect__fabricant_tfidf__analyzer': 'word', 'vect__fabricant_tfidf__max_features': 2380, 'vect__fabricant_tfidf__min_df': 3, 'vect__fabricant_tfidf__norm': 'l2', 'vect__action_pat_tfidf__analyzer': 'word', 'vect__classification_enc__max_features': 908, 'vect__classification_enc__min_df': 3, 'vect__classification_enc__norm': 'l2'}. Best is trial#13 with value: 0.5638014529635027.\u001b[0m\n",
      "\u001b[32m[I 2020-06-10 19:58:10,247]\u001b[0m Finished trial#45 with value: 0.5242877873687336 with parameters: {'vect__etat_pat_tfidf__max_features': 10881, 'vect__etat_pat_tfidf__min_df': 3, 'vect__etat_pat_tfidf__norm': 'l2', 'vect__description_tfidf__max_features': 25937, 'vect__description_tfidf__min_df': 1, 'vect__description_tfidf__norm': 'l1', 'vect__fabricant_tfidf__analyzer': 'word', 'vect__fabricant_tfidf__max_features': 4893, 'vect__fabricant_tfidf__min_df': 2, 'vect__fabricant_tfidf__norm': 'l1', 'vect__action_pat_tfidf__analyzer': 'char_wb', 'vect__classification_enc__max_features': 1053, 'vect__classification_enc__min_df': 4, 'vect__classification_enc__norm': 'l1'}. Best is trial#13 with value: 0.5638014529635027.\u001b[0m\n",
      "\u001b[32m[I 2020-06-10 19:59:29,563]\u001b[0m Finished trial#46 with value: 0.5638014529635027 with parameters: {'vect__etat_pat_tfidf__max_features': 16386, 'vect__etat_pat_tfidf__min_df': 4, 'vect__etat_pat_tfidf__norm': 'l2', 'vect__description_tfidf__max_features': 35344, 'vect__description_tfidf__min_df': 2, 'vect__description_tfidf__norm': 'l2', 'vect__fabricant_tfidf__analyzer': 'word', 'vect__fabricant_tfidf__max_features': 1163, 'vect__fabricant_tfidf__min_df': 3, 'vect__fabricant_tfidf__norm': 'l1', 'vect__action_pat_tfidf__analyzer': 'word', 'vect__classification_enc__max_features': 1341, 'vect__classification_enc__min_df': 4, 'vect__classification_enc__norm': 'l1'}. Best is trial#13 with value: 0.5638014529635027.\u001b[0m\n",
      "\u001b[32m[I 2020-06-10 20:00:52,028]\u001b[0m Finished trial#47 with value: 0.5629627857564123 with parameters: {'vect__etat_pat_tfidf__max_features': 17416, 'vect__etat_pat_tfidf__min_df': 4, 'vect__etat_pat_tfidf__norm': 'l2', 'vect__description_tfidf__max_features': 22149, 'vect__description_tfidf__min_df': 3, 'vect__description_tfidf__norm': 'l2', 'vect__fabricant_tfidf__analyzer': 'word', 'vect__fabricant_tfidf__max_features': 9210, 'vect__fabricant_tfidf__min_df': 2, 'vect__fabricant_tfidf__norm': 'l1', 'vect__action_pat_tfidf__analyzer': 'word', 'vect__classification_enc__max_features': 1349, 'vect__classification_enc__min_df': 4, 'vect__classification_enc__norm': 'l1'}. Best is trial#13 with value: 0.5638014529635027.\u001b[0m\n",
      "\u001b[32m[I 2020-06-10 20:02:23,812]\u001b[0m Finished trial#48 with value: 0.5617932964252331 with parameters: {'vect__etat_pat_tfidf__max_features': 18946, 'vect__etat_pat_tfidf__min_df': 3, 'vect__etat_pat_tfidf__norm': 'l2', 'vect__description_tfidf__max_features': 39633, 'vect__description_tfidf__min_df': 2, 'vect__description_tfidf__norm': 'l2', 'vect__fabricant_tfidf__analyzer': 'word', 'vect__fabricant_tfidf__max_features': 1079, 'vect__fabricant_tfidf__min_df': 3, 'vect__fabricant_tfidf__norm': 'l2', 'vect__action_pat_tfidf__analyzer': 'word', 'vect__classification_enc__max_features': 624, 'vect__classification_enc__min_df': 5, 'vect__classification_enc__norm': 'l2'}. Best is trial#13 with value: 0.5638014529635027.\u001b[0m\n",
      "\u001b[32m[I 2020-06-10 20:04:10,436]\u001b[0m Finished trial#49 with value: 0.5501404679272891 with parameters: {'vect__etat_pat_tfidf__max_features': 17728, 'vect__etat_pat_tfidf__min_df': 5, 'vect__etat_pat_tfidf__norm': 'l1', 'vect__description_tfidf__max_features': 16061, 'vect__description_tfidf__min_df': 1, 'vect__description_tfidf__norm': 'l2', 'vect__fabricant_tfidf__analyzer': 'char', 'vect__fabricant_tfidf__max_features': 8073, 'vect__fabricant_tfidf__min_df': 4, 'vect__fabricant_tfidf__norm': 'l1', 'vect__action_pat_tfidf__analyzer': 'word', 'vect__classification_enc__max_features': 1834, 'vect__classification_enc__min_df': 4, 'vect__classification_enc__norm': 'l1'}. Best is trial#13 with value: 0.5638014529635027.\u001b[0m\n",
      "\u001b[32m[I 2020-06-10 20:05:54,731]\u001b[0m Finished trial#50 with value: 0.561836055066643 with parameters: {'vect__etat_pat_tfidf__max_features': 15249, 'vect__etat_pat_tfidf__min_df': 2, 'vect__etat_pat_tfidf__norm': 'l2', 'vect__description_tfidf__max_features': 35380, 'vect__description_tfidf__min_df': 3, 'vect__description_tfidf__norm': 'l2', 'vect__fabricant_tfidf__analyzer': 'word', 'vect__fabricant_tfidf__max_features': 6977, 'vect__fabricant_tfidf__min_df': 4, 'vect__fabricant_tfidf__norm': 'l1', 'vect__action_pat_tfidf__analyzer': 'char_wb', 'vect__classification_enc__max_features': 2412, 'vect__classification_enc__min_df': 3, 'vect__classification_enc__norm': 'l1'}. Best is trial#13 with value: 0.5638014529635027.\u001b[0m\n",
      "\u001b[32m[I 2020-06-10 20:07:16,186]\u001b[0m Finished trial#51 with value: 0.5638014529635027 with parameters: {'vect__etat_pat_tfidf__max_features': 16782, 'vect__etat_pat_tfidf__min_df': 4, 'vect__etat_pat_tfidf__norm': 'l2', 'vect__description_tfidf__max_features': 42672, 'vect__description_tfidf__min_df': 2, 'vect__description_tfidf__norm': 'l2', 'vect__fabricant_tfidf__analyzer': 'word', 'vect__fabricant_tfidf__max_features': 1391, 'vect__fabricant_tfidf__min_df': 3, 'vect__fabricant_tfidf__norm': 'l1', 'vect__action_pat_tfidf__analyzer': 'word', 'vect__classification_enc__max_features': 1545, 'vect__classification_enc__min_df': 4, 'vect__classification_enc__norm': 'l1'}. Best is trial#13 with value: 0.5638014529635027.\u001b[0m\n",
      "\u001b[32m[I 2020-06-10 20:08:38,416]\u001b[0m Finished trial#52 with value: 0.5638014529635027 with parameters: {'vect__etat_pat_tfidf__max_features': 14303, 'vect__etat_pat_tfidf__min_df': 4, 'vect__etat_pat_tfidf__norm': 'l2', 'vect__description_tfidf__max_features': 43568, 'vect__description_tfidf__min_df': 2, 'vect__description_tfidf__norm': 'l2', 'vect__fabricant_tfidf__analyzer': 'word', 'vect__fabricant_tfidf__max_features': 3047, 'vect__fabricant_tfidf__min_df': 3, 'vect__fabricant_tfidf__norm': 'l1', 'vect__action_pat_tfidf__analyzer': 'word', 'vect__classification_enc__max_features': 1580, 'vect__classification_enc__min_df': 4, 'vect__classification_enc__norm': 'l1'}. Best is trial#13 with value: 0.5638014529635027.\u001b[0m\n",
      "\u001b[32m[I 2020-06-10 20:10:01,755]\u001b[0m Finished trial#53 with value: 0.5638014529635027 with parameters: {'vect__etat_pat_tfidf__max_features': 14360, 'vect__etat_pat_tfidf__min_df': 4, 'vect__etat_pat_tfidf__norm': 'l2', 'vect__description_tfidf__max_features': 43486, 'vect__description_tfidf__min_df': 2, 'vect__description_tfidf__norm': 'l2', 'vect__fabricant_tfidf__analyzer': 'word', 'vect__fabricant_tfidf__max_features': 3148, 'vect__fabricant_tfidf__min_df': 3, 'vect__fabricant_tfidf__norm': 'l1', 'vect__action_pat_tfidf__analyzer': 'word', 'vect__classification_enc__max_features': 2143, 'vect__classification_enc__min_df': 4, 'vect__classification_enc__norm': 'l1'}. Best is trial#13 with value: 0.5638014529635027.\u001b[0m\n",
      "\u001b[32m[I 2020-06-10 20:11:27,122]\u001b[0m Finished trial#54 with value: 0.5638014529635027 with parameters: {'vect__etat_pat_tfidf__max_features': 19569, 'vect__etat_pat_tfidf__min_df': 4, 'vect__etat_pat_tfidf__norm': 'l2', 'vect__description_tfidf__max_features': 52122, 'vect__description_tfidf__min_df': 2, 'vect__description_tfidf__norm': 'l2', 'vect__fabricant_tfidf__analyzer': 'word', 'vect__fabricant_tfidf__max_features': 3719, 'vect__fabricant_tfidf__min_df': 3, 'vect__fabricant_tfidf__norm': 'l1', 'vect__action_pat_tfidf__analyzer': 'word', 'vect__classification_enc__max_features': 2126, 'vect__classification_enc__min_df': 4, 'vect__classification_enc__norm': 'l1'}. Best is trial#13 with value: 0.5638014529635027.\u001b[0m\n",
      "\u001b[32m[I 2020-06-10 20:12:50,123]\u001b[0m Finished trial#55 with value: 0.5638014529635027 with parameters: {'vect__etat_pat_tfidf__max_features': 17071, 'vect__etat_pat_tfidf__min_df': 4, 'vect__etat_pat_tfidf__norm': 'l2', 'vect__description_tfidf__max_features': 51056, 'vect__description_tfidf__min_df': 2, 'vect__description_tfidf__norm': 'l2', 'vect__fabricant_tfidf__analyzer': 'word', 'vect__fabricant_tfidf__max_features': 4089, 'vect__fabricant_tfidf__min_df': 3, 'vect__fabricant_tfidf__norm': 'l1', 'vect__action_pat_tfidf__analyzer': 'word', 'vect__classification_enc__max_features': 3029, 'vect__classification_enc__min_df': 3, 'vect__classification_enc__norm': 'l1'}. Best is trial#13 with value: 0.5638014529635027.\u001b[0m\n",
      "\u001b[32m[I 2020-06-10 20:14:15,341]\u001b[0m Finished trial#56 with value: 0.5607871182171347 with parameters: {'vect__etat_pat_tfidf__max_features': 19529, 'vect__etat_pat_tfidf__min_df': 1, 'vect__etat_pat_tfidf__norm': 'l2', 'vect__description_tfidf__max_features': 55867, 'vect__description_tfidf__min_df': 2, 'vect__description_tfidf__norm': 'l2', 'vect__fabricant_tfidf__analyzer': 'word', 'vect__fabricant_tfidf__max_features': 3946, 'vect__fabricant_tfidf__min_df': 3, 'vect__fabricant_tfidf__norm': 'l1', 'vect__action_pat_tfidf__analyzer': 'word', 'vect__classification_enc__max_features': 2887, 'vect__classification_enc__min_df': 2, 'vect__classification_enc__norm': 'l1'}. Best is trial#13 with value: 0.5638014529635027.\u001b[0m\n",
      "\u001b[32m[I 2020-06-10 20:15:34,970]\u001b[0m Finished trial#57 with value: 0.5625165858425152 with parameters: {'vect__etat_pat_tfidf__max_features': 17139, 'vect__etat_pat_tfidf__min_df': 4, 'vect__etat_pat_tfidf__norm': 'l2', 'vect__description_tfidf__max_features': 19137, 'vect__description_tfidf__min_df': 2, 'vect__description_tfidf__norm': 'l2', 'vect__fabricant_tfidf__analyzer': 'word', 'vect__fabricant_tfidf__max_features': 4263, 'vect__fabricant_tfidf__min_df': 2, 'vect__fabricant_tfidf__norm': 'l1', 'vect__action_pat_tfidf__analyzer': 'word', 'vect__classification_enc__max_features': 3472, 'vect__classification_enc__min_df': 2, 'vect__classification_enc__norm': 'l1'}. Best is trial#13 with value: 0.5638014529635027.\u001b[0m\n",
      "\u001b[32m[I 2020-06-10 20:17:14,311]\u001b[0m Finished trial#58 with value: 0.5264739521507742 with parameters: {'vect__etat_pat_tfidf__max_features': 13029, 'vect__etat_pat_tfidf__min_df': 5, 'vect__etat_pat_tfidf__norm': 'l2', 'vect__description_tfidf__max_features': 50216, 'vect__description_tfidf__min_df': 4, 'vect__description_tfidf__norm': 'l1', 'vect__fabricant_tfidf__analyzer': 'word', 'vect__fabricant_tfidf__max_features': 3240, 'vect__fabricant_tfidf__min_df': 3, 'vect__fabricant_tfidf__norm': 'l1', 'vect__action_pat_tfidf__analyzer': 'word', 'vect__classification_enc__max_features': 4868, 'vect__classification_enc__min_df': 3, 'vect__classification_enc__norm': 'l1'}. Best is trial#13 with value: 0.5638014529635027.\u001b[0m\n",
      "\u001b[32m[I 2020-06-10 20:18:57,578]\u001b[0m Finished trial#59 with value: 0.5531176294690449 with parameters: {'vect__etat_pat_tfidf__max_features': 14178, 'vect__etat_pat_tfidf__min_df': 4, 'vect__etat_pat_tfidf__norm': 'l2', 'vect__description_tfidf__max_features': 44904, 'vect__description_tfidf__min_df': 1, 'vect__description_tfidf__norm': 'l2', 'vect__fabricant_tfidf__analyzer': 'char_wb', 'vect__fabricant_tfidf__max_features': 2988, 'vect__fabricant_tfidf__min_df': 3, 'vect__fabricant_tfidf__norm': 'l1', 'vect__action_pat_tfidf__analyzer': 'word', 'vect__classification_enc__max_features': 1941, 'vect__classification_enc__min_df': 4, 'vect__classification_enc__norm': 'l1'}. Best is trial#13 with value: 0.5638014529635027.\u001b[0m\n",
      "\u001b[32m[I 2020-06-10 20:20:17,347]\u001b[0m Finished trial#60 with value: 0.5590729520371518 with parameters: {'vect__etat_pat_tfidf__max_features': 16303, 'vect__etat_pat_tfidf__min_df': 4, 'vect__etat_pat_tfidf__norm': 'l1', 'vect__description_tfidf__max_features': 29946, 'vect__description_tfidf__min_df': 2, 'vect__description_tfidf__norm': 'l2', 'vect__fabricant_tfidf__analyzer': 'word', 'vect__fabricant_tfidf__max_features': 1903, 'vect__fabricant_tfidf__min_df': 3, 'vect__fabricant_tfidf__norm': 'l1', 'vect__action_pat_tfidf__analyzer': 'word', 'vect__classification_enc__max_features': 3173, 'vect__classification_enc__min_df': 3, 'vect__classification_enc__norm': 'l1'}. Best is trial#13 with value: 0.5638014529635027.\u001b[0m\n",
      "\u001b[32m[I 2020-06-10 20:21:34,605]\u001b[0m Finished trial#61 with value: 0.5638014529635027 with parameters: {'vect__etat_pat_tfidf__max_features': 18693, 'vect__etat_pat_tfidf__min_df': 4, 'vect__etat_pat_tfidf__norm': 'l2', 'vect__description_tfidf__max_features': 54213, 'vect__description_tfidf__min_df': 2, 'vect__description_tfidf__norm': 'l2', 'vect__fabricant_tfidf__analyzer': 'word', 'vect__fabricant_tfidf__max_features': 3622, 'vect__fabricant_tfidf__min_df': 3, 'vect__fabricant_tfidf__norm': 'l1', 'vect__action_pat_tfidf__analyzer': 'word', 'vect__classification_enc__max_features': 2214, 'vect__classification_enc__min_df': 4, 'vect__classification_enc__norm': 'l1'}. Best is trial#13 with value: 0.5638014529635027.\u001b[0m\n",
      "\u001b[32m[I 2020-06-10 20:22:52,067]\u001b[0m Finished trial#62 with value: 0.5638014529635027 with parameters: {'vect__etat_pat_tfidf__max_features': 19036, 'vect__etat_pat_tfidf__min_df': 4, 'vect__etat_pat_tfidf__norm': 'l2', 'vect__description_tfidf__max_features': 19864, 'vect__description_tfidf__min_df': 2, 'vect__description_tfidf__norm': 'l2', 'vect__fabricant_tfidf__analyzer': 'word', 'vect__fabricant_tfidf__max_features': 2404, 'vect__fabricant_tfidf__min_df': 3, 'vect__fabricant_tfidf__norm': 'l1', 'vect__action_pat_tfidf__analyzer': 'word', 'vect__classification_enc__max_features': 2373, 'vect__classification_enc__min_df': 4, 'vect__classification_enc__norm': 'l1'}. Best is trial#13 with value: 0.5638014529635027.\u001b[0m\n",
      "\u001b[32m[I 2020-06-10 20:24:09,640]\u001b[0m Finished trial#63 with value: 0.5638014529635027 with parameters: {'vect__etat_pat_tfidf__max_features': 14658, 'vect__etat_pat_tfidf__min_df': 4, 'vect__etat_pat_tfidf__norm': 'l2', 'vect__description_tfidf__max_features': 42643, 'vect__description_tfidf__min_df': 2, 'vect__description_tfidf__norm': 'l2', 'vect__fabricant_tfidf__analyzer': 'word', 'vect__fabricant_tfidf__max_features': 1432, 'vect__fabricant_tfidf__min_df': 3, 'vect__fabricant_tfidf__norm': 'l1', 'vect__action_pat_tfidf__analyzer': 'word', 'vect__classification_enc__max_features': 1515, 'vect__classification_enc__min_df': 4, 'vect__classification_enc__norm': 'l1'}. Best is trial#13 with value: 0.5638014529635027.\u001b[0m\n",
      "\u001b[32m[I 2020-06-10 20:25:28,208]\u001b[0m Finished trial#64 with value: 0.5638014529635027 with parameters: {'vect__etat_pat_tfidf__max_features': 13587, 'vect__etat_pat_tfidf__min_df': 4, 'vect__etat_pat_tfidf__norm': 'l2', 'vect__description_tfidf__max_features': 56497, 'vect__description_tfidf__min_df': 2, 'vect__description_tfidf__norm': 'l2', 'vect__fabricant_tfidf__analyzer': 'word', 'vect__fabricant_tfidf__max_features': 3575, 'vect__fabricant_tfidf__min_df': 3, 'vect__fabricant_tfidf__norm': 'l1', 'vect__action_pat_tfidf__analyzer': 'word', 'vect__classification_enc__max_features': 2076, 'vect__classification_enc__min_df': 4, 'vect__classification_enc__norm': 'l1'}. Best is trial#13 with value: 0.5638014529635027.\u001b[0m\n",
      "\u001b[32m[I 2020-06-10 20:26:46,253]\u001b[0m Finished trial#65 with value: 0.5625165858425152 with parameters: {'vect__etat_pat_tfidf__max_features': 19204, 'vect__etat_pat_tfidf__min_df': 4, 'vect__etat_pat_tfidf__norm': 'l2', 'vect__description_tfidf__max_features': 52369, 'vect__description_tfidf__min_df': 2, 'vect__description_tfidf__norm': 'l2', 'vect__fabricant_tfidf__analyzer': 'word', 'vect__fabricant_tfidf__max_features': 3864, 'vect__fabricant_tfidf__min_df': 2, 'vect__fabricant_tfidf__norm': 'l1', 'vect__action_pat_tfidf__analyzer': 'word', 'vect__classification_enc__max_features': 2631, 'vect__classification_enc__min_df': 2, 'vect__classification_enc__norm': 'l1'}. Best is trial#13 with value: 0.5638014529635027.\u001b[0m\n",
      "\u001b[32m[I 2020-06-10 20:28:29,629]\u001b[0m Finished trial#66 with value: 0.5530312166523292 with parameters: {'vect__etat_pat_tfidf__max_features': 17951, 'vect__etat_pat_tfidf__min_df': 5, 'vect__etat_pat_tfidf__norm': 'l2', 'vect__description_tfidf__max_features': 21376, 'vect__description_tfidf__min_df': 3, 'vect__description_tfidf__norm': 'l2', 'vect__fabricant_tfidf__analyzer': 'char', 'vect__fabricant_tfidf__max_features': 2196, 'vect__fabricant_tfidf__min_df': 3, 'vect__fabricant_tfidf__norm': 'l1', 'vect__action_pat_tfidf__analyzer': 'word', 'vect__classification_enc__max_features': 2051, 'vect__classification_enc__min_df': 5, 'vect__classification_enc__norm': 'l1'}. Best is trial#13 with value: 0.5638014529635027.\u001b[0m\n",
      "\u001b[32m[I 2020-06-10 20:29:50,935]\u001b[0m Finished trial#67 with value: 0.5623234483972629 with parameters: {'vect__etat_pat_tfidf__max_features': 15512, 'vect__etat_pat_tfidf__min_df': 3, 'vect__etat_pat_tfidf__norm': 'l2', 'vect__description_tfidf__max_features': 47573, 'vect__description_tfidf__min_df': 2, 'vect__description_tfidf__norm': 'l2', 'vect__fabricant_tfidf__analyzer': 'word', 'vect__fabricant_tfidf__max_features': 4912, 'vect__fabricant_tfidf__min_df': 4, 'vect__fabricant_tfidf__norm': 'l1', 'vect__action_pat_tfidf__analyzer': 'word', 'vect__classification_enc__max_features': 1128, 'vect__classification_enc__min_df': 4, 'vect__classification_enc__norm': 'l1'}. Best is trial#13 with value: 0.5638014529635027.\u001b[0m\n",
      "\u001b[32m[I 2020-06-10 20:31:32,792]\u001b[0m Finished trial#68 with value: 0.5616881855360616 with parameters: {'vect__etat_pat_tfidf__max_features': 18111, 'vect__etat_pat_tfidf__min_df': 3, 'vect__etat_pat_tfidf__norm': 'l2', 'vect__description_tfidf__max_features': 23322, 'vect__description_tfidf__min_df': 1, 'vect__description_tfidf__norm': 'l2', 'vect__fabricant_tfidf__analyzer': 'word', 'vect__fabricant_tfidf__max_features': 9628, 'vect__fabricant_tfidf__min_df': 3, 'vect__fabricant_tfidf__norm': 'l1', 'vect__action_pat_tfidf__analyzer': 'char', 'vect__classification_enc__max_features': 1389, 'vect__classification_enc__min_df': 4, 'vect__classification_enc__norm': 'l1'}. Best is trial#13 with value: 0.5638014529635027.\u001b[0m\n",
      "\u001b[32m[I 2020-06-10 20:32:54,968]\u001b[0m Finished trial#69 with value: 0.5613200595693172 with parameters: {'vect__etat_pat_tfidf__max_features': 16065, 'vect__etat_pat_tfidf__min_df': 4, 'vect__etat_pat_tfidf__norm': 'l2', 'vect__description_tfidf__max_features': 37332, 'vect__description_tfidf__min_df': 2, 'vect__description_tfidf__norm': 'l2', 'vect__fabricant_tfidf__analyzer': 'word', 'vect__fabricant_tfidf__max_features': 8791, 'vect__fabricant_tfidf__min_df': 4, 'vect__fabricant_tfidf__norm': 'l2', 'vect__action_pat_tfidf__analyzer': 'word', 'vect__classification_enc__max_features': 1843, 'vect__classification_enc__min_df': 4, 'vect__classification_enc__norm': 'l2'}. Best is trial#13 with value: 0.5638014529635027.\u001b[0m\n",
      "\u001b[32m[I 2020-06-10 20:34:11,983]\u001b[0m Finished trial#70 with value: 0.5622109268207929 with parameters: {'vect__etat_pat_tfidf__max_features': 11375, 'vect__etat_pat_tfidf__min_df': 4, 'vect__etat_pat_tfidf__norm': 'l2', 'vect__description_tfidf__max_features': 17592, 'vect__description_tfidf__min_df': 3, 'vect__description_tfidf__norm': 'l2', 'vect__fabricant_tfidf__analyzer': 'word', 'vect__fabricant_tfidf__max_features': 9936, 'vect__fabricant_tfidf__min_df': 3, 'vect__fabricant_tfidf__norm': 'l1', 'vect__action_pat_tfidf__analyzer': 'word', 'vect__classification_enc__max_features': 1679, 'vect__classification_enc__min_df': 4, 'vect__classification_enc__norm': 'l1'}. Best is trial#13 with value: 0.5638014529635027.\u001b[0m\n",
      "\u001b[32m[I 2020-06-10 20:35:29,823]\u001b[0m Finished trial#71 with value: 0.5638014529635027 with parameters: {'vect__etat_pat_tfidf__max_features': 13668, 'vect__etat_pat_tfidf__min_df': 4, 'vect__etat_pat_tfidf__norm': 'l2', 'vect__description_tfidf__max_features': 25752, 'vect__description_tfidf__min_df': 2, 'vect__description_tfidf__norm': 'l2', 'vect__fabricant_tfidf__analyzer': 'word', 'vect__fabricant_tfidf__max_features': 2747, 'vect__fabricant_tfidf__min_df': 3, 'vect__fabricant_tfidf__norm': 'l1', 'vect__action_pat_tfidf__analyzer': 'word', 'vect__classification_enc__max_features': 1968, 'vect__classification_enc__min_df': 5, 'vect__classification_enc__norm': 'l1'}. Best is trial#13 with value: 0.5638014529635027.\u001b[0m\n",
      "\u001b[32m[I 2020-06-10 20:36:46,431]\u001b[0m Finished trial#72 with value: 0.5638014529635027 with parameters: {'vect__etat_pat_tfidf__max_features': 15617, 'vect__etat_pat_tfidf__min_df': 4, 'vect__etat_pat_tfidf__norm': 'l2', 'vect__description_tfidf__max_features': 25183, 'vect__description_tfidf__min_df': 2, 'vect__description_tfidf__norm': 'l2', 'vect__fabricant_tfidf__analyzer': 'word', 'vect__fabricant_tfidf__max_features': 5594, 'vect__fabricant_tfidf__min_df': 3, 'vect__fabricant_tfidf__norm': 'l1', 'vect__action_pat_tfidf__analyzer': 'word', 'vect__classification_enc__max_features': 1279, 'vect__classification_enc__min_df': 5, 'vect__classification_enc__norm': 'l1'}. Best is trial#13 with value: 0.5638014529635027.\u001b[0m\n",
      "\u001b[32m[I 2020-06-10 20:38:06,171]\u001b[0m Finished trial#73 with value: 0.5638014529635027 with parameters: {'vect__etat_pat_tfidf__max_features': 16808, 'vect__etat_pat_tfidf__min_df': 4, 'vect__etat_pat_tfidf__norm': 'l2', 'vect__description_tfidf__max_features': 43381, 'vect__description_tfidf__min_df': 2, 'vect__description_tfidf__norm': 'l2', 'vect__fabricant_tfidf__analyzer': 'word', 'vect__fabricant_tfidf__max_features': 5665, 'vect__fabricant_tfidf__min_df': 3, 'vect__fabricant_tfidf__norm': 'l1', 'vect__action_pat_tfidf__analyzer': 'word', 'vect__classification_enc__max_features': 2283, 'vect__classification_enc__min_df': 4, 'vect__classification_enc__norm': 'l1'}. Best is trial#13 with value: 0.5638014529635027.\u001b[0m\n",
      "\u001b[32m[I 2020-06-10 20:39:23,271]\u001b[0m Finished trial#74 with value: 0.5638014529635027 with parameters: {'vect__etat_pat_tfidf__max_features': 14940, 'vect__etat_pat_tfidf__min_df': 4, 'vect__etat_pat_tfidf__norm': 'l2', 'vect__description_tfidf__max_features': 47584, 'vect__description_tfidf__min_df': 2, 'vect__description_tfidf__norm': 'l2', 'vect__fabricant_tfidf__analyzer': 'word', 'vect__fabricant_tfidf__max_features': 5653, 'vect__fabricant_tfidf__min_df': 3, 'vect__fabricant_tfidf__norm': 'l1', 'vect__action_pat_tfidf__analyzer': 'word', 'vect__classification_enc__max_features': 2380, 'vect__classification_enc__min_df': 5, 'vect__classification_enc__norm': 'l1'}. Best is trial#13 with value: 0.5638014529635027.\u001b[0m\n",
      "\u001b[32m[I 2020-06-10 20:40:39,379]\u001b[0m Finished trial#75 with value: 0.5629891834027633 with parameters: {'vect__etat_pat_tfidf__max_features': 4575, 'vect__etat_pat_tfidf__min_df': 4, 'vect__etat_pat_tfidf__norm': 'l2', 'vect__description_tfidf__max_features': 28435, 'vect__description_tfidf__min_df': 2, 'vect__description_tfidf__norm': 'l2', 'vect__fabricant_tfidf__analyzer': 'word', 'vect__fabricant_tfidf__max_features': 5985, 'vect__fabricant_tfidf__min_df': 3, 'vect__fabricant_tfidf__norm': 'l1', 'vect__action_pat_tfidf__analyzer': 'word', 'vect__classification_enc__max_features': 1725, 'vect__classification_enc__min_df': 4, 'vect__classification_enc__norm': 'l1'}. Best is trial#13 with value: 0.5638014529635027.\u001b[0m\n",
      "\u001b[32m[I 2020-06-10 20:41:58,282]\u001b[0m Finished trial#76 with value: 0.5638014529635027 with parameters: {'vect__etat_pat_tfidf__max_features': 16541, 'vect__etat_pat_tfidf__min_df': 4, 'vect__etat_pat_tfidf__norm': 'l2', 'vect__description_tfidf__max_features': 39705, 'vect__description_tfidf__min_df': 2, 'vect__description_tfidf__norm': 'l2', 'vect__fabricant_tfidf__analyzer': 'word', 'vect__fabricant_tfidf__max_features': 1399, 'vect__fabricant_tfidf__min_df': 3, 'vect__fabricant_tfidf__norm': 'l1', 'vect__action_pat_tfidf__analyzer': 'word', 'vect__classification_enc__max_features': 1628, 'vect__classification_enc__min_df': 5, 'vect__classification_enc__norm': 'l1'}. Best is trial#13 with value: 0.5638014529635027.\u001b[0m\n",
      "\u001b[32m[I 2020-06-10 20:43:17,432]\u001b[0m Finished trial#77 with value: 0.5606396122903499 with parameters: {'vect__etat_pat_tfidf__max_features': 16414, 'vect__etat_pat_tfidf__min_df': 4, 'vect__etat_pat_tfidf__norm': 'l2', 'vect__description_tfidf__max_features': 33579, 'vect__description_tfidf__min_df': 2, 'vect__description_tfidf__norm': 'l2', 'vect__fabricant_tfidf__analyzer': 'word', 'vect__fabricant_tfidf__max_features': 584, 'vect__fabricant_tfidf__min_df': 3, 'vect__fabricant_tfidf__norm': 'l1', 'vect__action_pat_tfidf__analyzer': 'word', 'vect__classification_enc__max_features': 1417, 'vect__classification_enc__min_df': 5, 'vect__classification_enc__norm': 'l1'}. Best is trial#13 with value: 0.5638014529635027.\u001b[0m\n",
      "\u001b[32m[I 2020-06-10 20:45:03,612]\u001b[0m Finished trial#78 with value: 0.5603840228262646 with parameters: {'vect__etat_pat_tfidf__max_features': 16738, 'vect__etat_pat_tfidf__min_df': 4, 'vect__etat_pat_tfidf__norm': 'l2', 'vect__description_tfidf__max_features': 38277, 'vect__description_tfidf__min_df': 1, 'vect__description_tfidf__norm': 'l2', 'vect__fabricant_tfidf__analyzer': 'word', 'vect__fabricant_tfidf__max_features': 6950, 'vect__fabricant_tfidf__min_df': 3, 'vect__fabricant_tfidf__norm': 'l1', 'vect__action_pat_tfidf__analyzer': 'char_wb', 'vect__classification_enc__max_features': 1256, 'vect__classification_enc__min_df': 5, 'vect__classification_enc__norm': 'l1'}. Best is trial#13 with value: 0.5638014529635027.\u001b[0m\n",
      "\u001b[32m[I 2020-06-10 20:48:59,319]\u001b[0m Finished trial#79 with value: 0.5560222611348575 with parameters: {'vect__etat_pat_tfidf__max_features': 13248, 'vect__etat_pat_tfidf__min_df': 5, 'vect__etat_pat_tfidf__norm': 'l1', 'vect__description_tfidf__max_features': 59942, 'vect__description_tfidf__min_df': 2, 'vect__description_tfidf__norm': 'l1', 'vect__fabricant_tfidf__analyzer': 'char_wb', 'vect__fabricant_tfidf__max_features': 2501, 'vect__fabricant_tfidf__min_df': 4, 'vect__fabricant_tfidf__norm': 'l1', 'vect__action_pat_tfidf__analyzer': 'word', 'vect__classification_enc__max_features': 2354, 'vect__classification_enc__min_df': 4, 'vect__classification_enc__norm': 'l1'}. Best is trial#13 with value: 0.5638014529635027.\u001b[0m\n"
     ]
    },
    {
     "name": "stdout",
     "output_type": "stream",
     "text": [
      "FrozenTrial(number=13, value=0.5638014529635027, datetime_start=datetime.datetime(2020, 6, 10, 19, 7, 53, 904403), datetime_complete=datetime.datetime(2020, 6, 10, 19, 9, 11, 38205), params={'vect__etat_pat_tfidf__max_features': 19700, 'vect__etat_pat_tfidf__min_df': 4, 'vect__etat_pat_tfidf__norm': 'l2', 'vect__description_tfidf__max_features': 20401, 'vect__description_tfidf__min_df': 2, 'vect__description_tfidf__norm': 'l2', 'vect__fabricant_tfidf__analyzer': 'word', 'vect__fabricant_tfidf__max_features': 9992, 'vect__fabricant_tfidf__min_df': 3, 'vect__fabricant_tfidf__norm': 'l1', 'vect__action_pat_tfidf__analyzer': 'word', 'vect__classification_enc__max_features': 2062, 'vect__classification_enc__min_df': 4, 'vect__classification_enc__norm': 'l1'}, distributions={'vect__etat_pat_tfidf__max_features': IntUniformDistribution(high=20000, low=500, step=1), 'vect__etat_pat_tfidf__min_df': IntUniformDistribution(high=5, low=1, step=1), 'vect__etat_pat_tfidf__norm': CategoricalDistribution(choices=('l1', 'l2')), 'vect__description_tfidf__max_features': IntUniformDistribution(high=60000, low=1500, step=1), 'vect__description_tfidf__min_df': IntUniformDistribution(high=5, low=1, step=1), 'vect__description_tfidf__norm': CategoricalDistribution(choices=('l1', 'l2')), 'vect__fabricant_tfidf__analyzer': CategoricalDistribution(choices=('word', 'char', 'char_wb')), 'vect__fabricant_tfidf__max_features': IntUniformDistribution(high=10000, low=500, step=1), 'vect__fabricant_tfidf__min_df': IntUniformDistribution(high=5, low=1, step=1), 'vect__fabricant_tfidf__norm': CategoricalDistribution(choices=('l1', 'l2')), 'vect__action_pat_tfidf__analyzer': CategoricalDistribution(choices=('word', 'char', 'char_wb')), 'vect__classification_enc__max_features': IntUniformDistribution(high=5000, low=500, step=1), 'vect__classification_enc__min_df': IntUniformDistribution(high=5, low=1, step=1), 'vect__classification_enc__norm': CategoricalDistribution(choices=('l1', 'l2'))}, user_attrs={}, system_attrs={}, intermediate_values={}, trial_id=13, state=TrialState.COMPLETE)\n"
     ]
    }
   ],
   "source": [
    "time_out = 75*100\n",
    "studyName = 'EFFET_ml_optimisation_svm'\n",
    "study = optuna.create_study(direction=\"maximize\")\n",
    "study.optimize(objective, timeout=time_out)\n",
    "\n",
    "#Suvegarde du resultat\n",
    "df = study.trials_dataframe()\n",
    "df.to_json(studyName+'.json')\n",
    "print(study.best_trial)"
   ]
  },
  {
   "cell_type": "code",
   "execution_count": 51,
   "metadata": {},
   "outputs": [
    {
     "name": "stdout",
     "output_type": "stream",
     "text": [
      "f1_score samples :  0.7410986101919259\n",
      "CPU times: user 30.4 s, sys: 52 ms, total: 30.5 s\n",
      "Wall time: 30.5 s\n"
     ]
    }
   ],
   "source": [
    "%%time\n",
    "Param = {'vect__etat_pat_tfidf__max_features': 19700, 'vect__etat_pat_tfidf__min_df': 4, 'vect__etat_pat_tfidf__norm': 'l2', \n",
    "         'vect__description_tfidf__max_features': 20401, 'vect__description_tfidf__min_df': 2, 'vect__description_tfidf__norm': 'l2', \n",
    "         'vect__fabricant_tfidf__analyzer': 'word', 'vect__fabricant_tfidf__max_features': 9992, 'vect__fabricant_tfidf__min_df': 3, \n",
    "         'vect__fabricant_tfidf__norm': 'l1', 'vect__classification_enc_analyzer': 'word', 'vect__classification_enc__max_features': 2062,\n",
    "         'vect__classification_enc__min_df': 4, 'vect__classification_enc__norm': 'l1'}\n",
    "\n",
    "preprocess2 = ColumnTransformer(\n",
    "    [('description_tfidf',TfidfVectorizer(sublinear_tf=True, min_df=2,\n",
    "                            ngram_range=(1, 1),\n",
    "                            stop_words=STOP_WORDS,\n",
    "                            max_features = 20401,norm = 'l2'), 'DESCRIPTION_INCIDENT'),\n",
    "     \n",
    "     ('etat_pat_tfidf', TfidfVectorizer(sublinear_tf=True, min_df=4,\n",
    "                                        ngram_range=(1, 1),\n",
    "                                        stop_words=STOP_WORDS,\n",
    "                                        max_features = 19700,\n",
    "                                        norm = 'l2'), 'ETAT_PATIENT'),\n",
    "     \n",
    "     ('fabricant_tfidf',TfidfVectorizer(sublinear_tf=True, min_df=3,\n",
    "                            ngram_range=(1, 1),\n",
    "                            stop_words=STOP_WORDS,\n",
    "                            max_features = 9992,norm = 'l1'), 'FABRICANT'),\n",
    "    \n",
    "    ('classification_enc', TfidfVectorizer(sublinear_tf=True, min_df=4,\n",
    "                            ngram_range=(1, 1),\n",
    "                            stop_words=STOP_WORDS,\n",
    "                            max_features = 2062,norm = 'l2'),'CLASSIFICATION')\n",
    "     ],\n",
    "    \n",
    "    remainder='passthrough')\n",
    "\n",
    "\n",
    "pipeline = Pipeline([\n",
    "    ('vect', preprocess2),\n",
    "    ('clf', OneVsRestClassifier(CalibratedClassifierCV(LinearSVC(class_weight='balanced'),cv=3, method='isotonic'))),\n",
    "])\n",
    "\n",
    "\n",
    "pipeline.fit(X,y_lb)\n",
    "Y_pred_ovr = pipeline.predict(X_test)\n",
    "f1 = f1_score(y_test_lb , Y_pred_ovr,average='samples')\n",
    "print('f1_score samples : ',f1)"
   ]
  },
  {
   "cell_type": "code",
   "execution_count": 52,
   "metadata": {
    "scrolled": true
   },
   "outputs": [
    {
     "name": "stdout",
     "output_type": "stream",
     "text": [
      "              precision    recall  f1-score   support\n",
      "\n",
      "           0       0.26      0.32      0.29        22\n",
      "           1       0.00      0.00      0.00         1\n",
      "           2       0.95      0.60      0.73        30\n",
      "           3       0.00      0.00      0.00        13\n",
      "           4       1.00      0.50      0.67         4\n",
      "           5       0.00      0.00      0.00        27\n",
      "           6       0.84      0.54      0.66        59\n",
      "           7       0.72      0.66      0.69        70\n",
      "           8       0.76      0.54      0.63       218\n",
      "           9       0.72      0.26      0.39       125\n",
      "          10       0.00      0.00      0.00         0\n",
      "          11       0.81      0.77      0.79        22\n",
      "          12       0.81      0.59      0.69       138\n",
      "          13       0.00      0.00      0.00         1\n",
      "          14       0.00      0.00      0.00         6\n",
      "          15       0.86      0.46      0.60        13\n",
      "          16       0.86      0.18      0.30        33\n",
      "          17       0.82      0.48      0.61        29\n",
      "          18       0.00      0.00      0.00        10\n",
      "          19       1.00      0.09      0.17        32\n",
      "          20       0.00      0.00      0.00         6\n",
      "          21       0.00      0.00      0.00         3\n",
      "          22       0.84      0.55      0.67        29\n",
      "          23       0.83      0.27      0.41        37\n",
      "          24       0.81      0.64      0.72        69\n",
      "          25       0.78      0.51      0.62        41\n",
      "          26       0.94      0.93      0.93      3051\n",
      "          27       0.80      0.99      0.88      1927\n",
      "          28       0.00      0.00      0.00       215\n",
      "          29       0.80      0.71      0.75       350\n",
      "          30       0.00      0.00      0.00         4\n",
      "          31       0.89      0.51      0.65       111\n",
      "          32       0.75      0.86      0.80        21\n",
      "          33       0.00      0.00      0.00         8\n",
      "          34       0.00      0.00      0.00         1\n",
      "          35       0.00      0.00      0.00        32\n",
      "          36       0.00      0.00      0.00         6\n",
      "          37       0.00      0.00      0.00         9\n",
      "          38       0.00      0.00      0.00        19\n",
      "          39       0.00      0.00      0.00        10\n",
      "\n",
      "   micro avg       0.86      0.81      0.84      6802\n",
      "   macro avg       0.45      0.30      0.34      6802\n",
      "weighted avg       0.82      0.81      0.80      6802\n",
      " samples avg       0.74      0.77      0.74      6802\n",
      "\n"
     ]
    }
   ],
   "source": [
    "print(classification_report(y_test_lb , Y_pred_ovr))"
   ]
  },
  {
   "cell_type": "markdown",
   "metadata": {},
   "source": [
    "## Commantaire\n",
    " Notre première approximation des performances était la bonne. En effet, le finetunning des paramètres des TFIDF n'a pas permis d'augmenter significativmement les résultats\n",
    " \n",
    "## 3.0 L'approche Multioutput\n",
    "\n",
    "> Multioutput classification support can be added to any classifier with MultiOutputClassifier. This strategy consists of fitting one classifier per target. This allows multiple target variable classifications. The purpose of this class is to extend estimators to be able to estimate a series of target functions (f1,f2,f3…,fn) that are trained on a single X predictor matrix to predict a series of responses (y1,y2,y3…,yn).\n",
    "\n",
    "https://scikit-learn.org/stable/modules/generated/sklearn.multioutput.MultiOutputClassifier.html\n",
    "\n",
    "\n"
   ]
  },
  {
   "cell_type": "code",
   "execution_count": 53,
   "metadata": {},
   "outputs": [
    {
     "name": "stdout",
     "output_type": "stream",
     "text": [
      "f1_score samples :  0.7387013751011102\n"
     ]
    }
   ],
   "source": [
    "from sklearn.multioutput import MultiOutputClassifier\n",
    "\n",
    "pipeline = Pipeline([\n",
    "    ('vect', preprocess),\n",
    "    ('clf', MultiOutputClassifier(LinearSVC(class_weight='balanced'))),\n",
    "])\n",
    "#### prédiction \n",
    "pipeline.fit(X,y_lb)\n",
    "Y_pred_ovr = pipeline.predict(X_test)\n",
    "f1 = f1_score(y_test_lb , Y_pred_ovr,average='samples')\n",
    "print('f1_score samples : ',f1)"
   ]
  },
  {
   "cell_type": "code",
   "execution_count": 54,
   "metadata": {
    "scrolled": true
   },
   "outputs": [
    {
     "name": "stdout",
     "output_type": "stream",
     "text": [
      "              precision    recall  f1-score   support\n",
      "\n",
      "           0       0.33      0.50      0.40        22\n",
      "           1       0.00      0.00      0.00         1\n",
      "           2       0.77      0.67      0.71        30\n",
      "           3       0.00      0.00      0.00        13\n",
      "           4       1.00      0.50      0.67         4\n",
      "           5       0.27      0.30      0.28        27\n",
      "           6       0.76      0.76      0.76        59\n",
      "           7       0.62      0.77      0.69        70\n",
      "           8       0.69      0.68      0.69       218\n",
      "           9       0.47      0.50      0.48       125\n",
      "          10       0.00      0.00      0.00         0\n",
      "          11       0.89      0.77      0.83        22\n",
      "          12       0.73      0.73      0.73       138\n",
      "          13       0.00      0.00      0.00         1\n",
      "          14       0.00      0.00      0.00         6\n",
      "          15       0.86      0.46      0.60        13\n",
      "          16       0.85      0.52      0.64        33\n",
      "          17       0.75      0.52      0.61        29\n",
      "          18       0.00      0.00      0.00        10\n",
      "          19       0.44      0.22      0.29        32\n",
      "          20       0.00      0.00      0.00         6\n",
      "          21       0.00      0.00      0.00         3\n",
      "          22       0.76      0.66      0.70        29\n",
      "          23       0.73      0.30      0.42        37\n",
      "          24       0.74      0.70      0.72        69\n",
      "          25       1.00      0.51      0.68        41\n",
      "          26       0.94      0.89      0.91      3051\n",
      "          27       0.85      0.75      0.80      1927\n",
      "          28       0.33      0.07      0.12       215\n",
      "          29       0.74      0.74      0.74       350\n",
      "          30       0.00      0.00      0.00         4\n",
      "          31       0.80      0.68      0.74       111\n",
      "          32       0.72      0.86      0.78        21\n",
      "          33       0.00      0.00      0.00         8\n",
      "          34       0.00      0.00      0.00         1\n",
      "          35       0.00      0.00      0.00        32\n",
      "          36       0.00      0.00      0.00         6\n",
      "          37       0.50      0.22      0.31         9\n",
      "          38       0.71      0.63      0.67        19\n",
      "          39       0.00      0.00      0.00        10\n",
      "\n",
      "   micro avg       0.85      0.76      0.80      6802\n",
      "   macro avg       0.46      0.37      0.40      6802\n",
      "weighted avg       0.83      0.76      0.79      6802\n",
      " samples avg       0.78      0.75      0.74      6802\n",
      "\n"
     ]
    }
   ],
   "source": [
    "print(classification_report(y_test_lb , Y_pred_ovr))"
   ]
  },
  {
   "cell_type": "markdown",
   "metadata": {},
   "source": [
    "### Commentaire\n",
    "Comme attendu, nous n'observons pas de grande différence car les deux approches sont très similaires\n",
    "\n",
    "## 3.1 Approche One vs One\n",
    "\n",
    ">This strategy consists in fitting one classifier per class pair. At prediction time, the class which received the most votes is selected. Since it requires to fit n_classes * (n_classes - 1) / 2 classifiers, this method is usually slower than one-vs-the-rest, due to its O(n_classes^2) complexity. However, this method may be advantageous for algorithms such as kernel algorithms which don’t scale well with n_samples. This is because each individual learning problem only involves a small subset of the data whereas, with one-vs-the-rest, the complete dataset is used n_classes times.\n",
    "\n"
   ]
  },
  {
   "cell_type": "code",
   "execution_count": 55,
   "metadata": {},
   "outputs": [
    {
     "name": "stdout",
     "output_type": "stream",
     "text": [
      "f1_score samples :  0.7387013751011102\n",
      "CPU times: user 17.1 s, sys: 32 ms, total: 17.1 s\n",
      "Wall time: 17.1 s\n"
     ]
    }
   ],
   "source": [
    "%%time\n",
    "from sklearn.multiclass import OneVsOneClassifier\n",
    "pipeline = Pipeline([\n",
    "    ('vect', preprocess),\n",
    "    ('clf', MultiOutputClassifier(OneVsOneClassifier(LinearSVC(class_weight='balanced')))),\n",
    "])\n",
    "#### prédiction \n",
    "pipeline.fit(X,y_lb)\n",
    "Y_pred_ovr = pipeline.predict(X_test)\n",
    "f1 = f1_score(y_test_lb , Y_pred_ovr,average='samples')\n",
    "print('f1_score samples : ',f1)"
   ]
  },
  {
   "cell_type": "markdown",
   "metadata": {},
   "source": [
    "### Commentaire\n",
    "Nous n'oservons pas de changement de performances, seulement une hausse du temps de calcul\n",
    "## 3.2 l'approche ClassifierChain\n",
    ">A multi-label model that arranges binary classifiers into a chain.\n",
    "Each model makes a prediction in the order specified by the chain using all of the available features provided to the model plus the predictions of models that are earlier in the chain.\n",
    "\n"
   ]
  },
  {
   "cell_type": "code",
   "execution_count": 56,
   "metadata": {},
   "outputs": [],
   "source": [
    "from sklearn.multioutput import ClassifierChain"
   ]
  },
  {
   "cell_type": "code",
   "execution_count": 57,
   "metadata": {},
   "outputs": [],
   "source": [
    "train_index_,test_index_ = next(GroupShuffleSplit(random_state=1029).split(X, groups=X['DESCRIPTION_INCIDENT']))\n",
    "X_train_, X_test_ = X.iloc[train_index_], X.iloc[test_index_]\n",
    "y_train_, y_test_ = y.iloc[train_index_], y.iloc[test_index_]\n",
    "\n",
    "X_train_, X_test_ =preprocess.fit_transform(X_train_),preprocess.transform(X_test_)\n",
    "y_train_lb_ = lb.transform(y_train_)\n",
    "y_test_lb_ = lb.transform(y_test_)"
   ]
  },
  {
   "cell_type": "code",
   "execution_count": 58,
   "metadata": {},
   "outputs": [
    {
     "name": "stdout",
     "output_type": "stream",
     "text": [
      "0.7790352231781749\n",
      "CPU times: user 2min 8s, sys: 492 ms, total: 2min 8s\n",
      "Wall time: 2min 8s\n"
     ]
    }
   ],
   "source": [
    "%%time\n",
    "X_train, X_test_ =preprocess.fit_transform(X),preprocess.transform(X_test)\n",
    "clf = LinearSVC(class_weight='balanced')\n",
    "\n",
    "\n",
    "chains = [ClassifierChain(clf, order='random', random_state=i) for i in range(10)]\n",
    "\n",
    "for chain in chains:\n",
    "    chain.fit(X_train, y_lb)\n",
    "    \n",
    "y_pred_chains = np.array([chain.predict(X_test_) for chain in chains])\n",
    "\n",
    "chain_f1_scores = [f1_score(y_test_lb, y_pred_chain, average='samples') for y_pred_chain in y_pred_chains]\n",
    "\n",
    "y_pred_ensemble = y_pred_chains.mean(axis=0)\n",
    "\n",
    "y_e = y_pred_ensemble>=0.4\n",
    "\n",
    "ensemble_f1_score = f1_score(y_test_lb,y_e, average='samples')\n",
    "\n",
    "print(ensemble_f1_score)"
   ]
  },
  {
   "cell_type": "code",
   "execution_count": 59,
   "metadata": {
    "scrolled": true
   },
   "outputs": [
    {
     "name": "stdout",
     "output_type": "stream",
     "text": [
      "              precision    recall  f1-score   support\n",
      "\n",
      "           0       0.33      0.50      0.40        22\n",
      "           1       0.00      0.00      0.00         1\n",
      "           2       0.77      0.67      0.71        30\n",
      "           3       0.00      0.00      0.00        13\n",
      "           4       1.00      0.50      0.67         4\n",
      "           5       0.27      0.30      0.28        27\n",
      "           6       0.71      0.85      0.78        59\n",
      "           7       0.62      0.86      0.72        70\n",
      "           8       0.58      0.75      0.66       218\n",
      "           9       0.49      0.59      0.53       125\n",
      "          10       0.00      0.00      0.00         0\n",
      "          11       0.86      0.86      0.86        22\n",
      "          12       0.67      0.72      0.69       138\n",
      "          13       0.00      0.00      0.00         1\n",
      "          14       0.00      0.00      0.00         6\n",
      "          15       0.67      0.46      0.55        13\n",
      "          16       0.86      0.55      0.67        33\n",
      "          17       0.76      0.55      0.64        29\n",
      "          18       0.00      0.00      0.00        10\n",
      "          19       0.38      0.34      0.36        32\n",
      "          20       0.00      0.00      0.00         6\n",
      "          21       0.00      0.00      0.00         3\n",
      "          22       0.58      0.66      0.61        29\n",
      "          23       0.59      0.43      0.50        37\n",
      "          24       0.75      0.74      0.74        69\n",
      "          25       1.00      0.51      0.68        41\n",
      "          26       0.92      0.94      0.93      3051\n",
      "          27       0.85      0.75      0.80      1927\n",
      "          28       0.33      0.07      0.11       215\n",
      "          29       0.73      0.79      0.76       350\n",
      "          30       0.00      0.00      0.00         4\n",
      "          31       0.74      0.71      0.72       111\n",
      "          32       0.69      0.86      0.77        21\n",
      "          33       0.00      0.00      0.00         8\n",
      "          34       0.00      0.00      0.00         1\n",
      "          35       0.00      0.00      0.00        32\n",
      "          36       0.00      0.00      0.00         6\n",
      "          37       0.60      0.33      0.43         9\n",
      "          38       0.71      0.63      0.67        19\n",
      "          39       0.00      0.00      0.00        10\n",
      "\n",
      "   micro avg       0.83      0.79      0.81      6802\n",
      "   macro avg       0.44      0.40      0.41      6802\n",
      "weighted avg       0.81      0.79      0.80      6802\n",
      " samples avg       0.81      0.79      0.78      6802\n",
      "\n"
     ]
    }
   ],
   "source": [
    "print(classification_report(y_test_lb,y_e))"
   ]
  },
  {
   "cell_type": "code",
   "execution_count": 224,
   "metadata": {},
   "outputs": [
    {
     "data": {
      "text/plain": [
       "0.04225001471861698"
      ]
     },
     "execution_count": 224,
     "metadata": {},
     "output_type": "execute_result"
    }
   ],
   "source": [
    "#Random test\n",
    "test = np.random.rand(y_e.shape[0],y_e.shape[1])>=0.5\n",
    "f1_score(y_test_lb_,test, average='samples')"
   ]
  },
  {
   "cell_type": "markdown",
   "metadata": {},
   "source": [
    "### Commentaire : \n",
    "L'approche chain combiner à une méthode ensemblise améliore les performaces de quelques pourcent mais l'ordre de grandeur reste le même.\n",
    "\n",
    "L'approche multilabel est une piste à suivre mais elle n'améliore pas ou peu la qualité de notre apprentissage."
   ]
  },
  {
   "cell_type": "code",
   "execution_count": 247,
   "metadata": {},
   "outputs": [],
   "source": [
    "C = sk.metrics.multilabel_confusion_matrix(y_test_lb,y_e)"
   ]
  },
  {
   "cell_type": "code",
   "execution_count": 257,
   "metadata": {},
   "outputs": [],
   "source": [
    "df_re = pd.DataFrame(classification_report(y_test_lb , Y_pred_ovr,output_dict=True)).T"
   ]
  },
  {
   "cell_type": "code",
   "execution_count": 273,
   "metadata": {},
   "outputs": [
    {
     "ename": "ValueError",
     "evalue": "invalid literal for int() with base 10: 'micro avg'",
     "output_type": "error",
     "traceback": [
      "\u001b[0;31m---------------------------------------------------------------------------\u001b[0m",
      "\u001b[0;31mValueError\u001b[0m                                Traceback (most recent call last)",
      "\u001b[0;32m<ipython-input-273-9b06eafa88de>\u001b[0m in \u001b[0;36m<module>\u001b[0;34m\u001b[0m\n\u001b[0;32m----> 1\u001b[0;31m \u001b[0mdf_re\u001b[0m\u001b[0;34m[\u001b[0m\u001b[0;34m'Class'\u001b[0m\u001b[0;34m]\u001b[0m \u001b[0;34m=\u001b[0m \u001b[0mle\u001b[0m\u001b[0;34m.\u001b[0m\u001b[0minverse_transform\u001b[0m\u001b[0;34m(\u001b[0m\u001b[0mdf_re\u001b[0m\u001b[0;34m.\u001b[0m\u001b[0mindex\u001b[0m\u001b[0;34m.\u001b[0m\u001b[0mmap\u001b[0m\u001b[0;34m(\u001b[0m\u001b[0mint\u001b[0m\u001b[0;34m)\u001b[0m\u001b[0;34m.\u001b[0m\u001b[0mvalues\u001b[0m\u001b[0;34m[\u001b[0m\u001b[0;34m:\u001b[0m\u001b[0;34m-\u001b[0m\u001b[0;36m5\u001b[0m\u001b[0;34m]\u001b[0m\u001b[0;34m)\u001b[0m\u001b[0;34m\u001b[0m\u001b[0;34m\u001b[0m\u001b[0m\n\u001b[0m",
      "\u001b[0;32m~/DGS-env/lib/python3.7/site-packages/pandas/core/indexes/base.py\u001b[0m in \u001b[0;36mmap\u001b[0;34m(self, mapper, na_action)\u001b[0m\n\u001b[1;32m   4562\u001b[0m         \u001b[0;32mfrom\u001b[0m \u001b[0mpandas\u001b[0m\u001b[0;34m.\u001b[0m\u001b[0mcore\u001b[0m\u001b[0;34m.\u001b[0m\u001b[0mindexes\u001b[0m\u001b[0;34m.\u001b[0m\u001b[0mmulti\u001b[0m \u001b[0;32mimport\u001b[0m \u001b[0mMultiIndex\u001b[0m\u001b[0;34m\u001b[0m\u001b[0;34m\u001b[0m\u001b[0m\n\u001b[1;32m   4563\u001b[0m \u001b[0;34m\u001b[0m\u001b[0m\n\u001b[0;32m-> 4564\u001b[0;31m         \u001b[0mnew_values\u001b[0m \u001b[0;34m=\u001b[0m \u001b[0msuper\u001b[0m\u001b[0;34m(\u001b[0m\u001b[0;34m)\u001b[0m\u001b[0;34m.\u001b[0m\u001b[0m_map_values\u001b[0m\u001b[0;34m(\u001b[0m\u001b[0mmapper\u001b[0m\u001b[0;34m,\u001b[0m \u001b[0mna_action\u001b[0m\u001b[0;34m=\u001b[0m\u001b[0mna_action\u001b[0m\u001b[0;34m)\u001b[0m\u001b[0;34m\u001b[0m\u001b[0;34m\u001b[0m\u001b[0m\n\u001b[0m\u001b[1;32m   4565\u001b[0m \u001b[0;34m\u001b[0m\u001b[0m\n\u001b[1;32m   4566\u001b[0m         \u001b[0mattributes\u001b[0m \u001b[0;34m=\u001b[0m \u001b[0mself\u001b[0m\u001b[0;34m.\u001b[0m\u001b[0m_get_attributes_dict\u001b[0m\u001b[0;34m(\u001b[0m\u001b[0;34m)\u001b[0m\u001b[0;34m\u001b[0m\u001b[0;34m\u001b[0m\u001b[0m\n",
      "\u001b[0;32m~/DGS-env/lib/python3.7/site-packages/pandas/core/base.py\u001b[0m in \u001b[0;36m_map_values\u001b[0;34m(self, mapper, na_action)\u001b[0m\n\u001b[1;32m   1143\u001b[0m \u001b[0;34m\u001b[0m\u001b[0m\n\u001b[1;32m   1144\u001b[0m         \u001b[0;31m# mapper is a function\u001b[0m\u001b[0;34m\u001b[0m\u001b[0;34m\u001b[0m\u001b[0;34m\u001b[0m\u001b[0m\n\u001b[0;32m-> 1145\u001b[0;31m         \u001b[0mnew_values\u001b[0m \u001b[0;34m=\u001b[0m \u001b[0mmap_f\u001b[0m\u001b[0;34m(\u001b[0m\u001b[0mvalues\u001b[0m\u001b[0;34m,\u001b[0m \u001b[0mmapper\u001b[0m\u001b[0;34m)\u001b[0m\u001b[0;34m\u001b[0m\u001b[0;34m\u001b[0m\u001b[0m\n\u001b[0m\u001b[1;32m   1146\u001b[0m \u001b[0;34m\u001b[0m\u001b[0m\n\u001b[1;32m   1147\u001b[0m         \u001b[0;32mreturn\u001b[0m \u001b[0mnew_values\u001b[0m\u001b[0;34m\u001b[0m\u001b[0;34m\u001b[0m\u001b[0m\n",
      "\u001b[0;32mpandas/_libs/lib.pyx\u001b[0m in \u001b[0;36mpandas._libs.lib.map_infer\u001b[0;34m()\u001b[0m\n",
      "\u001b[0;31mValueError\u001b[0m: invalid literal for int() with base 10: 'micro avg'"
     ]
    }
   ],
   "source": [
    "df_re['Class'] = le.inverse_transform(df_re.index.map(int).values[:-5])"
   ]
  },
  {
   "cell_type": "code",
   "execution_count": 269,
   "metadata": {},
   "outputs": [],
   "source": [
    "L =df_re.index.to_list()"
   ]
  },
  {
   "cell_type": "code",
   "execution_count": 271,
   "metadata": {},
   "outputs": [
    {
     "ename": "AttributeError",
     "evalue": "'list' object has no attribute 'map'",
     "output_type": "error",
     "traceback": [
      "\u001b[0;31m---------------------------------------------------------------------------\u001b[0m",
      "\u001b[0;31mAttributeError\u001b[0m                            Traceback (most recent call last)",
      "\u001b[0;32m<ipython-input-271-3a35fc6d70ea>\u001b[0m in \u001b[0;36m<module>\u001b[0;34m\u001b[0m\n\u001b[0;32m----> 1\u001b[0;31m \u001b[0mL\u001b[0m\u001b[0;34m.\u001b[0m\u001b[0mmap\u001b[0m\u001b[0;34m(\u001b[0m\u001b[0mint\u001b[0m\u001b[0;34m)\u001b[0m\u001b[0;34m\u001b[0m\u001b[0;34m\u001b[0m\u001b[0m\n\u001b[0m",
      "\u001b[0;31mAttributeError\u001b[0m: 'list' object has no attribute 'map'"
     ]
    }
   ],
   "source": [
    "L.map(int)"
   ]
  },
  {
   "cell_type": "code",
   "execution_count": null,
   "metadata": {},
   "outputs": [],
   "source": []
  }
 ],
 "metadata": {
  "kernelspec": {
   "display_name": "DGS-env",
   "language": "python",
   "name": "dgs-env"
  },
  "language_info": {
   "codemirror_mode": {
    "name": "ipython",
    "version": 3
   },
   "file_extension": ".py",
   "mimetype": "text/x-python",
   "name": "python",
   "nbconvert_exporter": "python",
   "pygments_lexer": "ipython3",
   "version": "3.7.4"
  }
 },
 "nbformat": 4,
 "nbformat_minor": 4
}
