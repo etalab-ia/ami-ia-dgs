{
 "cells": [
  {
   "cell_type": "code",
   "execution_count": 1,
   "metadata": {},
   "outputs": [],
   "source": [
    "import warnings\n",
    "warnings.filterwarnings('ignore')\n",
    "\n",
    "from pprint import pprint\n",
    "from time import time\n",
    "import logging\n",
    "\n",
    "import pandas as pd\n",
    "\n",
    "import numpy as np\n",
    "import sklearn as sk\n",
    "import seaborn as sns\n",
    "\n",
    "import nltk\n",
    "from nltk import word_tokenize\n",
    "lang ='french'\n",
    "\n",
    "import clean_text\n",
    "import skmultilearn\n",
    "\n",
    "\n",
    "\n",
    "\n",
    "import matplotlib.pyplot as plt\n",
    "\n",
    "from sklearn.ensemble import BaggingClassifier\n",
    "from sklearn.feature_extraction.text import TfidfVectorizer,HashingVectorizer\n",
    "from sklearn.preprocessing import LabelEncoder, MultiLabelBinarizer\n",
    "from sklearn.model_selection import train_test_split\n",
    "from sklearn.model_selection import GroupShuffleSplit\n",
    "from sklearn.feature_extraction.text import TfidfTransformer,CountVectorizer\n",
    "from sklearn.naive_bayes import MultinomialNB\n",
    "from sklearn.linear_model import LogisticRegression\n",
    "from sklearn.ensemble import RandomForestClassifier\n",
    "from sklearn.svm import LinearSVC, SVC\n",
    "from sklearn.model_selection import cross_val_score, cross_validate\n",
    "\n",
    "from sklearn.metrics import confusion_matrix, accuracy_score, balanced_accuracy_score,f1_score,classification_report\n",
    "from sklearn import metrics\n",
    "from sklearn.linear_model import SGDClassifier\n",
    "from sklearn.decomposition import TruncatedSVD,IncrementalPCA,SparsePCA\n",
    "from sklearn.pipeline import Pipeline\n",
    "from sklearn.model_selection import GridSearchCV\n",
    "from sklearn.compose import ColumnTransformer\n",
    "from sklearn.calibration import CalibratedClassifierCV\n",
    "from sklearn.multiclass import OneVsRestClassifier\n",
    "\n",
    "import spacy\n",
    "nlp =spacy.load('fr')\n",
    "from spacy.lang.fr.stop_words import STOP_WORDS"
   ]
  },
  {
   "cell_type": "code",
   "execution_count": null,
   "metadata": {},
   "outputs": [],
   "source": []
  },
  {
   "cell_type": "code",
   "execution_count": 2,
   "metadata": {},
   "outputs": [
    {
     "name": "stdout",
     "output_type": "stream",
     "text": [
      "CPU times: user 0 ns, sys: 0 ns, total: 0 ns\n",
      "Wall time: 8.11 µs\n"
     ]
    }
   ],
   "source": [
    "%time\n",
    "df_declaration_mrv = pd.read_csv(\"data/data_mrv/declaration_mrv_complet.csv\")#delimiter=';',encoding='ISO-8859-1')\n",
    "id_to_dco = pd.read_csv(\"data/ref_MRV/referentiel_dispositif.csv\",delimiter=';',encoding='ISO-8859-1')\n",
    "df_effets = pd.read_csv(\"data/ref_MRV/referentiel_dispositif_effets_connus.csv\",delimiter=';',encoding='ISO-8859-1')\n",
    "df_dys = pd.read_csv(\"data/ref_MRV/referentiel_dispositif_dysfonctionnement.csv\",delimiter=';',encoding='ISO-8859-1')"
   ]
  },
  {
   "cell_type": "code",
   "execution_count": 3,
   "metadata": {},
   "outputs": [],
   "source": [
    "from sentence_transformers import SentenceTransformer, models\n",
    "word_embedding_model =  models.Transformer('./Models/Models/speed_camembert_max_len_128_fp16_dynamic_padding_smart_batching_batch_32_seed_321/')\n",
    "\n",
    "pooling_model = models.Pooling(word_embedding_model.get_word_embedding_dimension(),\n",
    "                               pooling_mode_mean_tokens=True,\n",
    "                               pooling_mode_cls_token=True,\n",
    "                               pooling_mode_max_tokens=False)\n",
    "\n",
    "model = SentenceTransformer(modules=[word_embedding_model, pooling_model])"
   ]
  },
  {
   "cell_type": "code",
   "execution_count": 38,
   "metadata": {},
   "outputs": [],
   "source": [
    "from sklearn.base import BaseEstimator, TransformerMixin\n",
    "\n",
    "class CamenBertVectorTransformer(BaseEstimator, TransformerMixin):\n",
    "    def __init__(self, model):\n",
    "        self.model = model\n",
    "\n",
    "    def fit(self, X,y=None):\n",
    "        return self\n",
    "\n",
    "    def transform(self, X):\n",
    "        if type(X)==str:       \n",
    "            return np.array(self.model.encode([X],show_progress_bar=True, batch_size=10))\n",
    "        elif type(X)==list :     \n",
    "            return np.array(self.model.encode(X,show_progress_bar=True, batch_size=10))\n",
    "        elif type(X)==pd.Series :      \n",
    "            return np.array(self.model.encode(X.values.tolist(),show_progress_bar=True, batch_size=10))\n",
    "        else :\n",
    "            print('Please enter a list of string or a pandas Series')"
   ]
  },
  {
   "cell_type": "code",
   "execution_count": 65,
   "metadata": {
    "scrolled": true
   },
   "outputs": [
    {
     "name": "stderr",
     "output_type": "stream",
     "text": [
      "Batches: 100%|██████████| 10/10 [00:05<00:00,  1.75it/s]\n",
      "Batches: 100%|██████████| 10/10 [00:12<00:00,  1.23s/it]\n",
      "Batches: 100%|██████████| 10/10 [00:06<00:00,  1.54it/s]\n",
      "Batches: 100%|██████████| 10/10 [00:02<00:00,  4.29it/s]"
     ]
    },
    {
     "name": "stdout",
     "output_type": "stream",
     "text": [
      "CPU times: user 6min 13s, sys: 27.4 s, total: 6min 40s\n",
      "Wall time: 29.9 s\n"
     ]
    },
    {
     "name": "stderr",
     "output_type": "stream",
     "text": [
      "\n"
     ]
    }
   ],
   "source": [
    "%%time\n",
    "from sklearn.compose import ColumnTransformer\n",
    "from sklearn.decomposition import TruncatedSVD\n",
    "\n",
    "def preprocess_pipeline(model =model, n =200) :\n",
    "    return Pipeline([\n",
    "        ('vect', CamenBertVectorTransformer(model = model)),\n",
    "        ('svd', TruncatedSVD(n_components=n))\n",
    "    ])\n",
    "\n",
    "preprocess = ColumnTransformer(\n",
    "    [('etat_pat_bert', preprocess_pipeline(model, 100) , 'ETAT_PATIENT'),\n",
    "         \n",
    "     ('description_bert',preprocess_pipeline(model, 100), 'DESCRIPTION_INCIDENT'),\n",
    "     #('description_bert_svd',TruncatedSVD(n_components =200), 'description_bert')\n",
    "     \n",
    "     ('action_pat_bert',preprocess_pipeline(model, 50), 'ACTION_PATIENT'),\n",
    "     \n",
    "     ('fabricant_bert',preprocess_pipeline(model, 50), 'FABRICANT'),\n",
    "          \n",
    "    ],\n",
    "    #\n",
    "    remainder='passthrough')\n",
    "\n",
    "preprocess_pipeline = Pipeline([\n",
    "    ('vect', CamenBertVectorTransformer(model = model)),\n",
    "    ('svd', TruncatedSVD(n_components =200))\n",
    "    ])\n",
    "\n",
    "X = df_declaration_mrv[:100][['DESCRIPTION_INCIDENT','ETAT_PATIENT','FABRICANT','ACTION_PATIENT']].fillna('') \n",
    "X_prep = preprocess.fit_transform(X)"
   ]
  },
  {
   "cell_type": "code",
   "execution_count": 70,
   "metadata": {},
   "outputs": [],
   "source": [
    "import joblib\n",
    "le_effet = joblib.load('Models/Encoder_effets.sav')"
   ]
  },
  {
   "cell_type": "code",
   "execution_count": 67,
   "metadata": {},
   "outputs": [
    {
     "ename": "FileNotFoundError",
     "evalue": "[Errno 2] No such file or directory: '/result/test.npy'",
     "output_type": "error",
     "traceback": [
      "\u001b[0;31m---------------------------------------------------------------------------\u001b[0m",
      "\u001b[0;31mFileNotFoundError\u001b[0m                         Traceback (most recent call last)",
      "\u001b[0;32m<ipython-input-67-4cdd092db4f7>\u001b[0m in \u001b[0;36m<module>\u001b[0;34m\u001b[0m\n\u001b[0;32m----> 1\u001b[0;31m \u001b[0mnp\u001b[0m\u001b[0;34m.\u001b[0m\u001b[0msave\u001b[0m\u001b[0;34m(\u001b[0m\u001b[0;34m'/result/test.npy'\u001b[0m\u001b[0;34m,\u001b[0m\u001b[0mX_prep\u001b[0m\u001b[0;34m)\u001b[0m\u001b[0;34m\u001b[0m\u001b[0;34m\u001b[0m\u001b[0m\n\u001b[0m",
      "\u001b[0;32m<__array_function__ internals>\u001b[0m in \u001b[0;36msave\u001b[0;34m(*args, **kwargs)\u001b[0m\n",
      "\u001b[0;32m~/DGS-env/lib/python3.7/site-packages/numpy/lib/npyio.py\u001b[0m in \u001b[0;36msave\u001b[0;34m(file, arr, allow_pickle, fix_imports)\u001b[0m\n\u001b[1;32m    539\u001b[0m         \u001b[0;32mif\u001b[0m \u001b[0;32mnot\u001b[0m \u001b[0mfile\u001b[0m\u001b[0;34m.\u001b[0m\u001b[0mendswith\u001b[0m\u001b[0;34m(\u001b[0m\u001b[0;34m'.npy'\u001b[0m\u001b[0;34m)\u001b[0m\u001b[0;34m:\u001b[0m\u001b[0;34m\u001b[0m\u001b[0;34m\u001b[0m\u001b[0m\n\u001b[1;32m    540\u001b[0m             \u001b[0mfile\u001b[0m \u001b[0;34m=\u001b[0m \u001b[0mfile\u001b[0m \u001b[0;34m+\u001b[0m \u001b[0;34m'.npy'\u001b[0m\u001b[0;34m\u001b[0m\u001b[0;34m\u001b[0m\u001b[0m\n\u001b[0;32m--> 541\u001b[0;31m         \u001b[0mfid\u001b[0m \u001b[0;34m=\u001b[0m \u001b[0mopen\u001b[0m\u001b[0;34m(\u001b[0m\u001b[0mfile\u001b[0m\u001b[0;34m,\u001b[0m \u001b[0;34m\"wb\"\u001b[0m\u001b[0;34m)\u001b[0m\u001b[0;34m\u001b[0m\u001b[0;34m\u001b[0m\u001b[0m\n\u001b[0m\u001b[1;32m    542\u001b[0m         \u001b[0mown_fid\u001b[0m \u001b[0;34m=\u001b[0m \u001b[0;32mTrue\u001b[0m\u001b[0;34m\u001b[0m\u001b[0;34m\u001b[0m\u001b[0m\n\u001b[1;32m    543\u001b[0m \u001b[0;34m\u001b[0m\u001b[0m\n",
      "\u001b[0;31mFileNotFoundError\u001b[0m: [Errno 2] No such file or directory: '/result/test.npy'"
     ]
    }
   ],
   "source": [
    "np.save('/result/test.npy',X_prep)"
   ]
  },
  {
   "cell_type": "code",
   "execution_count": 68,
   "metadata": {},
   "outputs": [],
   "source": [
    "file_train = np.load('dgs_camembert_train.npz')\n",
    "X_train = file_train['arr_0']\n",
    "file_test =np.load('dgs_camembert_test.npz')\n",
    "X_test = file_test['arr_0']\n",
    "y_train = np.load('y_train_mlb.npy')\n",
    "y_test = np.load('y_test_mlb.npy')"
   ]
  },
  {
   "cell_type": "code",
   "execution_count": 73,
   "metadata": {},
   "outputs": [
    {
     "data": {
      "text/plain": [
       "array([73, 73, 73, ..., 73, 73, 73])"
      ]
     },
     "execution_count": 73,
     "metadata": {},
     "output_type": "execute_result"
    }
   ],
   "source": []
  },
  {
   "cell_type": "code",
   "execution_count": 74,
   "metadata": {},
   "outputs": [],
   "source": [
    "df_train = pd.DataFrame(X_train)\n",
    "df_train['label'] = np.argmax(y_train, axis=1)\n",
    "\n",
    "df_test = pd.DataFrame(X_test)\n",
    "df_test['label'] = np.argmax(y_test, axis=1)"
   ]
  },
  {
   "cell_type": "code",
   "execution_count": 78,
   "metadata": {},
   "outputs": [],
   "source": [
    "cat_vect = df_train.groupby('label').mean()"
   ]
  },
  {
   "cell_type": "code",
   "execution_count": 88,
   "metadata": {},
   "outputs": [
    {
     "data": {
      "text/plain": [
       "165"
      ]
     },
     "execution_count": 88,
     "metadata": {},
     "output_type": "execute_result"
    }
   ],
   "source": [
    "len(cat_vect)"
   ]
  },
  {
   "cell_type": "code",
   "execution_count": 89,
   "metadata": {},
   "outputs": [
    {
     "name": "stdout",
     "output_type": "stream",
     "text": [
      "CPU times: user 36min 5s, sys: 1.35 s, total: 36min 6s\n",
      "Wall time: 36min 6s\n"
     ]
    }
   ],
   "source": [
    "%%time\n",
    "from sklearn.metrics.pairwise import cosine_similarity\n",
    "\n",
    "def predict(x,cat_vect) :\n",
    "    max_sim = 0\n",
    "    winner = -1\n",
    "    for j in cat_vect.index :\n",
    "        sim = cosine_similarity(x,cat_vect.loc[j].values.reshape(1, -1))\n",
    "        if sim > max_sim :\n",
    "            max_sim = sim\n",
    "            winner = j\n",
    "    return winner\n",
    "\n",
    "P= []\n",
    "for x in X_test : \n",
    "    P.append(predict(x.reshape(1, -1),cat_vect))\n",
    "\n",
    "df_test['pred'] = P"
   ]
  },
  {
   "cell_type": "code",
   "execution_count": 90,
   "metadata": {},
   "outputs": [
    {
     "name": "stdout",
     "output_type": "stream",
     "text": [
      "0.01285589984193289\n"
     ]
    }
   ],
   "source": [
    "print(f1_score(df_test['label'].values.tolist(),P,average='weighted'))"
   ]
  },
  {
   "cell_type": "code",
   "execution_count": 85,
   "metadata": {},
   "outputs": [
    {
     "data": {
      "text/plain": [
       "(1536,)"
      ]
     },
     "execution_count": 85,
     "metadata": {},
     "output_type": "execute_result"
    }
   ],
   "source": [
    "cat_vect.loc[0].values.shape"
   ]
  },
  {
   "cell_type": "code",
   "execution_count": 84,
   "metadata": {},
   "outputs": [
    {
     "data": {
      "text/plain": [
       "array([[0.9818108]], dtype=float32)"
      ]
     },
     "execution_count": 84,
     "metadata": {},
     "output_type": "execute_result"
    }
   ],
   "source": [
    "from sklearn.metrics.pairwise import cosine_similarity\n",
    "cosine_similarity(cat_vect.loc[0].values.reshape(1, -1),cat_vect.loc[4].values.reshape(1, -1))"
   ]
  },
  {
   "cell_type": "code",
   "execution_count": 39,
   "metadata": {
    "scrolled": true
   },
   "outputs": [
    {
     "name": "stderr",
     "output_type": "stream",
     "text": [
      "Batches: 100%|██████████| 1/1 [00:00<00:00,  1.36it/s]\n"
     ]
    }
   ],
   "source": [
    "text = df_declaration_mrv['DESCRIPTION_INCIDENT'][0]\n",
    "enc = CamenBertVectorTransformer(model = model)\n",
    "X = enc.transform(text)"
   ]
  },
  {
   "cell_type": "code",
   "execution_count": null,
   "metadata": {},
   "outputs": [],
   "source": []
  },
  {
   "cell_type": "code",
   "execution_count": 36,
   "metadata": {},
   "outputs": [
    {
     "data": {
      "text/plain": [
       "(2, 1536)"
      ]
     },
     "execution_count": 36,
     "metadata": {},
     "output_type": "execute_result"
    }
   ],
   "source": [
    "X.shape"
   ]
  },
  {
   "cell_type": "code",
   "execution_count": 17,
   "metadata": {},
   "outputs": [
    {
     "name": "stdout",
     "output_type": "stream",
     "text": [
      "['L', 'e', ' ', 'g', 'u', 'i', 'd', 'e', ' ', 'e', 's', 't', ' ', 'r', 'e', 's', 't', 'é', ' ', 'c', 'o', 'i', 'n', 'c', 'é', ' ', 'à', ' ', 'l', \"'\", 'i', 'n', 't', 'é', 'r', 'i', 'e', 'u', 'r', ' ', 'd', 'e', ' ', 'l', 'a', ' ', 's', 'o', 'n', 'd', 'e', ',', ' ', 'o', 'n', ' ', 'n', 'e', ' ', 'p', 'e', 'u', 't', ' ', 'p', 'l', 'u', 's', ' ', 'l', 'e', ' ', 'b', 'o', 'u', 'g', 'e', 'r', '.', '\\r', '\\r', '\\n', '\\r', '\\r', '\\n', 'C', 'h', 'a', 'n', 'g', 'e', 'm', 'e', 'n', 't', ' ', 'd', 'e', ' ', 's', 'o', 'n', 'd', 'e']\n"
     ]
    }
   ],
   "source": [
    "print([sentences for sentences in df_declaration_mrv['DESCRIPTION_INCIDENT'][0]])"
   ]
  },
  {
   "cell_type": "code",
   "execution_count": 16,
   "metadata": {},
   "outputs": [
    {
     "data": {
      "text/plain": [
       "(104, 1, 1536)"
      ]
     },
     "execution_count": 16,
     "metadata": {},
     "output_type": "execute_result"
    }
   ],
   "source": [
    "X.shape"
   ]
  },
  {
   "cell_type": "code",
   "execution_count": 9,
   "metadata": {},
   "outputs": [
    {
     "data": {
      "text/html": [
       "<div>\n",
       "<style scoped>\n",
       "    .dataframe tbody tr th:only-of-type {\n",
       "        vertical-align: middle;\n",
       "    }\n",
       "\n",
       "    .dataframe tbody tr th {\n",
       "        vertical-align: top;\n",
       "    }\n",
       "\n",
       "    .dataframe thead th {\n",
       "        text-align: right;\n",
       "    }\n",
       "</style>\n",
       "<table border=\"1\" class=\"dataframe\">\n",
       "  <thead>\n",
       "    <tr style=\"text-align: right;\">\n",
       "      <th></th>\n",
       "      <th>DESCRIPTION_INCIDENT</th>\n",
       "      <th>ETAT_PATIENT</th>\n",
       "      <th>FABRICANT</th>\n",
       "      <th>ACTION_PATIENT</th>\n",
       "    </tr>\n",
       "  </thead>\n",
       "  <tbody>\n",
       "    <tr>\n",
       "      <th>0</th>\n",
       "      <td>Le guide est resté coincé à l'intérieur de la ...</td>\n",
       "      <td>Changement de sonde</td>\n",
       "      <td>MEDTRONIC Inc</td>\n",
       "      <td>Matériel disponible au sce économat</td>\n",
       "    </tr>\n",
       "    <tr>\n",
       "      <th>1</th>\n",
       "      <td>Apparition de nombreux boutons</td>\n",
       "      <td></td>\n",
       "      <td>BSN MEDICAL</td>\n",
       "      <td></td>\n",
       "    </tr>\n",
       "    <tr>\n",
       "      <th>2</th>\n",
       "      <td>Le sphinctérotome, à la sortie de son emballag...</td>\n",
       "      <td>..</td>\n",
       "      <td>BOSTON SCIENTIFIC</td>\n",
       "      <td></td>\n",
       "    </tr>\n",
       "    <tr>\n",
       "      <th>3</th>\n",
       "      <td>Mandrin bloqué dans la sonde et impossibilité ...</td>\n",
       "      <td>..</td>\n",
       "      <td>Abbott Medical France SAS</td>\n",
       "      <td>Matériel à dispo au SCE économat.</td>\n",
       "    </tr>\n",
       "    <tr>\n",
       "      <th>4</th>\n",
       "      <td>Mandrin bloqué dans la sonde et impossibilité ...</td>\n",
       "      <td>..</td>\n",
       "      <td>Abbott Medical France SAS</td>\n",
       "      <td>Matériel à dispo au SCE économat.</td>\n",
       "    </tr>\n",
       "    <tr>\n",
       "      <th>5</th>\n",
       "      <td>La pince Kocher présente dans la trousse a été...</td>\n",
       "      <td>Perte sanguine du bébé, la pince ne réalisant ...</td>\n",
       "      <td>VYGON</td>\n",
       "      <td>Un clamp ombilical a été mis en urgence.</td>\n",
       "    </tr>\n",
       "    <tr>\n",
       "      <th>6</th>\n",
       "      <td>Lors de l'ouverture d'un pack CATARACTE (Perso...</td>\n",
       "      <td>Pas de conséquences car non utilisation du DM.</td>\n",
       "      <td>Bausch &amp; Lomb France</td>\n",
       "      <td>Changements de couteaux.</td>\n",
       "    </tr>\n",
       "    <tr>\n",
       "      <th>7</th>\n",
       "      <td>Lors de l'ouverture d'un pack CATARACTE (Perso...</td>\n",
       "      <td>Pas de conséquences car non utilisation du DM.</td>\n",
       "      <td>Bausch &amp; Lomb France</td>\n",
       "      <td>Changements de couteaux.</td>\n",
       "    </tr>\n",
       "    <tr>\n",
       "      <th>8</th>\n",
       "      <td>Lors de l'ouverture d'un pack CATARACTE (Perso...</td>\n",
       "      <td>Pas de conséquences car non utilisation du DM.</td>\n",
       "      <td>Bausch &amp; Lomb France</td>\n",
       "      <td>Changements de couteaux.</td>\n",
       "    </tr>\n",
       "    <tr>\n",
       "      <th>9</th>\n",
       "      <td>LA TUBULURE EST PINCEE JUSTE APRES LE SUPPORT ...</td>\n",
       "      <td>..</td>\n",
       "      <td>NUTRICIA NUTRITION CLINIQUE SAS</td>\n",
       "      <td>CHANGEMENT DE DM.</td>\n",
       "    </tr>\n",
       "  </tbody>\n",
       "</table>\n",
       "</div>"
      ],
      "text/plain": [
       "                                DESCRIPTION_INCIDENT  \\\n",
       "0  Le guide est resté coincé à l'intérieur de la ...   \n",
       "1                     Apparition de nombreux boutons   \n",
       "2  Le sphinctérotome, à la sortie de son emballag...   \n",
       "3  Mandrin bloqué dans la sonde et impossibilité ...   \n",
       "4  Mandrin bloqué dans la sonde et impossibilité ...   \n",
       "5  La pince Kocher présente dans la trousse a été...   \n",
       "6  Lors de l'ouverture d'un pack CATARACTE (Perso...   \n",
       "7  Lors de l'ouverture d'un pack CATARACTE (Perso...   \n",
       "8  Lors de l'ouverture d'un pack CATARACTE (Perso...   \n",
       "9  LA TUBULURE EST PINCEE JUSTE APRES LE SUPPORT ...   \n",
       "\n",
       "                                        ETAT_PATIENT  \\\n",
       "0                                Changement de sonde   \n",
       "1                                                      \n",
       "2                                                 ..   \n",
       "3                                                 ..   \n",
       "4                                                 ..   \n",
       "5  Perte sanguine du bébé, la pince ne réalisant ...   \n",
       "6     Pas de conséquences car non utilisation du DM.   \n",
       "7     Pas de conséquences car non utilisation du DM.   \n",
       "8     Pas de conséquences car non utilisation du DM.   \n",
       "9                                                 ..   \n",
       "\n",
       "                         FABRICANT                            ACTION_PATIENT  \n",
       "0                    MEDTRONIC Inc       Matériel disponible au sce économat  \n",
       "1                      BSN MEDICAL                                            \n",
       "2                BOSTON SCIENTIFIC                                            \n",
       "3        Abbott Medical France SAS         Matériel à dispo au SCE économat.  \n",
       "4        Abbott Medical France SAS         Matériel à dispo au SCE économat.  \n",
       "5                            VYGON  Un clamp ombilical a été mis en urgence.  \n",
       "6             Bausch & Lomb France                  Changements de couteaux.  \n",
       "7             Bausch & Lomb France                  Changements de couteaux.  \n",
       "8             Bausch & Lomb France                  Changements de couteaux.  \n",
       "9  NUTRICIA NUTRITION CLINIQUE SAS                         CHANGEMENT DE DM.  "
      ]
     },
     "execution_count": 9,
     "metadata": {},
     "output_type": "execute_result"
    }
   ],
   "source": [
    "df_declaration_mrv[:10][['DESCRIPTION_INCIDENT','ETAT_PATIENT','FABRICANT','ACTION_PATIENT']].fillna('')"
   ]
  },
  {
   "cell_type": "code",
   "execution_count": 175,
   "metadata": {},
   "outputs": [
    {
     "name": "stdout",
     "output_type": "stream",
     "text": [
      "CPU times: user 16 ms, sys: 0 ns, total: 16 ms\n",
      "Wall time: 11.8 ms\n"
     ]
    }
   ],
   "source": [
    "%%time\n",
    "#On complète les effets vide comme étant sans effets\n",
    "df_declaration_mrv['TYPE_EFFET']  = df_declaration_mrv['TYPE_EFFET'].fillna(\"PAS D'EFFET NEFASTE DECLARE\")\n",
    "df_declaration_mrv['TEF_ID']= df_declaration_mrv['TEF_ID'].fillna('E1213')\n",
    "\n"
   ]
  },
  {
   "cell_type": "code",
   "execution_count": 83,
   "metadata": {},
   "outputs": [],
   "source": [
    "INCONNU_dys = ['NON LISTE','NON FONCTIONNEMENT / FONCTIONNEMENT INCORRECT', 'NON RENSEIGNE', 'DISPOSITIF DEFECTUEUX',\n",
    "           'DYSFONCTIONNEMENT']\n",
    "nan = df_declaration_mrv['CONSEQUENCE_DYSFONCTIONNEMENT'][0]\n",
    "\n",
    "def fill_na_dys(x):\n",
    "    if x == 0:\n",
    "        return(0)\n",
    "    elif x in INCONNU_dys:\n",
    "        return(0)\n",
    "    else :\n",
    "        return(1)\n",
    "\n",
    "def fill_na_effet(x):\n",
    "    if x ==\"PAS D'EFFET NEFASTE DECLARE\":\n",
    "        return 0\n",
    "    else :\n",
    "        return 1\n",
    "def fill_na_csq(x):\n",
    "    if x==0:\n",
    "        return(0)\n",
    "    else :\n",
    "        return(1)\n",
    "    \n",
    "def fill_type(x):\n",
    "    if x=='Matériovigilance' :\n",
    "        return 0\n",
    "    else :\n",
    "        return 1\n",
    "    \n",
    "\n",
    "df_declaration_mrv['EFFETS'] = df_declaration_mrv['TYPE_EFFET'].fillna(\"PAS D'EFFET NEFASTE DECLARE\").apply(fill_na_effet)\n",
    "df_declaration_mrv['DYS'] = df_declaration_mrv['TYPE_DYSFONCTIONNEMENT'].fillna(0).apply(fill_na_dys)\n",
    "df_declaration_mrv['CSQ'] = df_declaration_mrv['CONSEQUENCE_DYSFONCTIONNEMENT'].fillna(0).apply(fill_na_csq)\n",
    "df_declaration_mrv['VIGI'] = df_declaration_mrv['TYPE_VIGILANCE'].apply(fill_type)\n",
    "\n",
    "df = df_declaration_mrv[['CSQ','EFFETS','DYS','VIGI']]\n",
    "\n",
    "#print(len(df_declaration_mrv[df_declaration_mrv['CONSEQUENCE_DYSFONCTIONNEMENT'].isna()]))"
   ]
  },
  {
   "cell_type": "code",
   "execution_count": 82,
   "metadata": {},
   "outputs": [
    {
     "data": {
      "text/plain": [
       "array(['Matériovigilance', 'Réactovigilance'], dtype=object)"
      ]
     },
     "execution_count": 82,
     "metadata": {},
     "output_type": "execute_result"
    }
   ],
   "source": [
    "df_declaration_mrv['TYPE_VIGILANCE'].unique()"
   ]
  },
  {
   "cell_type": "code",
   "execution_count": 84,
   "metadata": {},
   "outputs": [
    {
     "data": {
      "text/plain": [
       "<matplotlib.axes._subplots.AxesSubplot at 0x7faeeb519290>"
      ]
     },
     "execution_count": 84,
     "metadata": {},
     "output_type": "execute_result"
    },
    {
     "data": {
      "image/png": "[encoded data removed]",
      "text/plain": [
       "<Figure size 432x288 with 2 Axes>"
      ]
     },
     "metadata": {
      "needs_background": "light"
     },
     "output_type": "display_data"
    }
   ],
   "source": [
    "corr = df.corr()\n",
    "sns.heatmap(corr,annot=True)"
   ]
  },
  {
   "cell_type": "code",
   "execution_count": 90,
   "metadata": {},
   "outputs": [
    {
     "data": {
      "text/plain": [
       "1035"
      ]
     },
     "execution_count": 90,
     "metadata": {},
     "output_type": "execute_result"
    }
   ],
   "source": [
    "len(df[df['VIGI']==1][df['CSQ']==1])"
   ]
  },
  {
   "cell_type": "code",
   "execution_count": 63,
   "metadata": {},
   "outputs": [
    {
     "data": {
      "text/plain": [
       "<seaborn.axisgrid.PairGrid at 0x7faeed75e210>"
      ]
     },
     "execution_count": 63,
     "metadata": {},
     "output_type": "execute_result"
    },
    {
     "data": {
      "image/png": "[encoded data removed]",
      "text/plain": [
       "<Figure size 540x540 with 12 Axes>"
      ]
     },
     "metadata": {
      "needs_background": "light"
     },
     "output_type": "display_data"
    }
   ],
   "source": [
    "import seaborn as sns\n",
    "\n",
    "sns.pairplot(df)"
   ]
  },
  {
   "cell_type": "code",
   "execution_count": 25,
   "metadata": {},
   "outputs": [
    {
     "name": "stdout",
     "output_type": "stream",
     "text": [
      "25439\n"
     ]
    }
   ],
   "source": [
    "print(len(df_declaration_mrv[df_declaration_mrv['CONSEQUENCE_DYSFONCTIONNEMENT'].isna()][df_declaration_mrv['TEF_ID']=='E1213']))"
   ]
  },
  {
   "cell_type": "code",
   "execution_count": 176,
   "metadata": {},
   "outputs": [],
   "source": [
    "d = df_declaration_mrv.groupby(['TYPE_EFFET'])['DCO_ID'].count().sort_values(ascending=False).reset_index(name='count')"
   ]
  },
  {
   "cell_type": "code",
   "execution_count": 189,
   "metadata": {},
   "outputs": [
    {
     "data": {
      "text/html": [
       "<div>\n",
       "<style scoped>\n",
       "    .dataframe tbody tr th:only-of-type {\n",
       "        vertical-align: middle;\n",
       "    }\n",
       "\n",
       "    .dataframe tbody tr th {\n",
       "        vertical-align: top;\n",
       "    }\n",
       "\n",
       "    .dataframe thead th {\n",
       "        text-align: right;\n",
       "    }\n",
       "</style>\n",
       "<table border=\"1\" class=\"dataframe\">\n",
       "  <thead>\n",
       "    <tr style=\"text-align: right;\">\n",
       "      <th></th>\n",
       "      <th>TYPE_EFFET</th>\n",
       "      <th>count</th>\n",
       "    </tr>\n",
       "  </thead>\n",
       "  <tbody>\n",
       "    <tr>\n",
       "      <th>130</th>\n",
       "      <td>PIQURE / EFFRACTION CUTANEE</td>\n",
       "      <td>31</td>\n",
       "    </tr>\n",
       "    <tr>\n",
       "      <th>149</th>\n",
       "      <td>REFRACTION RESIDUELLE / ERREUR REFRAC POST OP</td>\n",
       "      <td>22</td>\n",
       "    </tr>\n",
       "    <tr>\n",
       "      <th>170</th>\n",
       "      <td>FRACTURE PERI - PROTHETIQUE</td>\n",
       "      <td>16</td>\n",
       "    </tr>\n",
       "    <tr>\n",
       "      <th>208</th>\n",
       "      <td>FRACTURE OSSEUSE</td>\n",
       "      <td>6</td>\n",
       "    </tr>\n",
       "  </tbody>\n",
       "</table>\n",
       "</div>"
      ],
      "text/plain": [
       "                                        TYPE_EFFET  count\n",
       "130                    PIQURE / EFFRACTION CUTANEE     31\n",
       "149  REFRACTION RESIDUELLE / ERREUR REFRAC POST OP     22\n",
       "170                    FRACTURE PERI - PROTHETIQUE     16\n",
       "208                               FRACTURE OSSEUSE      6"
      ]
     },
     "execution_count": 189,
     "metadata": {},
     "output_type": "execute_result"
    }
   ],
   "source": [
    "d[d['TYPE_EFFET'].map(lambda x:str(x).find('FRACT'))!=-1]"
   ]
  },
  {
   "cell_type": "code",
   "execution_count": 179,
   "metadata": {},
   "outputs": [
    {
     "data": {
      "text/plain": [
       "'EXPLANTATION CHIRURGICALE DU DM'"
      ]
     },
     "execution_count": 179,
     "metadata": {},
     "output_type": "execute_result"
    }
   ],
   "source": [
    "d['TYPE_EFFET'].iloc[126]"
   ]
  },
  {
   "cell_type": "code",
   "execution_count": 180,
   "metadata": {},
   "outputs": [
    {
     "data": {
      "text/plain": [
       "'EXPLANTATION  CHIRURGICALE DU DM'"
      ]
     },
     "execution_count": 180,
     "metadata": {},
     "output_type": "execute_result"
    }
   ],
   "source": [
    "d['TYPE_EFFET'].iloc[137]"
   ]
  },
  {
   "cell_type": "code",
   "execution_count": 142,
   "metadata": {},
   "outputs": [
    {
     "data": {
      "text/plain": [
       "'IMPOSSIBILITE / DIFFICULTE DE POSE / MISE EN PLACE'"
      ]
     },
     "execution_count": 142,
     "metadata": {},
     "output_type": "execute_result"
    }
   ],
   "source": [
    "d['TYPE_DYSFONCTIONNEMENT'][5]"
   ]
  },
  {
   "cell_type": "code",
   "execution_count": 143,
   "metadata": {},
   "outputs": [],
   "source": [
    "df_l = df_declaration_mrv.groupby(['DESCRIPTION_INCIDENT'])['CONSEQUENCE_DYSFONCTIONNEMENT'].apply(list).reset_index(name='multilabel')\n"
   ]
  },
  {
   "cell_type": "code",
   "execution_count": 125,
   "metadata": {},
   "outputs": [
    {
     "data": {
      "text/plain": [
       "0.24305620065025546"
      ]
     },
     "execution_count": 125,
     "metadata": {},
     "output_type": "execute_result"
    }
   ],
   "source": [
    "len(df_declaration_mrv.drop_duplicates('ETAT_PATIENT',keep='first')[df_declaration_mrv['CSQ']==1])/len(df_declaration_mrv.drop_duplicates('ETAT_PATIENT',keep='first'))"
   ]
  },
  {
   "cell_type": "code",
   "execution_count": 126,
   "metadata": {},
   "outputs": [
    {
     "data": {
      "text/plain": [
       "5233"
      ]
     },
     "execution_count": 126,
     "metadata": {},
     "output_type": "execute_result"
    }
   ],
   "source": [
    "len(df_declaration_mrv.drop_duplicates('ETAT_PATIENT',keep='first')[df_declaration_mrv['CSQ']==1])"
   ]
  },
  {
   "cell_type": "code",
   "execution_count": 151,
   "metadata": {
    "scrolled": true
   },
   "outputs": [],
   "source": [
    "dico = {}\n",
    "for elt in d['TYPE_EFFET'].values :\n",
    "    dico[elt] = [elt]"
   ]
  },
  {
   "cell_type": "code",
   "execution_count": 152,
   "metadata": {
    "scrolled": true
   },
   "outputs": [
    {
     "data": {
      "text/plain": [
       "{\"PAS D'EFFET NEFASTE DECLARE\": [\"PAS D'EFFET NEFASTE DECLARE\"],\n",
       " 'SYMPTOMES MULTIPLES': ['SYMPTOMES MULTIPLES'],\n",
       " 'CHIRURGIE DE REVISION': ['CHIRURGIE DE REVISION'],\n",
       " 'RETARD AU TRAITEMENT': ['RETARD AU TRAITEMENT'],\n",
       " 'DOULEUR NON GYNECO': ['DOULEUR NON GYNECO'],\n",
       " 'FATIGUE': ['FATIGUE'],\n",
       " 'DOULEUR PELVIENNE OU  ABDOMINALE': ['DOULEUR PELVIENNE OU  ABDOMINALE'],\n",
       " 'RETRAIT CHIRURGICAL': ['RETRAIT CHIRURGICAL'],\n",
       " 'SAIGNEMENT / HEMATOME': ['SAIGNEMENT / HEMATOME'],\n",
       " 'AUTRE': ['AUTRE'],\n",
       " 'DOULEUR': ['DOULEUR'],\n",
       " 'SF NEURO': ['SF NEURO'],\n",
       " 'SF ORL': ['SF ORL'],\n",
       " 'REINTERVENTION NON CHIRURGICALE': ['REINTERVENTION NON CHIRURGICALE'],\n",
       " 'REACTION ALLERGIQUE': ['REACTION ALLERGIQUE'],\n",
       " 'SF DIGESTIF': ['SF DIGESTIF'],\n",
       " 'SF OPHTALMO': ['SF OPHTALMO'],\n",
       " 'PERTE DE SANG': ['PERTE DE SANG'],\n",
       " 'INFLAMMATION': ['INFLAMMATION'],\n",
       " 'BRULURE': ['BRULURE'],\n",
       " 'DECES': ['DECES'],\n",
       " ' ( PARTIE DE) DM NON RETIRE / NON EXPLANTE': [' ( PARTIE DE) DM NON RETIRE / NON EXPLANTE'],\n",
       " 'DEPRESSION': ['DEPRESSION'],\n",
       " 'SF DERMATO': ['SF DERMATO'],\n",
       " 'INFECTION': ['INFECTION'],\n",
       " 'ALLERGIE CONFIRMEE': ['ALLERGIE CONFIRMEE'],\n",
       " 'HYPERGLYCEMIE': ['HYPERGLYCEMIE'],\n",
       " 'TRAITEMENT INADAPTE': ['TRAITEMENT INADAPTE'],\n",
       " 'NON RENSEIGNE': ['NON RENSEIGNE'],\n",
       " 'SF CARDIO': ['SF CARDIO'],\n",
       " 'COQUE 3': ['COQUE 3'],\n",
       " 'EXPLANTATION CONTROLATERALE PMI ROMPUE / PERSP': ['EXPLANTATION CONTROLATERALE PMI ROMPUE / PERSP'],\n",
       " 'ALLERGIE': ['ALLERGIE'],\n",
       " 'SF PULMONAIRE': ['SF PULMONAIRE'],\n",
       " \"AES / RISQUE D'AES\": [\"AES / RISQUE D'AES\"],\n",
       " 'RETARD AU DIAGNOSTIC': ['RETARD AU DIAGNOSTIC'],\n",
       " 'RÉIMPLANTATION CHIRURGICALE À RÉALISER': ['RÉIMPLANTATION CHIRURGICALE À RÉALISER'],\n",
       " 'HEMORRAGIE': ['HEMORRAGIE'],\n",
       " 'SC ORL': ['SC ORL'],\n",
       " 'CHUTE': ['CHUTE'],\n",
       " 'EPANCHEMENT': ['EPANCHEMENT'],\n",
       " 'COQUE 4': ['COQUE 4'],\n",
       " 'MYCOSE / CYSTITE /INFECTION URINAIRE': ['MYCOSE / CYSTITE /INFECTION URINAIRE'],\n",
       " 'EFFET INDESIRABLE': ['EFFET INDESIRABLE'],\n",
       " 'SC ENDOCRINO': ['SC ENDOCRINO'],\n",
       " 'EXPLANTATION SS SIGNE CLINIQUE OU RADIO': ['EXPLANTATION SS SIGNE CLINIQUE OU RADIO'],\n",
       " 'COQUE 1 OU 2': ['COQUE 1 OU 2'],\n",
       " 'DESATURATION EN OXYGENE': ['DESATURATION EN OXYGENE'],\n",
       " 'SF URINAIRE': ['SF URINAIRE'],\n",
       " 'PRURIT': ['PRURIT'],\n",
       " 'ENDOMETRIOSE / ADENOMYOSE': ['ENDOMETRIOSE / ADENOMYOSE'],\n",
       " \"RISQUE POUR L'UTILISATEUR\": [\"RISQUE POUR L'UTILISATEUR\"],\n",
       " 'COQUE': ['COQUE'],\n",
       " 'CONVERSION EN CHIRURGIE OUVERTE': ['CONVERSION EN CHIRURGIE OUVERTE'],\n",
       " 'GROSSESSE': ['GROSSESSE'],\n",
       " 'OEDEME': ['OEDEME'],\n",
       " 'MALAISE': ['MALAISE'],\n",
       " 'BLESSURE': ['BLESSURE'],\n",
       " 'DOULEURS, GÊNE FONCTIONNELLE': ['DOULEURS, GÊNE FONCTIONNELLE'],\n",
       " 'PERFORATION DE PAROI': ['PERFORATION DE PAROI'],\n",
       " 'INFLAMMATION / INFECTION': ['INFLAMMATION / INFECTION'],\n",
       " 'ERYTHEME': ['ERYTHEME'],\n",
       " 'EMBOLIE GAZEUSE': ['EMBOLIE GAZEUSE'],\n",
       " 'DIVERSE COMPLICATION': ['DIVERSE COMPLICATION'],\n",
       " 'SILICONOME': ['SILICONOME'],\n",
       " 'HYPOGLYCEMIE': ['HYPOGLYCEMIE'],\n",
       " 'ARRET CARDIO-RESPIRATOIRE ( ACR )': ['ARRET CARDIO-RESPIRATOIRE ( ACR )'],\n",
       " 'LUXATION / SUBLUXATION': ['LUXATION / SUBLUXATION'],\n",
       " 'ADENOPATHIE': ['ADENOPATHIE'],\n",
       " 'ARRACHEMENT DE TISSU': ['ARRACHEMENT DE TISSU'],\n",
       " 'FIBROME UTERIN ( OU POLYPE ) ': ['FIBROME UTERIN ( OU POLYPE ) '],\n",
       " 'CHOC INAPPROPRIE': ['CHOC INAPPROPRIE'],\n",
       " 'ECHEC THERAPEUTIQUE': ['ECHEC THERAPEUTIQUE'],\n",
       " 'INCIDENT PER OPERATOIRE': ['INCIDENT PER OPERATOIRE'],\n",
       " 'TROUBLE DU RYTHME CARDIAQUE': ['TROUBLE DU RYTHME CARDIAQUE'],\n",
       " 'HYPERGLYCEMIE CETOSE': ['HYPERGLYCEMIE CETOSE'],\n",
       " 'TEMPS CHIRURGICAL ALLONGE': ['TEMPS CHIRURGICAL ALLONGE'],\n",
       " 'LAGC': ['LAGC'],\n",
       " 'LESION CUTANEE': ['LESION CUTANEE'],\n",
       " 'BLESSURE GRAVE': ['BLESSURE GRAVE'],\n",
       " 'BLESSURE GRAVE OCCASIONNEE PAR UN DM': ['BLESSURE GRAVE OCCASIONNEE PAR UN DM'],\n",
       " 'LYMPHOREE': ['LYMPHOREE'],\n",
       " 'AES': ['AES'],\n",
       " 'CANCER': ['CANCER'],\n",
       " 'PLAIE VASCULAIRE': ['PLAIE VASCULAIRE'],\n",
       " 'DESCELLEMENT': ['DESCELLEMENT'],\n",
       " 'DIAGNOSTIC ERRONE': ['DIAGNOSTIC ERRONE'],\n",
       " 'BLESSURE LEGERE OCCASIONNEE PAR UN DM': ['BLESSURE LEGERE OCCASIONNEE PAR UN DM'],\n",
       " 'EXPOSITION': ['EXPOSITION'],\n",
       " 'SUREXPOSITION': ['SUREXPOSITION'],\n",
       " 'GRANULOME': ['GRANULOME'],\n",
       " 'MENACE DU PRONOSTIC VITAL': ['MENACE DU PRONOSTIC VITAL'],\n",
       " 'EPANCHEMENT / HEMATOME': ['EPANCHEMENT / HEMATOME'],\n",
       " 'THROMBOSE': ['THROMBOSE'],\n",
       " 'SC NEURO': ['SC NEURO'],\n",
       " 'METALLOSE': ['METALLOSE'],\n",
       " 'ABCES': ['ABCES'],\n",
       " 'KYSTE OVARIEN / NEOPLASME OVAIRE': ['KYSTE OVARIEN / NEOPLASME OVAIRE'],\n",
       " 'CONTAMINATION': ['CONTAMINATION'],\n",
       " 'AUTRES HORS PELVIEN': ['AUTRES HORS PELVIEN'],\n",
       " 'TOXIC ANTERIOR SEGMENT SYNDROME': ['TOXIC ANTERIOR SEGMENT SYNDROME'],\n",
       " 'HYPOTHERMIE / HYPERTHERMIE': ['HYPOTHERMIE / HYPERTHERMIE'],\n",
       " 'AUGMENTATION DE VOLUME': ['AUGMENTATION DE VOLUME'],\n",
       " 'TAMPONNADE / PERFORATION / EPANCHEMENT PERICARDIQUE': ['TAMPONNADE / PERFORATION / EPANCHEMENT PERICARDIQUE'],\n",
       " 'ELÉVATION IONS MÉTALLIQUES': ['ELÉVATION IONS MÉTALLIQUES'],\n",
       " 'DOULEUR PER OP': ['DOULEUR PER OP'],\n",
       " 'BLESSURE LEGERE': ['BLESSURE LEGERE'],\n",
       " 'NECROSE': ['NECROSE'],\n",
       " \"DIFFICULTE / IMPOSSIBILITE D'IMPLANTER\": [\"DIFFICULTE / IMPOSSIBILITE D'IMPLANTER\"],\n",
       " 'HYPERGLYCEMIE SEVERE': ['HYPERGLYCEMIE SEVERE'],\n",
       " 'REACTION INDESIRABLE PDT / APRES PROCEDURE': ['REACTION INDESIRABLE PDT / APRES PROCEDURE'],\n",
       " 'ACIDOCETOSE': ['ACIDOCETOSE'],\n",
       " 'HYPOGLYCEMIE SEVERE': ['HYPOGLYCEMIE SEVERE'],\n",
       " 'FISTULE POST OPERATOIRE': ['FISTULE POST OPERATOIRE'],\n",
       " 'DISSECTION': ['DISSECTION'],\n",
       " \"BLESSURE DE L'OPERATEUR\": [\"BLESSURE DE L'OPERATEUR\"],\n",
       " 'CEPHALEE': ['CEPHALEE'],\n",
       " 'PNEUMOTHORAX': ['PNEUMOTHORAX'],\n",
       " 'EXPOSITION / EROSION': ['EXPOSITION / EROSION'],\n",
       " 'PIEGEAGE': ['PIEGEAGE'],\n",
       " 'PROCEDURE CHIRURGICALE MODIFIEE': ['PROCEDURE CHIRURGICALE MODIFIEE'],\n",
       " 'MALADIE AUTO - IMMUNE': ['MALADIE AUTO - IMMUNE'],\n",
       " 'CICATRISATION DIFFICILE': ['CICATRISATION DIFFICILE'],\n",
       " 'BLESSURE UTILISATEUR : BRULURE': ['BLESSURE UTILISATEUR : BRULURE'],\n",
       " \"PROLONGATION D'HOSPITALISATION\": [\"PROLONGATION D'HOSPITALISATION\"],\n",
       " 'COMA': ['COMA'],\n",
       " 'EXPLANTATION CHIRURGICALE DU DM': ['EXPLANTATION CHIRURGICALE DU DM'],\n",
       " 'UTILISATEUR / AES': ['UTILISATEUR / AES'],\n",
       " 'CHOC CARDIOGENIQUE / HEMORRAGIQUE': ['CHOC CARDIOGENIQUE / HEMORRAGIQUE'],\n",
       " 'SC DIGESTIF': ['SC DIGESTIF'],\n",
       " 'PIQURE / EFFRACTION CUTANEE': ['PIQURE / EFFRACTION CUTANEE'],\n",
       " \"REJET DE L'IMPLANT\": [\"REJET DE L'IMPLANT\"],\n",
       " 'EFFET INDESIRABLE AVEC UN IMPLANT': ['EFFET INDESIRABLE AVEC UN IMPLANT'],\n",
       " 'ESCARRES': ['ESCARRES'],\n",
       " 'CHIRURGIE ADDITIONNELLE': ['CHIRURGIE ADDITIONNELLE'],\n",
       " 'BLESSURE UTILISATEUR : LEGERE': ['BLESSURE UTILISATEUR : LEGERE'],\n",
       " 'AVC - ACCIDENT VASCULAIRE CEREBRAL': ['AVC - ACCIDENT VASCULAIRE CEREBRAL'],\n",
       " 'EXPLANTATION  CHIRURGICALE DU DM': ['EXPLANTATION  CHIRURGICALE DU DM'],\n",
       " 'CONTAMINATION DM': ['CONTAMINATION DM'],\n",
       " 'ABSENCE DE DIAGNOSTIC': ['ABSENCE DE DIAGNOSTIC'],\n",
       " 'DEHISCENCE': ['DEHISCENCE'],\n",
       " 'THROMBOSE <30J': ['THROMBOSE <30J'],\n",
       " 'PERTE DE CONNAISSANCE': ['PERTE DE CONNAISSANCE'],\n",
       " \"NON / MAUVAISE INTEGRATION D'UN IMPLANT\": [\"NON / MAUVAISE INTEGRATION D'UN IMPLANT\"],\n",
       " 'GROSSESSE EXTRA - UTERINE': ['GROSSESSE EXTRA - UTERINE'],\n",
       " \"EMPLOI D'UN DM ALTERNATIF\": [\"EMPLOI D'UN DM ALTERNATIF\"],\n",
       " 'LUXATION INTRA-PROTHETIQUE': ['LUXATION INTRA-PROTHETIQUE'],\n",
       " 'NODULE': ['NODULE'],\n",
       " 'INDURATION': ['INDURATION'],\n",
       " 'REFRACTION RESIDUELLE / ERREUR REFRAC POST OP': ['REFRACTION RESIDUELLE / ERREUR REFRAC POST OP'],\n",
       " \"BAISSE D'ACUITE VISUELLE\": [\"BAISSE D'ACUITE VISUELLE\"],\n",
       " 'ANGOR / INFARCTUS': ['ANGOR / INFARCTUS'],\n",
       " 'DEFAILLANCE MULTIVISCERALE': ['DEFAILLANCE MULTIVISCERALE'],\n",
       " 'AUCUN EFFET CLINIQUE DECLARE': ['AUCUN EFFET CLINIQUE DECLARE'],\n",
       " 'SECHERESSE': ['SECHERESSE'],\n",
       " 'UTILISATEUR : ALLERGIE': ['UTILISATEUR : ALLERGIE'],\n",
       " 'GENE RESPIRATOIRE': ['GENE RESPIRATOIRE'],\n",
       " \"MIGRATION DE L'IMPLANT\": [\"MIGRATION DE L'IMPLANT\"],\n",
       " 'RETARD CICATRISATION': ['RETARD CICATRISATION'],\n",
       " 'LÉSION OSSEUSE': ['LÉSION OSSEUSE'],\n",
       " 'STOMIE TEMPORAIRE': ['STOMIE TEMPORAIRE'],\n",
       " 'PERTE CELLULES ENDOTHELIALES': ['PERTE CELLULES ENDOTHELIALES'],\n",
       " 'ENDOPHTALMIE': ['ENDOPHTALMIE'],\n",
       " 'EROSION': ['EROSION'],\n",
       " 'ANXIETE': ['ANXIETE'],\n",
       " 'PERTE DE CHANCE PROCREATION': ['PERTE DE CHANCE PROCREATION'],\n",
       " 'BLESSURE UTILISATEUR : GRAVE': ['BLESSURE UTILISATEUR : GRAVE'],\n",
       " 'PERTE DE CHEVEUX': ['PERTE DE CHEVEUX'],\n",
       " 'CETOSE': ['CETOSE'],\n",
       " 'PERITONITE': ['PERITONITE'],\n",
       " 'FRACTURE PERI - PROTHETIQUE': ['FRACTURE PERI - PROTHETIQUE'],\n",
       " 'MASSE': ['MASSE'],\n",
       " 'UTILISATEUR : BLESSURE': ['UTILISATEUR : BLESSURE'],\n",
       " 'PSEUDOTUMEUR': ['PSEUDOTUMEUR'],\n",
       " 'ELECTROCUTION': ['ELECTROCUTION'],\n",
       " 'TROUBLE DU SOMMEIL': ['TROUBLE DU SOMMEIL'],\n",
       " 'INSTABILITE': ['INSTABILITE'],\n",
       " 'ULCERE': ['ULCERE'],\n",
       " 'VISION TROUBLE': ['VISION TROUBLE'],\n",
       " 'ALLERGIE, CYTOTOXICITE': ['ALLERGIE, CYTOTOXICITE'],\n",
       " 'REACTION VIOLENTE': ['REACTION VIOLENTE'],\n",
       " 'CONSEQUENCE IRREVERSIBLE': ['CONSEQUENCE IRREVERSIBLE'],\n",
       " 'GONFLEMENT/ OEDEME': ['GONFLEMENT/ OEDEME'],\n",
       " 'OSTEOLYSE': ['OSTEOLYSE'],\n",
       " 'DESCELLEMENT, OSTEOLYSE': ['DESCELLEMENT, OSTEOLYSE'],\n",
       " 'OCCLUSION INTESTINALE': ['OCCLUSION INTESTINALE'],\n",
       " 'STENOSE / RESTENOSE': ['STENOSE / RESTENOSE'],\n",
       " 'LYMPHOME': ['LYMPHOME'],\n",
       " 'NAUSEE': ['NAUSEE'],\n",
       " 'DOUBLE CAPSULE': ['DOUBLE CAPSULE'],\n",
       " 'LESION ORGANE PELVIEN ( HORS PERFOR ET INF ) ': ['LESION ORGANE PELVIEN ( HORS PERFOR ET INF ) '],\n",
       " 'ETRANGLEMENT': ['ETRANGLEMENT'],\n",
       " 'HYPODRAINAGE': ['HYPODRAINAGE'],\n",
       " 'RECANALISATION': ['RECANALISATION'],\n",
       " 'DESEQUILIBRE / CHUTE': ['DESEQUILIBRE / CHUTE'],\n",
       " 'EPANCHEMENT / TAMPONNADE / POP': ['EPANCHEMENT / TAMPONNADE / POP'],\n",
       " 'LIO POST OP : VISION TROUBLE / HALOS': ['LIO POST OP : VISION TROUBLE / HALOS'],\n",
       " 'INSUFFISANCE RENALE': ['INSUFFISANCE RENALE'],\n",
       " 'REACTION A UN DISPOSITIF DENTAIRE': ['REACTION A UN DISPOSITIF DENTAIRE'],\n",
       " 'INSUFFISANCE CARDIAQUE': ['INSUFFISANCE CARDIAQUE'],\n",
       " 'POST OP : VISION TROUBLE / HALOS': ['POST OP : VISION TROUBLE / HALOS'],\n",
       " 'KERATITE': ['KERATITE'],\n",
       " 'OCCLUSION VASCULAIRE': ['OCCLUSION VASCULAIRE'],\n",
       " 'HYPERTONIE / GLAUCOME': ['HYPERTONIE / GLAUCOME'],\n",
       " 'CONDENSATION': ['CONDENSATION'],\n",
       " 'PNEUMOPERITOINE': ['PNEUMOPERITOINE'],\n",
       " 'FROTTEMENT / ERAFLURE': ['FROTTEMENT / ERAFLURE'],\n",
       " 'EXTUBATION INVOLONTAIRE': ['EXTUBATION INVOLONTAIRE'],\n",
       " 'FRACTURE OSSEUSE': ['FRACTURE OSSEUSE'],\n",
       " 'ABSENCE DE PERTE DE POIDS': ['ABSENCE DE PERTE DE POIDS'],\n",
       " 'CONVULSION': ['CONVULSION'],\n",
       " 'CHOC ANAPHYLACTIQUE': ['CHOC ANAPHYLACTIQUE'],\n",
       " 'AIT - ACCIDENT ISCHEMIQUE TRANSITOIRE': ['AIT - ACCIDENT ISCHEMIQUE TRANSITOIRE'],\n",
       " 'OPACITE': ['OPACITE'],\n",
       " 'RETRACTION / FIBROSE': ['RETRACTION / FIBROSE'],\n",
       " 'ISCHEMIE': ['ISCHEMIE'],\n",
       " 'EVENTRATION': ['EVENTRATION'],\n",
       " 'SENSATION DE BRULURE': ['SENSATION DE BRULURE'],\n",
       " 'PSEUDARTHROSE': ['PSEUDARTHROSE'],\n",
       " 'ADHERENCES': ['ADHERENCES'],\n",
       " 'FAUX ANEVRISME': ['FAUX ANEVRISME'],\n",
       " \"RUPTURE D'ANEVRISME\": [\"RUPTURE D'ANEVRISME\"],\n",
       " 'CHIRURGIE DE REVISION NON LIEE A DEFAILLANCE DM': ['CHIRURGIE DE REVISION NON LIEE A DEFAILLANCE DM'],\n",
       " 'AMPUTATION': ['AMPUTATION'],\n",
       " 'INSTABILITÉ': ['INSTABILITÉ'],\n",
       " 'THROMBOPENIE': ['THROMBOPENIE'],\n",
       " 'THROMBOSE >30J': ['THROMBOSE >30J'],\n",
       " 'VOMISSEMENTS': ['VOMISSEMENTS'],\n",
       " 'PINCEMENT / PIEGEAGE': ['PINCEMENT / PIEGEAGE'],\n",
       " 'PERTE DE VISION': ['PERTE DE VISION'],\n",
       " 'GRADIENT DE PRESSION AUGMENTE': ['GRADIENT DE PRESSION AUGMENTE'],\n",
       " 'FAUX POSITIF': ['FAUX POSITIF'],\n",
       " 'DESASSEMBLAGE POST - OPERATOIRE': ['DESASSEMBLAGE POST - OPERATOIRE'],\n",
       " 'HEMOLYSE': ['HEMOLYSE'],\n",
       " 'HYPERDRAINAGE': ['HYPERDRAINAGE'],\n",
       " 'PROBLEME DE CICATRISATION': ['PROBLEME DE CICATRISATION'],\n",
       " 'EMBOLIE PULMONAIRE': ['EMBOLIE PULMONAIRE'],\n",
       " 'ENDOSCOPIE': ['ENDOSCOPIE'],\n",
       " 'PROLAPSUS': ['PROLAPSUS'],\n",
       " 'PEAU ARRACHEE SOUS PLAQUE': ['PEAU ARRACHEE SOUS PLAQUE'],\n",
       " 'PARALYSIE FACIALE': ['PARALYSIE FACIALE'],\n",
       " 'FEMOROTOMIE': ['FEMOROTOMIE'],\n",
       " 'GENE AUDITIVE': ['GENE AUDITIVE'],\n",
       " 'MAL ETRE': ['MAL ETRE'],\n",
       " 'PARESTHESIE': ['PARESTHESIE'],\n",
       " 'PARALYSIE': ['PARALYSIE'],\n",
       " 'HYPERCAPNIE': ['HYPERCAPNIE'],\n",
       " 'OTITE': ['OTITE'],\n",
       " 'LACHAGE DE LA THERMOFUSION': ['LACHAGE DE LA THERMOFUSION'],\n",
       " 'EFFETS RESPIRATOIRE INDESIRABLE': ['EFFETS RESPIRATOIRE INDESIRABLE'],\n",
       " 'DECHARGE ELECTRIQUE': ['DECHARGE ELECTRIQUE'],\n",
       " 'REACTION  ALLERGIQUE LOCALISEE': ['REACTION  ALLERGIQUE LOCALISEE'],\n",
       " 'CONJONCTIVITE': ['CONJONCTIVITE'],\n",
       " 'DIARRHÉE': ['DIARRHÉE'],\n",
       " 'DELEUCOCYTATION HORS NORME': ['DELEUCOCYTATION HORS NORME'],\n",
       " 'DEFAUT ECHANGE AIR / LIQUIDE': ['DEFAUT ECHANGE AIR / LIQUIDE'],\n",
       " 'MICROCALCIFICATIONS BEGNIGNES': ['MICROCALCIFICATIONS BEGNIGNES'],\n",
       " 'CARDIOPATHIE': ['CARDIOPATHIE'],\n",
       " 'PHLEBITE': ['PHLEBITE'],\n",
       " 'CHIRURGIE DE REVISION : CAUSE INCONNUE': ['CHIRURGIE DE REVISION : CAUSE INCONNUE'],\n",
       " 'OSSIFICATION': ['OSSIFICATION'],\n",
       " 'REJET DE CHAMBRE': ['REJET DE CHAMBRE'],\n",
       " 'CONNECTIVITE': ['CONNECTIVITE'],\n",
       " 'EXTERIORISATION / INTOLERANCE DE LA CHAMBRE': ['EXTERIORISATION / INTOLERANCE DE LA CHAMBRE'],\n",
       " 'ALGONEURODYSTROPHIE': ['ALGONEURODYSTROPHIE'],\n",
       " 'INFECTION BACTERIENNE': ['INFECTION BACTERIENNE'],\n",
       " 'GEODE': ['GEODE'],\n",
       " 'INTOLERANCE ALIMENTAIRE': ['INTOLERANCE ALIMENTAIRE'],\n",
       " 'RUPTURE CAPSULAIRE': ['RUPTURE CAPSULAIRE'],\n",
       " 'NEO - CAPSULE': ['NEO - CAPSULE'],\n",
       " \"PRESOMPTION D'INTOXICATION AUX METAUX LOURDS\": [\"PRESOMPTION D'INTOXICATION AUX METAUX LOURDS\"],\n",
       " 'DM PERIME IMPLANTE': ['DM PERIME IMPLANTE'],\n",
       " \"INFILTRATION DE LIQUIDE D'IRRIGATION\": [\"INFILTRATION DE LIQUIDE D'IRRIGATION\"]}"
      ]
     },
     "execution_count": 152,
     "metadata": {},
     "output_type": "execute_result"
    }
   ],
   "source": [
    "dico"
   ]
  },
  {
   "cell_type": "code",
   "execution_count": 278,
   "metadata": {},
   "outputs": [
    {
     "data": {
      "text/plain": [
       "237"
      ]
     },
     "execution_count": 278,
     "metadata": {},
     "output_type": "execute_result"
    }
   ],
   "source": [
    "len(dico1)"
   ]
  },
  {
   "cell_type": "code",
   "execution_count": 274,
   "metadata": {},
   "outputs": [],
   "source": [
    "dico1 =  {\n",
    "    \"PAS D'EFFET NEFASTE DECLARE\": [\"PAS D'EFFET NEFASTE DECLARE\",'AUCUN EFFET CLINIQUE DECLARE'],\n",
    "    \"VAGUES\" : [\"SYMPTOMES MULTIPLES\",\"AUTRE\",\"AUTRES HORS PELVIEN\"],\n",
    "    \"CHIRURGIE DE REVISION\" :['CHIRURGIE DE REVISION','CHIRURGIE DE REVISION NON LIEE A DEFAILLANCE DM','CHIRURGIE DE REVISION NON LIEE A DEFAILLANCE DM'],\n",
    "    \"RETARD AU TRAITEMENT\" : [\"RETARD AU TRAITEMENT\"],\n",
    "    \"FATIGUE\" : ['FATIGUE'],\n",
    "    \"SAIGNEMENT / HEMATOME\" : [\"SAIGNEMENT / HEMATOME\",'PERTE DE SANG'],\n",
    "    \"DOULEUR_NON_GYNECO\" : [\"DOULEUR NON GYNECO\"],\n",
    "    \"RETRAIT CHIRURGICAL\":['RETRAIT CHIRURGICAL'],\n",
    "    \"DOULEUR PELVIENNE OU  ABDOMINALE\": [\"DOULEUR PELVIENNE OU  ABDOMINALE\"],\n",
    "    \"DOULEUR\" :['DOULEUR','DOULEURS, GÊNE FONCTIONNELLE'],\n",
    "    \"SF NEURO\" :[\"SF NEURO\"],\n",
    "    \"SF ORL\":[\"SF ORL\"],\n",
    "    'REINTERVENTION NON CHIRURGICALE': ['REINTERVENTION NON CHIRURGICALE'],\n",
    "    'REACTION ALLERGIQUE': ['REACTION ALLERGIQUE','ALLERGIE','ALLERGIE CONFIRMEE','UTILISATEUR : ALLERGIE',\n",
    "                           'REACTION ALLERGIQUE LOCALISEE'],\n",
    "    'SF DIGESTIF': ['SF DIGESTIF'],\n",
    "    'SF OPHTALMO': ['SF OPHTALMO'],\n",
    "    'BRULURE': ['BRULURE','BLESSURE UTILISATEUR : BRULURE'],\n",
    "    'DECES': ['DECES'],\n",
    "    ' ( PARTIE DE) DM NON RETIRE / NON EXPLANTE': [' ( PARTIE DE) DM NON RETIRE / NON EXPLANTE'],\n",
    "    'DEPRESSION': ['DEPRESSION'],\n",
    "    'SF DERMATO': ['SF DERMATO'],\n",
    "    'INFLAMMATION / INFECTION': ['INFECTION','INFECTION BACTERIENNE','INFLAMMATION / INFECTION','INFLAMMATION'],\n",
    "    'HYPERGLYCEMIE': ['HYPERGLYCEMIE', 'HYPERGLYCEMIE SEVERE','HYPERGLYCEMIE SEVERE'],\n",
    "    'TRAITEMENT INADAPTE': ['TRAITEMENT INADAPTE'],\n",
    "    'NON RENSEIGNE' : [ 'NON RENSEIGNE'],\n",
    "    'SF CARDIO': ['SF CARDIO'],\n",
    "    'NON LISTE' :['NON LISTE'],\n",
    "    'COQUE 3': ['COQUE 3'],\n",
    "    'EXPLANTATION CONTROLATERALE PMI ROMPUE / PERSP': ['EXPLANTATION CONTROLATERALE PMI ROMPUE / PERSP'],\n",
    "    'SF PULMONAIRE': ['SF PULMONAIRE'],\n",
    "    \"AES / RISQUE D'AES\": [\"AES / RISQUE D'AES\",'AES','UTILISATEUR / AES'],\n",
    "    'RETARD AU DIAGNOSTIC': ['RETARD AU DIAGNOSTIC'],\n",
    "    'RÉIMPLANTATION CHIRURGICALE À RÉALISER': ['RÉIMPLANTATION CHIRURGICALE À RÉALISER'],\n",
    "    'HEMORRAGIE': ['HEMORRAGIE'],\n",
    "    'SC ORL': ['SC ORL'],\n",
    "    'CHUTE': ['CHUTE'],\n",
    "    'EPANCHEMENT': ['EPANCHEMENT'],\n",
    "    'COQUE 4': ['COQUE 4'],\n",
    "    'MYCOSE / CYSTITE /INFECTION URINAIRE': ['MYCOSE / CYSTITE /INFECTION URINAIRE'],\n",
    "    'EFFET INDESIRABLE': ['EFFET INDESIRABLE'],\n",
    "    'SC ENDOCRINO': ['SC ENDOCRINO'],\n",
    "    'EXPLANTATION SS SIGNE CLINIQUE OU RADIO': ['EXPLANTATION SS SIGNE CLINIQUE OU RADIO'],\n",
    "    'COQUE 1 OU 2': ['COQUE 1 OU 2'],\n",
    "    'DESATURATION EN OXYGENE': ['DESATURATION EN OXYGENE'],\n",
    "    'SF URINAIRE': ['SF URINAIRE'],\n",
    "    'PRURIT': ['PRURIT'],\n",
    "    'ENDOMETRIOSE / ADENOMYOSE': ['ENDOMETRIOSE / ADENOMYOSE'],\n",
    "    \"RISQUE POUR L'UTILISATEUR\": [\"RISQUE POUR L'UTILISATEUR\"],\n",
    "    'COQUE': ['COQUE'],\n",
    "    'CONVERSION EN CHIRURGIE OUVERTE': ['CONVERSION EN CHIRURGIE OUVERTE'],\n",
    "    'GROSSESSE': ['GROSSESSE'],\n",
    "    'OEDEME': ['OEDEME'],\n",
    "    'MALAISE': ['MALAISE'],\n",
    "    'BLESSURE': ['BLESSURE'],\n",
    "    'PERFORATION DE PAROI': ['PERFORATION DE PAROI'],\n",
    "    'ERYTHEME': ['ERYTHEME'],\n",
    "    'EMBOLIE GAZEUSE': ['EMBOLIE GAZEUSE'],\n",
    "    'DIVERSE COMPLICATION': ['DIVERSE COMPLICATION'],\n",
    "    'SILICONOME': ['SILICONOME'],\n",
    "    'HYPOGLYCEMIE': ['HYPOGLYCEMIE','HYPOGLYCEMIE SEVERE'],\n",
    "    'ARRET CARDIO-RESPIRATOIRE ( ACR )': ['ARRET CARDIO-RESPIRATOIRE ( ACR )'],\n",
    "    'LUXATION / SUBLUXATION': ['LUXATION / SUBLUXATION'],\n",
    "    'ADENOPATHIE': ['ADENOPATHIE'],\n",
    "    'ARRACHEMENT DE TISSU': ['ARRACHEMENT DE TISSU'],\n",
    "    'FIBROME UTERIN ( OU POLYPE ) ': ['FIBROME UTERIN ( OU POLYPE ) '],\n",
    "    'CHOC INAPPROPRIE': ['CHOC INAPPROPRIE'],\n",
    "    'ECHEC THERAPEUTIQUE': ['ECHEC THERAPEUTIQUE'],\n",
    "    'INCIDENT PER OPERATOIRE': ['INCIDENT PER OPERATOIRE'],\n",
    "    'TROUBLE DU RYTHME CARDIAQUE': ['TROUBLE DU RYTHME CARDIAQUE'],\n",
    "    'HYPERGLYCEMIE CETOSE': ['HYPERGLYCEMIE CETOSE','CETOSE'],\n",
    "    'TEMPS CHIRURGICAL ALLONGE': ['TEMPS CHIRURGICAL ALLONGE'],\n",
    "    'BLESSURE': ['BLESSURE','BLESSURE LEGERE OCCASIONNEE PAR UN DM','BLESSURE LEGERE',\"BLESSURE DE L'OPERATEUR\",\n",
    "                 'BLESSURE UTILISATEUR : LEGERE','UTILISATEUR : BLESSURE'],\n",
    "    'BLESSURE GRAVE' :['BLESSURE GRAVE','BLESSURE GRAVE OCCASIONNEE PAR UN DM','BLESSURE UTILISATEUR : GRAVE'],\n",
    "    'LAGC': ['LAGC'],\n",
    "    'LESION CUTANEE': ['LESION CUTANEE'],\n",
    "    'LYMPHOREE': ['LYMPHOREE'],\n",
    "    'CANCER': ['CANCER'],\n",
    "    'PLAIE VASCULAIRE': ['PLAIE VASCULAIRE'],\n",
    "    'DESCELLEMENT': ['DESCELLEMENT'],\n",
    "    'DIAGNOSTIC ERRONE': ['DIAGNOSTIC ERRONE'],\n",
    "    'EXPOSITION / EROSION': ['EXPOSITION','EXPOSITION/EROSION','EROSION','EXPOSITION / EROSION'],\n",
    "    'SUREXPOSITION': ['SUREXPOSITION'],\n",
    "    'GRANULOME': ['GRANULOME'],\n",
    "    'MENACE DU PRONOSTIC VITAL': ['MENACE DU PRONOSTIC VITAL'],\n",
    "    'EPANCHEMENT / HEMATOME': ['EPANCHEMENT / HEMATOME'],\n",
    "    'THROMBOSE': ['THROMBOSE','THROMBOSE <30J','THROMBOSE >30J'],\n",
    "    'SC NEURO': ['SC NEURO'],\n",
    "    'METALLOSE': ['METALLOSE'],\n",
    "    'ABCES': ['ABCES'],\n",
    "    'KYSTE OVARIEN / NEOPLASME OVAIRE': ['KYSTE OVARIEN / NEOPLASME OVAIRE'],\n",
    "    'CONTAMINATION': ['CONTAMINATION'],\n",
    "    'PINCEMENT / PIEGEAGE': ['PIEGEAGE','PINCEMENT / PIEGEAGE'],\n",
    "    'PROCEDURE CHIRURGICALE MODIFIEE': ['PROCEDURE CHIRURGICALE MODIFIEE'],\n",
    "    'MALADIE AUTO - IMMUNE': ['MALADIE AUTO - IMMUNE'],\n",
    "    'PROBLEME DE CICATRISATION': ['CICATRISATION DIFFICILE','RETARD CICATRISATION','PROBLEME DE CICATRISATION'],\n",
    "    \"PROLONGATION D'HOSPITALISATION\": [\"PROLONGATION D'HOSPITALISATION\"],\n",
    "    'COMA': ['COMA'],\n",
    "    'CHOC CARDIOGENIQUE / HEMORRAGIQUE': ['CHOC CARDIOGENIQUE / HEMORRAGIQUE'],\n",
    "    'SC DIGESTIF': ['SC DIGESTIF'],\n",
    "    'PIQURE / EFFRACTION CUTANEE': ['PIQURE / EFFRACTION CUTANEE'],\n",
    "    \"REJET DE L'IMPLANT\": [\"REJET DE L'IMPLANT\"],\n",
    "    'EFFET INDESIRABLE AVEC UN IMPLANT': ['EFFET INDESIRABLE AVEC UN IMPLANT'],\n",
    "    'ESCARRES': ['ESCARRES'],\n",
    "    'CHIRURGIE ADDITIONNELLE': ['CHIRURGIE ADDITIONNELLE'],\n",
    "    'EXPLANTATION CHIRURGICALE DU DM' :['EXPLANTATION  CHIRURGICALE DU DM','EXPLANTATION CHIRURGICALE DU DM'],\n",
    "    'AVC - ACCIDENT VASCULAIRE CEREBRAL': ['AVC - ACCIDENT VASCULAIRE CEREBRAL'],\n",
    "    'CONTAMINATION DM': ['CONTAMINATION DM'],\n",
    "    'ABSENCE DE DIAGNOSTIC': ['ABSENCE DE DIAGNOSTIC'],\n",
    "    'DEHISCENCE': ['DEHISCENCE'],\n",
    "    'PERTE DE CONNAISSANCE': ['PERTE DE CONNAISSANCE'],\n",
    "    \"NON / MAUVAISE INTEGRATION D'UN IMPLANT\": [\"NON / MAUVAISE INTEGRATION D'UN IMPLANT\"],\n",
    "    'GROSSESSE EXTRA - UTERINE': ['GROSSESSE EXTRA - UTERINE'],\n",
    "    \"EMPLOI D'UN DM ALTERNATIF\": [\"EMPLOI D'UN DM ALTERNATIF\"],\n",
    "    'LUXATION INTRA-PROTHETIQUE': ['LUXATION INTRA-PROTHETIQUE'],\n",
    "    'NODULE': ['NODULE'],\n",
    "    'INDURATION': ['INDURATION'],\n",
    "    'REFRACTION RESIDUELLE / ERREUR REFRAC POST OP': ['REFRACTION RESIDUELLE / ERREUR REFRAC POST OP'],\n",
    "    \"BAISSE D'ACUITE VISUELLE\": [\"BAISSE D'ACUITE VISUELLE\"],\n",
    "    'ANGOR / INFARCTUS': ['ANGOR / INFARCTUS'],\n",
    "    'DEFAILLANCE MULTIVISCERALE': ['DEFAILLANCE MULTIVISCERALE'],\n",
    "    'SECHERESSE': ['SECHERESSE'],\n",
    "    'GENE RESPIRATOIRE': ['GENE RESPIRATOIRE'],\n",
    "    \"MIGRATION DE L'IMPLANT\": [\"MIGRATION DE L'IMPLANT\"],\n",
    "    'LÉSION OSSEUSE': ['LÉSION OSSEUSE'],\n",
    "    'STOMIE TEMPORAIRE': ['STOMIE TEMPORAIRE'],\n",
    "    'PERTE CELLULES ENDOTHELIALES': ['PERTE CELLULES ENDOTHELIALES'],\n",
    "    'ENDOPHTALMIE': ['ENDOPHTALMIE'],\n",
    "    'ANXIETE': ['ANXIETE'],\n",
    "    'PERTE DE CHANCE PROCREATION': ['PERTE DE CHANCE PROCREATION'],\n",
    "    'PERITONITE': ['PERITONITE'],\n",
    "    'FRACTURE PERI - PROTHETIQUE': ['FRACTURE PERI - PROTHETIQUE'],\n",
    "    'MASSE': ['MASSE'],\n",
    "    'PSEUDOTUMEUR': ['PSEUDOTUMEUR'],\n",
    "    'ELECTROCUTION': ['ELECTROCUTION'],\n",
    "    'TROUBLE DU SOMMEIL': ['TROUBLE DU SOMMEIL'],\n",
    "    'INSTABILITE': ['INSTABILITE','INSTABILITÉ'],\n",
    "    'ULCERE': ['ULCERE'],\n",
    "    'VISION TROUBLE': ['VISION TROUBLE'],\n",
    "    'ALLERGIE, CYTOTOXICITE': ['ALLERGIE, CYTOTOXICITE'],\n",
    "    'REACTION VIOLENTE': ['REACTION VIOLENTE'],\n",
    "    'CONSEQUENCE IRREVERSIBLE': ['CONSEQUENCE IRREVERSIBLE'],\n",
    "    'GONFLEMENT/ OEDEME': ['GONFLEMENT/ OEDEME'],\n",
    "    'OSTEOLYSE': ['OSTEOLYSE'],\n",
    "    'DESCELLEMENT, OSTEOLYSE': ['DESCELLEMENT, OSTEOLYSE'],\n",
    "    'OCCLUSION INTESTINALE': ['OCCLUSION INTESTINALE'],\n",
    "    'STENOSE / RESTENOSE': ['STENOSE / RESTENOSE'],\n",
    "    'LYMPHOME': ['LYMPHOME'],\n",
    "    'NAUSEE': ['NAUSEE'],\n",
    "    'DOUBLE CAPSULE': ['DOUBLE CAPSULE'],\n",
    "    'LESION ORGANE PELVIEN ( HORS PERFOR ET INF ) ': ['LESION ORGANE PELVIEN ( HORS PERFOR ET INF ) '],\n",
    "    'ETRANGLEMENT': ['ETRANGLEMENT'],\n",
    "    'HYPODRAINAGE': ['HYPODRAINAGE'],\n",
    "    'RECANALISATION': ['RECANALISATION'],\n",
    "    'DESEQUILIBRE / CHUTE': ['DESEQUILIBRE / CHUTE'],\n",
    "    'EPANCHEMENT / TAMPONNADE / POP': ['EPANCHEMENT / TAMPONNADE / POP'],\n",
    "    'LIO POST OP : VISION TROUBLE / HALOS': ['LIO POST OP : VISION TROUBLE / HALOS'],\n",
    "    'INSUFFISANCE RENALE': ['INSUFFISANCE RENALE'],\n",
    "    'REACTION A UN DISPOSITIF DENTAIRE': ['REACTION A UN DISPOSITIF DENTAIRE'],\n",
    "    'INSUFFISANCE CARDIAQUE': ['INSUFFISANCE CARDIAQUE'],\n",
    "    'POST OP : VISION TROUBLE / HALOS': ['POST OP : VISION TROUBLE / HALOS'],\n",
    "    'KERATITE': ['KERATITE'],\n",
    "    'OCCLUSION VASCULAIRE': ['OCCLUSION VASCULAIRE'],\n",
    "    'HYPERTONIE / GLAUCOME': ['HYPERTONIE / GLAUCOME'],\n",
    "    'CONDENSATION': ['CONDENSATION'],\n",
    "    'PNEUMOPERITOINE': ['PNEUMOPERITOINE'],\n",
    "    'FROTTEMENT / ERAFLURE': ['FROTTEMENT / ERAFLURE'],\n",
    "    'EXTUBATION INVOLONTAIRE': ['EXTUBATION INVOLONTAIRE'],\n",
    "    'FRACTURE OSSEUSE': ['FRACTURE OSSEUSE'],\n",
    "    'ABSENCE DE PERTE DE POIDS': ['ABSENCE DE PERTE DE POIDS'],\n",
    "    'CONVULSION': ['CONVULSION'],\n",
    "    'CHOC ANAPHYLACTIQUE': ['CHOC ANAPHYLACTIQUE'],\n",
    "    'AIT - ACCIDENT ISCHEMIQUE TRANSITOIRE': ['AIT - ACCIDENT ISCHEMIQUE TRANSITOIRE'],\n",
    "    'OPACITE': ['OPACITE'],\n",
    "    'RETRACTION / FIBROSE': ['RETRACTION / FIBROSE'],\n",
    "    'ISCHEMIE': ['ISCHEMIE'],\n",
    "    'EVENTRATION': ['EVENTRATION'],\n",
    "    'SENSATION DE BRULURE': ['SENSATION DE BRULURE'],\n",
    "    'PSEUDARTHROSE': ['PSEUDARTHROSE'],\n",
    "    'ADHERENCES': ['ADHERENCES'],\n",
    "    'FAUX ANEVRISME': ['FAUX ANEVRISME'],\n",
    "    \"RUPTURE D'ANEVRISME\": [\"RUPTURE D'ANEVRISME\"],\n",
    "    'AMPUTATION': ['AMPUTATION'],\n",
    "    'THROMBOPENIE': ['THROMBOPENIE'],\n",
    "    'VOMISSEMENTS': ['VOMISSEMENTS'],\n",
    "    'PERTE DE VISION': ['PERTE DE VISION'],\n",
    "    'GRADIENT DE PRESSION AUGMENTE': ['GRADIENT DE PRESSION AUGMENTE'],\n",
    "    'FAUX POSITIF': ['FAUX POSITIF'],\n",
    "    'DESASSEMBLAGE POST - OPERATOIRE': ['DESASSEMBLAGE POST - OPERATOIRE'],\n",
    "    'HEMOLYSE': ['HEMOLYSE'],\n",
    "    'HYPERDRAINAGE': ['HYPERDRAINAGE'],\n",
    "    'EMBOLIE PULMONAIRE': ['EMBOLIE PULMONAIRE'],\n",
    "    'ENDOSCOPIE': ['ENDOSCOPIE'],\n",
    "    'PROLAPSUS': ['PROLAPSUS'],\n",
    "    'PEAU ARRACHEE SOUS PLAQUE': ['PEAU ARRACHEE SOUS PLAQUE'],\n",
    "    'FEMOROTOMIE': ['FEMOROTOMIE'],\n",
    "    'GENE AUDITIVE': ['GENE AUDITIVE'],\n",
    "    'MAL ETRE': ['MAL ETRE'],\n",
    "    'PARESTHESIE': ['PARESTHESIE'],\n",
    "    'PARALYSIE': ['PARALYSIE','PARALYSIE FACIALE'],\n",
    "    'HYPERCAPNIE': ['HYPERCAPNIE'],\n",
    "    'OTITE': ['OTITE'],\n",
    "    'LACHAGE DE LA THERMOFUSION': ['LACHAGE DE LA THERMOFUSION'],\n",
    "    'EFFETS RESPIRATOIRE INDESIRABLE': ['EFFETS RESPIRATOIRE INDESIRABLE'],\n",
    "    'DECHARGE ELECTRIQUE': ['DECHARGE ELECTRIQUE'],\n",
    "    'CONJONCTIVITE': ['CONJONCTIVITE'],\n",
    "    'DIARRHÉE': ['DIARRHÉE'],\n",
    "    'DELEUCOCYTATION HORS NORME': ['DELEUCOCYTATION HORS NORME'],\n",
    "    'DEFAUT ECHANGE AIR / LIQUIDE': ['DEFAUT ECHANGE AIR / LIQUIDE'],\n",
    "    'MICROCALCIFICATIONS BEGNIGNES': ['MICROCALCIFICATIONS BEGNIGNES'],\n",
    "    'CARDIOPATHIE': ['CARDIOPATHIE'],\n",
    "    'PHLEBITE': ['PHLEBITE'],\n",
    "    'CHIRURGIE DE REVISION : CAUSE INCONNUE': ['CHIRURGIE DE REVISION : CAUSE INCONNUE'],\n",
    "    'OSSIFICATION': ['OSSIFICATION'],\n",
    "    'REJET DE CHAMBRE': ['REJET DE CHAMBRE','EXTERIORISATION / INTOLERANCE DE LA CHAMBRE'],\n",
    "    'CONNECTIVITE': ['CONNECTIVITE'],\n",
    "    'ALGONEURODYSTROPHIE': ['ALGONEURODYSTROPHIE'],\n",
    "    'GEODE': ['GEODE'],\n",
    "    'INTOLERANCE ALIMENTAIRE': ['INTOLERANCE ALIMENTAIRE'],\n",
    "    'RUPTURE CAPSULAIRE': ['RUPTURE CAPSULAIRE'],\n",
    "    'NEO - CAPSULE': ['NEO - CAPSULE'],\n",
    "    \"PRESOMPTION D'INTOXICATION AUX METAUX LOURDS\": [\"PRESOMPTION D'INTOXICATION AUX METAUX LOURDS\"],\n",
    "    'DM PERIME IMPLANTE': ['DM PERIME IMPLANTE'],\n",
    "    \"INFILTRATION DE LIQUIDE D'IRRIGATION\": [\"INFILTRATION DE LIQUIDE D'IRRIGATION\"],\n",
    "    'ACIDOCETOSE': ['ACIDOCETOSE'],\n",
    "    'DOULEUR PER OP': ['DOULEUR PER OP'],\n",
    "    'NECROSE': ['NECROSE'],\n",
    "    'TAMPONNADE / PERFORATION / EPANCHEMENT PERICARDIQUE': ['TAMPONNADE / PERFORATION / EPANCHEMENT PERICARDIQUE'],\n",
    "    'PERTE DE CHEVEUX': ['PERTE DE CHEVEUX'],\n",
    "    'REACTION INDESIRABLE PDT / APRES PROCEDURE': ['REACTION INDESIRABLE PDT / APRES PROCEDURE'],\n",
    "    'FISTULE POST OPERATOIRE': ['FISTULE POST OPERATOIRE'],\n",
    "    'ELÉVATION IONS MÉTALLIQUES': ['ELÉVATION IONS MÉTALLIQUES'],\n",
    "    'CEPHALEE': ['CEPHALEE'],\n",
    "    'HYPOTHERMIE / HYPERTHERMIE': ['HYPOTHERMIE / HYPERTHERMIE'],\n",
    "    'DISSECTION': ['DISSECTION'],\n",
    "    \"DIFFICULTE / IMPOSSIBILITE D'IMPLANTER\":[\"DIFFICULTE / IMPOSSIBILITE D'IMPLANTER\"],\n",
    "    'TOXIC ANTERIOR SEGMENT SYNDROME': ['TOXIC ANTERIOR SEGMENT SYNDROME'],\n",
    "    'AUGMENTATION DE VOLUME': ['AUGMENTATION DE VOLUME'],\n",
    "    'PNEUMOTHORAX': ['PNEUMOTHORAX']\n",
    "}\n",
    "\n",
    "\n",
    "\n"
   ]
  },
  {
   "cell_type": "code",
   "execution_count": 275,
   "metadata": {},
   "outputs": [],
   "source": [
    "import json\n",
    "\n",
    "with open('mapping_effet.json', 'w') as fp:\n",
    "    json.dump(dico1, fp)"
   ]
  },
  {
   "cell_type": "code",
   "execution_count": 263,
   "metadata": {},
   "outputs": [],
   "source": [
    "df= pd.read_json('mapping_effet.json',lines=True,orient='records')"
   ]
  },
  {
   "cell_type": "code",
   "execution_count": 264,
   "metadata": {},
   "outputs": [],
   "source": [
    "df.to_csv('mapping_effet.csv')"
   ]
  },
  {
   "cell_type": "code",
   "execution_count": 246,
   "metadata": {},
   "outputs": [
    {
     "data": {
      "text/html": [
       "<div>\n",
       "<style scoped>\n",
       "    .dataframe tbody tr th:only-of-type {\n",
       "        vertical-align: middle;\n",
       "    }\n",
       "\n",
       "    .dataframe tbody tr th {\n",
       "        vertical-align: top;\n",
       "    }\n",
       "\n",
       "    .dataframe thead th {\n",
       "        text-align: right;\n",
       "    }\n",
       "</style>\n",
       "<table border=\"1\" class=\"dataframe\">\n",
       "  <thead>\n",
       "    <tr style=\"text-align: right;\">\n",
       "      <th></th>\n",
       "      <th>TYPE_EFFET</th>\n",
       "      <th>count</th>\n",
       "    </tr>\n",
       "  </thead>\n",
       "  <tbody>\n",
       "    <tr>\n",
       "      <th>4</th>\n",
       "      <td>DOULEUR NON GYNECO</td>\n",
       "      <td>2168</td>\n",
       "    </tr>\n",
       "    <tr>\n",
       "      <th>6</th>\n",
       "      <td>DOULEUR PELVIENNE OU  ABDOMINALE</td>\n",
       "      <td>1764</td>\n",
       "    </tr>\n",
       "    <tr>\n",
       "      <th>10</th>\n",
       "      <td>DOULEUR</td>\n",
       "      <td>1394</td>\n",
       "    </tr>\n",
       "    <tr>\n",
       "      <th>58</th>\n",
       "      <td>DOULEURS, GÊNE FONCTIONNELLE</td>\n",
       "      <td>143</td>\n",
       "    </tr>\n",
       "    <tr>\n",
       "      <th>105</th>\n",
       "      <td>DOULEUR PER OP</td>\n",
       "      <td>49</td>\n",
       "    </tr>\n",
       "  </tbody>\n",
       "</table>\n",
       "</div>"
      ],
      "text/plain": [
       "                           TYPE_EFFET  count\n",
       "4                  DOULEUR NON GYNECO   2168\n",
       "6    DOULEUR PELVIENNE OU  ABDOMINALE   1764\n",
       "10                            DOULEUR   1394\n",
       "58       DOULEURS, GÊNE FONCTIONNELLE    143\n",
       "105                    DOULEUR PER OP     49"
      ]
     },
     "execution_count": 246,
     "metadata": {},
     "output_type": "execute_result"
    }
   ],
   "source": [
    "d[d['TYPE_EFFET'].map(lambda x:str(x).find('DOULEUR'))!=-1]"
   ]
  },
  {
   "cell_type": "code",
   "execution_count": 215,
   "metadata": {},
   "outputs": [
    {
     "data": {
      "text/html": [
       "<div>\n",
       "<style scoped>\n",
       "    .dataframe tbody tr th:only-of-type {\n",
       "        vertical-align: middle;\n",
       "    }\n",
       "\n",
       "    .dataframe tbody tr th {\n",
       "        vertical-align: top;\n",
       "    }\n",
       "\n",
       "    .dataframe thead th {\n",
       "        text-align: right;\n",
       "    }\n",
       "</style>\n",
       "<table border=\"1\" class=\"dataframe\">\n",
       "  <thead>\n",
       "    <tr style=\"text-align: right;\">\n",
       "      <th></th>\n",
       "      <th>TYPE_EFFET</th>\n",
       "      <th>count</th>\n",
       "    </tr>\n",
       "  </thead>\n",
       "  <tbody>\n",
       "    <tr>\n",
       "      <th>2</th>\n",
       "      <td>CHIRURGIE DE REVISION</td>\n",
       "      <td>2751</td>\n",
       "    </tr>\n",
       "    <tr>\n",
       "      <th>178</th>\n",
       "      <td>VISION TROUBLE</td>\n",
       "      <td>13</td>\n",
       "    </tr>\n",
       "    <tr>\n",
       "      <th>196</th>\n",
       "      <td>LIO POST OP : VISION TROUBLE / HALOS</td>\n",
       "      <td>8</td>\n",
       "    </tr>\n",
       "    <tr>\n",
       "      <th>200</th>\n",
       "      <td>POST OP : VISION TROUBLE / HALOS</td>\n",
       "      <td>7</td>\n",
       "    </tr>\n",
       "    <tr>\n",
       "      <th>222</th>\n",
       "      <td>CHIRURGIE DE REVISION NON LIEE A DEFAILLANCE DM</td>\n",
       "      <td>5</td>\n",
       "    </tr>\n",
       "    <tr>\n",
       "      <th>229</th>\n",
       "      <td>PERTE DE VISION</td>\n",
       "      <td>4</td>\n",
       "    </tr>\n",
       "    <tr>\n",
       "      <th>259</th>\n",
       "      <td>CHIRURGIE DE REVISION : CAUSE INCONNUE</td>\n",
       "      <td>1</td>\n",
       "    </tr>\n",
       "  </tbody>\n",
       "</table>\n",
       "</div>"
      ],
      "text/plain": [
       "                                          TYPE_EFFET  count\n",
       "2                              CHIRURGIE DE REVISION   2751\n",
       "178                                   VISION TROUBLE     13\n",
       "196             LIO POST OP : VISION TROUBLE / HALOS      8\n",
       "200                 POST OP : VISION TROUBLE / HALOS      7\n",
       "222  CHIRURGIE DE REVISION NON LIEE A DEFAILLANCE DM      5\n",
       "229                                  PERTE DE VISION      4\n",
       "259           CHIRURGIE DE REVISION : CAUSE INCONNUE      1"
      ]
     },
     "execution_count": 215,
     "metadata": {},
     "output_type": "execute_result"
    }
   ],
   "source": [
    "d[d['TYPE_EFFET'].map(lambda x:str(x).find('VISION'))!=-1]"
   ]
  },
  {
   "cell_type": "code",
   "execution_count": null,
   "metadata": {},
   "outputs": [],
   "source": [
    "'INCONNU' = ['NON LISTE','NON FONCTIONNEMENT / FONCTIONNEMENT INCORRECT', 'NON RENSEIGNE', 'DISPOSITIF DEFECTUEUX',\n",
    "           'DYSFONCTIONNEMENT','AUTRE']"
   ]
  }
 ],
 "metadata": {
  "kernelspec": {
   "display_name": "DGS-env",
   "language": "python",
   "name": "dgs-env"
  },
  "language_info": {
   "codemirror_mode": {
    "name": "ipython",
    "version": 3
   },
   "file_extension": ".py",
   "mimetype": "text/x-python",
   "name": "python",
   "nbconvert_exporter": "python",
   "pygments_lexer": "ipython3",
   "version": "3.7.4"
  }
 },
 "nbformat": 4,
 "nbformat_minor": 4
}
