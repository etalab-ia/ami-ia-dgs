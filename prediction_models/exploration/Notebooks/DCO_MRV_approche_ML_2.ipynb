{
 "cells": [
  {
   "cell_type": "markdown",
   "metadata": {},
   "source": [
    "# Inférence de la variable DCO à partir des données de MRV (Stratégie ML 2)\n",
    "La variable DCO représente le nom des dispositifs.Il y en a 1500 de différents et notre objectif est d'identifier le dispositif impliqué dans l'incident à partir de deux variables:\n",
    "- DESCRIPTION DE L'INCIDENT\n",
    "- LIBELLE COMMERCIAL\n",
    "\n",
    "A partir des expériences menées dans les notebook stratégie 1 et 1.1, nous avons identifier  les pistes qui fonctionnent:\n",
    "* Cosntruire des tfidf différents pour les deux variables : DESCRIPTION et LIBELLE\n",
    "* Utiliser les bigrammes et trigrammes simplement sur les LIBELLE COMMERCIAUX\n",
    "* Un valeure de C élevé du SVM pénalise l'accuracy mais favorise légerement la  ballanced accuracy\n",
    "\n",
    "\n",
    "et celles qui marchent moins :\n",
    "* La lemmatisation\n",
    "* Les embeddings (fasttext)\n",
    "* Les bloom embeddings (spacy)\n",
    "\n",
    "\n",
    "\n",
    "**Stratégie ML 2**\n",
    "Dans ce problème de classification de texte multiclasse, le pipeline sera le suivant :\n",
    "1. Nettoyer les données textuelles \n",
    "2. Nettoyage des observations (Traitement des doublons au moment de la séparation du train et du test)\n",
    "3. Construction des features textuelles (Deux tfidf)\n",
    "4. Entrainement de l'algorithme de classification (SVM probabilisé)\n",
    "5. Evaluation du modèle (Accuracy, Balanced Accuracy, F1-weighted)\n",
    "\n",
    "\n",
    "## 0) Chargement des librairies"
   ]
  },
  {
   "cell_type": "code",
   "execution_count": 1,
   "metadata": {},
   "outputs": [],
   "source": [
    "import warnings\n",
    "warnings.filterwarnings('ignore')\n",
    "\n",
    "from pprint import pprint\n",
    "from time import time\n",
    "import logging\n",
    "\n",
    "import pandas as pd\n",
    "\n",
    "import numpy as np\n",
    "import sklearn as sk\n",
    "import seaborn as sns\n",
    "\n",
    "import nltk\n",
    "from nltk import word_tokenize\n",
    "lang ='french'\n",
    "\n",
    "import clean_text\n",
    "\n",
    "\n",
    "\n",
    "\n",
    "\n",
    "import matplotlib.pyplot as plt\n",
    "\n",
    "\n",
    "from sklearn.feature_extraction.text import TfidfVectorizer,HashingVectorizer\n",
    "from sklearn.preprocessing import LabelEncoder\n",
    "from sklearn.model_selection import train_test_split\n",
    "from sklearn.model_selection import GroupShuffleSplit\n",
    "from sklearn.feature_extraction.text import TfidfTransformer,CountVectorizer\n",
    "from sklearn.naive_bayes import MultinomialNB\n",
    "from sklearn.linear_model import LogisticRegression\n",
    "from sklearn.ensemble import RandomForestClassifier\n",
    "from sklearn.svm import LinearSVC, SVC\n",
    "from sklearn.model_selection import cross_val_score\n",
    "\n",
    "from sklearn.metrics import confusion_matrix, accuracy_score, balanced_accuracy_score,f1_score\n",
    "from sklearn import metrics\n",
    "from sklearn.linear_model import SGDClassifier\n",
    "from sklearn.decomposition import TruncatedSVD,IncrementalPCA,SparsePCA\n",
    "from sklearn.pipeline import Pipeline\n",
    "from sklearn.model_selection import GridSearchCV\n",
    "from sklearn.compose import ColumnTransformer\n",
    "from sklearn.calibration import CalibratedClassifierCV\n",
    "\n",
    "import spacy\n",
    "nlp =spacy.load('fr')\n",
    "from spacy.lang.fr.stop_words import STOP_WORDS"
   ]
  },
  {
   "cell_type": "markdown",
   "metadata": {},
   "source": [
    "## 1) Chargement des données et constructions du jeux d'évaluation\n",
    "On met de coté environ 20% du dataset pour l'évaluation et on ne garde pour l'entrainement seulement les classes avec plus de 10 observations"
   ]
  },
  {
   "cell_type": "code",
   "execution_count": 2,
   "metadata": {
    "scrolled": true
   },
   "outputs": [
    {
     "name": "stdout",
     "output_type": "stream",
     "text": [
      "CPU times: user 40.4 s, sys: 0 ns, total: 40.4 s\n",
      "Wall time: 40.4 s\n"
     ]
    }
   ],
   "source": [
    "%%time\n",
    "df_declaration_mrv = pd.read_csv(\"data/data_mrv/declaration_mrv_complet.csv\")#delimiter=';',encoding='ISO-8859-1')\n",
    "id_to_dco = pd.read_csv(\"data/ref_MRV/referentiel_dispositif.csv\",delimiter=';',encoding='ISO-8859-1')\n",
    "\n",
    "#Charegement des colonnes utiles\n",
    "df = df_declaration_mrv[['DESCRIPTION_INCIDENT','TYPE_VIGILANCE','LIBELLE_COMMERCIAL',\n",
    "                         'REFERENCE_COMMERCIALE','ETAT_PATIENT','FABRICANT','DCO_ID','CLASSIFICATION']]\n",
    "# On complète les NaN avec du vide\n",
    "df['ETAT_PATIENT'] = df['ETAT_PATIENT'].fillna(\"\")\n",
    "df['DESCRIPTION_INCIDENT'] = df['DESCRIPTION_INCIDENT'].fillna(\"\")\n",
    "df['LIBELLE_COMMERCIAL'] = df['LIBELLE_COMMERCIAL'].fillna(\"\")\n",
    "df['FABRICANT'] = df['FABRICANT'].fillna(\"\")\n",
    "df[\"REFERENCE_COMMERCIALE\"] = df['REFERENCE_COMMERCIALE'].fillna(\"\")\n",
    "df['TYPE_VIGILANCE'] = df['TYPE_VIGILANCE'].fillna(\"\")\n",
    "df['CLASSIFICATION'] = df['CLASSIFICATION'].fillna('')\n",
    "\n",
    "\n",
    "# On ajoute des collones pertinentes\n",
    "df['des_lib'] = df['LIBELLE_COMMERCIAL']+ ' ' + df['DESCRIPTION_INCIDENT']\n",
    "df['fab_lib'] = df['LIBELLE_COMMERCIAL']+ ' ' + df['FABRICANT']\n",
    "df['com'] = df['LIBELLE_COMMERCIAL']+ ' ' + df['REFERENCE_COMMERCIALE']\n",
    "df['Text'] = df['LIBELLE_COMMERCIAL']+ ' ' + df['FABRICANT'] + \"\" + df['DESCRIPTION_INCIDENT']\n",
    "\n",
    "# On nettoie les données :\n",
    "for col in  ['DESCRIPTION_INCIDENT','LIBELLE_COMMERCIAL','ETAT_PATIENT','Text',\"des_lib\",\"fab_lib\"] :\n",
    "    df[col] = df[col].map(lambda x: clean_text.preprocess_text(x))\n",
    "\n",
    "n = 15\n",
    "# On filtre pour a voir plus de n observations par classse\n",
    "df_n = df.groupby(\"DCO_ID\").filter(lambda x: len(x) > n)\n",
    "\n",
    "# On encode les labels\n",
    "le = LabelEncoder()\n",
    "df_n.DCO_ID = le.fit_transform(df_n.DCO_ID.values)\n",
    "#On encode le type de vigilance\n",
    "df_n.TYPE_VIGILANCE = le.fit_transform(df_n.TYPE_VIGILANCE.values)\n",
    "#On encode la classifcation \n",
    "df_n.CLASSIFICATION = le.fit_transform(df_n.CLASSIFICATION.values)\n",
    "\n",
    "# On selection les variables de test en faisant attention aux doublons\n",
    "train_index,test_index = next(GroupShuffleSplit(random_state=1029).split(df_n, groups=df_n['DESCRIPTION_INCIDENT']))\n",
    "df_train, df_test = df_n.iloc[train_index], df_n.iloc[test_index]\n",
    "\n"
   ]
  },
  {
   "cell_type": "code",
   "execution_count": 12,
   "metadata": {},
   "outputs": [
    {
     "data": {
      "image/png": "[encoded data removed]",
      "text/plain": [
       "<Figure size 1440x432 with 1 Axes>"
      ]
     },
     "metadata": {
      "needs_background": "light"
     },
     "output_type": "display_data"
    }
   ],
   "source": [
    "df_n.groupby('DCO_ID').count()['Text'].plot(kind ='bar',figsize=(20,6))\n",
    "plt.title(\"Les \"+ str(len(df_n['DCO_ID'].unique())) +\" classes sont elles désequilibrées ?\")\n",
    "plt.show()"
   ]
  },
  {
   "cell_type": "markdown",
   "metadata": {},
   "source": [
    "## 2) Construction du pipeline  pour mesurer l'influence du paramètre C"
   ]
  },
  {
   "cell_type": "code",
   "execution_count": 5,
   "metadata": {},
   "outputs": [
    {
     "name": "stdout",
     "output_type": "stream",
     "text": [
      "Performing grid search...\n",
      "pipeline: ['vect', 'clf']\n",
      "parameters:\n",
      "{'clf__base_estimator__C': [1, 10, 100, 1000]}\n",
      "Fitting 3 folds for each of 4 candidates, totalling 12 fits\n"
     ]
    },
    {
     "name": "stderr",
     "output_type": "stream",
     "text": [
      "[Parallel(n_jobs=-1)]: Using backend LokyBackend with 16 concurrent workers.\n",
      "[Parallel(n_jobs=-1)]: Done   7 out of  12 | elapsed:  6.4min remaining:  4.5min\n"
     ]
    },
    {
     "name": "stdout",
     "output_type": "stream",
     "text": [
      "done in 411.859s\n",
      "\n",
      "CPU times: user 2.38 s, sys: 1.58 s, total: 3.96 s\n",
      "Wall time: 6min 51s\n"
     ]
    },
    {
     "name": "stderr",
     "output_type": "stream",
     "text": [
      "[Parallel(n_jobs=-1)]: Done  12 out of  12 | elapsed:  6.9min finished\n"
     ]
    }
   ],
   "source": [
    "%%time\n",
    "#Pipeline\n",
    "preprocess = ColumnTransformer(\n",
    "    [('libelle_tfidf', TfidfVectorizer(sublinear_tf=True, min_df=3,ngram_range=(1, 3),\n",
    "                                       stop_words=STOP_WORDS,\n",
    "                                       max_features = 15000,norm = 'l2'), 'LIBELLE_COMMERCIAL'),\n",
    "     \n",
    "     ('description_tfidf',TfidfVectorizer(sublinear_tf=True, min_df=5,\n",
    "                            ngram_range=(1, 1),\n",
    "                            stop_words=STOP_WORDS,\n",
    "                            max_features = 20000,norm = 'l2'), 'DESCRIPTION_INCIDENT')\n",
    "    ],\n",
    "     \n",
    "      remainder='passthrough')\n",
    "\n",
    "\n",
    "pipeline = Pipeline([\n",
    "    ('vect', preprocess),\n",
    "    ('clf', CalibratedClassifierCV(LinearSVC(class_weight='balanced'),cv=3, method='isotonic')),\n",
    "])\n",
    "\n",
    "X = df_train[['DESCRIPTION_INCIDENT','LIBELLE_COMMERCIAL']]\n",
    "y = df_train.DCO_ID\n",
    "\n",
    "# Paramètres\n",
    "parameters = {\n",
    "    'clf__base_estimator__C': [1,10, 100, 1000]\n",
    "}\n",
    "\n",
    "scores = [\n",
    "    'accuracy',\n",
    "    'balanced_accuracy',\n",
    "    'f1_weighted'\n",
    "]\n",
    "#Grid search\n",
    "if __name__ == \"__main__\":\n",
    "   \n",
    "    grid_search = GridSearchCV(pipeline, parameters, cv=3,n_jobs=-1, verbose=1,scoring = scores, error_score = 'raise', refit=False)\n",
    "\n",
    "    print(\"Performing grid search...\")\n",
    "    print(\"pipeline:\", [name for name, _ in pipeline.steps])\n",
    "    print(\"parameters:\")\n",
    "    pprint(parameters)\n",
    "    t0 = time()\n",
    "    grid_search.fit(X, y)\n",
    "    print(\"done in %0.3fs\" % (time() - t0))\n",
    "    print()\n",
    "\n",
    "    #print(\"Best score: %0.3f\" % grid_search.best_score_)\n",
    "    #print(\"Best parameters set:\")\n",
    "    #best_parameters = grid_search.best_estimator_.get_params()\n",
    "    #for param_name in sorted(parameters.keys()):\n",
    "    #    print(\"\\t%s: %r\" % (param_name, best_parameters[param_name]))"
   ]
  },
  {
   "cell_type": "code",
   "execution_count": 6,
   "metadata": {},
   "outputs": [
    {
     "data": {
      "text/html": [
       "<div>\n",
       "<style scoped>\n",
       "    .dataframe tbody tr th:only-of-type {\n",
       "        vertical-align: middle;\n",
       "    }\n",
       "\n",
       "    .dataframe tbody tr th {\n",
       "        vertical-align: top;\n",
       "    }\n",
       "\n",
       "    .dataframe thead th {\n",
       "        text-align: right;\n",
       "    }\n",
       "</style>\n",
       "<table border=\"1\" class=\"dataframe\">\n",
       "  <thead>\n",
       "    <tr style=\"text-align: right;\">\n",
       "      <th></th>\n",
       "      <th>mean_fit_time</th>\n",
       "      <th>std_fit_time</th>\n",
       "      <th>mean_score_time</th>\n",
       "      <th>std_score_time</th>\n",
       "      <th>param_clf__base_estimator__C</th>\n",
       "      <th>params</th>\n",
       "      <th>split0_test_accuracy</th>\n",
       "      <th>split1_test_accuracy</th>\n",
       "      <th>split2_test_accuracy</th>\n",
       "      <th>mean_test_accuracy</th>\n",
       "      <th>...</th>\n",
       "      <th>split2_test_balanced_accuracy</th>\n",
       "      <th>mean_test_balanced_accuracy</th>\n",
       "      <th>std_test_balanced_accuracy</th>\n",
       "      <th>rank_test_balanced_accuracy</th>\n",
       "      <th>split0_test_f1_weighted</th>\n",
       "      <th>split1_test_f1_weighted</th>\n",
       "      <th>split2_test_f1_weighted</th>\n",
       "      <th>mean_test_f1_weighted</th>\n",
       "      <th>std_test_f1_weighted</th>\n",
       "      <th>rank_test_f1_weighted</th>\n",
       "    </tr>\n",
       "  </thead>\n",
       "  <tbody>\n",
       "    <tr>\n",
       "      <th>0</th>\n",
       "      <td>246.753756</td>\n",
       "      <td>16.953796</td>\n",
       "      <td>12.132431</td>\n",
       "      <td>2.764095</td>\n",
       "      <td>1</td>\n",
       "      <td>{'clf__base_estimator__C': 1}</td>\n",
       "      <td>0.813046</td>\n",
       "      <td>0.837957</td>\n",
       "      <td>0.784184</td>\n",
       "      <td>0.811729</td>\n",
       "      <td>...</td>\n",
       "      <td>0.587655</td>\n",
       "      <td>0.630598</td>\n",
       "      <td>0.035820</td>\n",
       "      <td>1</td>\n",
       "      <td>0.796313</td>\n",
       "      <td>0.827095</td>\n",
       "      <td>0.761151</td>\n",
       "      <td>0.794853</td>\n",
       "      <td>0.026941</td>\n",
       "      <td>1</td>\n",
       "    </tr>\n",
       "    <tr>\n",
       "      <th>1</th>\n",
       "      <td>343.093273</td>\n",
       "      <td>28.453012</td>\n",
       "      <td>6.785276</td>\n",
       "      <td>0.394844</td>\n",
       "      <td>10</td>\n",
       "      <td>{'clf__base_estimator__C': 10}</td>\n",
       "      <td>0.812743</td>\n",
       "      <td>0.836037</td>\n",
       "      <td>0.778423</td>\n",
       "      <td>0.809068</td>\n",
       "      <td>...</td>\n",
       "      <td>0.583584</td>\n",
       "      <td>0.629741</td>\n",
       "      <td>0.038440</td>\n",
       "      <td>2</td>\n",
       "      <td>0.796153</td>\n",
       "      <td>0.824977</td>\n",
       "      <td>0.756739</td>\n",
       "      <td>0.792623</td>\n",
       "      <td>0.027970</td>\n",
       "      <td>2</td>\n",
       "    </tr>\n",
       "    <tr>\n",
       "      <th>2</th>\n",
       "      <td>367.015173</td>\n",
       "      <td>16.982243</td>\n",
       "      <td>6.969036</td>\n",
       "      <td>3.368006</td>\n",
       "      <td>100</td>\n",
       "      <td>{'clf__base_estimator__C': 100}</td>\n",
       "      <td>0.794553</td>\n",
       "      <td>0.831388</td>\n",
       "      <td>0.776200</td>\n",
       "      <td>0.800714</td>\n",
       "      <td>...</td>\n",
       "      <td>0.578536</td>\n",
       "      <td>0.626375</td>\n",
       "      <td>0.040721</td>\n",
       "      <td>4</td>\n",
       "      <td>0.768822</td>\n",
       "      <td>0.820468</td>\n",
       "      <td>0.753977</td>\n",
       "      <td>0.781089</td>\n",
       "      <td>0.028497</td>\n",
       "      <td>4</td>\n",
       "    </tr>\n",
       "    <tr>\n",
       "      <th>3</th>\n",
       "      <td>387.780644</td>\n",
       "      <td>9.478701</td>\n",
       "      <td>4.636631</td>\n",
       "      <td>0.616763</td>\n",
       "      <td>1000</td>\n",
       "      <td>{'clf__base_estimator__C': 1000}</td>\n",
       "      <td>0.809257</td>\n",
       "      <td>0.832651</td>\n",
       "      <td>0.773573</td>\n",
       "      <td>0.805160</td>\n",
       "      <td>...</td>\n",
       "      <td>0.580688</td>\n",
       "      <td>0.629634</td>\n",
       "      <td>0.040718</td>\n",
       "      <td>3</td>\n",
       "      <td>0.792540</td>\n",
       "      <td>0.822115</td>\n",
       "      <td>0.751989</td>\n",
       "      <td>0.788881</td>\n",
       "      <td>0.028745</td>\n",
       "      <td>3</td>\n",
       "    </tr>\n",
       "  </tbody>\n",
       "</table>\n",
       "<p>4 rows × 24 columns</p>\n",
       "</div>"
      ],
      "text/plain": [
       "   mean_fit_time  std_fit_time  mean_score_time  std_score_time  \\\n",
       "0     246.753756     16.953796        12.132431        2.764095   \n",
       "1     343.093273     28.453012         6.785276        0.394844   \n",
       "2     367.015173     16.982243         6.969036        3.368006   \n",
       "3     387.780644      9.478701         4.636631        0.616763   \n",
       "\n",
       "  param_clf__base_estimator__C                            params  \\\n",
       "0                            1     {'clf__base_estimator__C': 1}   \n",
       "1                           10    {'clf__base_estimator__C': 10}   \n",
       "2                          100   {'clf__base_estimator__C': 100}   \n",
       "3                         1000  {'clf__base_estimator__C': 1000}   \n",
       "\n",
       "   split0_test_accuracy  split1_test_accuracy  split2_test_accuracy  \\\n",
       "0              0.813046              0.837957              0.784184   \n",
       "1              0.812743              0.836037              0.778423   \n",
       "2              0.794553              0.831388              0.776200   \n",
       "3              0.809257              0.832651              0.773573   \n",
       "\n",
       "   mean_test_accuracy  ...  split2_test_balanced_accuracy  \\\n",
       "0            0.811729  ...                       0.587655   \n",
       "1            0.809068  ...                       0.583584   \n",
       "2            0.800714  ...                       0.578536   \n",
       "3            0.805160  ...                       0.580688   \n",
       "\n",
       "   mean_test_balanced_accuracy  std_test_balanced_accuracy  \\\n",
       "0                     0.630598                    0.035820   \n",
       "1                     0.629741                    0.038440   \n",
       "2                     0.626375                    0.040721   \n",
       "3                     0.629634                    0.040718   \n",
       "\n",
       "   rank_test_balanced_accuracy  split0_test_f1_weighted  \\\n",
       "0                            1                 0.796313   \n",
       "1                            2                 0.796153   \n",
       "2                            4                 0.768822   \n",
       "3                            3                 0.792540   \n",
       "\n",
       "   split1_test_f1_weighted  split2_test_f1_weighted  mean_test_f1_weighted  \\\n",
       "0                 0.827095                 0.761151               0.794853   \n",
       "1                 0.824977                 0.756739               0.792623   \n",
       "2                 0.820468                 0.753977               0.781089   \n",
       "3                 0.822115                 0.751989               0.788881   \n",
       "\n",
       "   std_test_f1_weighted  rank_test_f1_weighted  \n",
       "0              0.026941                      1  \n",
       "1              0.027970                      2  \n",
       "2              0.028497                      4  \n",
       "3              0.028745                      3  \n",
       "\n",
       "[4 rows x 24 columns]"
      ]
     },
     "execution_count": 6,
     "metadata": {},
     "output_type": "execute_result"
    }
   ],
   "source": [
    "pd.DataFrame(grid_search.cv_results_)"
   ]
  },
  {
   "cell_type": "markdown",
   "metadata": {},
   "source": [
    "### Commentaire : \n",
    "Comme déja vérifié, la variable C permet en augmentant d'améliorer légérement la ballanced accuracy\n",
    "\n",
    "### Evaluation du pipeline sur les donnnées de test: \n"
   ]
  },
  {
   "cell_type": "code",
   "execution_count": 8,
   "metadata": {},
   "outputs": [
    {
     "name": "stdout",
     "output_type": "stream",
     "text": [
      "précison: 0.831167025787169\n",
      "Balanced_accuracy :  0.679727891955538\n",
      "f1-weighted :  0.812626119159549\n",
      "CPU times: user 2min 14s, sys: 916 ms, total: 2min 15s\n",
      "Wall time: 2min 15s\n"
     ]
    }
   ],
   "source": [
    "%%time\n",
    "pipeline = Pipeline([\n",
    "    ('vect', preprocess),\n",
    "    ('clf', CalibratedClassifierCV(LinearSVC(C=1, class_weight='balanced'),cv=3, method='isotonic')),\n",
    "])\n",
    "\n",
    "pipeline.fit(X,y)\n",
    "X_test = df_test[['DESCRIPTION_INCIDENT','LIBELLE_COMMERCIAL']]\n",
    "y_test = df_test.DCO_ID\n",
    "\n",
    "y_pred = pipeline.predict(X_test)\n",
    "\n",
    "print(\"précison:\", accuracy_score(y_test,y_pred) )\n",
    "print(\"Balanced_accuracy : \", balanced_accuracy_score(y_test,y_pred))\n",
    "print(\"f1-weighted : \", f1_score(y_test, y_pred, average='weighted'))"
   ]
  },
  {
   "cell_type": "markdown",
   "metadata": {},
   "source": [
    "### Commentaires :\n",
    "\n",
    "\n",
    "\n",
    "\n",
    "## 3)  Construction pipeline avec fabricants"
   ]
  },
  {
   "cell_type": "code",
   "execution_count": 6,
   "metadata": {},
   "outputs": [
    {
     "name": "stdout",
     "output_type": "stream",
     "text": [
      "précison: 0.8341558351289359\n",
      "Balanced_accuracy :  0.6970741312448768\n",
      "f1-weighted :  0.818617856401535\n",
      "CPU times: user 2min 27s, sys: 744 ms, total: 2min 28s\n",
      "Wall time: 2min 28s\n"
     ]
    }
   ],
   "source": [
    "%%time\n",
    "#Pipeline\n",
    "preprocess = ColumnTransformer(\n",
    "    [   \n",
    "     ('libelle_tfidf', TfidfVectorizer(sublinear_tf=True, min_df=3,ngram_range=(1, 1),\n",
    "                                       stop_words=STOP_WORDS,\n",
    "                                       max_features = 10000,norm = 'l2'), 'LIBELLE_COMMERCIAL'),\n",
    "     \n",
    "     ('description_tfidf',TfidfVectorizer(sublinear_tf=True, min_df=5,\n",
    "                            ngram_range=(1, 1),\n",
    "                            stop_words=STOP_WORDS,\n",
    "                            max_features = 10000,norm = 'l2'), 'DESCRIPTION_INCIDENT'),\n",
    "     \n",
    "    ('fabricant_tfidf',TfidfVectorizer(sublinear_tf=True, min_df=3,\n",
    "                            ngram_range=(1, 1),\n",
    "                            stop_words=STOP_WORDS,\n",
    "                            max_features = 10000,norm = 'l2'), 'FABRICANT')],\n",
    "    \n",
    "    remainder='passthrough')\n",
    "\n",
    "\n",
    "pipeline = Pipeline([\n",
    "    ('vect', preprocess),\n",
    "    ('clf', CalibratedClassifierCV(LinearSVC(class_weight='balanced'),cv=3, method='isotonic')),\n",
    "])\n",
    "\n",
    "X = df_train[['DESCRIPTION_INCIDENT','FABRICANT','LIBELLE_COMMERCIAL']] # \n",
    "y = df_train.DCO_ID\n",
    "\n",
    "\n",
    "pipeline.fit(X,y)\n",
    "X_test = df_test[['DESCRIPTION_INCIDENT','FABRICANT','LIBELLE_COMMERCIAL']]\n",
    "y_test = df_test.DCO_ID\n",
    "\n",
    "y_pred = pipeline.predict(X_test)\n",
    "\n",
    "print(\"précison:\", accuracy_score(y_test,y_pred) )\n",
    "print(\"Balanced_accuracy : \", balanced_accuracy_score(y_test,y_pred))\n",
    "print(\"f1-weighted : \", f1_score(y_test, y_pred, average='weighted'))"
   ]
  },
  {
   "cell_type": "markdown",
   "metadata": {},
   "source": [
    "### Commentaires :\n",
    "La varible fabricant  permet d'améliorer notre modèle. La variable fabricant nous permets de faciliter la classification car elle prend seulement 2500 valeures différentes.\n",
    "\n",
    "\n",
    "## 4)  Construction pipeline avec fabricants et reference commerciale"
   ]
  },
  {
   "cell_type": "code",
   "execution_count": 6,
   "metadata": {},
   "outputs": [
    {
     "name": "stdout",
     "output_type": "stream",
     "text": [
      "précison: 0.837909223604643\n",
      "Balanced_accuracy :  0.7056302011636796\n",
      "f1-weighted :  0.821659294933451\n",
      "CPU times: user 3min 26s, sys: 2.61 s, total: 3min 29s\n",
      "Wall time: 3min 29s\n"
     ]
    }
   ],
   "source": [
    "%%time\n",
    "#Pipeline\n",
    "preprocess = ColumnTransformer(\n",
    "    [('reference_tfidf', TfidfVectorizer(sublinear_tf=True, min_df=1,ngram_range=(1, 1),\n",
    "                                     stop_words=STOP_WORDS,\n",
    "                                       max_features = 10000,norm = 'l2'), 'REFERENCE_COMMERCIALE'),\n",
    "     \n",
    "     ('libelle_tfidf', TfidfVectorizer(sublinear_tf=True, min_df=1,ngram_range=(1, 1),\n",
    "                                       stop_words=STOP_WORDS,\n",
    "                                       max_features = 10000,norm = 'l2'), 'LIBELLE_COMMERCIAL'),\n",
    "     \n",
    "     ('description_tfidf',TfidfVectorizer(sublinear_tf=True, min_df=1,\n",
    "                            ngram_range=(1, 1),\n",
    "                            stop_words=STOP_WORDS,\n",
    "                            max_features = 60000,norm = 'l2'), 'DESCRIPTION_INCIDENT'),\n",
    "     \n",
    "    ('fabricant_tfidf',TfidfVectorizer(sublinear_tf=True, min_df=1,\n",
    "                            ngram_range=(1, 1),\n",
    "                            stop_words=STOP_WORDS,\n",
    "                            max_features = 10000,norm = 'l2'), 'FABRICANT')],\n",
    "    \n",
    "    remainder='passthrough')\n",
    "\n",
    "\n",
    "pipeline = Pipeline([\n",
    "    ('vect', preprocess),\n",
    "    ('clf', CalibratedClassifierCV(LinearSVC(class_weight='balanced'),cv=3, method='isotonic')),\n",
    "])\n",
    "\n",
    "X = df_train[['DESCRIPTION_INCIDENT','FABRICANT','REFERENCE_COMMERCIALE','LIBELLE_COMMERCIAL']] # \n",
    "y = df_train.DCO_ID\n",
    "\n",
    "\n",
    "pipeline.fit(X,y)\n",
    "X_test = df_test[['DESCRIPTION_INCIDENT','FABRICANT','REFERENCE_COMMERCIALE','LIBELLE_COMMERCIAL']]\n",
    "y_test = df_test.DCO_ID\n",
    "\n",
    "y_pred = pipeline.predict(X_test)\n",
    "\n",
    "print(\"précison:\", accuracy_score(y_test,y_pred) )\n",
    "print(\"Balanced_accuracy : \", balanced_accuracy_score(y_test,y_pred))\n",
    "print(\"f1-weighted : \", f1_score(y_test, y_pred, average='weighted'))"
   ]
  },
  {
   "cell_type": "markdown",
   "metadata": {},
   "source": [
    "## 5 ) Utilisation du type de vigilence et de la classification de l'incident"
   ]
  },
  {
   "cell_type": "code",
   "execution_count": 9,
   "metadata": {},
   "outputs": [
    {
     "name": "stdout",
     "output_type": "stream",
     "text": [
      "précison: 0.8346423854868978\n",
      "Balanced_accuracy :  0.691253075623127\n",
      "f1-weighted :  0.8186793035408106\n",
      "CPU times: user 3min 16s, sys: 1.62 s, total: 3min 17s\n",
      "Wall time: 3min 17s\n"
     ]
    }
   ],
   "source": [
    "%%time\n",
    "#Pipeline\n",
    "preprocess = ColumnTransformer(\n",
    "    [('reference_tfidf', TfidfVectorizer(sublinear_tf=True, min_df=3,ngram_range=(1, 1),\n",
    "                                     stop_words=STOP_WORDS,\n",
    "                                       max_features = 10000,norm = 'l2'), 'REFERENCE_COMMERCIALE'),\n",
    "     \n",
    "     ('libelle_tfidf', TfidfVectorizer(sublinear_tf=True, min_df=3,ngram_range=(1, 1),\n",
    "                                       stop_words=STOP_WORDS,\n",
    "                                       max_features = 10000,norm = 'l2'), 'LIBELLE_COMMERCIAL'),\n",
    "     \n",
    "     ('description_tfidf',TfidfVectorizer(sublinear_tf=True, min_df=5,\n",
    "                            ngram_range=(1, 1),\n",
    "                            stop_words=STOP_WORDS,\n",
    "                            max_features = 10000,norm = 'l2'), 'DESCRIPTION_INCIDENT'),\n",
    "     \n",
    "    ('fabricant_tfidf',TfidfVectorizer(sublinear_tf=True, min_df=3,\n",
    "                            ngram_range=(1, 1),\n",
    "                            stop_words=STOP_WORDS,\n",
    "                            max_features = 10000,norm = 'l2'), 'FABRICANT')],\n",
    "    \n",
    "    remainder='passthrough')\n",
    "\n",
    "\n",
    "pipeline = Pipeline([\n",
    "    ('vect', preprocess),\n",
    "    ('clf', CalibratedClassifierCV(LinearSVC(class_weight='balanced'),cv=3, method='isotonic')),\n",
    "])\n",
    "\n",
    "X = df_train[['CLASSIFICATION','TYPE_VIGILANCE','DESCRIPTION_INCIDENT','FABRICANT','REFERENCE_COMMERCIALE','LIBELLE_COMMERCIAL']] # \n",
    "y = df_train.DCO_ID\n",
    "\n",
    "\n",
    "pipeline.fit(X,y)\n",
    "X_test = df_test[['CLASSIFICATION','TYPE_VIGILANCE','DESCRIPTION_INCIDENT','FABRICANT','REFERENCE_COMMERCIALE','LIBELLE_COMMERCIAL']]\n",
    "y_test = df_test.DCO_ID\n",
    "\n",
    "y_pred = pipeline.predict(X_test)\n",
    "\n",
    "print(\"précison:\", accuracy_score(y_test,y_pred) )\n",
    "print(\"Balanced_accuracy : \", balanced_accuracy_score(y_test,y_pred))\n",
    "print(\"f1-weighted : \", f1_score(y_test, y_pred, average='weighted'))"
   ]
  },
  {
   "cell_type": "markdown",
   "metadata": {},
   "source": [
    "## Conclusion\n",
    "La variable fabricant est la variable qui permet d'augmenter la balanced accuracy de manière significative"
   ]
  },
  {
   "cell_type": "code",
   "execution_count": 11,
   "metadata": {},
   "outputs": [
    {
     "data": {
      "text/html": [
       "<div>\n",
       "<style scoped>\n",
       "    .dataframe tbody tr th:only-of-type {\n",
       "        vertical-align: middle;\n",
       "    }\n",
       "\n",
       "    .dataframe tbody tr th {\n",
       "        vertical-align: top;\n",
       "    }\n",
       "\n",
       "    .dataframe thead th {\n",
       "        text-align: right;\n",
       "    }\n",
       "</style>\n",
       "<table border=\"1\" class=\"dataframe\">\n",
       "  <thead>\n",
       "    <tr style=\"text-align: right;\">\n",
       "      <th></th>\n",
       "      <th>accuracy</th>\n",
       "      <th>ballanced accuracy</th>\n",
       "      <th>f1-weighted</th>\n",
       "    </tr>\n",
       "  </thead>\n",
       "  <tbody>\n",
       "    <tr>\n",
       "      <th>pipeline 1</th>\n",
       "      <td>0.831</td>\n",
       "      <td>0.679</td>\n",
       "      <td>0.812</td>\n",
       "    </tr>\n",
       "    <tr>\n",
       "      <th>pipeline 2</th>\n",
       "      <td>0.834</td>\n",
       "      <td>0.697</td>\n",
       "      <td>0.818</td>\n",
       "    </tr>\n",
       "    <tr>\n",
       "      <th>pipeline 3</th>\n",
       "      <td>0.835</td>\n",
       "      <td>0.695</td>\n",
       "      <td>0.821</td>\n",
       "    </tr>\n",
       "    <tr>\n",
       "      <th>pipeline 4</th>\n",
       "      <td>0.834</td>\n",
       "      <td>0.691</td>\n",
       "      <td>0.818</td>\n",
       "    </tr>\n",
       "  </tbody>\n",
       "</table>\n",
       "</div>"
      ],
      "text/plain": [
       "            accuracy  ballanced accuracy  f1-weighted\n",
       "pipeline 1     0.831               0.679        0.812\n",
       "pipeline 2     0.834               0.697        0.818\n",
       "pipeline 3     0.835               0.695        0.821\n",
       "pipeline 4     0.834               0.691        0.818"
      ]
     },
     "execution_count": 11,
     "metadata": {},
     "output_type": "execute_result"
    }
   ],
   "source": [
    "df_result = pd.DataFrame(data = {'pipeline 1' : [0.831,0.679,0.812],'pipeline 2' : [0.834,0.697,0.818],\n",
    "                                 'pipeline 3' : [0.835,0.695,0.821],'pipeline 4' : [0.834,0.691,0.818]},\n",
    "                         index=['accuracy','ballanced accuracy','f1-weighted']).T\n",
    "df_result"
   ]
  },
  {
   "cell_type": "markdown",
   "metadata": {},
   "source": [
    "## Un exemple de prédiction et de sa visualisation"
   ]
  },
  {
   "cell_type": "code",
   "execution_count": 14,
   "metadata": {},
   "outputs": [
    {
     "data": {
      "image/png": "[encoded data removed]",
      "text/plain": [
       "<Figure size 432x288 with 1 Axes>"
      ]
     },
     "metadata": {
      "needs_background": "light"
     },
     "output_type": "display_data"
    }
   ],
   "source": [
    "def get_name(x) :\n",
    "    try :\n",
    "        return (id_to_dco[id_to_dco['DCO_ID']==int(x)]['LIBELLE'].iloc[0])\n",
    "    except :\n",
    "        return(\"\")\n",
    "    \n",
    "i = 0\n",
    "reponse = str(get_name(le.inverse_transform([y_test[i]])))\n",
    "\n",
    "\n",
    "df_r = pd.DataFrame(pipeline.predict_proba(X_test.loc[i:i+1])).T\n",
    "df_r[\"class\"] = le.inverse_transform(df_r.index.values)\n",
    "df_r['class_name'] = df_r['class'].apply(lambda x : get_name(x))\n",
    "df_r['proba'] = df_r[0]\n",
    "df_r = df_r.drop(0,axis=1)\n",
    "df_r = df_r.sort_values('proba',ascending=False)\n",
    "df_r[:5].plot(kind = 'barh', x = 'class_name',y = 'proba',title = 'La bonne réponse est : '+reponse)\n",
    "\n",
    "plt.show()"
   ]
  },
  {
   "cell_type": "markdown",
   "metadata": {},
   "source": [
    "## Autre Test"
   ]
  },
  {
   "cell_type": "code",
   "execution_count": 123,
   "metadata": {},
   "outputs": [
    {
     "name": "stderr",
     "output_type": "stream",
     "text": [
      "/home/user1/DGS-env/lib/python3.7/site-packages/sklearn/feature_extraction/text.py:386: UserWarning: Your stop_words may be inconsistent with your preprocessing. Tokenizing the stop words generated tokens ['qu', 'quelqu'] not in stop_words.\n",
      "  'stop_words.' % sorted(inconsistent))\n",
      "/home/user1/DGS-env/lib/python3.7/site-packages/sklearn/feature_extraction/text.py:386: UserWarning: Your stop_words may be inconsistent with your preprocessing. Tokenizing the stop words generated tokens ['qu', 'quelqu'] not in stop_words.\n",
      "  'stop_words.' % sorted(inconsistent))\n"
     ]
    },
    {
     "name": "stdout",
     "output_type": "stream",
     "text": [
      "précison: 0.8338082991589629\n",
      "Balanced_accuracy :  0.6791211404615426\n",
      "CPU times: user 17min 22s, sys: 24min 33s, total: 41min 56s\n",
      "Wall time: 5min 53s\n"
     ]
    }
   ],
   "source": [
    "%%time\n",
    "#Pipeline\n",
    "preprocess = ColumnTransformer(\n",
    "    [('description_tfidf', TfidfVectorizer(sublinear_tf=True, min_df=3,ngram_range=(1, 1),\n",
    "                                       stop_words=STOP_WORDS,\n",
    "                                       max_features = 30000,norm = 'l2'), 'DESCRIPTION_INCIDENT'),\n",
    "     \n",
    "     ('fab_lib_tfidf', TfidfVectorizer(sublinear_tf=True, min_df=3,ngram_range=(1, 3),\n",
    "                                       stop_words=STOP_WORDS,\n",
    "                                       max_features = 20000,norm = 'l2'), 'fab_lib'),\n",
    "     \n",
    "    ],\n",
    "     \n",
    "     \n",
    "    remainder='passthrough')\n",
    "\n",
    "\n",
    "pipeline = Pipeline([\n",
    "    ('vect', preprocess),\n",
    "    ('clf', CalibratedClassifierCV(LinearSVC(class_weight='balanced'),cv=3, method='sigmoid')),\n",
    "])\n",
    "\n",
    "X = df_train[['DESCRIPTION_INCIDENT','fab_lib']]\n",
    "y = df_train.DCO_ID\n",
    "\n",
    "\n",
    "pipeline.fit(X,y)\n",
    "X_test = df_test[['DESCRIPTION_INCIDENT','fab_lib']]\n",
    "y_test = df_test.DCO_ID\n",
    "\n",
    "y_pred = pipeline.predict(X_test)\n",
    "\n",
    "print(\"précison:\", accuracy_score(y_test,y_pred) )\n",
    "print(\"Balanced_accuracy : \", balanced_accuracy_score(y_test,y_pred))"
   ]
  },
  {
   "cell_type": "code",
   "execution_count": 11,
   "metadata": {},
   "outputs": [
    {
     "name": "stdout",
     "output_type": "stream",
     "text": [
      "précison: 0.8467366372419546\n",
      "Balanced_accuracy :  0.7248460354275542\n",
      "f1-weighted :  0.8332177155633408\n",
      "CPU times: user 6min 41s, sys: 0 ns, total: 6min 41s\n",
      "Wall time: 6min 41s\n"
     ]
    }
   ],
   "source": [
    "%%time\n",
    "#Pipeline\n",
    "preprocess = ColumnTransformer(\n",
    "    [('reference_tfidf', TfidfVectorizer(sublinear_tf=True,\n",
    "                                         analyzer='word',\n",
    "                                         min_df=4,\n",
    "                                         ngram_range=(1, 1),\n",
    "                                         stop_words=STOP_WORDS,\n",
    "                                         max_features = 5804,\n",
    "                                         norm = 'l1'), 'REFERENCE_COMMERCIALE'),\n",
    "     \n",
    "     ('libelle_tfidf', TfidfVectorizer(sublinear_tf=True,\n",
    "                                         analyzer='word',\n",
    "                                         min_df=1,\n",
    "                                         ngram_range=(1, 1),\n",
    "                                         stop_words=STOP_WORDS,\n",
    "                                         max_features = 8655,\n",
    "                                         norm = 'l2'), 'LIBELLE_COMMERCIAL'),\n",
    "     \n",
    "     ('description_tfidf',TfidfVectorizer(sublinear_tf=True,\n",
    "                                         min_df=1,\n",
    "                                         ngram_range=(1, 1),\n",
    "                                         stop_words=STOP_WORDS,\n",
    "                                         max_features = 18294,\n",
    "                                         norm = 'l2'), 'DESCRIPTION_INCIDENT'),\n",
    "     \n",
    "    ('fabricant_tfidf',TfidfVectorizer(sublinear_tf=True,\n",
    "                                         analyzer='char',\n",
    "                                         min_df=2,\n",
    "                                         ngram_range=(1, 1),\n",
    "                                         stop_words=STOP_WORDS,\n",
    "                                         max_features = 2387,\n",
    "                                         norm = 'l2'), 'FABRICANT')],\n",
    "    \n",
    "    remainder='passthrough')\n",
    "\n",
    "\n",
    "pipeline = Pipeline([\n",
    "    ('vect', preprocess),\n",
    "    ('clf', CalibratedClassifierCV(LinearSVC(class_weight='balanced'),cv=5, method='isotonic')),\n",
    "])\n",
    "\n",
    "X = df_train[['DESCRIPTION_INCIDENT','FABRICANT','REFERENCE_COMMERCIALE','LIBELLE_COMMERCIAL']] # \n",
    "y = df_train.DCO_ID\n",
    "\n",
    "\n",
    "pipeline.fit(X,y)\n",
    "X_test = df_test[['DESCRIPTION_INCIDENT','FABRICANT','REFERENCE_COMMERCIALE','LIBELLE_COMMERCIAL']]\n",
    "y_test = df_test.DCO_ID\n",
    "\n",
    "y_pred = pipeline.predict(X_test)\n",
    "\n",
    "print(\"précison:\", accuracy_score(y_test,y_pred) )\n",
    "print(\"Balanced_accuracy : \", balanced_accuracy_score(y_test,y_pred))\n",
    "print(\"f1-weighted : \", f1_score(y_test, y_pred, average='weighted'))"
   ]
  },
  {
   "cell_type": "code",
   "execution_count": null,
   "metadata": {},
   "outputs": [],
   "source": [
    "params={'vect__reference_tfidf__analyzer': 'word', 'vect__reference_tfidf__max_features': 5805, 'vect__reference_tfidf__min_df': 4, 'vect__reference_tfidf__norm': 'l1',\n",
    "        'vect__description_tfidf__max_features': 18294, 'vect__description_tfidf__min_df': 1, 'vect__description_tfidf__norm': 'l2', \n",
    "        'vect__fabricant_tfidf__analyzer': 'char', 'vect__fabricant_tfidf__max_features': 2387, 'vect__fabricant_tfidf__min_df': 2, 'vect__fabricant_tfidf__norm': 'l2', \n",
    "        'vect__libelle_tfidf__analyzer': 'word', 'vect__libelle_tfidf__max_features': 8655, 'vect__libelle_tfidf__min_df': 1, 'vect__libelle_tfidf__norm': 'l2'}"
   ]
  }
 ],
 "metadata": {
  "kernelspec": {
   "display_name": "DGS-env",
   "language": "python",
   "name": "dgs-env"
  },
  "language_info": {
   "codemirror_mode": {
    "name": "ipython",
    "version": 3
   },
   "file_extension": ".py",
   "mimetype": "text/x-python",
   "name": "python",
   "nbconvert_exporter": "python",
   "pygments_lexer": "ipython3",
   "version": "3.7.4"
  }
 },
 "nbformat": 4,
 "nbformat_minor": 4
}
