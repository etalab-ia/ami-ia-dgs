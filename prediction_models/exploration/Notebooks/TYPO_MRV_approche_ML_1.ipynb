{
 "cells": [
  {
   "cell_type": "markdown",
   "metadata": {},
   "source": [
    "# Inférence de la Typologie à partir des données de MRV (Stratégie ML Naive)\n",
    "La variable TYPO présente les types de dysfocntionnements et d'effets des dispositifs. Il y a 3 varaibles concernée\n",
    "- TYPE DE DYSFONCTIONNEMENT\n",
    "- CONSEQUENCE DYSFONCTIONNEMENT\n",
    "- TYPE D'EFFET\n",
    "\n",
    "\n",
    "\n",
    "\n",
    "**Stratégie ML 1**\n",
    "\n",
    "Dans ce problème de classification de texte multiclasse, le pipeline sera le suivant :\n",
    "1. Nettoyer les données textuelles \n",
    "2. Nettoyage des observations (Traitement des doublons au moment de la séparation du train et du test)\n",
    "3. Construction des features textuelles (Deux tfidf)\n",
    "4. Entrainement de l'algorithme de classification (SVM probabilisé)\n",
    "5. Evaluation du modèle (Accuracy, Balanced Accuracy, F1-weighted)\n",
    "\n",
    "\n",
    "## 0) Chargement des librairies"
   ]
  },
  {
   "cell_type": "code",
   "execution_count": 1,
   "metadata": {},
   "outputs": [],
   "source": [
    "import warnings\n",
    "warnings.filterwarnings('ignore')\n",
    "\n",
    "from pprint import pprint\n",
    "from time import time\n",
    "import logging\n",
    "\n",
    "import pandas as pd\n",
    "\n",
    "import numpy as np\n",
    "import sklearn as sk\n",
    "import seaborn as sns\n",
    "\n",
    "import nltk\n",
    "from nltk import word_tokenize\n",
    "lang ='french'\n",
    "\n",
    "import clean_text\n",
    "\n",
    "\n",
    "\n",
    "\n",
    "\n",
    "import matplotlib.pyplot as plt\n",
    "\n",
    "\n",
    "from sklearn.feature_extraction.text import TfidfVectorizer,HashingVectorizer\n",
    "from sklearn.preprocessing import LabelEncoder\n",
    "from sklearn.model_selection import train_test_split\n",
    "from sklearn.model_selection import GroupShuffleSplit\n",
    "from sklearn.feature_extraction.text import TfidfTransformer,CountVectorizer\n",
    "from sklearn.naive_bayes import MultinomialNB\n",
    "from sklearn.linear_model import LogisticRegression\n",
    "from sklearn.ensemble import RandomForestClassifier\n",
    "from sklearn.svm import LinearSVC, SVC\n",
    "from sklearn.model_selection import cross_val_score, cross_validate\n",
    "\n",
    "from sklearn.metrics import confusion_matrix, accuracy_score, balanced_accuracy_score,f1_score\n",
    "from sklearn import metrics\n",
    "from sklearn.linear_model import SGDClassifier\n",
    "from sklearn.decomposition import TruncatedSVD,IncrementalPCA,SparsePCA\n",
    "from sklearn.pipeline import Pipeline\n",
    "from sklearn.model_selection import GridSearchCV\n",
    "from sklearn.compose import ColumnTransformer\n",
    "from sklearn.calibration import CalibratedClassifierCV\n",
    "\n",
    "import spacy\n",
    "nlp =spacy.load('fr')\n",
    "from spacy.lang.fr.stop_words import STOP_WORDS"
   ]
  },
  {
   "cell_type": "markdown",
   "metadata": {},
   "source": [
    "## 0.1 Chargement et exploration des données\n",
    "### 0.1.1 type de vigilance"
   ]
  },
  {
   "cell_type": "code",
   "execution_count": 2,
   "metadata": {},
   "outputs": [
    {
     "name": "stdout",
     "output_type": "stream",
     "text": [
      "CPU times: user 0 ns, sys: 0 ns, total: 0 ns\n",
      "Wall time: 11.2 µs\n"
     ]
    }
   ],
   "source": [
    "%time\n",
    "df_declaration_mrv = pd.read_csv(\"data/data_mrv/declaration_mrv_complet.csv\")#delimiter=';',encoding='ISO-8859-1')\n",
    "id_to_dco = pd.read_csv(\"data/ref_MRV/referentiel_dispositif.csv\",delimiter=';',encoding='ISO-8859-1')"
   ]
  },
  {
   "cell_type": "code",
   "execution_count": 3,
   "metadata": {},
   "outputs": [
    {
     "data": {
      "text/plain": [
       "Unnamed: 0                                                                       0\n",
       "NUMERO_DECLARATION                                                        R1700004\n",
       "TYPE_DECLARATION                                                             CERFA\n",
       "TYPE_DECLARANT                           Etablissements et professionnels de santé\n",
       "NB_PATIENT_CONCERNE                                                              1\n",
       "NB_DISPOSITIF_CONCERNE                                                           1\n",
       "DESCRIPTION_INCIDENT             Le guide est resté coincé à l'intérieur de la ...\n",
       "ETAT_PATIENT                                                   Changement de sonde\n",
       "ACTION_PATIENT                                 Matériel disponible au sce économat\n",
       "DCO_ID                                                                        2851\n",
       "DCO                                                 SONDE DE STIMULATION CARDIAQUE\n",
       "LIBELLE_COMMERCIAL                                           SONDE ATTAIN PERFORMA\n",
       "REFERENCE_COMMERCIALE                                                      4298-88\n",
       "NUMERO_SERIE                                                                   NaN\n",
       "NUMERO_LOT                                                              QUA026155V\n",
       "FABRICANT                                                            MEDTRONIC Inc\n",
       "MANDATAIRE                                                                     NaN\n",
       "DISTRIBUTEUR                                                      MEDTRONIC France\n",
       "TDY_ID                                                                       D1790\n",
       "TYPE_DYSFONCTIONNEMENT           IMPOSSIBILITE / DIFFICULTE DE POSE / MISE EN P...\n",
       "CDY_ID                                                                         NaN\n",
       "CONSEQUENCE_DYSFONCTIONNEMENT                                                  NaN\n",
       "TEF_ID                                                                       E1213\n",
       "TYPE_EFFET                                             PAS D'EFFET NEFASTE DECLARE\n",
       "GRAVITE                                                                      MOYEN\n",
       "NUMERO                                                                    R1700004\n",
       "TYPE_VIGILANCE                                                    Matériovigilance\n",
       "CLASSIFICATION                   Autre type d'incident donnant lieu à un signal...\n",
       "Name: 0, dtype: object"
      ]
     },
     "execution_count": 3,
     "metadata": {},
     "output_type": "execute_result"
    }
   ],
   "source": [
    "df_declaration_mrv.iloc[0]"
   ]
  },
  {
   "cell_type": "code",
   "execution_count": 4,
   "metadata": {},
   "outputs": [
    {
     "data": {
      "text/plain": [
       "array(['Matériovigilance', 'Réactovigilance'], dtype=object)"
      ]
     },
     "execution_count": 4,
     "metadata": {},
     "output_type": "execute_result"
    }
   ],
   "source": [
    "df_declaration_mrv['TYPE_VIGILANCE'].unique()"
   ]
  },
  {
   "cell_type": "code",
   "execution_count": 5,
   "metadata": {},
   "outputs": [
    {
     "name": "stdout",
     "output_type": "stream",
     "text": [
      "materio :  75569\n",
      "reacto  :  1385\n"
     ]
    }
   ],
   "source": [
    "df_group = df_declaration_mrv.groupby('TYPE_VIGILANCE')\n",
    "df_mat = df_group.get_group('Matériovigilance')\n",
    "df_rea = df_group.get_group('Réactovigilance')\n",
    "print('materio : ', len(df_mat))\n",
    "print('reacto  : ', len(df_rea))"
   ]
  },
  {
   "cell_type": "code",
   "execution_count": 6,
   "metadata": {},
   "outputs": [
    {
     "data": {
      "image/png": "[encoded data removed]",
      "text/plain": [
       "<Figure size 1440x720 with 1 Axes>"
      ]
     },
     "metadata": {
      "needs_background": "light"
     },
     "output_type": "display_data"
    }
   ],
   "source": [
    "L_mat = df_mat.isna().sum()/len(df_mat)\n",
    "L_rea = df_rea.isna().sum()/len(df_rea)\n",
    "\n",
    "df = pd.DataFrame(index=df_declaration_mrv.columns)\n",
    "df['MATERIO'] = L_mat\n",
    "df['REACTO'] = L_rea\n",
    "df.plot(kind='barh',figsize = (20,10))\n",
    "plt.show()"
   ]
  },
  {
   "cell_type": "markdown",
   "metadata": {},
   "source": [
    "#### Commentaire :\n",
    "\n",
    "### 0.1.2 classification"
   ]
  },
  {
   "cell_type": "code",
   "execution_count": 7,
   "metadata": {},
   "outputs": [
    {
     "data": {
      "text/plain": [
       "array([\"Autre type d'incident donnant lieu à un signalement\",\n",
       "       \"Dégradation grave de l'état de santé\",\n",
       "       'Incident grave ayant entraîné la mort', nan,\n",
       "       'Menace importante pour la santé publique'], dtype=object)"
      ]
     },
     "execution_count": 7,
     "metadata": {},
     "output_type": "execute_result"
    }
   ],
   "source": [
    "df_declaration_mrv['CLASSIFICATION'].unique()"
   ]
  },
  {
   "cell_type": "code",
   "execution_count": 8,
   "metadata": {},
   "outputs": [
    {
     "data": {
      "text/plain": [
       "CLASSIFICATION\n",
       "Autre type d'incident donnant lieu à un signalement    74366\n",
       "Dégradation grave de l'état de santé                    1214\n",
       "Incident grave ayant entraîné la mort                    568\n",
       "Menace importante pour la santé publique                 455\n",
       "Name: Unnamed: 0, dtype: int64"
      ]
     },
     "execution_count": 8,
     "metadata": {},
     "output_type": "execute_result"
    }
   ],
   "source": [
    "df_declaration_mrv.groupby(['CLASSIFICATION']).count()['Unnamed: 0']"
   ]
  },
  {
   "cell_type": "code",
   "execution_count": 9,
   "metadata": {},
   "outputs": [
    {
     "data": {
      "image/png": "[encoded data removed]",
      "text/plain": [
       "<Figure size 1440x720 with 1 Axes>"
      ]
     },
     "metadata": {
      "needs_background": "light"
     },
     "output_type": "display_data"
    }
   ],
   "source": [
    "df_group = df_declaration_mrv.groupby('CLASSIFICATION')\n",
    "col = ['TDY_ID',  'TYPE_DYSFONCTIONNEMENT', 'CDY_ID', 'CONSEQUENCE_DYSFONCTIONNEMENT',\n",
    "       'TEF_ID', 'TYPE_EFFET', 'GRAVITE' ]\n",
    "df_1 = df_group.get_group(\"Autre type d'incident donnant lieu à un signalement\")\n",
    "df_2 = df_group.get_group(\"Dégradation grave de l'état de santé\")\n",
    "df_3 = df_group.get_group(\"Incident grave ayant entraîné la mort\")\n",
    "df_4 = df_group.get_group(\"Menace importante pour la santé publique\")\n",
    "#df_5 = df_group.get_group(np.nan)\n",
    "\n",
    "\n",
    "L_1 = df_1[col].isna().sum()/len(df_1)\n",
    "L_2 = df_2[col].isna().sum()/len(df_2)\n",
    "L_3 = df_3[col].isna().sum()/len(df_3)\n",
    "L_4 = df_4[col].isna().sum()/len(df_4)\n",
    "\n",
    "df = pd.DataFrame(index=col)\n",
    "df[\"Autre type d'incident donnant lieu à un signalement\"] = L_1\n",
    "df[\"Dégradation grave de l'état de santé\"] = L_2\n",
    "df[\"Incident grave ayant entraîné la mort\"] = L_3\n",
    "df[\"Menace importante pour la santé publique\"] = L_4\n",
    "\n",
    "df.plot(kind='barh',figsize = (20,10))\n",
    "plt.show()"
   ]
  },
  {
   "cell_type": "markdown",
   "metadata": {},
   "source": [
    "### Commentaire\n",
    "Nous espérions reussir avec la reacto et la classification résoudre le problème des NaN mais cela ne nosu aide pas car dans tous les sous groupes que nous avons fait il y a un grand nombre de NaN dans au moins deux des collones TYPE EFFET, CSQ DYSFOCNTIONNEMENT, TYPE_DYSFONCTIONNEMENT\n",
    "\n",
    "\n",
    "## 0.2 Gestion des NaN"
   ]
  },
  {
   "cell_type": "code",
   "execution_count": 10,
   "metadata": {},
   "outputs": [
    {
     "name": "stdout",
     "output_type": "stream",
     "text": [
      "Nombre de dysfonctionnement non renseignés 26922\n",
      "Nombre de Consequences dysfonctionnement non renseignés 53502\n",
      "Nombre EFFET non renseignés 20353\n"
     ]
    }
   ],
   "source": [
    "print('Nombre de dysfonctionnement non renseignés' , sum(df_declaration_mrv['TDY_ID'].isna()))\n",
    "print('Nombre de Consequences dysfonctionnement non renseignés' , sum(df_declaration_mrv['CDY_ID'].isna()))\n",
    "print('Nombre EFFET non renseignés' , sum(df_declaration_mrv['TEF_ID'].isna()))"
   ]
  },
  {
   "cell_type": "code",
   "execution_count": 11,
   "metadata": {},
   "outputs": [
    {
     "data": {
      "image/png": "[encoded data removed]",
      "text/plain": [
       "<Figure size 864x360 with 1 Axes>"
      ]
     },
     "metadata": {
      "needs_background": "light"
     },
     "output_type": "display_data"
    }
   ],
   "source": [
    "df_null = df_declaration_mrv[df_declaration_mrv['TDY_ID'].isna()]\n",
    "Y = df_null.groupby(by='GRAVITE')['GRAVITE'].count().to_list()\n",
    "X = df_null.groupby(by='GRAVITE')['GRAVITE'].count().index\n",
    "plt.figure(figsize=(12,5))\n",
    "plt.barh(X,Y)\n",
    "plt.title (\"Repartition de la gravité parmi les dysfocntionnement nulle\")\n",
    "plt.show()"
   ]
  },
  {
   "cell_type": "code",
   "execution_count": 12,
   "metadata": {},
   "outputs": [
    {
     "data": {
      "image/png": "[encoded data removed]",
      "text/plain": [
       "<Figure size 864x360 with 1 Axes>"
      ]
     },
     "metadata": {
      "needs_background": "light"
     },
     "output_type": "display_data"
    }
   ],
   "source": [
    "df_null = df_declaration_mrv[df_declaration_mrv['TEF_ID'].isna()]\n",
    "Y = df_null.groupby(by='GRAVITE')['GRAVITE'].count().to_list()\n",
    "X = df_null.groupby(by='GRAVITE')['GRAVITE'].count().index\n",
    "plt.figure(figsize=(12,5))\n",
    "plt.barh(X,Y)\n",
    "plt.title (\"Repartition de la gravité parmi les effets Non renseigné\")\n",
    "plt.show()"
   ]
  },
  {
   "cell_type": "code",
   "execution_count": 13,
   "metadata": {},
   "outputs": [
    {
     "name": "stdout",
     "output_type": "stream",
     "text": [
      "Nombre typo  non renseignés 3033\n"
     ]
    }
   ],
   "source": [
    "df_declaration_mrv['typo'] = df_declaration_mrv['TDY_ID'].map(lambda x : str(x)) +\" \"+ df_declaration_mrv['TEF_ID'].map(lambda x :str(x))\n",
    "print('Nombre typo  non renseignés' , sum(df_declaration_mrv['typo']==\"nan nan\"))"
   ]
  },
  {
   "cell_type": "code",
   "execution_count": 14,
   "metadata": {},
   "outputs": [
    {
     "data": {
      "text/plain": [
       "4991"
      ]
     },
     "execution_count": 14,
     "metadata": {},
     "output_type": "execute_result"
    }
   ],
   "source": [
    "len(df_declaration_mrv['typo'].unique())"
   ]
  },
  {
   "cell_type": "code",
   "execution_count": 15,
   "metadata": {},
   "outputs": [
    {
     "data": {
      "image/png": "[encoded data removed]",
      "text/plain": [
       "<Figure size 864x360 with 1 Axes>"
      ]
     },
     "metadata": {
      "needs_background": "light"
     },
     "output_type": "display_data"
    }
   ],
   "source": [
    "df_null = df_declaration_mrv[df_declaration_mrv['typo']==\"nan nan\"]\n",
    "Y = df_null.groupby(by='GRAVITE')['GRAVITE'].count().to_list()\n",
    "X = df_null.groupby(by='GRAVITE')['GRAVITE'].count().index\n",
    "plt.figure(figsize=(12,5))\n",
    "plt.barh(X,Y)\n",
    "plt.title (\"Repartition de la gravité parmi les typo Non renseigné\")\n",
    "plt.show()"
   ]
  },
  {
   "cell_type": "code",
   "execution_count": 16,
   "metadata": {},
   "outputs": [
    {
     "data": {
      "text/plain": [
       "array(['D1790', 'D1859', 'D1848', 'D2091', 'D1689', 'D1932', 'D1886',\n",
       "       'D1468', 'D1693', 'D1909', 'D1570', 'D1656', nan, 'D1997', 'D1538',\n",
       "       'D1625', 'D1539', 'D1854', 'D2219', 'D2047', 'D1759', 'D1756',\n",
       "       'D1852', 'D1936', 'D1627'], dtype=object)"
      ]
     },
     "execution_count": 16,
     "metadata": {},
     "output_type": "execute_result"
    }
   ],
   "source": [
    "df_declaration_mrv['TDY_ID'].unique()[:25]"
   ]
  },
  {
   "cell_type": "code",
   "execution_count": 17,
   "metadata": {},
   "outputs": [
    {
     "data": {
      "text/plain": [
       "array([nan, 'C1032', 'C1097', 'C1098', 'C1037', 'C1030', 'C1117', 'C1024',\n",
       "       'C1137', 'C1042', 'C1052', 'C1023', 'C1029', 'C1031', 'C1047',\n",
       "       'C1041', 'C1028', 'C1048', 'C1033', 'C1044', 'C1021', 'C1035',\n",
       "       'C1043', 'C1040', 'C1046', 'C1036', 'C1059', 'C1078', 'C1027',\n",
       "       'C1025', 'C1077', 'C1034', 'C1045', 'C1038', 'C1357', 'C1297',\n",
       "       'C1277', 'C1298', 'C1257', 'C1053', 'C1157', 'C1051', 'C1039',\n",
       "       'C1319', 'C1320', 'C1079', 'C1318', 'C1057', 'C1022', 'C1405',\n",
       "       'C1337', 'C1402', 'C1404', 'C1410', 'C1411', 'C1397', 'C1406',\n",
       "       'C1399', 'C1409', 'C1398', 'C1417', 'C1403', 'C1317'], dtype=object)"
      ]
     },
     "execution_count": 17,
     "metadata": {},
     "output_type": "execute_result"
    }
   ],
   "source": [
    "df_declaration_mrv['CDY_ID'].unique()"
   ]
  },
  {
   "cell_type": "code",
   "execution_count": 18,
   "metadata": {},
   "outputs": [
    {
     "data": {
      "text/plain": [
       "array(['E1213', 'E1232', nan, 'E1220', 'E1111', 'E1406', 'E1124', 'E1239',\n",
       "       'E1190', 'E1238', 'E1242', 'E1109', 'E1323', 'E1445', 'E1447',\n",
       "       'E1449', 'E1451', 'E1454', 'E1467', 'E1444', 'E1448', 'E1450',\n",
       "       'E1452', 'E1446', 'E1188'], dtype=object)"
      ]
     },
     "execution_count": 18,
     "metadata": {},
     "output_type": "execute_result"
    }
   ],
   "source": [
    "df_declaration_mrv['TEF_ID'].unique()[:25]"
   ]
  },
  {
   "cell_type": "markdown",
   "metadata": {},
   "source": [
    "## Conclusion : \n",
    "Pour construire notre classifier, nous devons gérer les valeurs nulles, nous avosn plusieus solution : \n",
    "1) Considérer que les valeurs nulles sont équivalentes à l'absence d'effet ou de dysfonctionnement :\n",
    "\n",
    "    C'est une solution risqué car il existe un champs 'Non renseigné' pour les effets et les dysfonctionnements de plus la répartition de la gravité dans les valeur Nulle nous montre qu'il y a des incident sevère et critiques.\n",
    "\n",
    "2) Construire le modèle sur les valeurs non nulles\n",
    "\n",
    "    Cela revient pour le dysfonctionnement à résoudre un problème à 628 classes et dans le cas des effets à 274 classes avec 50 000 lignes\n",
    "\n",
    "3) Concaténer les effets avec les dysfonctionnements\n",
    "\n",
    "    Nosu obtenons ainsi 72 000 lignes complètes, mais  i l y a alors ~5000 classes représentés et 274x628 = 172072 classes possibles\n",
    "\n",
    "4) Utiliser une approche semi-supervisée en considérant les lignes sans classes comme notre working set.\n",
    "https://github.com/tmadl/semisup-learn\n",
    "\n",
    "5) Nous pouvons faire 3 modèles imbriqués :\n",
    "- modèle 1 classification entre possède un effet, possède un dysfonctionnement, ne possède aucun des deux\n",
    "- modèle 2 pour les dysfonctionnements\n",
    "- modèle 2.1 pour les effets\n",
    "- modèle 3 : inférence du type de dysfonctionnement\n",
    "\n",
    "Dans ce  notebook, nous appliquons simplement le SVM en supprimant les NaN  pour la classification des Des dysfonctionnments et des effets. Pour cela nous utiliserons les variables : \n",
    "- DESCRIPTION_INCIDENT',\n",
    "- 'TYPE_VIGILANCE'\n",
    "- 'LIBELLE_COMMERCIAL'\n",
    "- 'REFERENCE_COMMERCIALE',\n",
    "- 'ETAT_PATIENT',\n",
    "- 'FABRICANT',\n",
    "- 'CLASSIFICATION\n",
    "\n",
    "Pour inférer : \n",
    " - TDY_ID\n",
    " - TEF_ID"
   ]
  },
  {
   "cell_type": "markdown",
   "metadata": {},
   "source": [
    "## 1) Constructions du jeux d'évaluation\n",
    "On met de coté environ 20% du dataset pour l'évaluation et on ne garde pour l'entrainement seulement les classes avec plus de 10 observations"
   ]
  },
  {
   "cell_type": "code",
   "execution_count": 19,
   "metadata": {
    "scrolled": true
   },
   "outputs": [
    {
     "name": "stdout",
     "output_type": "stream",
     "text": [
      "CPU times: user 54.9 s, sys: 452 ms, total: 55.4 s\n",
      "Wall time: 55.4 s\n"
     ]
    }
   ],
   "source": [
    "%%time\n",
    "df_declaration_mrv = pd.read_csv(\"data/data_mrv/declaration_mrv_complet.csv\")#delimiter=';',encoding='ISO-8859-1')\n",
    "id_to_dco = pd.read_csv(\"data/ref_MRV/referentiel_dispositif.csv\",delimiter=';',encoding='ISO-8859-1')\n",
    "\n",
    "#Supression des NaN\n",
    "\n",
    "#Charegement des colonnes utiles et suppression des NaN\n",
    "\n",
    "df_tdy = df_declaration_mrv[['DESCRIPTION_INCIDENT','TYPE_VIGILANCE','LIBELLE_COMMERCIAL','DCO_ID',\n",
    "                         'REFERENCE_COMMERCIALE','ETAT_PATIENT','ACTION_PATIENT','FABRICANT','TDY_ID','CLASSIFICATION']][df_declaration_mrv['TDY_ID'].notna()]\n",
    "df_tef = df_declaration_mrv[['DESCRIPTION_INCIDENT','TYPE_VIGILANCE','LIBELLE_COMMERCIAL', 'DCO_ID',\n",
    "                         'REFERENCE_COMMERCIALE','ETAT_PATIENT','ACTION_PATIENT','FABRICANT','TEF_ID','CLASSIFICATION']][df_declaration_mrv['TEF_ID'].notna()]\n",
    "\n",
    "# On complète les NaN avec du vide\n",
    "for df in [df_tdy,df_tef] : \n",
    "    df['ETAT_PATIENT'] = df['ETAT_PATIENT'].fillna(\"\")\n",
    "    df['DESCRIPTION_INCIDENT'] = df['DESCRIPTION_INCIDENT'].fillna(\"\")\n",
    "    df['LIBELLE_COMMERCIAL'] = df['LIBELLE_COMMERCIAL'].fillna(\"\")\n",
    "    df['FABRICANT'] = df['FABRICANT'].fillna(\"\")\n",
    "    df[\"REFERENCE_COMMERCIALE\"] = df['REFERENCE_COMMERCIALE'].fillna(\"\")\n",
    "    df['TYPE_VIGILANCE'] = df['TYPE_VIGILANCE'].fillna(\"\")\n",
    "    df['CLASSIFICATION'] = df['CLASSIFICATION'].fillna('')\n",
    "    df['ACTION_PATIENT'] = df['ACTION_PATIENT'].fillna('')\n",
    "    df['DCO_ID'] = df['DCO_ID'].fillna(-1)\n",
    "    \n",
    "    # On ajoute des collones pertinentes\n",
    "    df['des_lib'] = df['LIBELLE_COMMERCIAL']+ ' ' + df['DESCRIPTION_INCIDENT']\n",
    "    df['fab_lib'] = df['LIBELLE_COMMERCIAL']+ ' ' + df['FABRICANT']\n",
    "    df['com'] = df['LIBELLE_COMMERCIAL']+ ' ' + df['REFERENCE_COMMERCIALE']\n",
    "    df['Text'] = df['LIBELLE_COMMERCIAL']+ ' ' + df['FABRICANT'] + \"\" + df['DESCRIPTION_INCIDENT']\n",
    "    \n",
    "    # On nettoie les données :\n",
    "    for col in  ['DESCRIPTION_INCIDENT','LIBELLE_COMMERCIAL','ETAT_PATIENT','Text',\"des_lib\",\"fab_lib\"] :\n",
    "        df[col] = df[col].map(lambda x: clean_text.preprocess_text(x))\n",
    "\n",
    "n = 15\n",
    "# On filtre pour a voir plus de n observations par classse\n",
    "df_tdy_n = df_tdy.groupby(\"TDY_ID\").filter(lambda x: len(x) > n)\n",
    "df_tef_n = df_tef.groupby(\"TEF_ID\").filter(lambda x: len(x) > n)\n",
    "\n",
    "# On encode les labels\n",
    "le_tdy = LabelEncoder()\n",
    "df_tdy_n.TDY_ID = le_tdy.fit_transform(df_tdy_n.TDY_ID.values)\n",
    "le_tef = LabelEncoder()\n",
    "df_tef_n.TEF_ID = le_tef.fit_transform(df_tef_n.TEF_ID.values)\n",
    "\n",
    "le = LabelEncoder()\n",
    "for df_n in [df_tef_n,df_tdy_n]:\n",
    "    #On encode le type de vigilance\n",
    "    df_n.TYPE_VIGILANCE = le.fit_transform(df_n.TYPE_VIGILANCE.values)\n",
    "    #On encode la classifcation \n",
    "    df_n.CLASSIFICATION = le.fit_transform(df_n.CLASSIFICATION.values)\n",
    "    #on encode le DCO\n",
    "    df_n.DCO_ID = le.fit_transform(df_n.DCO_ID.values)\n",
    "    # On selection les variables de test en faisant attention aux doublons\n",
    "train_index_tdy,test_index_tdy = next(GroupShuffleSplit(random_state=1029).split(df_tdy_n, groups=df_tdy_n['DESCRIPTION_INCIDENT']))\n",
    "train_index_tef,test_index_tef = next(GroupShuffleSplit(random_state=1029).split(df_tef_n, groups=df_tef_n['DESCRIPTION_INCIDENT']))\n",
    "\n",
    "df_train_tdy, df_test_tdy = df_tdy_n.iloc[train_index_tdy], df_tdy_n.iloc[test_index_tdy]\n",
    "df_train_tef, df_test_tef = df_tef_n.iloc[train_index_tef], df_tef_n.iloc[test_index_tef]\n"
   ]
  },
  {
   "cell_type": "code",
   "execution_count": 20,
   "metadata": {},
   "outputs": [
    {
     "data": {
      "image/png": "[encoded data removed]",
      "text/plain": [
       "<Figure size 1440x432 with 1 Axes>"
      ]
     },
     "metadata": {
      "needs_background": "light"
     },
     "output_type": "display_data"
    }
   ],
   "source": [
    "df_tdy_n.groupby('TDY_ID').count()['Text'].plot(kind ='bar',figsize=(20,6))\n",
    "plt.title(\"Les \"+ str(len(df_tdy_n['TDY_ID'].unique())) +\" classes sont elles désequilibrées ?\")\n",
    "plt.show()"
   ]
  },
  {
   "cell_type": "markdown",
   "metadata": {},
   "source": [
    "## 2) Construction du pipeline  pour le type de dysfonctionnement"
   ]
  },
  {
   "cell_type": "code",
   "execution_count": 77,
   "metadata": {},
   "outputs": [
    {
     "name": "stdout",
     "output_type": "stream",
     "text": [
      "CPU times: user 10min 17s, sys: 2.46 s, total: 10min 20s\n",
      "Wall time: 10min 20s\n"
     ]
    }
   ],
   "source": [
    "%%time\n",
    "preprocess = ColumnTransformer(\n",
    "    [('etat_pat_tfidf', TfidfVectorizer(sublinear_tf=True, min_df=3,ngram_range=(1, 1),\n",
    "                                       stop_words=STOP_WORDS,\n",
    "                                       max_features = 10000,norm = 'l2'), 'ETAT_PATIENT'),\n",
    "     \n",
    "     ('description_tfidf',TfidfVectorizer(sublinear_tf=True, min_df=5,\n",
    "                            ngram_range=(1, 1),\n",
    "                            stop_words=STOP_WORDS,\n",
    "                            max_features = 10000,norm = 'l2'), 'DESCRIPTION_INCIDENT'),\n",
    "     \n",
    "     ('action_pat_tfidf',TfidfVectorizer(sublinear_tf=True, min_df=3,\n",
    "                           ngram_range=(1, 1),\n",
    "                           stop_words=STOP_WORDS,\n",
    "                           max_features = 10000,norm = 'l2'), 'ACTION_PATIENT'),\n",
    "     \n",
    "     ('fabricant_tfidf',TfidfVectorizer(sublinear_tf=True, min_df=3,\n",
    "                           ngram_range=(1, 1),\n",
    "                           stop_words=STOP_WORDS,\n",
    "                           max_features = 5000,norm = 'l2'), 'FABRICANT'),\n",
    "     \n",
    "     ('com_tfidf',TfidfVectorizer(sublinear_tf=True, min_df=3,\n",
    "                           ngram_range=(1, 1),\n",
    "                           stop_words=STOP_WORDS,\n",
    "                           max_features = 5000,norm = 'l2'),'com')\n",
    "     \n",
    "    ],\n",
    "    #\n",
    "    remainder='passthrough')\n",
    "\n",
    "\n",
    "pipeline = Pipeline([\n",
    "    ('vect', preprocess),\n",
    "    ('clf', CalibratedClassifierCV(LinearSVC(class_weight='balanced'),cv=3, method='isotonic')),\n",
    "])\n",
    "\n",
    "X = df_train_tdy[['CLASSIFICATION','TYPE_VIGILANCE','DESCRIPTION_INCIDENT','ETAT_PATIENT','ACTION_PATIENT','FABRICANT','com']] # \n",
    "y = df_train_tdy.TDY_ID\n",
    "CV = 5\n",
    "\n",
    "result= cross_validate(pipeline, X, y, scoring=['accuracy','balanced_accuracy','f1_weighted' ], cv=CV)"
   ]
  },
  {
   "cell_type": "code",
   "execution_count": 84,
   "metadata": {},
   "outputs": [
    {
     "data": {
      "text/plain": [
       "test_accuracy             0.427544\n",
       "test_balanced_accuracy    0.334295\n",
       "test_f1_weighted          0.400729\n",
       "dtype: float64"
      ]
     },
     "execution_count": 84,
     "metadata": {},
     "output_type": "execute_result"
    }
   ],
   "source": [
    "pd.DataFrame(result)[['test_accuracy','test_balanced_accuracy','test_f1_weighted']].mean()"
   ]
  },
  {
   "cell_type": "code",
   "execution_count": 87,
   "metadata": {},
   "outputs": [
    {
     "name": "stdout",
     "output_type": "stream",
     "text": [
      "CPU times: user 2h 51min 2s, sys: 2h 6min 12s, total: 4h 57min 15s\n",
      "Wall time: 33min 13s\n"
     ]
    }
   ],
   "source": [
    "%%time\n",
    "preprocess = ColumnTransformer(\n",
    "    [('etat_pat_tfidf', TfidfVectorizer(sublinear_tf=True, min_df=3,ngram_range=(1, 1),\n",
    "                                       stop_words=STOP_WORDS,\n",
    "                                       max_features = 10000,norm = 'l2'), 'ETAT_PATIENT'),\n",
    "     \n",
    "     ('description_tfidf',TfidfVectorizer(sublinear_tf=True, min_df=5,\n",
    "                            ngram_range=(1, 1),\n",
    "                            stop_words=STOP_WORDS,\n",
    "                            max_features = 10000,norm = 'l2'), 'DESCRIPTION_INCIDENT'),\n",
    "     \n",
    "     ('action_pat_tfidf',TfidfVectorizer(sublinear_tf=True, min_df=3,\n",
    "                           ngram_range=(1, 1),\n",
    "                           stop_words=STOP_WORDS,\n",
    "                           max_features = 10000,norm = 'l2'), 'ACTION_PATIENT'),\n",
    "     \n",
    "     ('fabricant_tfidf',TfidfVectorizer(sublinear_tf=True, min_df=3,\n",
    "                           ngram_range=(1, 1),\n",
    "                           stop_words=STOP_WORDS,\n",
    "                           max_features = 5000,norm = 'l2'), 'FABRICANT'),\n",
    "     \n",
    "     ('com_tfidf',TfidfVectorizer(sublinear_tf=True, min_df=3,\n",
    "                           ngram_range=(1, 1),\n",
    "                           stop_words=STOP_WORDS,\n",
    "                           max_features = 5000,norm = 'l2'),'com')\n",
    "     \n",
    "    ],\n",
    "    #\n",
    "    remainder='passthrough')\n",
    "\n",
    "X = df_train_tdy[['CLASSIFICATION','TYPE_VIGILANCE','DESCRIPTION_INCIDENT','ETAT_PATIENT','ACTION_PATIENT','FABRICANT','com']] # \n",
    "y = df_train_tdy.TDY_ID\n",
    "CV = 3\n",
    "    \n",
    "models = [\n",
    "    MultinomialNB(),\n",
    "    LogisticRegression(random_state=0)\n",
    "]\n",
    "\n",
    "df_result = pd.DataFrame(index = ['test_accuracy','test_balanced_accuracy','test_f1_weighted'])\n",
    "\n",
    "for model in models : \n",
    "    model_name = model.__class__.__name__\n",
    "    \n",
    "    pipeline = Pipeline([\n",
    "        ('vect', preprocess),\n",
    "        ('svd', TruncatedSVD(n_components=2500, random_state=42)),\n",
    "        ('clf', model),\n",
    "    ])\n",
    "    \n",
    "   \n",
    "    \n",
    "    result= cross_validate(pipeline, X, y, scoring=['accuracy','balanced_accuracy','f1_weighted' ], cv=CV)\n",
    "    df_result[model_name] = pd.DataFrame(result)[['test_accuracy','test_balanced_accuracy','test_f1_weighted']].mean().values\n",
    "\n"
   ]
  },
  {
   "cell_type": "code",
   "execution_count": 88,
   "metadata": {},
   "outputs": [
    {
     "data": {
      "text/html": [
       "<div>\n",
       "<style scoped>\n",
       "    .dataframe tbody tr th:only-of-type {\n",
       "        vertical-align: middle;\n",
       "    }\n",
       "\n",
       "    .dataframe tbody tr th {\n",
       "        vertical-align: top;\n",
       "    }\n",
       "\n",
       "    .dataframe thead th {\n",
       "        text-align: right;\n",
       "    }\n",
       "</style>\n",
       "<table border=\"1\" class=\"dataframe\">\n",
       "  <thead>\n",
       "    <tr style=\"text-align: right;\">\n",
       "      <th></th>\n",
       "      <th>MultinomialNB</th>\n",
       "      <th>LogisticRegression</th>\n",
       "    </tr>\n",
       "  </thead>\n",
       "  <tbody>\n",
       "    <tr>\n",
       "      <th>test_accuracy</th>\n",
       "      <td>NaN</td>\n",
       "      <td>0.387787</td>\n",
       "    </tr>\n",
       "    <tr>\n",
       "      <th>test_balanced_accuracy</th>\n",
       "      <td>NaN</td>\n",
       "      <td>0.184540</td>\n",
       "    </tr>\n",
       "    <tr>\n",
       "      <th>test_f1_weighted</th>\n",
       "      <td>NaN</td>\n",
       "      <td>0.352148</td>\n",
       "    </tr>\n",
       "  </tbody>\n",
       "</table>\n",
       "</div>"
      ],
      "text/plain": [
       "                        MultinomialNB  LogisticRegression\n",
       "test_accuracy                     NaN            0.387787\n",
       "test_balanced_accuracy            NaN            0.184540\n",
       "test_f1_weighted                  NaN            0.352148"
      ]
     },
     "execution_count": 88,
     "metadata": {},
     "output_type": "execute_result"
    }
   ],
   "source": [
    "df_result"
   ]
  },
  {
   "cell_type": "markdown",
   "metadata": {},
   "source": [
    "### Commentaire : \n",
    "La meilleure performance étant : Accuracy = 0.40 et balanced_accuracy = 0.33 et f1_weighted = 0.40 avec un SVM\n",
    "\n",
    "\n",
    "Les meilleures performances des modèles de machine Learning,obenue à partir d'un pieline très proche du DCO ne sont pas très satisfesantes. Pour l'améliorer voici quelques pistes : \n",
    "- Features Selection :\n",
    "    - Mieux comprendre le process métier pour mieux identifier ou se situe le  l'information\n",
    "    - Utiliser le DCO_ID et faire un modèle pour chaque DCO_ID\n",
    "- Features Transformation : \n",
    "    - Fine tuner le Tfidf\n",
    "    - Changer de representations\n",
    "- Data Augmentation:\n",
    "    - Appliquer des méthodes semi-supervisé afin d'augementer la diversité des observations\n",
    "- Model selection :\n",
    "    - Appliquer XGboost (sans doute trop long car le nombre de classe est elevé)\n",
    "    - Appliquer des modèles de Deep Learning\n",
    "\n",
    "Regardons rapidement si on inclut le DCO_ID :"
   ]
  },
  {
   "cell_type": "code",
   "execution_count": 21,
   "metadata": {
    "scrolled": true
   },
   "outputs": [
    {
     "name": "stdout",
     "output_type": "stream",
     "text": [
      "CPU times: user 1h 34min 11s, sys: 3.46 s, total: 1h 34min 14s\n",
      "Wall time: 1h 34min 14s\n"
     ]
    }
   ],
   "source": [
    "%%time\n",
    "preprocess = ColumnTransformer(\n",
    "    [('etat_pat_tfidf', TfidfVectorizer(sublinear_tf=True, min_df=3,ngram_range=(1, 1),\n",
    "                                       stop_words=STOP_WORDS,\n",
    "                                       max_features = 10000,norm = 'l2'), 'ETAT_PATIENT'),\n",
    "     \n",
    "     ('description_tfidf',TfidfVectorizer(sublinear_tf=True, min_df=5,\n",
    "                            ngram_range=(1, 1),\n",
    "                            stop_words=STOP_WORDS,\n",
    "                            max_features = 10000,norm = 'l2'), 'DESCRIPTION_INCIDENT'),\n",
    "     \n",
    "     ('action_pat_tfidf',TfidfVectorizer(sublinear_tf=True, min_df=3,\n",
    "                           ngram_range=(1, 1),\n",
    "                           stop_words=STOP_WORDS,\n",
    "                           max_features = 10000,norm = 'l2'), 'ACTION_PATIENT'),\n",
    "     \n",
    "     ('fabricant_tfidf',TfidfVectorizer(sublinear_tf=True, min_df=3,\n",
    "                           ngram_range=(1, 1),\n",
    "                           stop_words=STOP_WORDS,\n",
    "                           max_features = 5000,norm = 'l2'), 'FABRICANT'),\n",
    "     \n",
    "     ('com_tfidf',TfidfVectorizer(sublinear_tf=True, min_df=3,\n",
    "                           ngram_range=(1, 1),\n",
    "                           stop_words=STOP_WORDS,\n",
    "                           max_features = 5000,norm = 'l2'),'com')\n",
    "     \n",
    "    ],\n",
    "    #\n",
    "    remainder='passthrough')\n",
    "\n",
    "\n",
    "pipeline = Pipeline([\n",
    "    ('vect', preprocess),\n",
    "    ('clf', CalibratedClassifierCV(LinearSVC(class_weight='balanced'),cv=3, method='isotonic')),\n",
    "])\n",
    "\n",
    "X = df_train_tdy[['DCO_ID','CLASSIFICATION','TYPE_VIGILANCE','DESCRIPTION_INCIDENT','ETAT_PATIENT','ACTION_PATIENT','FABRICANT','com']] # \n",
    "y = df_train_tdy.TDY_ID\n",
    "CV = 3\n",
    "\n",
    "result= cross_validate(pipeline, X, y, scoring=['accuracy','balanced_accuracy','f1_weighted' ], cv=CV)"
   ]
  },
  {
   "cell_type": "code",
   "execution_count": 22,
   "metadata": {},
   "outputs": [
    {
     "data": {
      "text/plain": [
       "test_accuracy             0.337545\n",
       "test_balanced_accuracy    0.152764\n",
       "test_f1_weighted          0.278708\n",
       "dtype: float64"
      ]
     },
     "execution_count": 22,
     "metadata": {},
     "output_type": "execute_result"
    }
   ],
   "source": [
    "pd.DataFrame(result)[['test_accuracy','test_balanced_accuracy','test_f1_weighted']].mean()"
   ]
  },
  {
   "cell_type": "markdown",
   "metadata": {},
   "source": [
    "## 3) Construction du pipeline  pour le type d'effet"
   ]
  },
  {
   "cell_type": "code",
   "execution_count": 100,
   "metadata": {},
   "outputs": [
    {
     "data": {
      "image/png": "[encoded data removed]",
      "text/plain": [
       "<Figure size 1440x432 with 1 Axes>"
      ]
     },
     "metadata": {
      "needs_background": "light"
     },
     "output_type": "display_data"
    }
   ],
   "source": [
    "df_tef_n.groupby('TEF_ID').count()['Text'].plot(kind ='bar',figsize=(20,6))\n",
    "plt.title(\"Les \"+ str(len(df_tef_n['TEF_ID'].unique())) +\" classes sont elles désequilibrées ?\")\n",
    "plt.show()"
   ]
  },
  {
   "cell_type": "code",
   "execution_count": 108,
   "metadata": {},
   "outputs": [
    {
     "name": "stdout",
     "output_type": "stream",
     "text": [
      "CPU times: user 5min 58s, sys: 0 ns, total: 5min 58s\n",
      "Wall time: 5min 58s\n"
     ]
    }
   ],
   "source": [
    "%%time\n",
    "preprocess = ColumnTransformer(\n",
    "    [('etat_pat_tfidf', TfidfVectorizer(sublinear_tf=True, min_df=3,ngram_range=(1, 1),\n",
    "                                       stop_words=STOP_WORDS,\n",
    "                                       max_features = 10000,norm = 'l2'), 'ETAT_PATIENT'),\n",
    "     \n",
    "     ('description_tfidf',TfidfVectorizer(sublinear_tf=True, min_df=5,\n",
    "                            ngram_range=(1, 1),\n",
    "                            stop_words=STOP_WORDS,\n",
    "                            max_features = 10000,norm = 'l2'), 'DESCRIPTION_INCIDENT'),\n",
    "     \n",
    "     ('action_pat_tfidf',TfidfVectorizer(sublinear_tf=True, min_df=3,\n",
    "                           ngram_range=(1, 1),\n",
    "                           stop_words=STOP_WORDS,\n",
    "                           max_features = 10000,norm = 'l2'), 'ACTION_PATIENT'),\n",
    "     \n",
    "     ('fabricant_tfidf',TfidfVectorizer(sublinear_tf=True, min_df=3,\n",
    "                           ngram_range=(1, 1),\n",
    "                           stop_words=STOP_WORDS,\n",
    "                           max_features = 5000,norm = 'l2'), 'FABRICANT'),\n",
    "     \n",
    "     ('com_tfidf',TfidfVectorizer(sublinear_tf=True, min_df=3,\n",
    "                           ngram_range=(1, 1),\n",
    "                           stop_words=STOP_WORDS,\n",
    "                           max_features = 5000,norm = 'l2'),'com')\n",
    "     \n",
    "    ],\n",
    "    #\n",
    "    remainder='passthrough')\n",
    "\n",
    "\n",
    "pipeline = Pipeline([\n",
    "    ('vect', preprocess),\n",
    "    ('clf', CalibratedClassifierCV(LinearSVC(class_weight='balanced'),cv=3, method='isotonic')),\n",
    "])\n",
    "\n",
    "X = df_train_tef[['CLASSIFICATION','TYPE_VIGILANCE','DESCRIPTION_INCIDENT','ETAT_PATIENT','ACTION_PATIENT','FABRICANT','com']] # \n",
    "y = df_train_tef.TEF_ID\n",
    "CV = 3\n",
    "\n",
    "result= cross_validate(pipeline, X, y, scoring=['accuracy','balanced_accuracy','f1_weighted' ], cv=CV)"
   ]
  },
  {
   "cell_type": "code",
   "execution_count": 109,
   "metadata": {},
   "outputs": [
    {
     "data": {
      "text/plain": [
       "test_accuracy             0.337353\n",
       "test_balanced_accuracy    0.158543\n",
       "test_f1_weighted          0.276191\n",
       "dtype: float64"
      ]
     },
     "execution_count": 109,
     "metadata": {},
     "output_type": "execute_result"
    }
   ],
   "source": [
    "pd.DataFrame(result)[['test_accuracy','test_balanced_accuracy','test_f1_weighted']].mean()"
   ]
  },
  {
   "cell_type": "code",
   "execution_count": 113,
   "metadata": {},
   "outputs": [
    {
     "name": "stdout",
     "output_type": "stream",
     "text": [
      "CPU times: user 12min 46s, sys: 0 ns, total: 12min 46s\n",
      "Wall time: 12min 46s\n"
     ]
    }
   ],
   "source": [
    "%%time\n",
    "preprocess = ColumnTransformer(\n",
    "    [('description_tfidf',TfidfVectorizer(sublinear_tf=True, min_df=5,\n",
    "                            ngram_range=(1, 1),\n",
    "                            stop_words=STOP_WORDS,\n",
    "                            max_features = 10000,norm = 'l2'), 'DESCRIPTION_INCIDENT')\n",
    "     \n",
    "    ],\n",
    "    #\n",
    "    remainder='passthrough')\n",
    "\n",
    "\n",
    "pipeline = Pipeline([\n",
    "    ('vect', preprocess),\n",
    "    ('clf', CalibratedClassifierCV(LinearSVC( class_weight='balanced'),cv=3, method='isotonic')),\n",
    "])\n",
    "\n",
    "X = df_train_tef[['DESCRIPTION_INCIDENT']] # \n",
    "y = df_train_tef.TEF_ID\n",
    "CV = 3\n",
    "\n",
    "result= cross_validate(pipeline, X, y, scoring=['accuracy','balanced_accuracy','f1_weighted' ], cv=CV)"
   ]
  },
  {
   "cell_type": "code",
   "execution_count": 112,
   "metadata": {},
   "outputs": [
    {
     "data": {
      "text/plain": [
       "test_accuracy             0.307636\n",
       "test_balanced_accuracy    0.159809\n",
       "test_f1_weighted          0.243208\n",
       "dtype: float64"
      ]
     },
     "execution_count": 112,
     "metadata": {},
     "output_type": "execute_result"
    }
   ],
   "source": [
    "pd.DataFrame(result)[['test_accuracy','test_balanced_accuracy','test_f1_weighted']].mean()"
   ]
  },
  {
   "cell_type": "markdown",
   "metadata": {},
   "source": [
    "### Commentaire : \n",
    "La meilleure performance étant : Accuracy = 0.30 et balanced_accuracy = 0.15 et f1_weighted = 0.24 avec un SVM\n",
    "\n",
    "\n",
    "Les meilleures performances des modèles de machine Learning,obenue à partir d'un pieline très proche du DCO ne sont pas du tout satisfaisantes. Pour l'améliorer voici quelques pistes : \n",
    "- Features Selection :\n",
    "    - Mieux comprendre le process métier pour mieux identifier ou se situe le  l'information\n",
    "    - Utiliser le DCO_ID et faire un modèle pour chaque DCO_ID\n",
    "- Features Transformation : \n",
    "    - Fine tuner le Tfidf\n",
    "    - Changer de representations\n",
    "- Data Augmentation:\n",
    "    - Appliquer des méthodes semi-supervisées afin d'augementer la diversité des observations\n",
    "- Model selection :\n",
    "    - Appliquer XGboost (sans doute trop long car le nombre de classe est elevé)\n",
    "    - Appliquer des modèle de Deep Learning\n"
   ]
  },
  {
   "cell_type": "code",
   "execution_count": 117,
   "metadata": {},
   "outputs": [],
   "source": [
    "from frameworks.SelfLearning import *"
   ]
  },
  {
   "cell_type": "code",
   "execution_count": null,
   "metadata": {},
   "outputs": [],
   "source": []
  }
 ],
 "metadata": {
  "kernelspec": {
   "display_name": "DGS-env",
   "language": "python",
   "name": "dgs-env"
  },
  "language_info": {
   "codemirror_mode": {
    "name": "ipython",
    "version": 3
   },
   "file_extension": ".py",
   "mimetype": "text/x-python",
   "name": "python",
   "nbconvert_exporter": "python",
   "pygments_lexer": "ipython3",
   "version": "3.7.4"
  }
 },
 "nbformat": 4,
 "nbformat_minor": 4
}
