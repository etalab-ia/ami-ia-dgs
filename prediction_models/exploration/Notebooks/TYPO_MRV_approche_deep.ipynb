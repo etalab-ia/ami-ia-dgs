{
 "cells": [
  {
   "cell_type": "markdown",
   "metadata": {},
   "source": [
    "# Approche avec BERT"
   ]
  },
  {
   "cell_type": "code",
   "execution_count": 15,
   "metadata": {},
   "outputs": [],
   "source": [
    "import warnings\n",
    "warnings.filterwarnings('ignore')\n",
    "\n",
    "import pandas as pd\n",
    "import numpy as np\n",
    "\n",
    "import clean_text\n",
    "\n",
    "from sklearn.preprocessing import LabelEncoder\n",
    "from sklearn.model_selection import GroupShuffleSplit"
   ]
  },
  {
   "cell_type": "code",
   "execution_count": 13,
   "metadata": {},
   "outputs": [
    {
     "name": "stdout",
     "output_type": "stream",
     "text": [
      "CPU times: user 0 ns, sys: 0 ns, total: 0 ns\n",
      "Wall time: 19.8 µs\n"
     ]
    }
   ],
   "source": [
    "%time\n",
    "df_declaration_mrv = pd.read_csv(\"data/data_mrv/declaration_mrv_complet.csv\")#delimiter=';',encoding='ISO-8859-1')\n",
    "id_to_dco = pd.read_csv(\"data/ref_MRV/referentiel_dispositif.csv\",delimiter=';',encoding='ISO-8859-1')\n",
    "df_effets = pd.read_csv(\"data/ref_MRV/referentiel_dispositif_effets_connus.csv\",delimiter=';',encoding='ISO-8859-1')\n",
    "df_dys = pd.read_csv(\"data/ref_MRV/referentiel_dispositif_dysfonctionnement.csv\",delimiter=';',encoding='ISO-8859-1')"
   ]
  },
  {
   "cell_type": "code",
   "execution_count": 66,
   "metadata": {},
   "outputs": [
    {
     "name": "stdout",
     "output_type": "stream",
     "text": [
      "76954\n",
      "76402\n",
      "CPU times: user 22.4 s, sys: 272 ms, total: 22.7 s\n",
      "Wall time: 22.7 s\n"
     ]
    }
   ],
   "source": [
    "%%time\n",
    "#On complète les effets vide comme étant sans effets\n",
    "df_declaration_mrv['TYPE_EFFET']  = df_declaration_mrv['TYPE_EFFET'].fillna(\"PAS D'EFFET NEFASTE DECLARE\")\n",
    "df_declaration_mrv['TEF_ID']= df_declaration_mrv['TEF_ID'].fillna('E1213')\n",
    "\n",
    "#on selectionne les colonnes avec des effets\n",
    "df = df_declaration_mrv[['DESCRIPTION_INCIDENT','TYPE_VIGILANCE','LIBELLE_COMMERCIAL',\n",
    "                         'REFERENCE_COMMERCIALE','ETAT_PATIENT','FABRICANT','DCO_ID',\n",
    "                         'ACTION_PATIENT','CLASSIFICATION','TEF_ID']]#[df_declaration_mrv['TEF_ID']!='E1213']\n",
    "# On complète les NaN avec du vide\n",
    "df['ETAT_PATIENT'] = df['ETAT_PATIENT'].fillna(\" \")\n",
    "df['DESCRIPTION_INCIDENT'] = df['DESCRIPTION_INCIDENT'].fillna(\" \")\n",
    "df['LIBELLE_COMMERCIAL'] = df['LIBELLE_COMMERCIAL'].fillna(\" \")\n",
    "df['FABRICANT'] = df['FABRICANT'].fillna(\" \")\n",
    "df[\"REFERENCE_COMMERCIALE\"] = df['REFERENCE_COMMERCIALE'].fillna(\" \")\n",
    "df['TYPE_VIGILANCE'] = df['TYPE_VIGILANCE'].fillna(\" \")\n",
    "df['CLASSIFICATION'] = df['CLASSIFICATION'].fillna(' ')\n",
    "df['DCO_ID'] = df['DCO_ID'].fillna(-1)\n",
    "#On nettoieles variables textueelles : \n",
    "\n",
    "for col in  ['DESCRIPTION_INCIDENT','LIBELLE_COMMERCIAL','ETAT_PATIENT','FABRICANT','ACTION_PATIENT'] :\n",
    "    df[col] = df[col].map(lambda x: clean_text.preprocess_text(x))\n",
    "\n",
    "\n",
    "print(len(df))\n",
    "n = 15\n",
    "# On filtre pour a voir plus de n observations par classse\n",
    "df = df.groupby(\"TEF_ID\").filter(lambda x: len(x) > n)\n",
    "print(len(df))\n",
    "le_v = LabelEncoder()\n",
    "df.TYPE_VIGILANCE = le_v.fit_transform(df.TYPE_VIGILANCE.values)\n",
    "le = LabelEncoder()\n",
    "df.TEF_ID = le.fit_transform(df.TEF_ID.values)\n",
    "\n",
    "train_index,test_index = next(GroupShuffleSplit(random_state=1029).split(df, groups=df['DESCRIPTION_INCIDENT']))\n",
    "df_train, df_test = df.iloc[train_index], df.iloc[test_index]\n",
    "y = df_train.TEF_ID\n",
    "y_test =df_test.TEF_ID"
   ]
  },
  {
   "cell_type": "code",
   "execution_count": 67,
   "metadata": {},
   "outputs": [],
   "source": [
    "features = ['DESCRIPTION_INCIDENT']\n",
    "y_col = 'TEF_ID'"
   ]
  },
  {
   "cell_type": "code",
   "execution_count": 68,
   "metadata": {},
   "outputs": [],
   "source": [
    "train_list = [elt[0] for elt in df_train[features].values.tolist()]\n",
    "test_list =  [elt[0] for elt in df_test[features].values.tolist()]"
   ]
  },
  {
   "cell_type": "code",
   "execution_count": 84,
   "metadata": {},
   "outputs": [
    {
     "data": {
      "text/plain": [
       "'esthétique explantation le / / suite au souhait de la patiente de retirer les implants sein droit : rupture implant + coque stade sein gauche : rupture implant + coque stade rupture intracapsulaire signes appel clinique , à échographie , irm'"
      ]
     },
     "execution_count": 84,
     "metadata": {},
     "output_type": "execute_result"
    }
   ],
   "source": [
    "train_list[6643]"
   ]
  },
  {
   "cell_type": "code",
   "execution_count": 78,
   "metadata": {},
   "outputs": [
    {
     "data": {
      "text/plain": [
       "61651"
      ]
     },
     "execution_count": 78,
     "metadata": {},
     "output_type": "execute_result"
    }
   ],
   "source": [
    "len(df_train[y_col].values)"
   ]
  },
  {
   "cell_type": "markdown",
   "metadata": {},
   "source": [
    "# using K train"
   ]
  },
  {
   "cell_type": "code",
   "execution_count": 4,
   "metadata": {},
   "outputs": [],
   "source": [
    "import ktrain\n",
    "from ktrain import text\n",
    "from sklearn.preprocessing import LabelEncoder, MultiLabelBinarizer\n",
    "import pandas as pd"
   ]
  },
  {
   "cell_type": "code",
   "execution_count": 71,
   "metadata": {},
   "outputs": [
    {
     "name": "stdout",
     "output_type": "stream",
     "text": [
      "fasttext: a fastText-like model [http://arxiv.org/pdf/1607.01759.pdf]\n",
      "logreg: logistic regression using a trainable Embedding layer\n",
      "nbsvm: NBSVM model [http://www.aclweb.org/anthology/P12-2018]\n",
      "bigru: Bidirectional GRU with pretrained fasttext word vectors [https://fasttext.cc/docs/en/crawl-vectors.html]\n",
      "standard_gru: simple 2-layer GRU with randomly initialized embeddings\n",
      "bert: Bidirectional Encoder Representations from Transformers (BERT) [https://arxiv.org/abs/1810.04805]\n",
      "distilbert: distilled, smaller, and faster BERT from Hugging Face [https://arxiv.org/abs/1910.01108]\n"
     ]
    }
   ],
   "source": [
    "text.print_text_classifiers()"
   ]
  },
  {
   "cell_type": "code",
   "execution_count": 57,
   "metadata": {},
   "outputs": [
    {
     "name": "stdout",
     "output_type": "stream",
     "text": [
      "CPU times: user 0 ns, sys: 0 ns, total: 0 ns\n",
      "Wall time: 28.8 µs\n"
     ]
    },
    {
     "ename": "NameError",
     "evalue": "name 'ColumnTransformer' is not defined",
     "output_type": "error",
     "traceback": [
      "\u001b[0;31m---------------------------------------------------------------------------\u001b[0m",
      "\u001b[0;31mNameError\u001b[0m                                 Traceback (most recent call last)",
      "\u001b[0;32m<ipython-input-57-9b7f49f0caab>\u001b[0m in \u001b[0;36m<module>\u001b[0;34m\u001b[0m\n\u001b[1;32m     18\u001b[0m \u001b[0;34m\u001b[0m\u001b[0m\n\u001b[1;32m     19\u001b[0m \u001b[0;34m\u001b[0m\u001b[0m\n\u001b[0;32m---> 20\u001b[0;31m preprocess = ColumnTransformer(\n\u001b[0m\u001b[1;32m     21\u001b[0m     [('description_tfidf',TfidfVectorizer(sublinear_tf=True, min_df=3,\n\u001b[1;32m     22\u001b[0m                             \u001b[0mngram_range\u001b[0m\u001b[0;34m=\u001b[0m\u001b[0;34m(\u001b[0m\u001b[0;36m1\u001b[0m\u001b[0;34m,\u001b[0m \u001b[0;36m1\u001b[0m\u001b[0;34m)\u001b[0m\u001b[0;34m,\u001b[0m\u001b[0;34m\u001b[0m\u001b[0;34m\u001b[0m\u001b[0m\n",
      "\u001b[0;31mNameError\u001b[0m: name 'ColumnTransformer' is not defined"
     ]
    }
   ],
   "source": [
    "%time\n",
    "\n",
    "mlb = MultiLabelBinarizer()\n",
    "\n",
    "train = pd.read_pickle('./data_split/train.pkl')\n",
    "# Pour faire un modèle sans le \n",
    "#train = train[~train['TEF_ID'].map(lambda x : 106 in x)]\n",
    "X_train = train[['FABRICANT','CLASSIFICATION','DESCRIPTION_INCIDENT','ETAT_PATIENT','ACTION_PATIENT']]\n",
    "y_train = mlb.fit_transform(train['TEF_ID'])\n",
    "test =  pd.read_pickle('./data_split/test.pkl')\n",
    "#test = test[~test['TEF_ID'].map(lambda x : k in x)]\n",
    "X_test = test[['FABRICANT','CLASSIFICATION','DESCRIPTION_INCIDENT','ETAT_PATIENT','ACTION_PATIENT']]\n",
    "y_test = mlb.transform(test['TEF_ID'])\n",
    "\n",
    "\n",
    "df_effets = pd.read_csv(\"data/ref_MRV/referentiel_dispositif_effets_connus.csv\",delimiter=';',encoding='ISO-8859-1')\n",
    "df_dys = pd.read_csv(\"data/ref_MRV/referentiel_dispositif_dysfonctionnement.csv\",delimiter=';',encoding='ISO-8859-1')\n",
    "\n",
    "\n",
    "preprocess = ColumnTransformer(\n",
    "    [('description_tfidf',TfidfVectorizer(sublinear_tf=True, min_df=3,\n",
    "                            ngram_range=(1, 1),\n",
    "                            stop_words=STOP_WORDS,\n",
    "                            max_features = 10000,norm = 'l2'), 'DESCRIPTION_INCIDENT'),\n",
    "     \n",
    "     ('etat_pat_tfidf', TfidfVectorizer(sublinear_tf=True, min_df=3,ngram_range=(1, 1),\n",
    "                                       stop_words=STOP_WORDS,\n",
    "                                       max_features = 10000,norm = 'l2'), 'ETAT_PATIENT'),\n",
    "     \n",
    "     ('fabricant_tfidf',TfidfVectorizer(sublinear_tf=True, min_df=3,\n",
    "                            ngram_range=(1, 1),\n",
    "                            stop_words=STOP_WORDS,\n",
    "                            max_features = 5000,norm = 'l2'), 'FABRICANT')\n",
    "     ],\n",
    "    \n",
    "    remainder='passthrough')"
   ]
  },
  {
   "cell_type": "code",
   "execution_count": null,
   "metadata": {},
   "outputs": [],
   "source": [
    "# load an NBSVM model\n",
    "model = text.text_classifier('nbsvm')\n"
   ]
  },
  {
   "cell_type": "code",
   "execution_count": 47,
   "metadata": {
    "scrolled": true
   },
   "outputs": [
    {
     "name": "stdout",
     "output_type": "stream",
     "text": [
      "task: text classification\n",
      "language: fr\n",
      "Word Counts: 21168\n",
      "Nrows: 26324\n",
      "26324 train sequences\n",
      "train sequence lengths:\n",
      "\tmean : 12\n",
      "\t95percentile : 39\n",
      "\t99percentile : 83\n",
      "x_train shape: (26324,350)\n",
      "y_train shape: (26324, 273)\n",
      "Is Multi-Label? True\n",
      "6580 test sequences\n",
      "test sequence lengths:\n",
      "\tmean : 11\n",
      "\t95percentile : 37\n",
      "\t99percentile : 70\n",
      "x_test shape: (6580,350)\n",
      "y_test shape: (6580, 273)\n"
     ]
    }
   ],
   "source": [
    "import ktrain\n",
    "from ktrain import text\n",
    "import joblib\n",
    "\n",
    "encoder_TEF_ID = joblib.load('data_split/TEF_ID_encodeur.sav')\n",
    "\n",
    "features = ['ACTION_PATIENT','DESCRIPTION_INCIDENT']\n",
    "train_list = [elt[0] for elt in X_train[features].values.tolist()]\n",
    "test_list =  [elt[0] for elt in X_test[features].values.tolist()]\n",
    "\n",
    "\n",
    "\n",
    "\n",
    "trn, val, preproc = text.texts_from_array(x_train=train_list, y_train=y_train,\n",
    "                                          x_test=test_list, y_test=y_test,\n",
    "                                          class_names=encoder_TEF_ID.classes_.tolist(),\n",
    "                                          preprocess_mode='standard',maxlen=350)\n"
   ]
  },
  {
   "cell_type": "code",
   "execution_count": 34,
   "metadata": {},
   "outputs": [
    {
     "name": "stdout",
     "output_type": "stream",
     "text": [
      "Is Multi-Label? True\n",
      "compiling word ID features...\n",
      "maxlen is 350\n",
      "done.\n",
      "simulating training for different learning rates... this may take a few moments...\n",
      "Train on 26324 samples\n",
      "Epoch 1/1024\n",
      "14630/26324 [===============>..............] - ETA: 15s - loss: 0.4183 - accuracy: 0.7455\n",
      "\n",
      "done.\n",
      "Please invoke the Learner.lr_plot() method to visually inspect the loss plot to help identify the maximal learning rate associated with falling loss.\n"
     ]
    },
    {
     "data": {
      "image/png": "[encoded data removed]",
      "text/plain": [
       "<Figure size 432x288 with 1 Axes>"
      ]
     },
     "metadata": {
      "needs_background": "light"
     },
     "output_type": "display_data"
    }
   ],
   "source": [
    "model = text.text_classifier('nbsvm', train_data=trn, preproc=preproc,multilabel =True)\n",
    "from sklearn.metrics import f1_score\n",
    "from tensorflow.keras.callbacks import Callback\n",
    "\n",
    "class f1_Evaluation(Callback):\n",
    "    def __init__(self, validation_data=(), interval=1):\n",
    "        super(Callback, self).__init__()\n",
    "\n",
    "        self.interval = interval\n",
    "        self.X_val, self.y_val = validation_data\n",
    "\n",
    "    def on_epoch_end(self, epoch, logs={}):\n",
    "        if epoch % self.interval == 0:\n",
    "            y_pred = self.model.predict(self.X_val, verbose=0)\n",
    "            val=0.5\n",
    "            y_pred[y_pred>=val]=1\n",
    "            y_pred[y_pred<val]=0\n",
    "            score = f1_score(self.y_val, y_pred,average='samples')\n",
    "            print(\"\\n f1 samples - epoch: %d - score: %.6f \\n\" % (epoch+1, score))\n",
    "            \n",
    "f1 = f1_Evaluation(validation_data=val, interval=1)\n",
    "\n",
    "\n",
    "learner = ktrain.get_learner(model, train_data=trn, val_data=val, batch_size=10)\n",
    "learner.lr_find()             # briefly simulate training to find good learning rate\n",
    "learner.lr_plot()\n",
    "\n",
    "\n"
   ]
  },
  {
   "cell_type": "code",
   "execution_count": 35,
   "metadata": {
    "scrolled": true
   },
   "outputs": [
    {
     "name": "stdout",
     "output_type": "stream",
     "text": [
      "\n",
      "\n",
      "begin training using onecycle policy with max lr of 0.0007...\n",
      "Train on 26324 samples, validate on 6580 samples\n",
      "Epoch 1/8\n",
      "26320/26324 [============================>.] - ETA: 0s - loss: 0.1412 - accuracy: 0.9524\n",
      " f1 samples - epoch: 1 - score: 0.461398 \n",
      "\n",
      "26324/26324 [==============================] - 39s 1ms/sample - loss: 0.1411 - accuracy: 0.9524 - val_loss: 0.0215 - val_accuracy: 0.9953\n",
      "Epoch 2/8\n",
      "26320/26324 [============================>.] - ETA: 0s - loss: 0.0233 - accuracy: 0.9951\n",
      " f1 samples - epoch: 2 - score: 0.514995 \n",
      "\n",
      "26324/26324 [==============================] - 40s 2ms/sample - loss: 0.0233 - accuracy: 0.9951 - val_loss: 0.0190 - val_accuracy: 0.9954\n",
      "Epoch 3/8\n",
      "26300/26324 [============================>.] - ETA: 0s - loss: 0.0202 - accuracy: 0.9954\n",
      " f1 samples - epoch: 3 - score: 0.491082 \n",
      "\n",
      "26324/26324 [==============================] - 41s 2ms/sample - loss: 0.0202 - accuracy: 0.9954 - val_loss: 0.0171 - val_accuracy: 0.9957\n",
      "Epoch 4/8\n",
      "26290/26324 [============================>.] - ETA: 0s - loss: 0.0184 - accuracy: 0.9956\n",
      " f1 samples - epoch: 4 - score: 0.506832 \n",
      "\n",
      "26324/26324 [==============================] - 41s 2ms/sample - loss: 0.0184 - accuracy: 0.9956 - val_loss: 0.0163 - val_accuracy: 0.9957\n",
      "Epoch 5/8\n",
      "26320/26324 [============================>.] - ETA: 0s - loss: 0.0175 - accuracy: 0.9957\n",
      " f1 samples - epoch: 5 - score: 0.518338 \n",
      "\n",
      "26324/26324 [==============================] - 39s 1ms/sample - loss: 0.0175 - accuracy: 0.9957 - val_loss: 0.0157 - val_accuracy: 0.9958\n",
      "Epoch 6/8\n",
      "26320/26324 [============================>.] - ETA: 0s - loss: 0.0169 - accuracy: 0.9958\n",
      " f1 samples - epoch: 6 - score: 0.515792 \n",
      "\n",
      "26324/26324 [==============================] - 37s 1ms/sample - loss: 0.0169 - accuracy: 0.9958 - val_loss: 0.0154 - val_accuracy: 0.9958\n",
      "Epoch 7/8\n",
      "26320/26324 [============================>.] - ETA: 0s - loss: 0.0163 - accuracy: 0.9959\n",
      " f1 samples - epoch: 7 - score: 0.525298 \n",
      "\n",
      "26324/26324 [==============================] - 39s 1ms/sample - loss: 0.0163 - accuracy: 0.9959 - val_loss: 0.0152 - val_accuracy: 0.9958\n",
      "Epoch 8/8\n",
      "26300/26324 [============================>.] - ETA: 0s - loss: 0.0161 - accuracy: 0.9959\n",
      " f1 samples - epoch: 8 - score: 0.527296 \n",
      "\n",
      "26324/26324 [==============================] - 37s 1ms/sample - loss: 0.0161 - accuracy: 0.9959 - val_loss: 0.0151 - val_accuracy: 0.9959\n"
     ]
    },
    {
     "data": {
      "text/plain": [
       "<tensorflow.python.keras.callbacks.History at 0x7fcd080480d0>"
      ]
     },
     "execution_count": 35,
     "metadata": {},
     "output_type": "execute_result"
    }
   ],
   "source": [
    "learner.fit_onecycle(7e-4, 8,callbacks=[f1])"
   ]
  },
  {
   "cell_type": "code",
   "execution_count": 37,
   "metadata": {},
   "outputs": [
    {
     "name": "stdout",
     "output_type": "stream",
     "text": [
      "For threshold:  0.01\n",
      "Samples-average quality numbers\n",
      "Precision: 0.1954, Recall: 0.8754, F1-measure: 0.2705\n",
      "For threshold:  0.04\n",
      "Samples-average quality numbers\n",
      "Precision: 0.3799, Recall: 0.7673, F1-measure: 0.4568\n",
      "For threshold:  0.06\n",
      "Samples-average quality numbers\n",
      "Precision: 0.4469, Recall: 0.7315, F1-measure: 0.5150\n",
      "For threshold:  0.08\n",
      "Samples-average quality numbers\n",
      "Precision: 0.5361, Recall: 0.6958, F1-measure: 0.5754\n",
      "For threshold:  0.1\n",
      "Samples-average quality numbers\n",
      "Precision: 0.5554, Recall: 0.6759, F1-measure: 0.5850\n",
      "For threshold:  0.12\n"
     ]
    },
    {
     "name": "stderr",
     "output_type": "stream",
     "text": [
      "/home/user1/DGS-env/lib/python3.7/site-packages/sklearn/metrics/_classification.py:1221: UndefinedMetricWarning: Precision is ill-defined and being set to 0.0 in samples with no predicted labels. Use `zero_division` parameter to control this behavior.\n",
      "  _warn_prf(average, modifier, msg_start, len(result))\n"
     ]
    },
    {
     "name": "stdout",
     "output_type": "stream",
     "text": [
      "Samples-average quality numbers\n",
      "Precision: 0.5695, Recall: 0.6609, F1-measure: 0.5914\n",
      "For threshold:  0.14\n",
      "Samples-average quality numbers\n",
      "Precision: 0.5777, Recall: 0.6483, F1-measure: 0.5941\n",
      "For threshold:  0.16\n",
      "Samples-average quality numbers\n",
      "Precision: 0.5820, Recall: 0.6379, F1-measure: 0.5939\n",
      "For threshold:  0.2\n",
      "Samples-average quality numbers\n",
      "Precision: 0.5847, Recall: 0.6235, F1-measure: 0.5912\n",
      "For threshold:  0.25\n",
      "Samples-average quality numbers\n",
      "Precision: 0.5848, Recall: 0.6082, F1-measure: 0.5861\n",
      "For threshold:  0.3\n",
      "Samples-average quality numbers\n",
      "Precision: 0.5811, Recall: 0.5942, F1-measure: 0.5791\n",
      "For threshold:  0.35\n",
      "Samples-average quality numbers\n",
      "Precision: 0.5734, Recall: 0.5734, F1-measure: 0.5656\n",
      "For threshold:  0.4\n",
      "Samples-average quality numbers\n",
      "Precision: 0.5635, Recall: 0.5582, F1-measure: 0.5538\n",
      "For threshold:  0.5\n",
      "Samples-average quality numbers\n",
      "Precision: 0.5394, Recall: 0.5281, F1-measure: 0.5273\n",
      "For threshold:  0.6\n",
      "Samples-average quality numbers\n",
      "Precision: 0.4003, Recall: 0.3898, F1-measure: 0.3901\n",
      "For threshold:  0.7\n",
      "Samples-average quality numbers\n",
      "Precision: 0.3490, Recall: 0.3343, F1-measure: 0.3361\n"
     ]
    }
   ],
   "source": [
    "x_test = val[0].copy()\n",
    "y_pred = learner.model.predict(x_test, verbose=0)\n",
    "thresholds = [0.01,0.04,0.06,0.08,0.1,0.12,0.14,0.16,0.2,0.25,0.3,0.35,0.4,0.5,0.6,0.7]\n",
    "for val in thresholds:\n",
    "    print(\"For threshold: \", val)\n",
    "    pred=y_pred.copy()\n",
    "  \n",
    "    pred[pred>=val]=1\n",
    "    pred[pred<val]=0\n",
    "  \n",
    "    precision = precision_score(y_test, pred, average='samples')\n",
    "    recall = recall_score(y_test, pred, average='samples')\n",
    "    f1 = f1_score(y_test, pred, average='samples')\n",
    "   \n",
    "    print(\"Samples-average quality numbers\")\n",
    "    print(\"Precision: {:.4f}, Recall: {:.4f}, F1-measure: {:.4f}\".format(precision, recall, f1))"
   ]
  },
  {
   "cell_type": "markdown",
   "metadata": {},
   "source": [
    "## fasttext model"
   ]
  },
  {
   "cell_type": "code",
   "execution_count": 68,
   "metadata": {},
   "outputs": [
    {
     "name": "stdout",
     "output_type": "stream",
     "text": [
      "task: text classification\n",
      "language: vi\n",
      "Word Counts: 40\n",
      "Nrows: 26324\n",
      "26324 train sequences\n",
      "train sequence lengths:\n",
      "\tmean : 1\n",
      "\t95percentile : 1\n",
      "\t99percentile : 1\n",
      "x_train shape: (26324,350)\n",
      "y_train shape: (26324, 273)\n",
      "Is Multi-Label? True\n",
      "6580 test sequences\n",
      "test sequence lengths:\n",
      "\tmean : 1\n",
      "\t95percentile : 1\n",
      "\t99percentile : 1\n",
      "x_test shape: (6580,350)\n",
      "y_test shape: (6580, 273)\n",
      "Is Multi-Label? True\n",
      "compiling word ID features...\n",
      "maxlen is 350\n",
      "done.\n",
      "simulating training for different learning rates... this may take a few moments...\n",
      "Train on 26324 samples\n",
      "Epoch 1/1024\n",
      "14680/26324 [===============>..............] - ETA: 17s - loss: 0.4087 - accuracy: 0.7492\n",
      "\n",
      "done.\n",
      "Please invoke the Learner.lr_plot() method to visually inspect the loss plot to help identify the maximal learning rate associated with falling loss.\n",
      "\n",
      "\n",
      "begin training using onecycle policy with max lr of 0.001...\n",
      "Train on 26324 samples, validate on 6580 samples\n",
      "Epoch 1/5\n",
      "26300/26324 [============================>.] - ETA: 0s - loss: 0.1028 - accuracy: 0.9656\n",
      " f1 samples - epoch: 1 - score: 0.369858 \n",
      "\n",
      "26324/26324 [==============================] - 45s 2ms/sample - loss: 0.1027 - accuracy: 0.9657 - val_loss: 0.0206 - val_accuracy: 0.9951\n",
      "Epoch 2/5\n",
      "26310/26324 [============================>.] - ETA: 0s - loss: 0.0220 - accuracy: 0.9951\n",
      " f1 samples - epoch: 2 - score: 0.440729 \n",
      "\n",
      "26324/26324 [==============================] - 39s 1ms/sample - loss: 0.0220 - accuracy: 0.9951 - val_loss: 0.0199 - val_accuracy: 0.9951\n",
      "Epoch 3/5\n",
      "26320/26324 [============================>.] - ETA: 0s - loss: 0.0209 - accuracy: 0.9951\n",
      " f1 samples - epoch: 3 - score: 0.540375 \n",
      "\n",
      "26324/26324 [==============================] - 39s 1ms/sample - loss: 0.0209 - accuracy: 0.9951 - val_loss: 0.0197 - val_accuracy: 0.9951\n",
      "Epoch 4/5\n",
      "26320/26324 [============================>.] - ETA: 0s - loss: 0.0205 - accuracy: 0.9951\n",
      " f1 samples - epoch: 4 - score: 0.449645 \n",
      "\n",
      "26324/26324 [==============================] - 40s 2ms/sample - loss: 0.0205 - accuracy: 0.9951 - val_loss: 0.0194 - val_accuracy: 0.9951\n",
      "Epoch 5/5\n",
      "26310/26324 [============================>.] - ETA: 0s - loss: 0.0203 - accuracy: 0.9951\n",
      " f1 samples - epoch: 5 - score: 0.540375 \n",
      "\n",
      "26324/26324 [==============================] - 48s 2ms/sample - loss: 0.0203 - accuracy: 0.9951 - val_loss: 0.0194 - val_accuracy: 0.9951\n",
      "For threshold:  0.01\n",
      "Samples-average quality numbers\n",
      "Precision: 0.0714, Recall: 0.7986, F1-measure: 0.1254\n",
      "For threshold:  0.04\n",
      "Samples-average quality numbers\n",
      "Precision: 0.2179, Recall: 0.6454, F1-measure: 0.3032\n",
      "For threshold:  0.06\n",
      "Samples-average quality numbers\n",
      "Precision: 0.4287, Recall: 0.5925, F1-measure: 0.4668\n",
      "For threshold:  0.08\n",
      "Samples-average quality numbers\n",
      "Precision: 0.4728, Recall: 0.5761, F1-measure: 0.4954\n",
      "For threshold:  0.1\n",
      "Samples-average quality numbers\n",
      "Precision: 0.4802, Recall: 0.5732, F1-measure: 0.5022\n",
      "For threshold:  0.12\n",
      "Samples-average quality numbers\n",
      "Precision: 0.5297, Recall: 0.5569, F1-measure: 0.5352\n",
      "For threshold:  0.14\n",
      "Samples-average quality numbers\n",
      "Precision: 0.5297, Recall: 0.5566, F1-measure: 0.5351\n",
      "For threshold:  0.16\n",
      "Samples-average quality numbers\n",
      "Precision: 0.5526, Recall: 0.5513, F1-measure: 0.5510\n",
      "For threshold:  0.2\n",
      "Samples-average quality numbers\n",
      "Precision: 0.5525, Recall: 0.5509, F1-measure: 0.5509\n",
      "For threshold:  0.25\n",
      "Samples-average quality numbers\n",
      "Precision: 0.5521, Recall: 0.5505, F1-measure: 0.5507\n",
      "For threshold:  0.3\n",
      "Samples-average quality numbers\n",
      "Precision: 0.5521, Recall: 0.5499, F1-measure: 0.5507\n",
      "For threshold:  0.35\n",
      "Samples-average quality numbers\n",
      "Precision: 0.5521, Recall: 0.5499, F1-measure: 0.5507\n",
      "For threshold:  0.4\n",
      "Samples-average quality numbers\n",
      "Precision: 0.5521, Recall: 0.5499, F1-measure: 0.5507\n",
      "For threshold:  0.5\n"
     ]
    },
    {
     "name": "stderr",
     "output_type": "stream",
     "text": [
      "/home/user1/DGS-env/lib/python3.7/site-packages/sklearn/metrics/_classification.py:1221: UndefinedMetricWarning: Precision is ill-defined and being set to 0.0 in samples with no predicted labels. Use `zero_division` parameter to control this behavior.\n",
      "  _warn_prf(average, modifier, msg_start, len(result))\n"
     ]
    },
    {
     "name": "stdout",
     "output_type": "stream",
     "text": [
      "Samples-average quality numbers\n",
      "Precision: 0.5418, Recall: 0.5397, F1-measure: 0.5404\n",
      "For threshold:  0.6\n",
      "Samples-average quality numbers\n",
      "Precision: 0.1962, Recall: 0.1954, F1-measure: 0.1956\n"
     ]
    },
    {
     "data": {
      "image/png": "[encoded data removed]",
      "text/plain": [
       "<Figure size 432x288 with 1 Axes>"
      ]
     },
     "metadata": {
      "needs_background": "light"
     },
     "output_type": "display_data"
    }
   ],
   "source": [
    "import ktrain\n",
    "from ktrain import text\n",
    "import joblib\n",
    "\n",
    "encoder_TEF_ID = joblib.load('data_split/TEF_ID_encodeur.sav')\n",
    "\n",
    "features = 'ACTION_PATIENT'\n",
    "train_list = [elt[0] for elt in X_train[features].values.tolist()]\n",
    "test_list =  [elt[0] for elt in X_test[features].values.tolist()]\n",
    "\n",
    "\n",
    "\n",
    "\n",
    "trn, val, preproc = text.texts_from_array(x_train=train_list, y_train=y_train,\n",
    "                                          x_test=test_list, y_test=y_test,\n",
    "                                          class_names=encoder_TEF_ID.classes_.tolist(),\n",
    "                                          preprocess_mode='standard',maxlen=350)\n",
    "\n",
    "\n",
    "model = text.text_classifier('fasttext', train_data=trn, preproc=preproc,multilabel =True)\n",
    "from sklearn.metrics import f1_score\n",
    "from tensorflow.keras.callbacks import Callback\n",
    "\n",
    "class f1_Evaluation(Callback):\n",
    "    def __init__(self, validation_data=(), interval=1):\n",
    "        super(Callback, self).__init__()\n",
    "\n",
    "        self.interval = interval\n",
    "        self.X_val, self.y_val = validation_data\n",
    "\n",
    "    def on_epoch_end(self, epoch, logs={}):\n",
    "        if epoch % self.interval == 0:\n",
    "            y_pred = self.model.predict(self.X_val, verbose=0)\n",
    "            val=0.5\n",
    "            y_pred[y_pred>=val]=1\n",
    "            y_pred[y_pred<val]=0\n",
    "            score = f1_score(self.y_val, y_pred,average='samples')\n",
    "            print(\"\\n f1 samples - epoch: %d - score: %.6f \\n\" % (epoch+1, score))\n",
    "            \n",
    "f1 = f1_Evaluation(validation_data=val, interval=1)\n",
    "\n",
    "\n",
    "learner = ktrain.get_learner(model, train_data=trn, val_data=val, batch_size=10)\n",
    "learner.lr_find()             # briefly simulate training to find good learning rate\n",
    "learner.lr_plot()\n",
    "\n",
    "\n",
    "learner.fit_onecycle(1e-3, 5,callbacks=[f1])\n",
    "\n",
    "from sklearn.metrics import confusion_matrix, accuracy_score, balanced_accuracy_score,f1_score,classification_report,recall_score,precision_score\n",
    "y_pred = learner.model.predict(val[0], verbose=0)\n",
    "\n",
    "thresholds = [0.01,0.04,0.06,0.08,0.1,0.12,0.14,0.16,0.2,0.25,0.3,0.35,0.4,0.5,0.6]\n",
    "for val in thresholds:\n",
    "    print(\"For threshold: \", val)\n",
    "    pred=y_pred.copy()\n",
    "  \n",
    "    pred[pred>=val]=1\n",
    "    pred[pred<val]=0\n",
    "  \n",
    "    precision = precision_score(y_test, pred, average='samples')\n",
    "    recall = recall_score(y_test, pred, average='samples')\n",
    "    f1 = f1_score(y_test, pred, average='samples')\n",
    "   \n",
    "    print(\"Samples-average quality numbers\")\n",
    "    print(\"Precision: {:.4f}, Recall: {:.4f}, F1-measure: {:.4f}\".format(precision, recall, f1))"
   ]
  },
  {
   "cell_type": "code",
   "execution_count": 30,
   "metadata": {},
   "outputs": [
    {
     "name": "stdout",
     "output_type": "stream",
     "text": [
      "For threshold:  0.01\n",
      "Samples-average quality numbers\n",
      "Precision: 0.1775, Recall: 0.8780, F1-measure: 0.2669\n",
      "For threshold:  0.04\n",
      "Samples-average quality numbers\n",
      "Precision: 0.3973, Recall: 0.7706, F1-measure: 0.4737\n",
      "For threshold:  0.06\n",
      "Samples-average quality numbers\n",
      "Precision: 0.4562, Recall: 0.7418, F1-measure: 0.5235\n",
      "For threshold:  0.08\n"
     ]
    },
    {
     "name": "stderr",
     "output_type": "stream",
     "text": [
      "/home/user1/DGS-env/lib/python3.7/site-packages/sklearn/metrics/_classification.py:1221: UndefinedMetricWarning: Precision is ill-defined and being set to 0.0 in samples with no predicted labels. Use `zero_division` parameter to control this behavior.\n",
      "  _warn_prf(average, modifier, msg_start, len(result))\n"
     ]
    },
    {
     "name": "stdout",
     "output_type": "stream",
     "text": [
      "Samples-average quality numbers\n",
      "Precision: 0.5005, Recall: 0.7144, F1-measure: 0.5546\n",
      "For threshold:  0.1\n",
      "Samples-average quality numbers\n",
      "Precision: 0.5618, Recall: 0.6921, F1-measure: 0.5932\n",
      "For threshold:  0.12\n",
      "Samples-average quality numbers\n",
      "Precision: 0.5728, Recall: 0.6769, F1-measure: 0.5980\n",
      "For threshold:  0.14\n",
      "Samples-average quality numbers\n",
      "Precision: 0.5829, Recall: 0.6635, F1-measure: 0.6015\n",
      "For threshold:  0.16\n",
      "Samples-average quality numbers\n",
      "Precision: 0.5902, Recall: 0.6536, F1-measure: 0.6034\n",
      "For threshold:  0.2\n",
      "Samples-average quality numbers\n",
      "Precision: 0.5955, Recall: 0.6365, F1-measure: 0.6011\n",
      "For threshold:  0.25\n",
      "Samples-average quality numbers\n",
      "Precision: 0.5931, Recall: 0.6199, F1-measure: 0.5945\n",
      "For threshold:  0.3\n",
      "Samples-average quality numbers\n",
      "Precision: 0.5890, Recall: 0.6030, F1-measure: 0.5864\n",
      "For threshold:  0.35\n",
      "Samples-average quality numbers\n",
      "Precision: 0.5794, Recall: 0.5854, F1-measure: 0.5745\n",
      "For threshold:  0.4\n",
      "Samples-average quality numbers\n",
      "Precision: 0.5688, Recall: 0.5705, F1-measure: 0.5627\n",
      "For threshold:  0.5\n",
      "Samples-average quality numbers\n",
      "Precision: 0.5389, Recall: 0.5332, F1-measure: 0.5312\n",
      "For threshold:  0.6\n",
      "Samples-average quality numbers\n",
      "Precision: 0.4022, Recall: 0.3915, F1-measure: 0.3920\n"
     ]
    }
   ],
   "source": [
    "from sklearn.metrics import confusion_matrix, accuracy_score, balanced_accuracy_score,f1_score,classification_report,recall_score,precision_score\n",
    "\n",
    "\n",
    "thresholds = [0.01,0.04,0.06,0.08,0.1,0.12,0.14,0.16,0.2,0.25,0.3,0.35,0.4,0.5,0.6]\n",
    "for val in thresholds:\n",
    "    print(\"For threshold: \", val)\n",
    "    pred=y_pred.copy()\n",
    "  \n",
    "    pred[pred>=val]=1\n",
    "    pred[pred<val]=0\n",
    "  \n",
    "    precision = precision_score(y_test, pred, average='samples')\n",
    "    recall = recall_score(y_test, pred, average='samples')\n",
    "    f1 = f1_score(y_test, pred, average='samples')\n",
    "   \n",
    "    print(\"Samples-average quality numbers\")\n",
    "    print(\"Precision: {:.4f}, Recall: {:.4f}, F1-measure: {:.4f}\".format(precision, recall, f1))"
   ]
  },
  {
   "cell_type": "markdown",
   "metadata": {},
   "source": [
    "## Bi Gru"
   ]
  },
  {
   "cell_type": "code",
   "execution_count": 49,
   "metadata": {},
   "outputs": [
    {
     "name": "stdout",
     "output_type": "stream",
     "text": [
      "Is Multi-Label? True\n",
      "compiling word ID features...\n",
      "maxlen is 350\n",
      "word vectors will be loaded from: https://dl.fbaipublicfiles.com/fasttext/vectors-crawl/cc.fr.300.vec.gz\n",
      "processing pretrained word vectors...\n",
      "loading pretrained word vectors...this may take a few moments...\n"
     ]
    },
    {
     "data": {
      "text/html": [],
      "text/plain": [
       "<IPython.core.display.HTML object>"
      ]
     },
     "metadata": {},
     "output_type": "display_data"
    },
    {
     "name": "stdout",
     "output_type": "stream",
     "text": [
      "done.\n",
      "simulating training for different learning rates... this may take a few moments...\n",
      "Train on 26324 samples\n",
      "Epoch 1/1024\n",
      "13940/26324 [==============>...............] - ETA: 11:40 - loss: 0.3274 - accuracy: 0.8378\n",
      "\n",
      "done.\n",
      "Please invoke the Learner.lr_plot() method to visually inspect the loss plot to help identify the maximal learning rate associated with falling loss.\n"
     ]
    },
    {
     "data": {
      "image/png": "[encoded data removed]",
      "text/plain": [
       "<Figure size 432x288 with 1 Axes>"
      ]
     },
     "metadata": {
      "needs_background": "light"
     },
     "output_type": "display_data"
    }
   ],
   "source": [
    "model = text.text_classifier('bigru', train_data=trn, preproc=preproc,multilabel =True)\n",
    "from sklearn.metrics import f1_score\n",
    "from tensorflow.keras.callbacks import Callback\n",
    "\n",
    "class f1_Evaluation(Callback):\n",
    "    def __init__(self, validation_data=(), interval=1):\n",
    "        super(Callback, self).__init__()\n",
    "\n",
    "        self.interval = interval\n",
    "        self.X_val, self.y_val = validation_data\n",
    "\n",
    "    def on_epoch_end(self, epoch, logs={}):\n",
    "        if epoch % self.interval == 0:\n",
    "            y_pred = self.model.predict(self.X_val, verbose=0)\n",
    "            val=0.5\n",
    "            y_pred[y_pred>=val]=1\n",
    "            y_pred[y_pred<val]=0\n",
    "            score = f1_score(self.y_val, y_pred,average='samples')\n",
    "            print(\"\\n f1 samples - epoch: %d - score: %.6f \\n\" % (epoch+1, score))\n",
    "            \n",
    "f1 = f1_Evaluation(validation_data=val, interval=1)\n",
    "\n",
    "\n",
    "learner = ktrain.get_learner(model, train_data=trn, val_data=val, batch_size=10)\n",
    "learner.lr_find()             # briefly simulate training to find good learning rate\n",
    "learner.lr_plot()"
   ]
  },
  {
   "cell_type": "code",
   "execution_count": 50,
   "metadata": {},
   "outputs": [
    {
     "name": "stdout",
     "output_type": "stream",
     "text": [
      "\n",
      "\n",
      "begin training using onecycle policy with max lr of 7e-05...\n",
      "Train on 26324 samples, validate on 6580 samples\n",
      "Epoch 1/8\n",
      "26320/26324 [============================>.] - ETA: 0s - loss: 0.3226 - accuracy: 0.9401\n",
      " f1 samples - epoch: 1 - score: 0.550659 \n",
      "\n",
      "26324/26324 [==============================] - 1530s 58ms/sample - loss: 0.3225 - accuracy: 0.9401 - val_loss: 0.0211 - val_accuracy: 0.9951\n",
      "Epoch 2/8\n",
      "26320/26324 [============================>.] - ETA: 0s - loss: 0.0203 - accuracy: 0.9951\n",
      " f1 samples - epoch: 2 - score: 0.550659 \n",
      "\n",
      "26324/26324 [==============================] - 1817s 69ms/sample - loss: 0.0203 - accuracy: 0.9951 - val_loss: 0.0199 - val_accuracy: 0.9951\n",
      "Epoch 3/8\n",
      "26320/26324 [============================>.] - ETA: 0s - loss: 0.0199 - accuracy: 0.9951\n",
      " f1 samples - epoch: 3 - score: 0.550659 \n",
      "\n",
      "26324/26324 [==============================] - 1881s 71ms/sample - loss: 0.0199 - accuracy: 0.9951 - val_loss: 0.0199 - val_accuracy: 0.9951\n",
      "Epoch 4/8\n",
      " 3290/26324 [==>...........................] - ETA: 30:13 - loss: 0.0192 - accuracy: 0.9952\n",
      " f1 samples - epoch: 4 - score: 0.550659 \n",
      "\n",
      " 3290/26324 [==>...........................] - ETA: 34:28 - loss: 0.0192 - accuracy: 0.9952"
     ]
    },
    {
     "ename": "KeyboardInterrupt",
     "evalue": "",
     "output_type": "error",
     "traceback": [
      "\u001b[0;31m---------------------------------------------------------------------------\u001b[0m",
      "\u001b[0;31mKeyboardInterrupt\u001b[0m                         Traceback (most recent call last)",
      "\u001b[0;32m<ipython-input-50-4791580c6878>\u001b[0m in \u001b[0;36m<module>\u001b[0;34m\u001b[0m\n\u001b[0;32m----> 1\u001b[0;31m \u001b[0mlearner\u001b[0m\u001b[0;34m.\u001b[0m\u001b[0mfit_onecycle\u001b[0m\u001b[0;34m(\u001b[0m\u001b[0;36m7e-5\u001b[0m\u001b[0;34m,\u001b[0m \u001b[0;36m8\u001b[0m\u001b[0;34m,\u001b[0m\u001b[0mcallbacks\u001b[0m\u001b[0;34m=\u001b[0m\u001b[0;34m[\u001b[0m\u001b[0mf1\u001b[0m\u001b[0;34m]\u001b[0m\u001b[0;34m)\u001b[0m\u001b[0;34m\u001b[0m\u001b[0;34m\u001b[0m\u001b[0m\n\u001b[0m",
      "\u001b[0;32m~/DGS-env/lib/python3.7/site-packages/ktrain/core.py\u001b[0m in \u001b[0;36mfit_onecycle\u001b[0;34m(self, lr, epochs, checkpoint_folder, cycle_momentum, max_momentum, min_momentum, verbose, class_weight, callbacks)\u001b[0m\n\u001b[1;32m    737\u001b[0m         hist = self.fit(lr, epochs, early_stopping=None,\n\u001b[1;32m    738\u001b[0m                         \u001b[0mcheckpoint_folder\u001b[0m\u001b[0;34m=\u001b[0m\u001b[0mcheckpoint_folder\u001b[0m\u001b[0;34m,\u001b[0m\u001b[0;34m\u001b[0m\u001b[0;34m\u001b[0m\u001b[0m\n\u001b[0;32m--> 739\u001b[0;31m                         verbose=verbose, class_weight=class_weight, callbacks=kcallbacks)\n\u001b[0m\u001b[1;32m    740\u001b[0m         \u001b[0mhist\u001b[0m\u001b[0;34m.\u001b[0m\u001b[0mhistory\u001b[0m\u001b[0;34m[\u001b[0m\u001b[0;34m'lr'\u001b[0m\u001b[0;34m]\u001b[0m \u001b[0;34m=\u001b[0m \u001b[0mclr\u001b[0m\u001b[0;34m.\u001b[0m\u001b[0mhistory\u001b[0m\u001b[0;34m[\u001b[0m\u001b[0;34m'lr'\u001b[0m\u001b[0;34m]\u001b[0m\u001b[0;34m\u001b[0m\u001b[0;34m\u001b[0m\u001b[0m\n\u001b[1;32m    741\u001b[0m         \u001b[0mhist\u001b[0m\u001b[0;34m.\u001b[0m\u001b[0mhistory\u001b[0m\u001b[0;34m[\u001b[0m\u001b[0;34m'iterations'\u001b[0m\u001b[0;34m]\u001b[0m \u001b[0;34m=\u001b[0m \u001b[0mclr\u001b[0m\u001b[0;34m.\u001b[0m\u001b[0mhistory\u001b[0m\u001b[0;34m[\u001b[0m\u001b[0;34m'iterations'\u001b[0m\u001b[0;34m]\u001b[0m\u001b[0;34m\u001b[0m\u001b[0;34m\u001b[0m\u001b[0m\n",
      "\u001b[0;32m~/DGS-env/lib/python3.7/site-packages/ktrain/core.py\u001b[0m in \u001b[0;36mfit\u001b[0;34m(self, lr, n_cycles, cycle_len, cycle_mult, lr_decay, checkpoint_folder, early_stopping, verbose, class_weight, callbacks)\u001b[0m\n\u001b[1;32m   1004\u001b[0m                                   \u001b[0mshuffle\u001b[0m\u001b[0;34m=\u001b[0m\u001b[0;32mTrue\u001b[0m\u001b[0;34m,\u001b[0m\u001b[0;34m\u001b[0m\u001b[0;34m\u001b[0m\u001b[0m\n\u001b[1;32m   1005\u001b[0m                                   \u001b[0mclass_weight\u001b[0m\u001b[0;34m=\u001b[0m\u001b[0mclass_weight\u001b[0m\u001b[0;34m,\u001b[0m\u001b[0;34m\u001b[0m\u001b[0;34m\u001b[0m\u001b[0m\n\u001b[0;32m-> 1006\u001b[0;31m                                   callbacks=kcallbacks)\n\u001b[0m\u001b[1;32m   1007\u001b[0m \u001b[0;34m\u001b[0m\u001b[0m\n\u001b[1;32m   1008\u001b[0m         \u001b[0;32mif\u001b[0m \u001b[0msgdr\u001b[0m \u001b[0;32mis\u001b[0m \u001b[0;32mnot\u001b[0m \u001b[0;32mNone\u001b[0m\u001b[0;34m:\u001b[0m \u001b[0mhist\u001b[0m\u001b[0;34m.\u001b[0m\u001b[0mhistory\u001b[0m\u001b[0;34m[\u001b[0m\u001b[0;34m'lr'\u001b[0m\u001b[0;34m]\u001b[0m \u001b[0;34m=\u001b[0m \u001b[0msgdr\u001b[0m\u001b[0;34m.\u001b[0m\u001b[0mhistory\u001b[0m\u001b[0;34m[\u001b[0m\u001b[0;34m'lr'\u001b[0m\u001b[0;34m]\u001b[0m\u001b[0;34m\u001b[0m\u001b[0;34m\u001b[0m\u001b[0m\n",
      "\u001b[0;32m~/DGS-env/lib/python3.7/site-packages/tensorflow_core/python/keras/engine/training.py\u001b[0m in \u001b[0;36mfit\u001b[0;34m(self, x, y, batch_size, epochs, verbose, callbacks, validation_split, validation_data, shuffle, class_weight, sample_weight, initial_epoch, steps_per_epoch, validation_steps, validation_freq, max_queue_size, workers, use_multiprocessing, **kwargs)\u001b[0m\n\u001b[1;32m    817\u001b[0m         \u001b[0mmax_queue_size\u001b[0m\u001b[0;34m=\u001b[0m\u001b[0mmax_queue_size\u001b[0m\u001b[0;34m,\u001b[0m\u001b[0;34m\u001b[0m\u001b[0;34m\u001b[0m\u001b[0m\n\u001b[1;32m    818\u001b[0m         \u001b[0mworkers\u001b[0m\u001b[0;34m=\u001b[0m\u001b[0mworkers\u001b[0m\u001b[0;34m,\u001b[0m\u001b[0;34m\u001b[0m\u001b[0;34m\u001b[0m\u001b[0m\n\u001b[0;32m--> 819\u001b[0;31m         use_multiprocessing=use_multiprocessing)\n\u001b[0m\u001b[1;32m    820\u001b[0m \u001b[0;34m\u001b[0m\u001b[0m\n\u001b[1;32m    821\u001b[0m   def evaluate(self,\n",
      "\u001b[0;32m~/DGS-env/lib/python3.7/site-packages/tensorflow_core/python/keras/engine/training_v2.py\u001b[0m in \u001b[0;36mfit\u001b[0;34m(self, model, x, y, batch_size, epochs, verbose, callbacks, validation_split, validation_data, shuffle, class_weight, sample_weight, initial_epoch, steps_per_epoch, validation_steps, validation_freq, max_queue_size, workers, use_multiprocessing, **kwargs)\u001b[0m\n\u001b[1;32m    340\u001b[0m                 \u001b[0mmode\u001b[0m\u001b[0;34m=\u001b[0m\u001b[0mModeKeys\u001b[0m\u001b[0;34m.\u001b[0m\u001b[0mTRAIN\u001b[0m\u001b[0;34m,\u001b[0m\u001b[0;34m\u001b[0m\u001b[0;34m\u001b[0m\u001b[0m\n\u001b[1;32m    341\u001b[0m                 \u001b[0mtraining_context\u001b[0m\u001b[0;34m=\u001b[0m\u001b[0mtraining_context\u001b[0m\u001b[0;34m,\u001b[0m\u001b[0;34m\u001b[0m\u001b[0;34m\u001b[0m\u001b[0m\n\u001b[0;32m--> 342\u001b[0;31m                 total_epochs=epochs)\n\u001b[0m\u001b[1;32m    343\u001b[0m             \u001b[0mcbks\u001b[0m\u001b[0;34m.\u001b[0m\u001b[0mmake_logs\u001b[0m\u001b[0;34m(\u001b[0m\u001b[0mmodel\u001b[0m\u001b[0;34m,\u001b[0m \u001b[0mepoch_logs\u001b[0m\u001b[0;34m,\u001b[0m \u001b[0mtraining_result\u001b[0m\u001b[0;34m,\u001b[0m \u001b[0mModeKeys\u001b[0m\u001b[0;34m.\u001b[0m\u001b[0mTRAIN\u001b[0m\u001b[0;34m)\u001b[0m\u001b[0;34m\u001b[0m\u001b[0;34m\u001b[0m\u001b[0m\n\u001b[1;32m    344\u001b[0m \u001b[0;34m\u001b[0m\u001b[0m\n",
      "\u001b[0;32m~/DGS-env/lib/python3.7/site-packages/tensorflow_core/python/keras/engine/training_v2.py\u001b[0m in \u001b[0;36mrun_one_epoch\u001b[0;34m(model, iterator, execution_function, dataset_size, batch_size, strategy, steps_per_epoch, num_samples, mode, training_context, total_epochs)\u001b[0m\n\u001b[1;32m    126\u001b[0m         step=step, mode=mode, size=current_batch_size) as batch_logs:\n\u001b[1;32m    127\u001b[0m       \u001b[0;32mtry\u001b[0m\u001b[0;34m:\u001b[0m\u001b[0;34m\u001b[0m\u001b[0;34m\u001b[0m\u001b[0m\n\u001b[0;32m--> 128\u001b[0;31m         \u001b[0mbatch_outs\u001b[0m \u001b[0;34m=\u001b[0m \u001b[0mexecution_function\u001b[0m\u001b[0;34m(\u001b[0m\u001b[0miterator\u001b[0m\u001b[0;34m)\u001b[0m\u001b[0;34m\u001b[0m\u001b[0;34m\u001b[0m\u001b[0m\n\u001b[0m\u001b[1;32m    129\u001b[0m       \u001b[0;32mexcept\u001b[0m \u001b[0;34m(\u001b[0m\u001b[0mStopIteration\u001b[0m\u001b[0;34m,\u001b[0m \u001b[0merrors\u001b[0m\u001b[0;34m.\u001b[0m\u001b[0mOutOfRangeError\u001b[0m\u001b[0;34m)\u001b[0m\u001b[0;34m:\u001b[0m\u001b[0;34m\u001b[0m\u001b[0;34m\u001b[0m\u001b[0m\n\u001b[1;32m    130\u001b[0m         \u001b[0;31m# TODO(kaftan): File bug about tf function and errors.OutOfRangeError?\u001b[0m\u001b[0;34m\u001b[0m\u001b[0;34m\u001b[0m\u001b[0;34m\u001b[0m\u001b[0m\n",
      "\u001b[0;32m~/DGS-env/lib/python3.7/site-packages/tensorflow_core/python/keras/engine/training_v2_utils.py\u001b[0m in \u001b[0;36mexecution_function\u001b[0;34m(input_fn)\u001b[0m\n\u001b[1;32m     96\u001b[0m     \u001b[0;31m# `numpy` translates Tensors to values in Eager mode.\u001b[0m\u001b[0;34m\u001b[0m\u001b[0;34m\u001b[0m\u001b[0;34m\u001b[0m\u001b[0m\n\u001b[1;32m     97\u001b[0m     return nest.map_structure(_non_none_constant_value,\n\u001b[0;32m---> 98\u001b[0;31m                               distributed_function(input_fn))\n\u001b[0m\u001b[1;32m     99\u001b[0m \u001b[0;34m\u001b[0m\u001b[0m\n\u001b[1;32m    100\u001b[0m   \u001b[0;32mreturn\u001b[0m \u001b[0mexecution_function\u001b[0m\u001b[0;34m\u001b[0m\u001b[0;34m\u001b[0m\u001b[0m\n",
      "\u001b[0;32m~/DGS-env/lib/python3.7/site-packages/tensorflow_core/python/eager/def_function.py\u001b[0m in \u001b[0;36m__call__\u001b[0;34m(self, *args, **kwds)\u001b[0m\n\u001b[1;32m    566\u001b[0m         \u001b[0mxla_context\u001b[0m\u001b[0;34m.\u001b[0m\u001b[0mExit\u001b[0m\u001b[0;34m(\u001b[0m\u001b[0;34m)\u001b[0m\u001b[0;34m\u001b[0m\u001b[0;34m\u001b[0m\u001b[0m\n\u001b[1;32m    567\u001b[0m     \u001b[0;32melse\u001b[0m\u001b[0;34m:\u001b[0m\u001b[0;34m\u001b[0m\u001b[0;34m\u001b[0m\u001b[0m\n\u001b[0;32m--> 568\u001b[0;31m       \u001b[0mresult\u001b[0m \u001b[0;34m=\u001b[0m \u001b[0mself\u001b[0m\u001b[0;34m.\u001b[0m\u001b[0m_call\u001b[0m\u001b[0;34m(\u001b[0m\u001b[0;34m*\u001b[0m\u001b[0margs\u001b[0m\u001b[0;34m,\u001b[0m \u001b[0;34m**\u001b[0m\u001b[0mkwds\u001b[0m\u001b[0;34m)\u001b[0m\u001b[0;34m\u001b[0m\u001b[0;34m\u001b[0m\u001b[0m\n\u001b[0m\u001b[1;32m    569\u001b[0m \u001b[0;34m\u001b[0m\u001b[0m\n\u001b[1;32m    570\u001b[0m     \u001b[0;32mif\u001b[0m \u001b[0mtracing_count\u001b[0m \u001b[0;34m==\u001b[0m \u001b[0mself\u001b[0m\u001b[0;34m.\u001b[0m\u001b[0m_get_tracing_count\u001b[0m\u001b[0;34m(\u001b[0m\u001b[0;34m)\u001b[0m\u001b[0;34m:\u001b[0m\u001b[0;34m\u001b[0m\u001b[0;34m\u001b[0m\u001b[0m\n",
      "\u001b[0;32m~/DGS-env/lib/python3.7/site-packages/tensorflow_core/python/eager/def_function.py\u001b[0m in \u001b[0;36m_call\u001b[0;34m(self, *args, **kwds)\u001b[0m\n\u001b[1;32m    597\u001b[0m       \u001b[0;31m# In this case we have created variables on the first call, so we run the\u001b[0m\u001b[0;34m\u001b[0m\u001b[0;34m\u001b[0m\u001b[0;34m\u001b[0m\u001b[0m\n\u001b[1;32m    598\u001b[0m       \u001b[0;31m# defunned version which is guaranteed to never create variables.\u001b[0m\u001b[0;34m\u001b[0m\u001b[0;34m\u001b[0m\u001b[0;34m\u001b[0m\u001b[0m\n\u001b[0;32m--> 599\u001b[0;31m       \u001b[0;32mreturn\u001b[0m \u001b[0mself\u001b[0m\u001b[0;34m.\u001b[0m\u001b[0m_stateless_fn\u001b[0m\u001b[0;34m(\u001b[0m\u001b[0;34m*\u001b[0m\u001b[0margs\u001b[0m\u001b[0;34m,\u001b[0m \u001b[0;34m**\u001b[0m\u001b[0mkwds\u001b[0m\u001b[0;34m)\u001b[0m  \u001b[0;31m# pylint: disable=not-callable\u001b[0m\u001b[0;34m\u001b[0m\u001b[0;34m\u001b[0m\u001b[0m\n\u001b[0m\u001b[1;32m    600\u001b[0m     \u001b[0;32melif\u001b[0m \u001b[0mself\u001b[0m\u001b[0;34m.\u001b[0m\u001b[0m_stateful_fn\u001b[0m \u001b[0;32mis\u001b[0m \u001b[0;32mnot\u001b[0m \u001b[0;32mNone\u001b[0m\u001b[0;34m:\u001b[0m\u001b[0;34m\u001b[0m\u001b[0;34m\u001b[0m\u001b[0m\n\u001b[1;32m    601\u001b[0m       \u001b[0;31m# Release the lock early so that multiple threads can perform the call\u001b[0m\u001b[0;34m\u001b[0m\u001b[0;34m\u001b[0m\u001b[0;34m\u001b[0m\u001b[0m\n",
      "\u001b[0;32m~/DGS-env/lib/python3.7/site-packages/tensorflow_core/python/eager/function.py\u001b[0m in \u001b[0;36m__call__\u001b[0;34m(self, *args, **kwargs)\u001b[0m\n\u001b[1;32m   2361\u001b[0m     \u001b[0;32mwith\u001b[0m \u001b[0mself\u001b[0m\u001b[0;34m.\u001b[0m\u001b[0m_lock\u001b[0m\u001b[0;34m:\u001b[0m\u001b[0;34m\u001b[0m\u001b[0;34m\u001b[0m\u001b[0m\n\u001b[1;32m   2362\u001b[0m       \u001b[0mgraph_function\u001b[0m\u001b[0;34m,\u001b[0m \u001b[0margs\u001b[0m\u001b[0;34m,\u001b[0m \u001b[0mkwargs\u001b[0m \u001b[0;34m=\u001b[0m \u001b[0mself\u001b[0m\u001b[0;34m.\u001b[0m\u001b[0m_maybe_define_function\u001b[0m\u001b[0;34m(\u001b[0m\u001b[0margs\u001b[0m\u001b[0;34m,\u001b[0m \u001b[0mkwargs\u001b[0m\u001b[0;34m)\u001b[0m\u001b[0;34m\u001b[0m\u001b[0;34m\u001b[0m\u001b[0m\n\u001b[0;32m-> 2363\u001b[0;31m     \u001b[0;32mreturn\u001b[0m \u001b[0mgraph_function\u001b[0m\u001b[0;34m.\u001b[0m\u001b[0m_filtered_call\u001b[0m\u001b[0;34m(\u001b[0m\u001b[0margs\u001b[0m\u001b[0;34m,\u001b[0m \u001b[0mkwargs\u001b[0m\u001b[0;34m)\u001b[0m  \u001b[0;31m# pylint: disable=protected-access\u001b[0m\u001b[0;34m\u001b[0m\u001b[0;34m\u001b[0m\u001b[0m\n\u001b[0m\u001b[1;32m   2364\u001b[0m \u001b[0;34m\u001b[0m\u001b[0m\n\u001b[1;32m   2365\u001b[0m   \u001b[0;34m@\u001b[0m\u001b[0mproperty\u001b[0m\u001b[0;34m\u001b[0m\u001b[0;34m\u001b[0m\u001b[0m\n",
      "\u001b[0;32m~/DGS-env/lib/python3.7/site-packages/tensorflow_core/python/eager/function.py\u001b[0m in \u001b[0;36m_filtered_call\u001b[0;34m(self, args, kwargs)\u001b[0m\n\u001b[1;32m   1609\u001b[0m          if isinstance(t, (ops.Tensor,\n\u001b[1;32m   1610\u001b[0m                            resource_variable_ops.BaseResourceVariable))),\n\u001b[0;32m-> 1611\u001b[0;31m         self.captured_inputs)\n\u001b[0m\u001b[1;32m   1612\u001b[0m \u001b[0;34m\u001b[0m\u001b[0m\n\u001b[1;32m   1613\u001b[0m   \u001b[0;32mdef\u001b[0m \u001b[0m_call_flat\u001b[0m\u001b[0;34m(\u001b[0m\u001b[0mself\u001b[0m\u001b[0;34m,\u001b[0m \u001b[0margs\u001b[0m\u001b[0;34m,\u001b[0m \u001b[0mcaptured_inputs\u001b[0m\u001b[0;34m,\u001b[0m \u001b[0mcancellation_manager\u001b[0m\u001b[0;34m=\u001b[0m\u001b[0;32mNone\u001b[0m\u001b[0;34m)\u001b[0m\u001b[0;34m:\u001b[0m\u001b[0;34m\u001b[0m\u001b[0;34m\u001b[0m\u001b[0m\n",
      "\u001b[0;32m~/DGS-env/lib/python3.7/site-packages/tensorflow_core/python/eager/function.py\u001b[0m in \u001b[0;36m_call_flat\u001b[0;34m(self, args, captured_inputs, cancellation_manager)\u001b[0m\n\u001b[1;32m   1690\u001b[0m       \u001b[0;31m# No tape is watching; skip to running the function.\u001b[0m\u001b[0;34m\u001b[0m\u001b[0;34m\u001b[0m\u001b[0;34m\u001b[0m\u001b[0m\n\u001b[1;32m   1691\u001b[0m       return self._build_call_outputs(self._inference_function.call(\n\u001b[0;32m-> 1692\u001b[0;31m           ctx, args, cancellation_manager=cancellation_manager))\n\u001b[0m\u001b[1;32m   1693\u001b[0m     forward_backward = self._select_forward_and_backward_functions(\n\u001b[1;32m   1694\u001b[0m         \u001b[0margs\u001b[0m\u001b[0;34m,\u001b[0m\u001b[0;34m\u001b[0m\u001b[0;34m\u001b[0m\u001b[0m\n",
      "\u001b[0;32m~/DGS-env/lib/python3.7/site-packages/tensorflow_core/python/eager/function.py\u001b[0m in \u001b[0;36mcall\u001b[0;34m(self, ctx, args, cancellation_manager)\u001b[0m\n\u001b[1;32m    543\u001b[0m               \u001b[0minputs\u001b[0m\u001b[0;34m=\u001b[0m\u001b[0margs\u001b[0m\u001b[0;34m,\u001b[0m\u001b[0;34m\u001b[0m\u001b[0;34m\u001b[0m\u001b[0m\n\u001b[1;32m    544\u001b[0m               \u001b[0mattrs\u001b[0m\u001b[0;34m=\u001b[0m\u001b[0;34m(\u001b[0m\u001b[0;34m\"executor_type\"\u001b[0m\u001b[0;34m,\u001b[0m \u001b[0mexecutor_type\u001b[0m\u001b[0;34m,\u001b[0m \u001b[0;34m\"config_proto\"\u001b[0m\u001b[0;34m,\u001b[0m \u001b[0mconfig\u001b[0m\u001b[0;34m)\u001b[0m\u001b[0;34m,\u001b[0m\u001b[0;34m\u001b[0m\u001b[0;34m\u001b[0m\u001b[0m\n\u001b[0;32m--> 545\u001b[0;31m               ctx=ctx)\n\u001b[0m\u001b[1;32m    546\u001b[0m         \u001b[0;32melse\u001b[0m\u001b[0;34m:\u001b[0m\u001b[0;34m\u001b[0m\u001b[0;34m\u001b[0m\u001b[0m\n\u001b[1;32m    547\u001b[0m           outputs = execute.execute_with_cancellation(\n",
      "\u001b[0;32m~/DGS-env/lib/python3.7/site-packages/tensorflow_core/python/eager/execute.py\u001b[0m in \u001b[0;36mquick_execute\u001b[0;34m(op_name, num_outputs, inputs, attrs, ctx, name)\u001b[0m\n\u001b[1;32m     59\u001b[0m     tensors = pywrap_tensorflow.TFE_Py_Execute(ctx._handle, device_name,\n\u001b[1;32m     60\u001b[0m                                                \u001b[0mop_name\u001b[0m\u001b[0;34m,\u001b[0m \u001b[0minputs\u001b[0m\u001b[0;34m,\u001b[0m \u001b[0mattrs\u001b[0m\u001b[0;34m,\u001b[0m\u001b[0;34m\u001b[0m\u001b[0;34m\u001b[0m\u001b[0m\n\u001b[0;32m---> 61\u001b[0;31m                                                num_outputs)\n\u001b[0m\u001b[1;32m     62\u001b[0m   \u001b[0;32mexcept\u001b[0m \u001b[0mcore\u001b[0m\u001b[0;34m.\u001b[0m\u001b[0m_NotOkStatusException\u001b[0m \u001b[0;32mas\u001b[0m \u001b[0me\u001b[0m\u001b[0;34m:\u001b[0m\u001b[0;34m\u001b[0m\u001b[0;34m\u001b[0m\u001b[0m\n\u001b[1;32m     63\u001b[0m     \u001b[0;32mif\u001b[0m \u001b[0mname\u001b[0m \u001b[0;32mis\u001b[0m \u001b[0;32mnot\u001b[0m \u001b[0;32mNone\u001b[0m\u001b[0;34m:\u001b[0m\u001b[0;34m\u001b[0m\u001b[0;34m\u001b[0m\u001b[0m\n",
      "\u001b[0;31mKeyboardInterrupt\u001b[0m: "
     ]
    }
   ],
   "source": [
    "learner.fit_onecycle(7e-5, 8,callbacks=[f1])"
   ]
  },
  {
   "cell_type": "code",
   "execution_count": 51,
   "metadata": {},
   "outputs": [
    {
     "name": "stdout",
     "output_type": "stream",
     "text": [
      "For threshold:  0.01\n",
      "Samples-average quality numbers\n",
      "Precision: 0.0478, Recall: 0.8159, F1-measure: 0.0862\n",
      "For threshold:  0.04\n",
      "Samples-average quality numbers\n",
      "Precision: 0.1723, Recall: 0.6541, F1-measure: 0.2628\n",
      "For threshold:  0.06\n",
      "Samples-average quality numbers\n",
      "Precision: 0.3357, Recall: 0.5768, F1-measure: 0.4089\n",
      "For threshold:  0.08\n",
      "Samples-average quality numbers\n",
      "Precision: 0.5521, Recall: 0.5499, F1-measure: 0.5507\n",
      "For threshold:  0.1\n",
      "Samples-average quality numbers\n",
      "Precision: 0.5521, Recall: 0.5499, F1-measure: 0.5507\n",
      "For threshold:  0.12\n",
      "Samples-average quality numbers\n",
      "Precision: 0.5521, Recall: 0.5499, F1-measure: 0.5507\n",
      "For threshold:  0.14\n",
      "Samples-average quality numbers\n",
      "Precision: 0.5521, Recall: 0.5499, F1-measure: 0.5507\n",
      "For threshold:  0.16\n",
      "Samples-average quality numbers\n",
      "Precision: 0.5521, Recall: 0.5499, F1-measure: 0.5507\n",
      "For threshold:  0.2\n",
      "Samples-average quality numbers\n",
      "Precision: 0.5521, Recall: 0.5499, F1-measure: 0.5507\n",
      "For threshold:  0.25\n",
      "Samples-average quality numbers\n",
      "Precision: 0.5521, Recall: 0.5499, F1-measure: 0.5507\n",
      "For threshold:  0.3\n",
      "Samples-average quality numbers\n",
      "Precision: 0.5521, Recall: 0.5499, F1-measure: 0.5507\n",
      "For threshold:  0.35\n",
      "Samples-average quality numbers\n",
      "Precision: 0.5521, Recall: 0.5499, F1-measure: 0.5507\n",
      "For threshold:  0.4\n",
      "Samples-average quality numbers\n",
      "Precision: 0.5521, Recall: 0.5499, F1-measure: 0.5507\n",
      "For threshold:  0.5\n",
      "Samples-average quality numbers\n",
      "Precision: 0.5521, Recall: 0.5499, F1-measure: 0.5507\n",
      "For threshold:  0.6\n"
     ]
    },
    {
     "name": "stderr",
     "output_type": "stream",
     "text": [
      "/home/user1/DGS-env/lib/python3.7/site-packages/sklearn/metrics/_classification.py:1221: UndefinedMetricWarning: Precision is ill-defined and being set to 0.0 in samples with no predicted labels. Use `zero_division` parameter to control this behavior.\n",
      "  _warn_prf(average, modifier, msg_start, len(result))\n"
     ]
    },
    {
     "name": "stdout",
     "output_type": "stream",
     "text": [
      "Samples-average quality numbers\n",
      "Precision: 0.0000, Recall: 0.0000, F1-measure: 0.0000\n",
      "For threshold:  0.7\n",
      "Samples-average quality numbers\n",
      "Precision: 0.0000, Recall: 0.0000, F1-measure: 0.0000\n"
     ]
    }
   ],
   "source": [
    "x_test = val[0].copy()\n",
    "y_pred = learner.model.predict(x_test, verbose=0)\n",
    "thresholds = [0.01,0.04,0.06,0.08,0.1,0.12,0.14,0.16,0.2,0.25,0.3,0.35,0.4,0.5,0.6,0.7]\n",
    "for val in thresholds:\n",
    "    print(\"For threshold: \", val)\n",
    "    pred=y_pred.copy()\n",
    "  \n",
    "    pred[pred>=val]=1\n",
    "    pred[pred<val]=0\n",
    "  \n",
    "    precision = precision_score(y_test, pred, average='samples')\n",
    "    recall = recall_score(y_test, pred, average='samples')\n",
    "    f1 = f1_score(y_test, pred, average='samples')\n",
    "   \n",
    "    print(\"Samples-average quality numbers\")\n",
    "    print(\"Precision: {:.4f}, Recall: {:.4f}, F1-measure: {:.4f}\".format(precision, recall, f1))"
   ]
  },
  {
   "cell_type": "code",
   "execution_count": 23,
   "metadata": {},
   "outputs": [],
   "source": [
    "import transformers\n",
    "from transformers import glue_convert_examples_to_features\n",
    "from transformers import TFBertForSequenceClassification\n",
    "import tensorflow as tf\n"
   ]
  },
  {
   "cell_type": "code",
   "execution_count": 26,
   "metadata": {},
   "outputs": [
    {
     "data": {
      "application/vnd.jupyter.widget-view+json": {
       "model_id": "e9a0c483456046f8b6ba6a62d1854b74",
       "version_major": 2,
       "version_minor": 0
      },
      "text/plain": [
       "HBox(children=(FloatProgress(value=0.0, description='Downloading', max=898823.0, style=ProgressStyle(descripti…"
      ]
     },
     "metadata": {},
     "output_type": "display_data"
    },
    {
     "name": "stdout",
     "output_type": "stream",
     "text": [
      "\n"
     ]
    },
    {
     "data": {
      "application/vnd.jupyter.widget-view+json": {
       "model_id": "2bc0a980947e48e7b46ee331f478432b",
       "version_major": 2,
       "version_minor": 0
      },
      "text/plain": [
       "HBox(children=(FloatProgress(value=0.0, description='Downloading', max=456318.0, style=ProgressStyle(descripti…"
      ]
     },
     "metadata": {},
     "output_type": "display_data"
    },
    {
     "name": "stdout",
     "output_type": "stream",
     "text": [
      "\n"
     ]
    }
   ],
   "source": [
    "from transformers import DistilBertTokenizer, RobertaTokenizer \n",
    "\n",
    "distil_bert = 'distilbert-base-uncased' # Pick any desired pre-trained model\n",
    "roberta = 'roberta-base'\n",
    "\n",
    "# Defining DistilBERT tokonizer\n",
    "tokenizer = DistilBertTokenizer.from_pretrained(distil_bert, do_lower_case=True, add_special_tokens=True,\n",
    "                                                max_length=128, pad_to_max_length=True)\n",
    "# Defining RoBERTa tokinizer\n",
    "tokenizer = RobertaTokenizer.from_pretrained(roberta, do_lower_case=True, add_special_tokens=True,\n",
    "                                                max_length=128, pad_to_max_length=True)"
   ]
  },
  {
   "cell_type": "code",
   "execution_count": 8,
   "metadata": {},
   "outputs": [
    {
     "ename": "AttributeError",
     "evalue": "'str' object has no attribute 'decode'",
     "output_type": "error",
     "traceback": [
      "\u001b[0;31m---------------------------------------------------------------------------\u001b[0m",
      "\u001b[0;31mAttributeError\u001b[0m                            Traceback (most recent call last)",
      "\u001b[0;32m<ipython-input-8-8101c45a9807>\u001b[0m in \u001b[0;36m<module>\u001b[0;34m\u001b[0m\n\u001b[0;32m----> 1\u001b[0;31m \u001b[0mtest_sentence\u001b[0m\u001b[0;34m.\u001b[0m\u001b[0mdecode\u001b[0m\u001b[0;34m(\u001b[0m\u001b[0;34m)\u001b[0m\u001b[0;34m\u001b[0m\u001b[0;34m\u001b[0m\u001b[0m\n\u001b[0m",
      "\u001b[0;31mAttributeError\u001b[0m: 'str' object has no attribute 'decode'"
     ]
    }
   ],
   "source": [
    "model = TFBertForSequenceClassification.from_pretrained(\"bert-base-cased\")\n",
    "tokenizer = BertTokenizer.from_pretrained(\"bert-base-cased\")\n",
    "\n",
    "\n",
    "train_dataset = df_train[['DESCRIPTION_INCIDENT']]\n",
    "train_dataset = glue_convert_examples_to_features(train_dataset, tokenizer, 128, 'mrpc')\n",
    "\n",
    "optimizer = tf.keras.optimizers.Adam(learning_rate=3e-5, epsilon=1e-08, clipnorm=1.0)\n",
    "loss = tf.keras.losses.SparseCategoricalCrossentropy(from_logits=True)\n",
    "metric = tf.keras.metrics.SparseCategoricalAccuracy('accuracy')\n",
    "\n",
    "model.compile(optimizer=optimizer, loss=loss, metrics=[metric])\n"
   ]
  },
  {
   "cell_type": "code",
   "execution_count": null,
   "metadata": {},
   "outputs": [],
   "source": [
    "model.fit(train_dataset, epochs=3)"
   ]
  },
  {
   "cell_type": "code",
   "execution_count": null,
   "metadata": {},
   "outputs": [],
   "source": [
    "\n",
    "\n",
    "\n",
    "# recommended learning rate for Adam 5e-5, 3e-5, 2e-5\n",
    "learning_rate = 2e-5\n",
    "# we will do just 1 epoch for illustration, though multiple epochs might be better as long as we will not overfit the model\n",
    "number_of_epochs = 1\n",
    "# model initialization\n",
    "model = TFBertForSequenceClassification.from_pretrained('bert-base-uncased')\n",
    "# classifier Adam recommended\n",
    "optimizer = tf.keras.optimizers.Adam(learning_rate=learning_rate, epsilon=1e-08)\n",
    "# we do not have one-hot vectors, we can use sparce categorical cross entropy and accuracy\n",
    "loss = tf.keras.losses.SparseCategoricalCrossentropy(from_logits=True)\n",
    "metric = tf.keras.metrics.SparseCategoricalAccuracy('accuracy')\n",
    "model.compile(optimizer=optimizer, loss=loss, metrics=[metric])"
   ]
  }
 ],
 "metadata": {
  "kernelspec": {
   "display_name": "DGS-env",
   "language": "python",
   "name": "dgs-env"
  },
  "language_info": {
   "codemirror_mode": {
    "name": "ipython",
    "version": 3
   },
   "file_extension": ".py",
   "mimetype": "text/x-python",
   "name": "python",
   "nbconvert_exporter": "python",
   "pygments_lexer": "ipython3",
   "version": "3.7.4"
  }
 },
 "nbformat": 4,
 "nbformat_minor": 4
}
